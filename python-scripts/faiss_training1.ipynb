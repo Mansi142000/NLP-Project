{
 "cells": [
  {
   "cell_type": "markdown",
   "id": "ed0a7ece",
   "metadata": {},
   "source": [
    "# FAISS Embeddings Training for : multi-qa-MiniLM-L6-cos-v1\n",
    "### Import Dependancies"
   ]
  },
  {
   "cell_type": "code",
   "execution_count": 1,
   "id": "8a741ef1",
   "metadata": {},
   "outputs": [],
   "source": [
    "import os\n",
    "import pandas as pd\n",
    "import numpy as np\n",
    "import faiss\n",
    "from sentence_transformers import SentenceTransformer\n",
    "import pickle"
   ]
  },
  {
   "cell_type": "code",
   "execution_count": 2,
   "id": "22346e74",
   "metadata": {},
   "outputs": [],
   "source": [
    "CSV_PATH = \"./../cleaned_database/cleaned_final_dataset3.csv\"\n",
    "OUTPUT_DIR = \"./../faiss_embeddings1\"\n",
    "BATCH_SIZE = 1000 "
   ]
  },
  {
   "cell_type": "code",
   "execution_count": 3,
   "id": "01fd0240",
   "metadata": {},
   "outputs": [],
   "source": [
    "def load_data(csv_path):\n",
    "    df = pd.read_csv(csv_path)\n",
    "    docs = df[\"docs\"].fillna(\"\").tolist()\n",
    "    ids = df[\"id\"].tolist()\n",
    "    metadata = df.drop(columns=[\"docs\"])\n",
    "    return docs, ids, metadata"
   ]
  },
  {
   "cell_type": "code",
   "execution_count": 4,
   "id": "bf003774",
   "metadata": {},
   "outputs": [],
   "source": [
    "def load_model():\n",
    "    return SentenceTransformer('sentence-transformers/multi-qa-MiniLM-L6-cos-v1') \n"
   ]
  },
  {
   "cell_type": "code",
   "execution_count": 5,
   "id": "97267745",
   "metadata": {},
   "outputs": [],
   "source": [
    "def create_index(model):\n",
    "    dim = model.get_sentence_embedding_dimension()\n",
    "    return faiss.IndexFlatIP(dim)"
   ]
  },
  {
   "cell_type": "markdown",
   "id": "e7e95051",
   "metadata": {},
   "source": [
    "### Processes the batches"
   ]
  },
  {
   "cell_type": "code",
   "execution_count": 6,
   "id": "a4ecd287",
   "metadata": {},
   "outputs": [],
   "source": [
    "def process_batches(docs, ids, model, index, batch_size):\n",
    "    all_ids = []\n",
    "    for start in range(0, len(docs), batch_size):\n",
    "        end = start + batch_size\n",
    "        batch_docs = docs[start:end]\n",
    "        batch_ids = ids[start:end]\n",
    "\n",
    "        print(f\"Processing batch {start // batch_size + 1} | Size: {len(batch_docs)}\")\n",
    "        embeddings = model.encode(batch_docs, normalize_embeddings=True).astype(\"float32\")\n",
    "        index.add(embeddings)\n",
    "        all_ids.extend(batch_ids)\n",
    "    return all_ids\n"
   ]
  },
  {
   "cell_type": "code",
   "execution_count": 7,
   "id": "d2450bd5",
   "metadata": {},
   "outputs": [],
   "source": [
    "def save_outputs(index, ids, metadata, output_dir):\n",
    "    os.makedirs(output_dir, exist_ok=True)\n",
    "\n",
    "    faiss.write_index(index, os.path.join(output_dir, \"movie_index.faiss\"))\n",
    "    with open(os.path.join(output_dir, \"movie_ids.pkl\"), \"wb\") as f:\n",
    "        pickle.dump(ids, f)\n",
    "\n",
    "    metadata.to_csv(os.path.join(output_dir, \"movie_metadata.csv\"), index=False)"
   ]
  },
  {
   "cell_type": "code",
   "execution_count": 8,
   "id": "f98fd6e6",
   "metadata": {},
   "outputs": [],
   "source": [
    "def run_embedding_pipeline():\n",
    "    docs, ids, metadata = load_data(CSV_PATH)\n",
    "    model = load_model()\n",
    "    index = create_index(model)\n",
    "    final_ids = process_batches(docs, ids, model, index, BATCH_SIZE)\n",
    "    save_outputs(index, final_ids, metadata, OUTPUT_DIR)"
   ]
  },
  {
   "cell_type": "code",
   "execution_count": null,
   "id": "7a27f7d7",
   "metadata": {},
   "outputs": [],
   "source": [
    "run_embedding_pipeline()\n"
   ]
  }
 ],
 "metadata": {
  "kernelspec": {
   "display_name": "base",
   "language": "python",
   "name": "python3"
  },
  "language_info": {
   "codemirror_mode": {
    "name": "ipython",
    "version": 3
   },
   "file_extension": ".py",
   "mimetype": "text/x-python",
   "name": "python",
   "nbconvert_exporter": "python",
   "pygments_lexer": "ipython3",
   "version": "3.12.7"
  }
 },
 "nbformat": 4,
 "nbformat_minor": 5
}
