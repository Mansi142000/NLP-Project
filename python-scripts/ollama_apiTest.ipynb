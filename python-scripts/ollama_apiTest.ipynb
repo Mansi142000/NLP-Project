{
 "cells": [
  {
   "cell_type": "code",
   "execution_count": 8,
   "id": "eb8f87c7",
   "metadata": {},
   "outputs": [
    {
     "name": "stdout",
     "output_type": "stream",
     "text": [
      "Querying model: gemma2-finetuned\n",
      "Querying model: gemma:2b\n",
      "Querying model: gemma2:2b\n"
     ]
    }
   ],
   "source": [
    "import requests\n",
    "\n",
    "OLLAMA_API_URL = \"http://localhost:11434/api/chat\"\n",
    "\n",
    "models = [\"gemma2-finetuned\", \"gemma:2b\", \"gemma2:2b\"]\n",
    "\n",
    "# System and user messages\n",
    "system_message = (\n",
    "    'If the user asks something other than movies promptly ask the user to rephrase the question and ask for movie recommendations.\\n'\n",
    "    'You are an assistant that takes a movie-related user prompt and extracts:\\n'\n",
    "    '1. A positive_query: A string with words related what the user wants actors, places, themes plots etc. (do not mention any actual movie and do not leave empty).\\n'\n",
    "    '2. A negative_query: A string describing actors or themes the user wants to avoid.\\n'\n",
    "    '3. A row_checker object that may include any of the following optional filters (do not put too many restrictions, only what user asked for):\\n'\n",
    "    '   - min_year (integer)\\n'\n",
    "    '   - max_year (integer)\\n'\n",
    "    '   - min_rating (float)\\n'\n",
    "    '   - max_rating (float)\\n'\n",
    "    '   - min_duration (integer, in minutes)\\n'\n",
    "    '   - max_duration (integer, in minutes)\\n'\n",
    "    '   - required_genres (list of strings)\\n'\n",
    "    '   - excluded_genres (list of strings)\\n'\n",
    "    '   - required_languages (list of strings)\\n'\n",
    "    '   - excluded_languages (list of strings)\\n'\n",
    "    'If the prompt is asking for movie recommendation return ONLY a valid JSON object with keys: positive_query, negative_query, row_checker.\\n'\n",
    ")\n",
    "\n",
    "user_message = \"Suggest me a movie with dinosaurs and not having trex, and after 2020.\"\n",
    "\n",
    "# Prepare the chat format\n",
    "messages = [\n",
    "    {\"role\": \"system\", \"content\": system_message},\n",
    "    {\"role\": \"user\", \"content\": user_message}\n",
    "]\n",
    "\n",
    "results = {}\n",
    "\n",
    "for model in models:\n",
    "    print(f\"Querying model: {model}\")\n",
    "    response = requests.post(OLLAMA_API_URL, json={\n",
    "        \"model\": model,\n",
    "        \"messages\": messages,\n",
    "        \"stream\": False\n",
    "    })\n",
    "    response.raise_for_status()\n",
    "    data = response.json()\n",
    "    results[model] = data[\"message\"]\n",
    "\n"
   ]
  },
  {
   "cell_type": "code",
   "execution_count": 9,
   "id": "f889e744",
   "metadata": {},
   "outputs": [
    {
     "name": "stdout",
     "output_type": "stream",
     "text": [
      "\n",
      "=== Response from gemma2-finetuned ===\n",
      "{'role': 'assistant', 'content': '\\n\\nI\\'m looking for an action-adventure film that has dinosaurs in it but doesn\\'t have any T-Rex or other large carnivorous dinosaurs. I don\\'t want to see a film where the main character is fighting against a pack of T-Rex or something like that. I just want to see a film with dinosaurs and not having anything related to them being killed by a large carnivorous dinosaur.\\n\\nI have already seen \"Jurassic World\" (2015) and \"The Lost World: Jurassic Park\" (1997), but they both had T-Rex or other large carnivorous dinosaurs killing the main characters.'}\n",
      "\n",
      "=== Response from gemma:2b ===\n",
      "{'role': 'assistant', 'content': '**Here\\'s the movie recommendation:**\\n\\n```json\\n{\\n  \"positive_query\": \"Dinosaurs, 2020\",\\n  \"negative_query\": \"\",\\n  \"row_checker\": {\\n    \"min_year\": 2020,\\n    \"max_year\": 2023\\n  }\\n}\\n```\\n\\n**Explanation:**\\n\\n* **Positive_query:** \"Dinosaurs, 2020\" specifies that the movie should be about dinosaurs and released in 2020 or later.\\n* **Negative_query:** An empty string means no restrictions on the movie\\'s genre.\\n* **Row_checker:** This object filters the movie based on the following criteria:\\n    * **min_year:** 2020\\n    * **max_year:** 2023 (inclusive)'}\n",
      "\n",
      "=== Response from gemma2:2b ===\n",
      "{'role': 'assistant', 'content': '```json\\n{\\n \"positive_query\": \"dinosaurs\",\\n \"negative_query\": \"trex\",\\n \"row_checker\": {\\n  \"min_year\": 2020,\\n  \"max_year\": null,\\n  \"required_genres\": [],\\n  \"excluded_genres\": [],\\n  \"min_rating\": 7.5, \\n  \"max_rating\": null,\\n  \"min_duration\": null,\\n  \"max_duration\": null, \\n  \"required_languages\": [], \\n  \"excluded_languages\": []\\n }\\n}\\n``` \\n\\n\\nLet me know if you\\'d like more suggestions!  😄 \\n'}\n"
     ]
    }
   ],
   "source": [
    "# Print responses\n",
    "for model, output in results.items():\n",
    "    print(f\"\\n=== Response from {model} ===\")\n",
    "    print(output)\n"
   ]
  }
 ],
 "metadata": {
  "kernelspec": {
   "display_name": "base",
   "language": "python",
   "name": "python3"
  },
  "language_info": {
   "codemirror_mode": {
    "name": "ipython",
    "version": 3
   },
   "file_extension": ".py",
   "mimetype": "text/x-python",
   "name": "python",
   "nbconvert_exporter": "python",
   "pygments_lexer": "ipython3",
   "version": "3.12.7"
  }
 },
 "nbformat": 4,
 "nbformat_minor": 5
}
