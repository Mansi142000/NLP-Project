{
 "cells": [
  {
   "cell_type": "code",
   "execution_count": 1,
   "metadata": {},
   "outputs": [],
   "source": [
    "import pandas as pd\n",
    "import ast"
   ]
  },
  {
   "cell_type": "code",
   "execution_count": 2,
   "metadata": {},
   "outputs": [],
   "source": [
    "df_original = pd.read_csv('./../cleaned_database/cleaned_final_dataset3.csv')"
   ]
  },
  {
   "cell_type": "code",
   "execution_count": 3,
   "metadata": {},
   "outputs": [],
   "source": [
    "df = df_original.copy()"
   ]
  },
  {
   "cell_type": "code",
   "execution_count": 4,
   "metadata": {},
   "outputs": [],
   "source": [
    "ids = df[\"id\"].astype(str).tolist()\n",
    "documents = df[\"docs\"].astype(str).tolist()\n",
    "metadata = df.drop(columns=[\"id\", \"docs\"]).to_dict(orient=\"records\")"
   ]
  },
  {
   "cell_type": "code",
   "execution_count": 5,
   "metadata": {},
   "outputs": [
    {
     "name": "stdout",
     "output_type": "stream",
     "text": [
      "\n",
      "Record 1\n",
      "ID: tt0073195\n",
      "Document: jaws massive killer shark unleashes chaos beach community long island local sheriff marine biologist old seafarer hunt beast royscheider robertshaw richarddreyfuss lorrainegary murrayhamilton carlgottlieb jeffreykramer susanbacklinie jonathanfilley tedgrossman stevenspielberg monsterhorror seaadventure survival adventure drama horror thriller zanuckbrownproductions universalpictures water street edgartown marthas vineyard massachusetts usa english unitedstates...\n",
      "Metadata keys: ['title', 'year', 'duration', 'MPA', 'rating', 'votes', 'meta_score', 'description', 'Movie_Link', 'writers', 'directors', 'stars', 'budget', 'opening_weekend_gross', 'gross_worldwide', 'gross_us_canada', 'release_date', 'countries_origin', 'filming_locations', 'production_companies', 'awards_content', 'genres', 'languages']\n",
      "Metadata sample: {'title': 'Jaws', 'year': 1975, 'duration': 124, 'MPA': 'PG', 'rating': 8.1, 'votes': '690K', 'meta_score': 87.0, 'description': \"When a massive killer shark unleashes chaos on a beach community off Long Island, it's up to a local sheriff, a marine biologist, and an old seafarer to hunt the beast down.\", 'Movie_Link': 'https://www.imdb.com/title/tt0073195', 'writers': \"['Peter Benchley', 'Carl Gottlieb']\", 'directors': \"['Steven Spielberg']\", 'stars': \"['Roy Scheider', 'Robert Shaw', 'Richard Dreyfuss', 'Lorraine Gary', 'Murray Hamilton', 'Carl Gottlieb', 'Jeffrey Kramer', 'Susan Backlinie', 'Jonathan Filley', 'Ted Grossman']\", 'budget': '$7,000,000 (estimated)', 'opening_weekend_gross': '$7,061,513', 'gross_worldwide': '$477,916,625', 'gross_us_canada': '$267,263,625', 'release_date': 1975.0, 'countries_origin': \"['United States']\", 'filming_locations': '[\"Water Street, Edgartown, Martha\\'s Vineyard, Massachusetts, USA\"]', 'production_companies': \"['Zanuck/Brown Productions', 'Universal Pictures']\", 'awards_content': \"['Won 3 Oscars', '16 wins & 20 nominations total']\", 'genres': \"['Monster Horror', 'Sea Adventure', 'Survival', 'Adventure', 'Drama', 'Horror', 'Thriller']\", 'languages': \"['English']\"}...\n",
      "\n",
      "Record 2\n",
      "ID: tt0073629\n",
      "Document: rocky horror picture show newlyengaged couple breakdown isolated area must seek shelter bizarre residence dr franknfurter timcurry susansarandon barrybostwick richardobrien patriciaquinn nellcampbell jonathanadams peterhinwood meatloaf charlesgray jimsharman bhorror darkcomedy parody raunchycomedy rockmusical supernaturalhorror comedy horror musical twentiethcenturyfox michaelwhiteproductions oakley court windsor road oakley green windsor berkshire england uk castle exterior criminologists study brads room janets room dining room columbias room entrance hall stairs english unitedkingdom unitedstates...\n",
      "Metadata keys: ['title', 'year', 'duration', 'MPA', 'rating', 'votes', 'meta_score', 'description', 'Movie_Link', 'writers', 'directors', 'stars', 'budget', 'opening_weekend_gross', 'gross_worldwide', 'gross_us_canada', 'release_date', 'countries_origin', 'filming_locations', 'production_companies', 'awards_content', 'genres', 'languages']\n",
      "Metadata sample: {'title': 'The Rocky Horror Picture Show', 'year': 1975, 'duration': 100, 'MPA': 'R', 'rating': 7.4, 'votes': '174K', 'meta_score': 65.0, 'description': 'A newly-engaged couple have a breakdown in an isolated area and must seek shelter at the bizarre residence of Dr. Frank-n-Furter.', 'Movie_Link': 'https://www.imdb.com/title/tt0073629', 'writers': '[\"Richard O\\'Brien\", \\'Jim Sharman\\']', 'directors': \"['Jim Sharman']\", 'stars': '[\\'Tim Curry\\', \\'Susan Sarandon\\', \\'Barry Bostwick\\', \"Richard O\\'Brien\", \\'Patricia Quinn\\', \\'Nell Campbell\\', \\'Jonathan Adams\\', \\'Peter Hinwood\\', \\'Meat Loaf\\', \\'Charles Gray\\']', 'budget': '$1,200,000 (estimated)', 'opening_weekend_gross': nan, 'gross_worldwide': '$115,827,018', 'gross_us_canada': '$112,892,319', 'release_date': 1975.0, 'countries_origin': \"['United Kingdom', 'United States']\", 'filming_locations': '[\"Oakley Court, Windsor Road, Oakley Green, Windsor, Berkshire, England, UK (castle exterior, criminologist\\'s study, Brad\\'s room, Janet\\'s room, dining room, Columbia\\'s room, entrance hall and stairs)\"]', 'production_companies': \"['Twentieth Century Fox', 'Michael White Productions']\", 'awards_content': \"['Awards', '3 wins & 4 nominations total']\", 'genres': \"['B-Horror', 'Dark Comedy', 'Parody', 'Raunchy Comedy', 'Rock Musical', 'Supernatural Horror', 'Comedy', 'Horror', 'Musical']\", 'languages': \"['English']\"}...\n",
      "\n",
      "Record 3\n",
      "ID: tt0073486\n",
      "Document: one flew cuckoo's nest fall korean war veteran criminal pleads insanity admitted mental institution rallies scared patients tyrannical nurse jacknicholson louisefletcher michaelberryman peterbrocco deanrbrooks alonzobrown scatmancrothers mwakocumbuka dannydevito williamduell milosforman medicaldrama psychologicaldrama drama fantasyfilms nvzvaluw oregon state mental hospital center street ne salem oregon usa english unitedstates...\n",
      "Metadata keys: ['title', 'year', 'duration', 'MPA', 'rating', 'votes', 'meta_score', 'description', 'Movie_Link', 'writers', 'directors', 'stars', 'budget', 'opening_weekend_gross', 'gross_worldwide', 'gross_us_canada', 'release_date', 'countries_origin', 'filming_locations', 'production_companies', 'awards_content', 'genres', 'languages']\n",
      "Metadata sample: {'title': \"One Flew Over the Cuckoo's Nest\", 'year': 1975, 'duration': 133, 'MPA': 'R', 'rating': 8.7, 'votes': '1.1M', 'meta_score': 84.0, 'description': 'In the Fall of 1963, a Korean War veteran and criminal pleads insanity and is admitted to a mental institution, where he rallies up the scared patients against the tyrannical nurse.', 'Movie_Link': 'https://www.imdb.com/title/tt0073486', 'writers': \"['Lawrence Hauben', 'Bo Goldman', 'Ken Kesey']\", 'directors': \"['Milos Forman']\", 'stars': \"['Jack Nicholson', 'Louise Fletcher', 'Michael Berryman', 'Peter Brocco', 'Dean R. Brooks', 'Alonzo Brown', 'Scatman Crothers', 'Mwako Cumbuka', 'Danny DeVito', 'William Duell']\", 'budget': '$3,000,000 (estimated)', 'opening_weekend_gross': nan, 'gross_worldwide': '$109,115,366', 'gross_us_canada': '$108,981,275', 'release_date': 1975.0, 'countries_origin': \"['United States']\", 'filming_locations': \"['Oregon State Mental Hospital - 2600 Center Street NE, Salem, Oregon, USA']\", 'production_companies': \"['Fantasy Films', 'N.V. Zvaluw']\", 'awards_content': \"['Won 5 Oscars', '38 wins & 15 nominations total']\", 'genres': \"['Medical Drama', 'Psychological Drama', 'Drama']\", 'languages': \"['English']\"}...\n",
      "\n",
      "Record 4\n",
      "ID: tt0072890\n",
      "Document: dog day afternoon three amateur robbers plan hold brooklyn bank nice simple robbery walk take money run unfortunately supposedly uncomplicated heist suddenly becomes bizarre nightmare everything could go wrong alpacino johncazale penelopeallen sullyboyar beulahgarrick carolkane sandrakazan marciajeankurtz amylevitt johnmarriott sidneylumet darkcomedy heist truecrime biography crime drama thriller warnerbros artistsentertainmentcomplex prospect park west brooklyn new york city new york usa bank exterior english unitedstates...\n",
      "Metadata keys: ['title', 'year', 'duration', 'MPA', 'rating', 'votes', 'meta_score', 'description', 'Movie_Link', 'writers', 'directors', 'stars', 'budget', 'opening_weekend_gross', 'gross_worldwide', 'gross_us_canada', 'release_date', 'countries_origin', 'filming_locations', 'production_companies', 'awards_content', 'genres', 'languages']\n",
      "Metadata sample: {'title': 'Dog Day Afternoon', 'year': 1975, 'duration': 125, 'MPA': 'R', 'rating': 8.0, 'votes': '281K', 'meta_score': 86.0, 'description': 'Three amateur robbers plan to hold up a Brooklyn bank. A nice, simple robbery: Walk in, take the money, and run. Unfortunately, the supposedly uncomplicated heist suddenly becomes a bizarre nightmare as everything that could go wrong does.', 'Movie_Link': 'https://www.imdb.com/title/tt0072890', 'writers': \"['Frank Pierson', 'P.F. Kluge', 'Thomas Moore']\", 'directors': \"['Sidney Lumet']\", 'stars': \"['Al Pacino', 'John Cazale', 'Penelope Allen', 'Sully Boyar', 'Beulah Garrick', 'Carol Kane', 'Sandra Kazan', 'Marcia Jean Kurtz', 'Amy Levitt', 'John Marriott']\", 'budget': '$1,800,000 (estimated)', 'opening_weekend_gross': nan, 'gross_worldwide': '$50,004,527', 'gross_us_canada': '$50,000,000', 'release_date': 1975.0, 'countries_origin': \"['United States']\", 'filming_locations': \"['285 Prospect Park West, Brooklyn, New York City, New York, USA (Bank exterior)']\", 'production_companies': \"['Warner Bros.', 'Artists Entertainment Complex']\", 'awards_content': \"['Won 1 Oscar', '14 wins & 20 nominations total']\", 'genres': \"['Dark Comedy', 'Heist', 'True Crime', 'Biography', 'Crime', 'Drama', 'Thriller']\", 'languages': \"['English']\"}...\n",
      "\n",
      "Record 5\n",
      "ID: tt0073692\n",
      "Document: shampoo election day irresponsible hairdresser ladies man george roundy busy cutting hair dealing girlfriends mistress felicia karpf whose husband lester affair exgirlfriend jackie warrenbeatty juliechristie goldiehawn leegrant jackwarden tonybill georgefurth jayrobinson annweldon luanaanders halashby satire comedy drama perskybrightvista columbiapictures rubeekerfilms bowmont drive beverly hills california usa jackies house bowmont hazen english unitedstates...\n",
      "Metadata keys: ['title', 'year', 'duration', 'MPA', 'rating', 'votes', 'meta_score', 'description', 'Movie_Link', 'writers', 'directors', 'stars', 'budget', 'opening_weekend_gross', 'gross_worldwide', 'gross_us_canada', 'release_date', 'countries_origin', 'filming_locations', 'production_companies', 'awards_content', 'genres', 'languages']\n",
      "Metadata sample: {'title': 'Shampoo', 'year': 1975, 'duration': 110, 'MPA': 'R', 'rating': 6.4, 'votes': '15K', 'meta_score': 65.0, 'description': \"On Election Day, 1968, irresponsible hairdresser and ladies' man George Roundy is too busy cutting hair and dealing with his girlfriends and mistress Felicia Karpf, whose husband Lester is having an affair with his ex-girlfriend Jackie.\", 'Movie_Link': 'https://www.imdb.com/title/tt0073692', 'writers': \"['Robert Towne', 'Warren Beatty']\", 'directors': \"['Hal Ashby']\", 'stars': \"['Warren Beatty', 'Julie Christie', 'Goldie Hawn', 'Lee Grant', 'Jack Warden', 'Tony Bill', 'George Furth', 'Jay Robinson', 'Ann Weldon', 'Luana Anders']\", 'budget': '$4,000,000 (estimated)', 'opening_weekend_gross': nan, 'gross_worldwide': '$49,407,734', 'gross_us_canada': '$49,407,734', 'release_date': 1975.0, 'countries_origin': \"['United States']\", 'filming_locations': '[\"2270 Bowmont Drive, Beverly Hills, California, USA (Jackie\\'s House at Bowmont & Hazen)\"]', 'production_companies': \"['Persky-Bright / Vista', 'Columbia Pictures', 'Rubeeker Films']\", 'awards_content': \"['Won 1 Oscar', '3 wins & 11 nominations total']\", 'genres': \"['Satire', 'Comedy', 'Drama']\", 'languages': \"['English']\"}...\n"
     ]
    }
   ],
   "source": [
    "for i in range(min(5, len(ids))):\n",
    "    print(f\"\\nRecord {i+1}\")\n",
    "    print(f\"ID: {ids[i]}\")\n",
    "    print(f\"Document: {documents[i]}...\")\n",
    "    print(f\"Metadata keys: {list(metadata[i].keys())}\")\n",
    "    print(f\"Metadata sample: {metadata[i]}...\") \n"
   ]
  },
  {
   "cell_type": "code",
   "execution_count": 9,
   "metadata": {},
   "outputs": [
    {
     "name": "stdout",
     "output_type": "stream",
     "text": [
      "Requirement already satisfied: onnxruntime in c:\\users\\mansi\\anaconda3\\lib\\site-packages (1.21.0)\n",
      "Requirement already satisfied: coloredlogs in c:\\users\\mansi\\anaconda3\\lib\\site-packages (from onnxruntime) (15.0.1)\n",
      "Requirement already satisfied: flatbuffers in c:\\users\\mansi\\anaconda3\\lib\\site-packages (from onnxruntime) (25.2.10)\n",
      "Requirement already satisfied: numpy>=1.21.6 in c:\\users\\mansi\\anaconda3\\lib\\site-packages (from onnxruntime) (1.26.4)\n",
      "Requirement already satisfied: packaging in c:\\users\\mansi\\anaconda3\\lib\\site-packages (from onnxruntime) (24.2)\n",
      "Requirement already satisfied: protobuf in c:\\users\\mansi\\anaconda3\\lib\\site-packages (from onnxruntime) (5.29.3)\n",
      "Requirement already satisfied: sympy in c:\\users\\mansi\\anaconda3\\lib\\site-packages (from onnxruntime) (1.13.1)\n",
      "Requirement already satisfied: humanfriendly>=9.1 in c:\\users\\mansi\\anaconda3\\lib\\site-packages (from coloredlogs->onnxruntime) (10.0)\n",
      "Requirement already satisfied: mpmath<1.4,>=1.1.0 in c:\\users\\mansi\\anaconda3\\lib\\site-packages (from sympy->onnxruntime) (1.3.0)\n",
      "Requirement already satisfied: pyreadline3 in c:\\users\\mansi\\anaconda3\\lib\\site-packages (from humanfriendly>=9.1->coloredlogs->onnxruntime) (3.5.4)\n",
      "Note: you may need to restart the kernel to use updated packages.\n"
     ]
    }
   ],
   "source": [
    "pip install onnxruntime"
   ]
  },
  {
   "cell_type": "code",
   "execution_count": 7,
   "metadata": {},
   "outputs": [
    {
     "name": "stdout",
     "output_type": "stream",
     "text": [
      "Requirement already satisfied: chromadb in c:\\users\\mansi\\appdata\\local\\programs\\python\\python313\\lib\\site-packages (0.6.3)\n",
      "Requirement already satisfied: build>=1.0.3 in c:\\users\\mansi\\appdata\\local\\programs\\python\\python313\\lib\\site-packages (from chromadb) (1.2.2.post1)\n",
      "Requirement already satisfied: pydantic>=1.9 in c:\\users\\mansi\\appdata\\local\\programs\\python\\python313\\lib\\site-packages (from chromadb) (2.11.0)\n",
      "Requirement already satisfied: chroma-hnswlib==0.7.6 in c:\\users\\mansi\\appdata\\local\\programs\\python\\python313\\lib\\site-packages (from chromadb) (0.7.6)\n",
      "Requirement already satisfied: fastapi>=0.95.2 in c:\\users\\mansi\\appdata\\local\\programs\\python\\python313\\lib\\site-packages (from chromadb) (0.115.12)\n",
      "Requirement already satisfied: uvicorn>=0.18.3 in c:\\users\\mansi\\appdata\\local\\programs\\python\\python313\\lib\\site-packages (from uvicorn[standard]>=0.18.3->chromadb) (0.34.0)\n",
      "Requirement already satisfied: numpy>=1.22.5 in c:\\users\\mansi\\appdata\\local\\programs\\python\\python313\\lib\\site-packages (from chromadb) (2.2.4)\n",
      "Requirement already satisfied: posthog>=2.4.0 in c:\\users\\mansi\\appdata\\local\\programs\\python\\python313\\lib\\site-packages (from chromadb) (3.23.0)\n",
      "Requirement already satisfied: typing_extensions>=4.5.0 in c:\\users\\mansi\\appdata\\local\\programs\\python\\python313\\lib\\site-packages (from chromadb) (4.13.0)\n",
      "Requirement already satisfied: onnxruntime>=1.14.1 in c:\\users\\mansi\\appdata\\local\\programs\\python\\python313\\lib\\site-packages (from chromadb) (1.21.0)\n",
      "Requirement already satisfied: opentelemetry-api>=1.2.0 in c:\\users\\mansi\\appdata\\local\\programs\\python\\python313\\lib\\site-packages (from chromadb) (1.31.1)\n",
      "Requirement already satisfied: opentelemetry-exporter-otlp-proto-grpc>=1.2.0 in c:\\users\\mansi\\appdata\\local\\programs\\python\\python313\\lib\\site-packages (from chromadb) (1.31.1)\n",
      "Requirement already satisfied: opentelemetry-instrumentation-fastapi>=0.41b0 in c:\\users\\mansi\\appdata\\local\\programs\\python\\python313\\lib\\site-packages (from chromadb) (0.52b1)\n",
      "Requirement already satisfied: opentelemetry-sdk>=1.2.0 in c:\\users\\mansi\\appdata\\local\\programs\\python\\python313\\lib\\site-packages (from chromadb) (1.31.1)\n",
      "Requirement already satisfied: tokenizers>=0.13.2 in c:\\users\\mansi\\appdata\\local\\programs\\python\\python313\\lib\\site-packages (from chromadb) (0.21.1)\n",
      "Requirement already satisfied: pypika>=0.48.9 in c:\\users\\mansi\\appdata\\local\\programs\\python\\python313\\lib\\site-packages (from chromadb) (0.48.9)\n",
      "Requirement already satisfied: tqdm>=4.65.0 in c:\\users\\mansi\\appdata\\local\\programs\\python\\python313\\lib\\site-packages (from chromadb) (4.67.1)\n",
      "Requirement already satisfied: overrides>=7.3.1 in c:\\users\\mansi\\appdata\\local\\programs\\python\\python313\\lib\\site-packages (from chromadb) (7.7.0)\n",
      "Requirement already satisfied: importlib-resources in c:\\users\\mansi\\appdata\\local\\programs\\python\\python313\\lib\\site-packages (from chromadb) (6.5.2)\n",
      "Requirement already satisfied: grpcio>=1.58.0 in c:\\users\\mansi\\appdata\\local\\programs\\python\\python313\\lib\\site-packages (from chromadb) (1.71.0)\n",
      "Requirement already satisfied: bcrypt>=4.0.1 in c:\\users\\mansi\\appdata\\local\\programs\\python\\python313\\lib\\site-packages (from chromadb) (4.3.0)\n",
      "Requirement already satisfied: typer>=0.9.0 in c:\\users\\mansi\\appdata\\local\\programs\\python\\python313\\lib\\site-packages (from chromadb) (0.15.2)\n",
      "Requirement already satisfied: kubernetes>=28.1.0 in c:\\users\\mansi\\appdata\\local\\programs\\python\\python313\\lib\\site-packages (from chromadb) (32.0.1)\n",
      "Requirement already satisfied: tenacity>=8.2.3 in c:\\users\\mansi\\appdata\\local\\programs\\python\\python313\\lib\\site-packages (from chromadb) (9.0.0)\n",
      "Requirement already satisfied: PyYAML>=6.0.0 in c:\\users\\mansi\\appdata\\local\\programs\\python\\python313\\lib\\site-packages (from chromadb) (6.0.2)\n",
      "Requirement already satisfied: mmh3>=4.0.1 in c:\\users\\mansi\\appdata\\local\\programs\\python\\python313\\lib\\site-packages (from chromadb) (5.1.0)\n",
      "Requirement already satisfied: orjson>=3.9.12 in c:\\users\\mansi\\appdata\\local\\programs\\python\\python313\\lib\\site-packages (from chromadb) (3.10.16)\n",
      "Requirement already satisfied: httpx>=0.27.0 in c:\\users\\mansi\\appdata\\local\\programs\\python\\python313\\lib\\site-packages (from chromadb) (0.28.1)\n",
      "Requirement already satisfied: rich>=10.11.0 in c:\\users\\mansi\\appdata\\local\\programs\\python\\python313\\lib\\site-packages (from chromadb) (13.9.4)\n",
      "Requirement already satisfied: packaging>=19.1 in c:\\users\\mansi\\appdata\\roaming\\python\\python313\\site-packages (from build>=1.0.3->chromadb) (24.2)\n",
      "Requirement already satisfied: pyproject_hooks in c:\\users\\mansi\\appdata\\local\\programs\\python\\python313\\lib\\site-packages (from build>=1.0.3->chromadb) (1.2.0)\n",
      "Requirement already satisfied: colorama in c:\\users\\mansi\\appdata\\roaming\\python\\python313\\site-packages (from build>=1.0.3->chromadb) (0.4.6)\n",
      "Requirement already satisfied: starlette<0.47.0,>=0.40.0 in c:\\users\\mansi\\appdata\\local\\programs\\python\\python313\\lib\\site-packages (from fastapi>=0.95.2->chromadb) (0.46.1)\n",
      "Requirement already satisfied: anyio in c:\\users\\mansi\\appdata\\local\\programs\\python\\python313\\lib\\site-packages (from httpx>=0.27.0->chromadb) (4.9.0)\n",
      "Requirement already satisfied: certifi in c:\\users\\mansi\\appdata\\local\\programs\\python\\python313\\lib\\site-packages (from httpx>=0.27.0->chromadb) (2025.1.31)\n",
      "Requirement already satisfied: httpcore==1.* in c:\\users\\mansi\\appdata\\local\\programs\\python\\python313\\lib\\site-packages (from httpx>=0.27.0->chromadb) (1.0.7)\n",
      "Requirement already satisfied: idna in c:\\users\\mansi\\appdata\\local\\programs\\python\\python313\\lib\\site-packages (from httpx>=0.27.0->chromadb) (3.10)\n",
      "Requirement already satisfied: h11<0.15,>=0.13 in c:\\users\\mansi\\appdata\\local\\programs\\python\\python313\\lib\\site-packages (from httpcore==1.*->httpx>=0.27.0->chromadb) (0.14.0)\n",
      "Requirement already satisfied: six>=1.9.0 in c:\\users\\mansi\\appdata\\roaming\\python\\python313\\site-packages (from kubernetes>=28.1.0->chromadb) (1.17.0)\n",
      "Requirement already satisfied: python-dateutil>=2.5.3 in c:\\users\\mansi\\appdata\\roaming\\python\\python313\\site-packages (from kubernetes>=28.1.0->chromadb) (2.9.0.post0)\n",
      "Requirement already satisfied: google-auth>=1.0.1 in c:\\users\\mansi\\appdata\\local\\programs\\python\\python313\\lib\\site-packages (from kubernetes>=28.1.0->chromadb) (2.38.0)\n",
      "Requirement already satisfied: websocket-client!=0.40.0,!=0.41.*,!=0.42.*,>=0.32.0 in c:\\users\\mansi\\appdata\\local\\programs\\python\\python313\\lib\\site-packages (from kubernetes>=28.1.0->chromadb) (1.8.0)\n",
      "Requirement already satisfied: requests in c:\\users\\mansi\\appdata\\local\\programs\\python\\python313\\lib\\site-packages (from kubernetes>=28.1.0->chromadb) (2.32.3)\n",
      "Requirement already satisfied: requests-oauthlib in c:\\users\\mansi\\appdata\\local\\programs\\python\\python313\\lib\\site-packages (from kubernetes>=28.1.0->chromadb) (2.0.0)\n",
      "Requirement already satisfied: oauthlib>=3.2.2 in c:\\users\\mansi\\appdata\\local\\programs\\python\\python313\\lib\\site-packages (from kubernetes>=28.1.0->chromadb) (3.2.2)\n",
      "Requirement already satisfied: urllib3>=1.24.2 in c:\\users\\mansi\\appdata\\local\\programs\\python\\python313\\lib\\site-packages (from kubernetes>=28.1.0->chromadb) (2.3.0)\n",
      "Requirement already satisfied: durationpy>=0.7 in c:\\users\\mansi\\appdata\\local\\programs\\python\\python313\\lib\\site-packages (from kubernetes>=28.1.0->chromadb) (0.9)\n",
      "Requirement already satisfied: coloredlogs in c:\\users\\mansi\\appdata\\local\\programs\\python\\python313\\lib\\site-packages (from onnxruntime>=1.14.1->chromadb) (15.0.1)\n",
      "Requirement already satisfied: flatbuffers in c:\\users\\mansi\\appdata\\local\\programs\\python\\python313\\lib\\site-packages (from onnxruntime>=1.14.1->chromadb) (25.2.10)\n",
      "Requirement already satisfied: protobuf in c:\\users\\mansi\\appdata\\local\\programs\\python\\python313\\lib\\site-packages (from onnxruntime>=1.14.1->chromadb) (5.29.4)\n",
      "Requirement already satisfied: sympy in c:\\users\\mansi\\appdata\\local\\programs\\python\\python313\\lib\\site-packages (from onnxruntime>=1.14.1->chromadb) (1.13.1)\n",
      "Requirement already satisfied: deprecated>=1.2.6 in c:\\users\\mansi\\appdata\\local\\programs\\python\\python313\\lib\\site-packages (from opentelemetry-api>=1.2.0->chromadb) (1.2.18)\n",
      "Requirement already satisfied: importlib-metadata<8.7.0,>=6.0 in c:\\users\\mansi\\appdata\\local\\programs\\python\\python313\\lib\\site-packages (from opentelemetry-api>=1.2.0->chromadb) (8.6.1)\n",
      "Requirement already satisfied: googleapis-common-protos~=1.52 in c:\\users\\mansi\\appdata\\local\\programs\\python\\python313\\lib\\site-packages (from opentelemetry-exporter-otlp-proto-grpc>=1.2.0->chromadb) (1.69.2)\n",
      "Requirement already satisfied: opentelemetry-exporter-otlp-proto-common==1.31.1 in c:\\users\\mansi\\appdata\\local\\programs\\python\\python313\\lib\\site-packages (from opentelemetry-exporter-otlp-proto-grpc>=1.2.0->chromadb) (1.31.1)\n",
      "Requirement already satisfied: opentelemetry-proto==1.31.1 in c:\\users\\mansi\\appdata\\local\\programs\\python\\python313\\lib\\site-packages (from opentelemetry-exporter-otlp-proto-grpc>=1.2.0->chromadb) (1.31.1)\n",
      "Requirement already satisfied: opentelemetry-instrumentation-asgi==0.52b1 in c:\\users\\mansi\\appdata\\local\\programs\\python\\python313\\lib\\site-packages (from opentelemetry-instrumentation-fastapi>=0.41b0->chromadb) (0.52b1)\n",
      "Requirement already satisfied: opentelemetry-instrumentation==0.52b1 in c:\\users\\mansi\\appdata\\local\\programs\\python\\python313\\lib\\site-packages (from opentelemetry-instrumentation-fastapi>=0.41b0->chromadb) (0.52b1)\n",
      "Requirement already satisfied: opentelemetry-semantic-conventions==0.52b1 in c:\\users\\mansi\\appdata\\local\\programs\\python\\python313\\lib\\site-packages (from opentelemetry-instrumentation-fastapi>=0.41b0->chromadb) (0.52b1)\n",
      "Requirement already satisfied: opentelemetry-util-http==0.52b1 in c:\\users\\mansi\\appdata\\local\\programs\\python\\python313\\lib\\site-packages (from opentelemetry-instrumentation-fastapi>=0.41b0->chromadb) (0.52b1)\n",
      "Requirement already satisfied: wrapt<2.0.0,>=1.0.0 in c:\\users\\mansi\\appdata\\local\\programs\\python\\python313\\lib\\site-packages (from opentelemetry-instrumentation==0.52b1->opentelemetry-instrumentation-fastapi>=0.41b0->chromadb) (1.17.2)\n",
      "Requirement already satisfied: asgiref~=3.0 in c:\\users\\mansi\\appdata\\local\\programs\\python\\python313\\lib\\site-packages (from opentelemetry-instrumentation-asgi==0.52b1->opentelemetry-instrumentation-fastapi>=0.41b0->chromadb) (3.8.1)\n",
      "Requirement already satisfied: monotonic>=1.5 in c:\\users\\mansi\\appdata\\local\\programs\\python\\python313\\lib\\site-packages (from posthog>=2.4.0->chromadb) (1.6)\n",
      "Requirement already satisfied: backoff>=1.10.0 in c:\\users\\mansi\\appdata\\local\\programs\\python\\python313\\lib\\site-packages (from posthog>=2.4.0->chromadb) (2.2.1)\n",
      "Requirement already satisfied: distro>=1.5.0 in c:\\users\\mansi\\appdata\\local\\programs\\python\\python313\\lib\\site-packages (from posthog>=2.4.0->chromadb) (1.9.0)\n",
      "Requirement already satisfied: annotated-types>=0.6.0 in c:\\users\\mansi\\appdata\\local\\programs\\python\\python313\\lib\\site-packages (from pydantic>=1.9->chromadb) (0.7.0)\n",
      "Requirement already satisfied: pydantic-core==2.33.0 in c:\\users\\mansi\\appdata\\local\\programs\\python\\python313\\lib\\site-packages (from pydantic>=1.9->chromadb) (2.33.0)\n",
      "Requirement already satisfied: typing-inspection>=0.4.0 in c:\\users\\mansi\\appdata\\local\\programs\\python\\python313\\lib\\site-packages (from pydantic>=1.9->chromadb) (0.4.0)\n",
      "Requirement already satisfied: markdown-it-py>=2.2.0 in c:\\users\\mansi\\appdata\\local\\programs\\python\\python313\\lib\\site-packages (from rich>=10.11.0->chromadb) (3.0.0)\n",
      "Requirement already satisfied: pygments<3.0.0,>=2.13.0 in c:\\users\\mansi\\appdata\\roaming\\python\\python313\\site-packages (from rich>=10.11.0->chromadb) (2.19.1)\n",
      "Requirement already satisfied: huggingface-hub<1.0,>=0.16.4 in c:\\users\\mansi\\appdata\\local\\programs\\python\\python313\\lib\\site-packages (from tokenizers>=0.13.2->chromadb) (0.29.3)\n",
      "Requirement already satisfied: click>=8.0.0 in c:\\users\\mansi\\appdata\\local\\programs\\python\\python313\\lib\\site-packages (from typer>=0.9.0->chromadb) (8.1.8)\n",
      "Requirement already satisfied: shellingham>=1.3.0 in c:\\users\\mansi\\appdata\\local\\programs\\python\\python313\\lib\\site-packages (from typer>=0.9.0->chromadb) (1.5.4)\n",
      "Requirement already satisfied: httptools>=0.6.3 in c:\\users\\mansi\\appdata\\local\\programs\\python\\python313\\lib\\site-packages (from uvicorn[standard]>=0.18.3->chromadb) (0.6.4)\n",
      "Requirement already satisfied: python-dotenv>=0.13 in c:\\users\\mansi\\appdata\\local\\programs\\python\\python313\\lib\\site-packages (from uvicorn[standard]>=0.18.3->chromadb) (1.1.0)\n",
      "Requirement already satisfied: watchfiles>=0.13 in c:\\users\\mansi\\appdata\\local\\programs\\python\\python313\\lib\\site-packages (from uvicorn[standard]>=0.18.3->chromadb) (1.0.4)\n",
      "Requirement already satisfied: websockets>=10.4 in c:\\users\\mansi\\appdata\\local\\programs\\python\\python313\\lib\\site-packages (from uvicorn[standard]>=0.18.3->chromadb) (15.0.1)\n",
      "Requirement already satisfied: cachetools<6.0,>=2.0.0 in c:\\users\\mansi\\appdata\\local\\programs\\python\\python313\\lib\\site-packages (from google-auth>=1.0.1->kubernetes>=28.1.0->chromadb) (5.5.2)\n",
      "Requirement already satisfied: pyasn1-modules>=0.2.1 in c:\\users\\mansi\\appdata\\local\\programs\\python\\python313\\lib\\site-packages (from google-auth>=1.0.1->kubernetes>=28.1.0->chromadb) (0.4.1)\n",
      "Requirement already satisfied: rsa<5,>=3.1.4 in c:\\users\\mansi\\appdata\\local\\programs\\python\\python313\\lib\\site-packages (from google-auth>=1.0.1->kubernetes>=28.1.0->chromadb) (4.9)\n",
      "Requirement already satisfied: filelock in c:\\users\\mansi\\appdata\\local\\programs\\python\\python313\\lib\\site-packages (from huggingface-hub<1.0,>=0.16.4->tokenizers>=0.13.2->chromadb) (3.18.0)\n",
      "Requirement already satisfied: fsspec>=2023.5.0 in c:\\users\\mansi\\appdata\\local\\programs\\python\\python313\\lib\\site-packages (from huggingface-hub<1.0,>=0.16.4->tokenizers>=0.13.2->chromadb) (2025.3.0)\n",
      "Requirement already satisfied: zipp>=3.20 in c:\\users\\mansi\\appdata\\local\\programs\\python\\python313\\lib\\site-packages (from importlib-metadata<8.7.0,>=6.0->opentelemetry-api>=1.2.0->chromadb) (3.21.0)\n",
      "Requirement already satisfied: mdurl~=0.1 in c:\\users\\mansi\\appdata\\local\\programs\\python\\python313\\lib\\site-packages (from markdown-it-py>=2.2.0->rich>=10.11.0->chromadb) (0.1.2)\n",
      "Requirement already satisfied: charset-normalizer<4,>=2 in c:\\users\\mansi\\appdata\\local\\programs\\python\\python313\\lib\\site-packages (from requests->kubernetes>=28.1.0->chromadb) (3.4.1)\n",
      "Requirement already satisfied: sniffio>=1.1 in c:\\users\\mansi\\appdata\\local\\programs\\python\\python313\\lib\\site-packages (from anyio->httpx>=0.27.0->chromadb) (1.3.1)\n",
      "Requirement already satisfied: humanfriendly>=9.1 in c:\\users\\mansi\\appdata\\local\\programs\\python\\python313\\lib\\site-packages (from coloredlogs->onnxruntime>=1.14.1->chromadb) (10.0)\n",
      "Requirement already satisfied: mpmath<1.4,>=1.1.0 in c:\\users\\mansi\\appdata\\local\\programs\\python\\python313\\lib\\site-packages (from sympy->onnxruntime>=1.14.1->chromadb) (1.3.0)\n",
      "Requirement already satisfied: pyreadline3 in c:\\users\\mansi\\appdata\\local\\programs\\python\\python313\\lib\\site-packages (from humanfriendly>=9.1->coloredlogs->onnxruntime>=1.14.1->chromadb) (3.5.4)\n",
      "Requirement already satisfied: pyasn1<0.7.0,>=0.4.6 in c:\\users\\mansi\\appdata\\local\\programs\\python\\python313\\lib\\site-packages (from pyasn1-modules>=0.2.1->google-auth>=1.0.1->kubernetes>=28.1.0->chromadb) (0.6.1)\n",
      "Note: you may need to restart the kernel to use updated packages.\n"
     ]
    }
   ],
   "source": [
    "pip install chromadb"
   ]
  },
  {
   "cell_type": "code",
   "execution_count": 6,
   "metadata": {},
   "outputs": [],
   "source": [
    "import chromadb"
   ]
  },
  {
   "cell_type": "code",
   "execution_count": 7,
   "metadata": {},
   "outputs": [],
   "source": [
    "chroma_client = chromadb.PersistentClient(path=\"./../chromadb_client2\")"
   ]
  },
  {
   "cell_type": "code",
   "execution_count": 8,
   "metadata": {},
   "outputs": [],
   "source": [
    "collection = chroma_client.get_collection(name=\"best_movies_database\")"
   ]
  },
  {
   "cell_type": "code",
   "execution_count": 14,
   "metadata": {},
   "outputs": [],
   "source": [
    "collection = chroma_client.create_collection(name=\"best_movies_database\")"
   ]
  },
  {
   "cell_type": "code",
   "execution_count": 9,
   "metadata": {},
   "outputs": [],
   "source": [
    "chroma_client.delete_collection(name=\"best_movies_database\")"
   ]
  },
  {
   "cell_type": "code",
   "execution_count": 9,
   "metadata": {},
   "outputs": [],
   "source": [
    "def insert_in_batches(batch_size=100):\n",
    "    for i in range(0, len(ids), batch_size):\n",
    "        batch_ids = ids[i:i+batch_size]\n",
    "        batch_docs = documents[i:i+batch_size]\n",
    "        batch_meta = metadata[i:i+batch_size]\n",
    "        \n",
    "        collection.add(\n",
    "            ids=batch_ids,\n",
    "            documents=batch_docs,\n",
    "            metadatas=batch_meta\n",
    "        )\n",
    "        print(f\"Inserted batch {i // batch_size + 1}\")"
   ]
  },
  {
   "cell_type": "code",
   "execution_count": 16,
   "metadata": {},
   "outputs": [
    {
     "name": "stdout",
     "output_type": "stream",
     "text": [
      "Inserted batch 1\n",
      "Inserted batch 2\n",
      "Inserted batch 3\n",
      "Inserted batch 4\n",
      "Inserted batch 5\n",
      "Inserted batch 6\n",
      "Inserted batch 7\n",
      "Inserted batch 8\n",
      "Inserted batch 9\n",
      "Inserted batch 10\n",
      "Inserted batch 11\n",
      "Inserted batch 12\n",
      "Inserted batch 13\n",
      "Inserted batch 14\n",
      "Inserted batch 15\n",
      "Inserted batch 16\n",
      "Inserted batch 17\n",
      "Inserted batch 18\n",
      "Inserted batch 19\n",
      "Inserted batch 20\n",
      "Inserted batch 21\n",
      "Inserted batch 22\n",
      "Inserted batch 23\n",
      "Inserted batch 24\n",
      "Inserted batch 25\n",
      "Inserted batch 26\n",
      "Inserted batch 27\n",
      "Inserted batch 28\n",
      "Inserted batch 29\n",
      "Inserted batch 30\n",
      "Inserted batch 31\n",
      "Inserted batch 32\n",
      "Inserted batch 33\n",
      "Inserted batch 34\n",
      "Inserted batch 35\n",
      "Inserted batch 36\n",
      "Inserted batch 37\n",
      "Inserted batch 38\n",
      "Inserted batch 39\n",
      "Inserted batch 40\n",
      "Inserted batch 41\n",
      "Inserted batch 42\n",
      "Inserted batch 43\n",
      "Inserted batch 44\n",
      "Inserted batch 45\n",
      "Inserted batch 46\n",
      "Inserted batch 47\n",
      "Inserted batch 48\n",
      "Inserted batch 49\n",
      "Inserted batch 50\n",
      "Inserted batch 51\n",
      "Inserted batch 52\n",
      "Inserted batch 53\n",
      "Inserted batch 54\n",
      "Inserted batch 55\n",
      "Inserted batch 56\n",
      "Inserted batch 57\n",
      "Inserted batch 58\n",
      "Inserted batch 59\n",
      "Inserted batch 60\n",
      "Inserted batch 61\n",
      "Inserted batch 62\n",
      "Inserted batch 63\n",
      "Inserted batch 64\n"
     ]
    }
   ],
   "source": [
    "insert_in_batches(batch_size=1000)"
   ]
  },
  {
   "cell_type": "code",
   "execution_count": 10,
   "metadata": {},
   "outputs": [],
   "source": [
    "def query_chroma_and_return_results(query_text, filter_criteria=None, result_size=1):\n",
    "    \n",
    "    try:\n",
    "        if filter_criteria:\n",
    "            results = collection.query(\n",
    "                query_texts=[query_text],\n",
    "                n_results=result_size,  # Get only the closest result\n",
    "                where=filter_criteria,\n",
    "            )\n",
    "        else:\n",
    "            results = collection.query(\n",
    "                query_texts=[query_text],\n",
    "                n_results=result_size,  # Get only the closest result\n",
    "            )\n",
    "        return results\n",
    "    except Exception as e:\n",
    "        print(f\"An error occurred: {e}\")\n",
    "\n"
   ]
  },
  {
   "cell_type": "code",
   "execution_count": 11,
   "metadata": {},
   "outputs": [],
   "source": [
    "def print_first_result(results):\n",
    "    if results[\"documents\"] and results[\"documents\"][0]:\n",
    "        print(\"Closest Result:\")\n",
    "        print(\"Document:\", results[\"documents\"][0][0])\n",
    "        if results[\"metadatas\"] and results[\"metadatas\"][0]:\n",
    "            print(\"Metadata:\", results[\"metadatas\"][0][0]) \n",
    "        else:\n",
    "            print(\"No metadata found.\")\n",
    "    else:\n",
    "        print(\"No results found.\")"
   ]
  },
  {
   "cell_type": "code",
   "execution_count": 12,
   "metadata": {},
   "outputs": [
    {
     "name": "stdout",
     "output_type": "stream",
     "text": [
      "Closest Result:\n",
      "Document: cat's meow semitrue story hollywood murder occurred starstudded gathering aboard william randolph hearsts yacht kirstendunst caryelwes edwardherrmann eddieizzard joannalumley jennifertilly claudiaharrison victorslezak jameslaurenson ronanvibert peterbogdanovich truecrime crime drama romance lionsgate danfilms cpmedienag kyparisi greece english unitedkingdom germany canada unitedstates\n",
      "Metadata: {'MPA': 'PG-13', 'Movie_Link': 'https://www.imdb.com/title/tt0266391', 'awards_content': \"['Awards', '1 win & 1 nomination total']\", 'budget': '$7,000,000 (estimated)', 'countries_origin': \"['United Kingdom', 'Germany', 'Canada', 'United States']\", 'description': \"Semi-true story of the Hollywood murder that occurred at a star-studded gathering aboard William Randolph Hearst's yacht in 1924.\", 'directors': \"['Peter Bogdanovich']\", 'duration': 114, 'filming_locations': \"['Kyparisi, Greece']\", 'genres': \"['True Crime', 'Crime', 'Drama', 'Romance']\", 'gross_us_canada': '$3,209,481', 'gross_worldwide': '$3,646,994', 'languages': \"['English']\", 'meta_score': 63.0, 'opening_weekend_gross': '$111,037', 'production_companies': \"['Lionsgate', 'Dan Films', 'CP Medien AG']\", 'rating': 6.4, 'release_date': 2001.0, 'stars': \"['Kirsten Dunst', 'Cary Elwes', 'Edward Herrmann', 'Eddie Izzard', 'Joanna Lumley', 'Jennifer Tilly', 'Claudia Harrison', 'Victor Slezak', 'James Laurenson', 'Ronan Vibert']\", 'title': \"The Cat's Meow\", 'votes': '9.3K', 'writers': \"['Steven Peros']\", 'year': 2001}\n"
     ]
    }
   ],
   "source": [
    "print_first_result(query_chroma_and_return_results(\"meow\"))"
   ]
  },
  {
   "cell_type": "code",
   "execution_count": 13,
   "metadata": {},
   "outputs": [
    {
     "name": "stdout",
     "output_type": "stream",
     "text": [
      "Closest Result:\n",
      "Document: amazing spider-man peter parker bitten genetically altered spider gains newfound spiderlike powers ventures save city machinations mysterious reptilian foe andrewgarfield emmastone rhysifans irrfankhan denisleary martinsheen sallyfield campbellscott embethdavidtz chriszylka marcwebb superhero action scifi columbiapictures marvelentertainment lauraziskinproductions universal studios hollywood universal studios blvd universal city california usa new york street english unitedstates\n",
      "Metadata: {'MPA': 'PG-13', 'Movie_Link': 'https://www.imdb.com/title/tt0948470', 'awards_content': \"['Awards', '2 wins & 33 nominations total']\", 'budget': '$230,000,000 (estimated)', 'countries_origin': \"['United States']\", 'description': 'After Peter Parker is bitten by a genetically altered spider, he gains newfound, spider-like powers and ventures out to save the city from the machinations of a mysterious reptilian foe.', 'directors': \"['Marc Webb']\", 'duration': 136, 'filming_locations': \"['Universal Studios Hollywood - 1000 Universal Studios Blvd, Universal City, California, USA (New York Street)']\", 'genres': \"['Superhero', 'Action', 'Sci-Fi']\", 'gross_us_canada': '$262,782,352', 'gross_worldwide': '$758,707,722', 'languages': \"['English']\", 'meta_score': 66.0, 'opening_weekend_gross': '$62,004,688', 'production_companies': \"['Columbia Pictures', 'Marvel Entertainment', 'Laura Ziskin Productions']\", 'rating': 6.9, 'release_date': 2012.0, 'stars': \"['Andrew Garfield', 'Emma Stone', 'Rhys Ifans', 'Irrfan Khan', 'Denis Leary', 'Martin Sheen', 'Sally Field', 'Campbell Scott', 'Embeth Davidtz', 'Chris Zylka']\", 'title': 'The Amazing Spider-Man', 'votes': '729K', 'writers': \"['James Vanderbilt', 'Alvin Sargent', 'Steve Kloves']\", 'year': 2012}\n"
     ]
    }
   ],
   "source": [
    "print_first_result(query_chroma_and_return_results(\"spiderman\"))"
   ]
  },
  {
   "cell_type": "code",
   "execution_count": 14,
   "metadata": {},
   "outputs": [
    {
     "name": "stdout",
     "output_type": "stream",
     "text": [
      "Closest Result:\n",
      "Document: computer chess sset story centered around man vs machine chess tournament krissschludermann tomfletcher wileywiggins patrickriester kevinbewersdorf genewilliams jimlewis colenoppenberg mylespaige geraldpeary andrewbujalski comedy computerchess austin texas usa english unitedstates\n",
      "Metadata: {'MPA': 'Not Rated', 'Movie_Link': 'https://www.imdb.com/title/tt2007360', 'awards_content': \"['Awards', '2 wins & 8 nominations total']\", 'countries_origin': \"['United States']\", 'description': 'A 1980s-set story centered around a man vs. machine chess tournament.', 'directors': \"['Andrew Bujalski']\", 'duration': 92, 'filming_locations': \"['Austin, Texas, USA']\", 'genres': \"['Comedy']\", 'gross_us_canada': '$102,041', 'gross_worldwide': '$127,852', 'languages': \"['English']\", 'meta_score': 74.0, 'opening_weekend_gross': '$9,683', 'production_companies': \"['Computer Chess']\", 'rating': 6.2, 'release_date': 0.0, 'stars': \"['Kriss Schludermann', 'Tom Fletcher', 'Wiley Wiggins', 'Patrick Riester', 'Kevin Bewersdorf', 'Gene Williams', 'Jim Lewis', 'Cole Noppenberg', 'Myles Paige', 'Gerald Peary']\", 'title': 'Computer Chess', 'votes': '4.9K', 'writers': \"['Andrew Bujalski']\", 'year': 2013}\n"
     ]
    }
   ],
   "source": [
    "print_first_result(query_chroma_and_return_results(\"chess\"))"
   ]
  },
  {
   "cell_type": "code",
   "execution_count": 20,
   "metadata": {},
   "outputs": [
    {
     "name": "stdout",
     "output_type": "stream",
     "text": [
      "Sample Documents:\n",
      "{'ids': ['tt0073195', 'tt0073629', 'tt0073486', 'tt0072890', 'tt0073692', 'tt0072081', 'tt0073026', 'tt0072653', 'tt0073812', 'tt0073802'], 'embeddings': array([[-4.34865914e-02, -1.98447611e-02, -2.05328409e-03, ...,\n",
      "        -5.92430532e-02, -2.12675054e-02, -1.71179269e-02],\n",
      "       [ 4.48427070e-03,  1.17839547e-03,  1.89930876e-03, ...,\n",
      "        -1.82261933e-02, -8.55213180e-02,  4.71108146e-02],\n",
      "       [ 1.35565074e-02,  1.17581431e-02, -7.09276572e-02, ...,\n",
      "         2.56559160e-03,  5.23506105e-03,  2.27987966e-05],\n",
      "       ...,\n",
      "       [-4.24920432e-02, -3.98332030e-02, -1.55963120e-04, ...,\n",
      "         3.94079238e-02,  7.36885667e-02, -5.30167157e-03],\n",
      "       [-1.57826189e-02, -2.90232357e-02,  7.02490611e-03, ...,\n",
      "         6.07036799e-02, -2.05494277e-02,  6.63002301e-03],\n",
      "       [-1.65203847e-02, -8.08422267e-02, -8.44811425e-02, ...,\n",
      "        -9.00533348e-02, -6.37589395e-02, -2.70972997e-02]]), 'documents': ['jaws massive killer shark unleashes chaos beach community long island local sheriff marine biologist old seafarer hunt beast royscheider robertshaw richarddreyfuss lorrainegary murrayhamilton carlgottlieb jeffreykramer susanbacklinie jonathanfilley tedgrossman stevenspielberg monsterhorror seaadventure survival adventure drama horror thriller zanuckbrownproductions universalpictures water street edgartown marthas vineyard massachusetts usa english unitedstates', 'rocky horror picture show newlyengaged couple breakdown isolated area must seek shelter bizarre residence dr franknfurter timcurry susansarandon barrybostwick richardobrien patriciaquinn nellcampbell jonathanadams peterhinwood meatloaf charlesgray jimsharman bhorror darkcomedy parody raunchycomedy rockmusical supernaturalhorror comedy horror musical twentiethcenturyfox michaelwhiteproductions oakley court windsor road oakley green windsor berkshire england uk castle exterior criminologists study brads room janets room dining room columbias room entrance hall stairs english unitedkingdom unitedstates', \"one flew cuckoo's nest fall korean war veteran criminal pleads insanity admitted mental institution rallies scared patients tyrannical nurse jacknicholson louisefletcher michaelberryman peterbrocco deanrbrooks alonzobrown scatmancrothers mwakocumbuka dannydevito williamduell milosforman medicaldrama psychologicaldrama drama fantasyfilms nvzvaluw oregon state mental hospital center street ne salem oregon usa english unitedstates\", 'dog day afternoon three amateur robbers plan hold brooklyn bank nice simple robbery walk take money run unfortunately supposedly uncomplicated heist suddenly becomes bizarre nightmare everything could go wrong alpacino johncazale penelopeallen sullyboyar beulahgarrick carolkane sandrakazan marciajeankurtz amylevitt johnmarriott sidneylumet darkcomedy heist truecrime biography crime drama thriller warnerbros artistsentertainmentcomplex prospect park west brooklyn new york city new york usa bank exterior english unitedstates', 'shampoo election day irresponsible hairdresser ladies man george roundy busy cutting hair dealing girlfriends mistress felicia karpf whose husband lester affair exgirlfriend jackie warrenbeatty juliechristie goldiehawn leegrant jackwarden tonybill georgefurth jayrobinson annweldon luanaanders halashby satire comedy drama perskybrightvista columbiapictures rubeekerfilms bowmont drive beverly hills california usa jackies house bowmont hazen english unitedstates', 'return pink panther inspector jacques clouseau put case pink panther diamond stolen phantoms trademark glove clue petersellers christopherplummer catherineschell herbertlom peterarne peterjeffrey grgoireaslan davidlodge grahamstark ericpohlmann blakeedwards farce slapstick comedy crime mystery itcfilms jewelproductions pimlicofilms palace hotel gstaad switzerland lobby scenes english unitedkingdom unitedstates', 'funny lady story singer fanny brices stormy relationship showman billy rose barbrastreisand jamescaan omarsharif roddymcdowall benvereen carolewells larrygates eugenetroobnick heidiorourke roycewallace herbertross biography comedy drama musical romance columbiapictures rastarpictures vista central station oakland california usa cleveland station fanny billy jack talk english unitedstates', 'apple dumpling gang three orphan children strike gold california billbixby susanclark donknotts timconway davidwayne slimpickens harrymorgan johnmcgiver donknight clayobrien normantokar slapstick comedy family western waltdisneyproductions bend oregon usa english unitedstates', 'tommy psychosomatically blind deaf mute boy becomes master pinball player subsequently figurehead cult rogerdaltrey annmargret oliverreed eltonjohn ericclapton johnentwistle keithmoon paulnicholas jacknicholson robertpowell kenrussell jukeboxmusical rockmusical drama musical robertstigwoodorganisationltd hemdale kings theatre albert road southsea portsmouth hampshire england uk pinball wizard scene english unitedkingdom', 'three days condor bookish cia researcher manhattan finds coworkers dead must outwit responsible figures really trust robertredford fayedunaway cliffrobertson maxvonsydow johnhouseman addisonpowell waltermcginn tinachen michaelkane donmchenry sydneypollack politicalthriller spy crime mystery thriller wildwoodenterprises dinodelaurentiiscompany east th street manhattan new york city new york usa american literary historical society english french unitedstates'], 'uris': None, 'data': None, 'metadatas': [{'MPA': 'PG', 'Movie_Link': 'https://www.imdb.com/title/tt0073195', 'awards_content': \"['Won 3 Oscars', '16 wins & 20 nominations total']\", 'budget': '$7,000,000 (estimated)', 'countries_origin': \"['United States']\", 'description': \"When a massive killer shark unleashes chaos on a beach community off Long Island, it's up to a local sheriff, a marine biologist, and an old seafarer to hunt the beast down.\", 'directors': \"['Steven Spielberg']\", 'duration': 124, 'filming_locations': '[\"Water Street, Edgartown, Martha\\'s Vineyard, Massachusetts, USA\"]', 'genres': \"['Monster Horror', 'Sea Adventure', 'Survival', 'Adventure', 'Drama', 'Horror', 'Thriller']\", 'gross_us_canada': '$267,263,625', 'gross_worldwide': '$477,916,625', 'languages': \"['English']\", 'meta_score': 87.0, 'opening_weekend_gross': '$7,061,513', 'production_companies': \"['Zanuck/Brown Productions', 'Universal Pictures']\", 'rating': 8.1, 'release_date': 1975.0, 'stars': \"['Roy Scheider', 'Robert Shaw', 'Richard Dreyfuss', 'Lorraine Gary', 'Murray Hamilton', 'Carl Gottlieb', 'Jeffrey Kramer', 'Susan Backlinie', 'Jonathan Filley', 'Ted Grossman']\", 'title': 'Jaws', 'votes': '690K', 'writers': \"['Peter Benchley', 'Carl Gottlieb']\", 'year': 1975}, {'MPA': 'R', 'Movie_Link': 'https://www.imdb.com/title/tt0073629', 'awards_content': \"['Awards', '3 wins & 4 nominations total']\", 'budget': '$1,200,000 (estimated)', 'countries_origin': \"['United Kingdom', 'United States']\", 'description': 'A newly-engaged couple have a breakdown in an isolated area and must seek shelter at the bizarre residence of Dr. Frank-n-Furter.', 'directors': \"['Jim Sharman']\", 'duration': 100, 'filming_locations': '[\"Oakley Court, Windsor Road, Oakley Green, Windsor, Berkshire, England, UK (castle exterior, criminologist\\'s study, Brad\\'s room, Janet\\'s room, dining room, Columbia\\'s room, entrance hall and stairs)\"]', 'genres': \"['B-Horror', 'Dark Comedy', 'Parody', 'Raunchy Comedy', 'Rock Musical', 'Supernatural Horror', 'Comedy', 'Horror', 'Musical']\", 'gross_us_canada': '$112,892,319', 'gross_worldwide': '$115,827,018', 'languages': \"['English']\", 'meta_score': 65.0, 'production_companies': \"['Twentieth Century Fox', 'Michael White Productions']\", 'rating': 7.4, 'release_date': 1975.0, 'stars': '[\\'Tim Curry\\', \\'Susan Sarandon\\', \\'Barry Bostwick\\', \"Richard O\\'Brien\", \\'Patricia Quinn\\', \\'Nell Campbell\\', \\'Jonathan Adams\\', \\'Peter Hinwood\\', \\'Meat Loaf\\', \\'Charles Gray\\']', 'title': 'The Rocky Horror Picture Show', 'votes': '174K', 'writers': '[\"Richard O\\'Brien\", \\'Jim Sharman\\']', 'year': 1975}, {'MPA': 'R', 'Movie_Link': 'https://www.imdb.com/title/tt0073486', 'awards_content': \"['Won 5 Oscars', '38 wins & 15 nominations total']\", 'budget': '$3,000,000 (estimated)', 'countries_origin': \"['United States']\", 'description': 'In the Fall of 1963, a Korean War veteran and criminal pleads insanity and is admitted to a mental institution, where he rallies up the scared patients against the tyrannical nurse.', 'directors': \"['Milos Forman']\", 'duration': 133, 'filming_locations': \"['Oregon State Mental Hospital - 2600 Center Street NE, Salem, Oregon, USA']\", 'genres': \"['Medical Drama', 'Psychological Drama', 'Drama']\", 'gross_us_canada': '$108,981,275', 'gross_worldwide': '$109,115,366', 'languages': \"['English']\", 'meta_score': 84.0, 'production_companies': \"['Fantasy Films', 'N.V. Zvaluw']\", 'rating': 8.7, 'release_date': 1975.0, 'stars': \"['Jack Nicholson', 'Louise Fletcher', 'Michael Berryman', 'Peter Brocco', 'Dean R. Brooks', 'Alonzo Brown', 'Scatman Crothers', 'Mwako Cumbuka', 'Danny DeVito', 'William Duell']\", 'title': \"One Flew Over the Cuckoo's Nest\", 'votes': '1.1M', 'writers': \"['Lawrence Hauben', 'Bo Goldman', 'Ken Kesey']\", 'year': 1975}, {'MPA': 'R', 'Movie_Link': 'https://www.imdb.com/title/tt0072890', 'awards_content': \"['Won 1 Oscar', '14 wins & 20 nominations total']\", 'budget': '$1,800,000 (estimated)', 'countries_origin': \"['United States']\", 'description': 'Three amateur robbers plan to hold up a Brooklyn bank. A nice, simple robbery: Walk in, take the money, and run. Unfortunately, the supposedly uncomplicated heist suddenly becomes a bizarre nightmare as everything that could go wrong does.', 'directors': \"['Sidney Lumet']\", 'duration': 125, 'filming_locations': \"['285 Prospect Park West, Brooklyn, New York City, New York, USA (Bank exterior)']\", 'genres': \"['Dark Comedy', 'Heist', 'True Crime', 'Biography', 'Crime', 'Drama', 'Thriller']\", 'gross_us_canada': '$50,000,000', 'gross_worldwide': '$50,004,527', 'languages': \"['English']\", 'meta_score': 86.0, 'production_companies': \"['Warner Bros.', 'Artists Entertainment Complex']\", 'rating': 8.0, 'release_date': 1975.0, 'stars': \"['Al Pacino', 'John Cazale', 'Penelope Allen', 'Sully Boyar', 'Beulah Garrick', 'Carol Kane', 'Sandra Kazan', 'Marcia Jean Kurtz', 'Amy Levitt', 'John Marriott']\", 'title': 'Dog Day Afternoon', 'votes': '281K', 'writers': \"['Frank Pierson', 'P.F. Kluge', 'Thomas Moore']\", 'year': 1975}, {'MPA': 'R', 'Movie_Link': 'https://www.imdb.com/title/tt0073692', 'awards_content': \"['Won 1 Oscar', '3 wins & 11 nominations total']\", 'budget': '$4,000,000 (estimated)', 'countries_origin': \"['United States']\", 'description': \"On Election Day, 1968, irresponsible hairdresser and ladies' man George Roundy is too busy cutting hair and dealing with his girlfriends and mistress Felicia Karpf, whose husband Lester is having an affair with his ex-girlfriend Jackie.\", 'directors': \"['Hal Ashby']\", 'duration': 110, 'filming_locations': '[\"2270 Bowmont Drive, Beverly Hills, California, USA (Jackie\\'s House at Bowmont & Hazen)\"]', 'genres': \"['Satire', 'Comedy', 'Drama']\", 'gross_us_canada': '$49,407,734', 'gross_worldwide': '$49,407,734', 'languages': \"['English']\", 'meta_score': 65.0, 'production_companies': \"['Persky-Bright / Vista', 'Columbia Pictures', 'Rubeeker Films']\", 'rating': 6.4, 'release_date': 1975.0, 'stars': \"['Warren Beatty', 'Julie Christie', 'Goldie Hawn', 'Lee Grant', 'Jack Warden', 'Tony Bill', 'George Furth', 'Jay Robinson', 'Ann Weldon', 'Luana Anders']\", 'title': 'Shampoo', 'votes': '15K', 'writers': \"['Robert Towne', 'Warren Beatty']\", 'year': 1975}, {'MPA': 'G', 'Movie_Link': 'https://www.imdb.com/title/tt0072081', 'awards_content': \"['Awards', '2 wins & 5 nominations total']\", 'budget': '$5,000,000 (estimated)', 'countries_origin': \"['United Kingdom', 'United States']\", 'description': \"Inspector Jacques Clouseau is put on the case when the Pink Panther diamond is stolen, with the Phantom's trademark glove the only clue.\", 'directors': \"['Blake Edwards']\", 'duration': 113, 'filming_locations': \"['Palace Hotel, Gstaad, Switzerland (lobby scenes)']\", 'genres': \"['Farce', 'Slapstick', 'Comedy', 'Crime', 'Mystery']\", 'gross_us_canada': '$41,833,347', 'gross_worldwide': '$41,833,423', 'languages': \"['English']\", 'meta_score': 61.0, 'production_companies': \"['ITC Films', 'Jewel Productions', 'Pimlico Films']\", 'rating': 7.0, 'release_date': 1975.0, 'stars': \"['Peter Sellers', 'Christopher Plummer', 'Catherine Schell', 'Herbert Lom', 'Peter Arne', 'Peter Jeffrey', 'Grégoire Aslan', 'David Lodge', 'Graham Stark', 'Eric Pohlmann']\", 'title': 'The Return of the Pink Panther', 'votes': '31K', 'writers': \"['Frank Waldman', 'Blake Edwards']\", 'year': 1975}, {'MPA': 'PG', 'Movie_Link': 'https://www.imdb.com/title/tt0073026', 'awards_content': \"['Nominated for 5 Oscars', '11 nominations total']\", 'countries_origin': \"['United States']\", 'description': \"Story of singer Fanny Brice's stormy relationship with showman Billy Rose.\", 'directors': \"['Herbert Ross']\", 'duration': 136, 'filming_locations': \"['Central Station, Oakland, California, USA (Cleveland station Fanny & Billy Jack talk)']\", 'genres': \"['Biography', 'Comedy', 'Drama', 'Musical', 'Romance']\", 'gross_us_canada': '$39,000,000', 'gross_worldwide': '$39,000,000', 'languages': \"['English']\", 'meta_score': 0.0, 'production_companies': \"['Columbia Pictures', 'Rastar Pictures', 'Vista']\", 'rating': 6.2, 'release_date': 1975.0, 'stars': '[\\'Barbra Streisand\\', \\'James Caan\\', \\'Omar Sharif\\', \\'Roddy McDowall\\', \\'Ben Vereen\\', \\'Carole Wells\\', \\'Larry Gates\\', \\'Eugene Troobnick\\', \"Heidi O\\'Rourke\", \\'Royce Wallace\\']', 'title': 'Funny Lady', 'votes': '6.1K', 'writers': \"['Jay Presson Allen', 'Arnold Schulman']\", 'year': 1975}, {'MPA': 'G', 'Movie_Link': 'https://www.imdb.com/title/tt0072653', 'awards_content': '[]', 'countries_origin': \"['United States']\", 'description': 'Three orphan children strike gold in 1878 California.', 'directors': \"['Norman Tokar']\", 'duration': 100, 'filming_locations': \"['Bend, Oregon, USA']\", 'genres': \"['Slapstick', 'Comedy', 'Family', 'Western']\", 'gross_us_canada': '$36,853,000', 'gross_worldwide': '$36,853,000', 'languages': \"['English']\", 'meta_score': 59.0, 'production_companies': \"['Walt Disney Productions']\", 'rating': 6.4, 'release_date': 1975.0, 'stars': '[\\'Bill Bixby\\', \\'Susan Clark\\', \\'Don Knotts\\', \\'Tim Conway\\', \\'David Wayne\\', \\'Slim Pickens\\', \\'Harry Morgan\\', \\'John McGiver\\', \\'Don Knight\\', \"Clay O\\'Brien\"]', 'title': 'The Apple Dumpling Gang', 'votes': '6.8K', 'writers': \"['Don Tait', 'Jack M. Bickham']\", 'year': 1975}, {'MPA': 'PG', 'Movie_Link': 'https://www.imdb.com/title/tt0073812', 'awards_content': \"['Nominated for 2 Oscars', '2 wins & 5 nominations total']\", 'budget': '$5,000,000 (estimated)', 'countries_origin': \"['United Kingdom']\", 'description': 'A psychosomatically blind, deaf, and mute boy becomes a master pinball player and, subsequently, the figurehead of a cult.', 'directors': \"['Ken Russell']\", 'duration': 111, 'filming_locations': \"['Kings Theatre, 20-24 Albert Road, Southsea, Portsmouth, Hampshire, England, UK (Pinball Wizard scene)']\", 'genres': \"['Jukebox Musical', 'Rock Musical', 'Drama', 'Musical']\", 'gross_us_canada': '$34,251,525', 'gross_worldwide': '$34,279,846', 'languages': \"['English']\", 'meta_score': 66.0, 'production_companies': \"['Robert Stigwood Organisation Ltd.', 'Hemdale']\", 'rating': 6.6, 'release_date': 1975.0, 'stars': \"['Roger Daltrey', 'Ann-Margret', 'Oliver Reed', 'Elton John', 'Eric Clapton', 'John Entwistle', 'Keith Moon', 'Paul Nicholas', 'Jack Nicholson', 'Robert Powell']\", 'title': 'Tommy', 'votes': '23K', 'writers': \"['The Who', 'Ken Russell', 'Pete Townshend']\", 'year': 1975}, {'MPA': 'R', 'Movie_Link': 'https://www.imdb.com/title/tt0073802', 'awards_content': \"['Nominated for 1 Oscar', '6 wins & 4 nominations total']\", 'budget': '$20,000,000 (estimated)', 'countries_origin': \"['United States']\", 'description': 'A bookish CIA researcher in Manhattan finds all his co-workers dead, and must outwit those responsible until he figures out who he can really trust.', 'directors': \"['Sydney Pollack']\", 'duration': 117, 'filming_locations': \"['55 East 77th Street, Manhattan, New York City, New York, USA (American Literary Historical Society)']\", 'genres': \"['Political Thriller', 'Spy', 'Crime', 'Mystery', 'Thriller']\", 'gross_us_canada': '$27,476,252', 'gross_worldwide': '$27,476,252', 'languages': \"['English', 'French']\", 'meta_score': 63.0, 'production_companies': \"['Wildwood Enterprises', 'Dino De Laurentiis Company']\", 'rating': 7.4, 'release_date': 1975.0, 'stars': \"['Robert Redford', 'Faye Dunaway', 'Cliff Robertson', 'Max von Sydow', 'John Houseman', 'Addison Powell', 'Walter McGinn', 'Tina Chen', 'Michael Kane', 'Don McHenry']\", 'title': 'Three Days of the Condor', 'votes': '65K', 'writers': \"['James Grady', 'Lorenzo Semple Jr.', 'David Rayfiel']\", 'year': 1975}], 'included': [<IncludeEnum.embeddings: 'embeddings'>, <IncludeEnum.documents: 'documents'>, <IncludeEnum.metadatas: 'metadatas'>]}\n"
     ]
    }
   ],
   "source": [
    "print(\"Sample Documents:\")\n",
    "print(collection.peek())"
   ]
  },
  {
   "cell_type": "code",
   "execution_count": 15,
   "metadata": {},
   "outputs": [],
   "source": [
    "import random"
   ]
  },
  {
   "cell_type": "code",
   "execution_count": 17,
   "metadata": {},
   "outputs": [],
   "source": [
    "def query_chroma_and_check_accuracy(query_text):\n",
    "    results = query_chroma_and_return_results(query_text,None,1)\n",
    "    if results['metadatas'] and results['metadatas'][0][0]:\n",
    "        resultant_first_title = results['metadatas'][0][0]['title']\n",
    "        print(f\"Resultant first title: {resultant_first_title}, Query Title: {query_text}\")\n",
    "        return  resultant_first_title == query_text\n",
    "    return False"
   ]
  },
  {
   "cell_type": "code",
   "execution_count": null,
   "metadata": {},
   "outputs": [],
   "source": []
  },
  {
   "cell_type": "code",
   "execution_count": 18,
   "metadata": {},
   "outputs": [],
   "source": [
    "import random\n",
    "\n",
    "def evaluate_search_accuracy_from_df(df, n_samples=20000, top_n=5, field=\"title\"):\n",
    "    if field not in df.columns:\n",
    "        print(f\"Field '{field}' not found in DataFrame.\")\n",
    "        return\n",
    "    \n",
    "    if len(df) < n_samples:\n",
    "        print(\"Not enough data to sample from.\")\n",
    "        return\n",
    "\n",
    "    sampled_df = df.sample(n=n_samples, random_state=42)\n",
    "    correct_hits = 0\n",
    "    total_checked = 0\n",
    "\n",
    "    for _, row in sampled_df.iterrows():\n",
    "        query_value = row[field]\n",
    "\n",
    "        # Only proceed if query_value is a non-empty string\n",
    "        if not isinstance(query_value, str) or not query_value.strip():\n",
    "            continue\n",
    "\n",
    "        query_text = query_value.strip()\n",
    "\n",
    "        try:\n",
    "            results = query_chroma_and_return_results(query_text, result_size=top_n)\n",
    "            if not results or 'metadatas' not in results:\n",
    "                continue\n",
    "\n",
    "            retrieved_values = [\n",
    "                str(meta.get(field, \"\")).strip().lower()\n",
    "                for meta in results[\"metadatas\"][0]\n",
    "                if field in meta\n",
    "            ]\n",
    "\n",
    "            if query_text.lower() in retrieved_values:\n",
    "                correct_hits += 1\n",
    "\n",
    "            total_checked += 1\n",
    "\n",
    "        except Exception as e:\n",
    "            print(f\"Error during match check for '{query_text}': {e}\")\n",
    "            continue\n",
    "\n",
    "    if total_checked == 0:\n",
    "        print(\"No valid records to evaluate.\")\n",
    "        return\n",
    "\n",
    "    accuracy = correct_hits / total_checked\n",
    "    print(f\"Top-{top_n} accuracy of search by '{field}': {accuracy * 100:.2f}%\")\n"
   ]
  },
  {
   "cell_type": "code",
   "execution_count": 19,
   "metadata": {},
   "outputs": [
    {
     "name": "stdout",
     "output_type": "stream",
     "text": [
      "Top-10 accuracy of search by 'title': 68.00%\n",
      "Top-10 accuracy of search by 'description': 95.74%\n"
     ]
    }
   ],
   "source": [
    "evaluate_search_accuracy_from_df(df_original, 100, 10, 'title')\n",
    "evaluate_search_accuracy_from_df(df_original, 100, 10, 'description')"
   ]
  },
  {
   "cell_type": "code",
   "execution_count": 46,
   "metadata": {},
   "outputs": [
    {
     "name": "stdout",
     "output_type": "stream",
     "text": [
      "Top-5 accuracy of search by 'title': 57.90%\n",
      "Top-5 accuracy of search by 'description': 95.04%\n"
     ]
    }
   ],
   "source": [
    "evaluate_search_accuracy_from_df(df_original,1000, 5, 'title')\n",
    "evaluate_search_accuracy_from_df(df_original,1000, 5, 'description')\n"
   ]
  },
  {
   "cell_type": "code",
   "execution_count": 47,
   "metadata": {},
   "outputs": [
    {
     "name": "stdout",
     "output_type": "stream",
     "text": [
      "Top-20 accuracy of search by 'title': 66.10%\n",
      "Top-20 accuracy of search by 'description': 95.76%\n"
     ]
    }
   ],
   "source": [
    "evaluate_search_accuracy_from_df(df_original,1000, 20, 'title')\n",
    "evaluate_search_accuracy_from_df(df_original,1000, 20, 'description')"
   ]
  },
  {
   "cell_type": "code",
   "execution_count": 48,
   "metadata": {},
   "outputs": [
    {
     "name": "stdout",
     "output_type": "stream",
     "text": [
      "Top-50 accuracy of search by 'title': 70.30%\n",
      "Top-50 accuracy of search by 'description': 95.87%\n"
     ]
    }
   ],
   "source": [
    "evaluate_search_accuracy_from_df(df_original,1000, 50, 'title')\n",
    "evaluate_search_accuracy_from_df(df_original,1000, 50, 'description')"
   ]
  }
 ],
 "metadata": {
  "kernelspec": {
   "display_name": "Python 3",
   "language": "python",
   "name": "python3"
  },
  "language_info": {
   "codemirror_mode": {
    "name": "ipython",
    "version": 3
   },
   "file_extension": ".py",
   "mimetype": "text/x-python",
   "name": "python",
   "nbconvert_exporter": "python",
   "pygments_lexer": "ipython3",
   "version": "3.13.2"
  }
 },
 "nbformat": 4,
 "nbformat_minor": 2
}
