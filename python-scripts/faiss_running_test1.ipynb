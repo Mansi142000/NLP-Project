{
 "cells": [
  {
   "cell_type": "code",
   "execution_count": 4,
   "id": "9914a493",
   "metadata": {},
   "outputs": [],
   "source": [
    "import faiss\n",
    "import pickle\n",
    "import pandas as pd\n",
    "import numpy as np\n",
    "from sentence_transformers import SentenceTransformer"
   ]
  },
  {
   "cell_type": "code",
   "execution_count": 5,
   "id": "473cce2c",
   "metadata": {},
   "outputs": [],
   "source": [
    "base_dir = \"./../faiss_embeddings1\"\n",
    "model_name = 'sentence-transformers/multi-qa-MiniLM-L6-cos-v1'"
   ]
  },
  {
   "cell_type": "code",
   "execution_count": 6,
   "id": "1d5936d5",
   "metadata": {},
   "outputs": [],
   "source": [
    "index = faiss.read_index(f\"{base_dir}/movie_index.faiss\")"
   ]
  },
  {
   "cell_type": "code",
   "execution_count": 7,
   "id": "cd323c06",
   "metadata": {},
   "outputs": [],
   "source": [
    "with open(f\"{base_dir}/movie_ids.pkl\", \"rb\") as f:\n",
    "    id_list = pickle.load(f)\n",
    "\n",
    "metadata = pd.read_csv(f\"{base_dir}/movie_metadata.csv\")\n",
    "\n",
    "model = SentenceTransformer(model_name)"
   ]
  },
  {
   "cell_type": "code",
   "execution_count": 8,
   "id": "a6bf5ee1",
   "metadata": {},
   "outputs": [],
   "source": [
    "import ast\n",
    "\n",
    "def metadata_filter(row, row_checker):\n",
    "    # Extract numeric filters with defaults\n",
    "    min_year = row_checker.get(\"min_year\", float(\"-inf\"))\n",
    "    max_year = row_checker.get(\"max_year\", float(\"inf\"))\n",
    "    min_rating = row_checker.get(\"min_rating\", float(\"-inf\"))\n",
    "    max_rating = row_checker.get(\"max_rating\", float(\"inf\"))\n",
    "    min_duration = row_checker.get(\"min_duration\", float(\"-inf\"))\n",
    "    max_duration = row_checker.get(\"max_duration\", float(\"inf\"))\n",
    "\n",
    "    # Extract list-based filters with safe defaults\n",
    "    required_genres = set(row_checker.get(\"required_genres\", []))\n",
    "    excluded_genres = set(row_checker.get(\"excluded_genres\", []))\n",
    "    required_languages = set(row_checker.get(\"required_languages\", []))\n",
    "    excluded_languages = set(row_checker.get(\"excluded_languages\", []))\n",
    "\n",
    "    # Safely parse stringified lists (e.g., \"['English']\")\n",
    "    def parse_list(cell):\n",
    "        try:\n",
    "            return set(ast.literal_eval(cell)) if isinstance(cell, str) else set(cell)\n",
    "        except (ValueError, SyntaxError):\n",
    "            return set()\n",
    "\n",
    "    # Parse numeric values safely\n",
    "    try:\n",
    "        year = int(row.get(\"year\", 0))\n",
    "        rating = float(row.get(\"rating\", 0.0))\n",
    "        duration = int(row.get(\"duration\", 0))\n",
    "    except (ValueError, TypeError):\n",
    "        return False  # Reject row on parsing error\n",
    "\n",
    "    # Range checks\n",
    "    year_check = min_year <= year <= max_year\n",
    "    rating_check = min_rating <= rating <= max_rating\n",
    "    duration_check = min_duration <= duration <= max_duration\n",
    "\n",
    "    # List checks\n",
    "    genres = parse_list(row.get(\"genres\", \"[]\"))\n",
    "    languages = parse_list(row.get(\"languages\", \"[]\"))\n",
    "\n",
    "    genre_inclusion_check = not required_genres or bool(genres & required_genres)\n",
    "    genre_exclusion_check = not (genres & excluded_genres)\n",
    "\n",
    "    language_inclusion_check = not required_languages or bool(languages & required_languages)\n",
    "    language_exclusion_check = not (languages & excluded_languages)\n",
    "\n",
    "    # Final decision\n",
    "    return (\n",
    "        year_check and\n",
    "        rating_check and\n",
    "        duration_check and\n",
    "        genre_inclusion_check and\n",
    "        genre_exclusion_check and\n",
    "        language_inclusion_check and\n",
    "        language_exclusion_check\n",
    "    )\n"
   ]
  },
  {
   "cell_type": "code",
   "execution_count": 9,
   "id": "a76e2470",
   "metadata": {},
   "outputs": [],
   "source": [
    "# === DEFINE QUERY FUNCTION WITH OFFSET LOGIC ===\n",
    "def search_movies(query, top_k=10, search_batch_size=100, row_checker={}):\n",
    "    query_embedding = model.encode([query], normalize_embeddings=True).astype(\"float32\")\n",
    "\n",
    "    results = []\n",
    "    offset = 0\n",
    "\n",
    "    while len(results) < top_k:\n",
    "        fetch_size = min(search_batch_size + offset, len(id_list))\n",
    "        D, I = index.search(query_embedding, fetch_size)\n",
    "\n",
    "        for idx in I[0][offset:]:\n",
    "            movie_id = id_list[idx]\n",
    "            row = metadata[metadata[\"id\"] == movie_id].iloc[0].to_dict()\n",
    "            if metadata_filter(row, row_checker):\n",
    "                results.append({\n",
    "                    \"id\": movie_id,\n",
    "                    \"metadata\": row\n",
    "                })\n",
    "            if len(results) == top_k:\n",
    "                break\n",
    "\n",
    "        offset += search_batch_size\n",
    "        if offset >= len(id_list):\n",
    "            break\n",
    "\n",
    "    return results\n",
    "\n",
    "\n"
   ]
  },
  {
   "cell_type": "code",
   "execution_count": 10,
   "id": "d0bec876",
   "metadata": {},
   "outputs": [
    {
     "name": "stdout",
     "output_type": "stream",
     "text": [
      "1. ID: tt0127751, Result: {'id': 'tt0127751', 'title': 'Recoil', 'year': 1998, 'duration': 96, 'MPA': 'R', 'rating': 5.3, 'votes': '765', 'meta_score': 0.0, 'description': \"A mafia Godfather exacts revenge on the policeman responsible for his son's death during a bank robbery. The officer then unleashes his fury in retaliation for the death of his family.\", 'Movie_Link': 'https://www.imdb.com/title/tt0127751', 'writers': \"['Art Camacho', 'Richard Preston Jr.']\", 'directors': \"['Art Camacho']\", 'stars': \"['Gary Daniels', 'Gregory McKinney', 'Thomas Kopache', 'Billy Maddox', 'John Sanderford', 'Robin Curtis', 'Kelli McCarty', 'Maurice Lamont', 'Richard Foronjy', 'Michael Alaimo']\", 'budget': nan, 'opening_weekend_gross': nan, 'gross_worldwide': nan, 'gross_us_canada': nan, 'release_date': 1998.0, 'countries_origin': \"['United States']\", 'filming_locations': \"['1010 S. Flower St, Los Angeles, California, USA']\", 'production_companies': \"['PM Entertainment Group']\", 'awards_content': '[]', 'genres': \"['Action']\", 'languages': \"['English']\"}\n",
      "2. ID: tt3539966, Result: {'id': 'tt3539966', 'title': 'Dishkiyaoon', 'year': 2014, 'duration': 119, 'MPA': 'Not Rated', 'rating': 5.2, 'votes': '1.1K', 'meta_score': 0.0, 'description': 'Vicky wanted to be the godfather of the Mumbai underworld. He gains everything and also loses everything. He gains respect, power, and leadership, but he loses love and friendship.', 'Movie_Link': 'https://www.imdb.com/title/tt3539966', 'writers': \"['Sanamjit Singh Talwar']\", 'directors': \"['Sanamjit Singh Talwar']\", 'stars': \"['Krishna Agarwal', 'Harman Baweja', 'Harsh Chhaya', 'Sunny Deol', 'Rajit Kapoor', 'Harsh Katara', 'Ayesha Khanna', 'Scott Milburn', 'Prashant Narayanan', 'Sumit Nijhawan']\", 'budget': nan, 'opening_weekend_gross': '$8,173', 'gross_worldwide': '$11,288', 'gross_us_canada': '$11,288', 'release_date': 2014.0, 'countries_origin': \"['India']\", 'filming_locations': \"['Worli fort, Mumbai, Maharashtra, India']\", 'production_companies': \"['Eros Worldwide', 'Essential Sports & Media']\", 'awards_content': '[]', 'genres': \"['Action', 'Thriller']\", 'languages': \"['Hindi']\"}\n",
      "3. ID: tt0084131, Result: {'id': 'tt0084131', 'title': 'In viaggio con papà', 'year': 1982, 'duration': 118, 'MPA': nan, 'rating': 6.3, 'votes': '1.4K', 'meta_score': 0.0, 'description': 'Armando is the father, Cristiano is the adult son. Each lives his life in a different way: Armando is an old playboy who often \"buys\" his women with his money; Cristiano is a shy guy who lives in a community with other guys like him. The movie proceeds to show, ironically, the different ways the father and son think, act, and treat women.', 'Movie_Link': 'https://www.imdb.com/title/tt0084131', 'writers': \"['Rodolfo Sonego', 'Alberto Sordi', 'Carlo Verdone']\", 'directors': \"['Alberto Sordi']\", 'stars': \"['Alberto Sordi', 'Carlo Verdone', 'Edy Angelillo', 'Flora Carabella', 'Ugo Bologna', 'Tiziana Pini', 'Victoria Zinny', 'Giuseppe Mannajuolo', 'Margie Newton', 'Angela Cardile']\", 'budget': nan, 'opening_weekend_gross': nan, 'gross_worldwide': nan, 'gross_us_canada': nan, 'release_date': 1982.0, 'countries_origin': \"['Italy']\", 'filming_locations': \"['Ansedonia, Orbetello, Grosseto, Tuscany, Italy']\", 'production_companies': \"['Scena Film']\", 'awards_content': \"['Awards', '1 nomination total']\", 'genres': \"['Comedy']\", 'languages': \"['Italian']\"}\n",
      "4. ID: tt0128221, Result: {'id': 'tt0128221', 'title': 'Fracchia Vs. Dracula', 'year': 1985, 'duration': 94, 'MPA': nan, 'rating': 5.8, 'votes': '1.4K', 'meta_score': 0.0, 'description': \"Fracchia is desperate: he has to sell a house within three days, or otherwise his boss will fire him. Mister Filini comes to him, but he asks the impossible, a house with at least five bathrooms for a few thousand dollars. Incredibly, they find a house, a castle in Transylvania which happens to be own by a count Vlad... Filini doesn't want to buy the castle without seeing it first, so the two of them travel to Transylvania, where they meet the count and his sister, who has a crush on Fracchia and decides to marry him! Meanwhile, the sister of a vampire hunter who was killed by Dracula is seeking to revenge her brother.\", 'Movie_Link': 'https://www.imdb.com/title/tt0128221', 'writers': \"['Franco Marotta', 'Carlo Mazzacurati', 'Neri Parenti']\", 'directors': \"['Neri Parenti']\", 'stars': \"['Paolo Villaggio', 'Edmund Purdom', 'Gigi Reder', 'Ania Pieroni', 'Federica Brion', 'Giuseppe Cederna', 'Susanna Martinková', 'Andrea Gnecco', 'Filippo De Gara', 'Paul Muller']\", 'budget': nan, 'opening_weekend_gross': nan, 'gross_worldwide': nan, 'gross_us_canada': nan, 'release_date': 1985.0, 'countries_origin': \"['Italy']\", 'filming_locations': '[\"Valle d\\'Aosta, Italy\"]', 'production_companies': \"['Faso Film', 'Maura International Films']\", 'awards_content': \"['Awards', '1 nomination total']\", 'genres': \"['Comedy', 'Horror']\", 'languages': \"['Italian']\"}\n",
      "5. ID: tt0055536, Result: {'id': 'tt0055536', 'title': 'Totò, Peppino e... la dolce vita', 'year': 1961, 'duration': 90, 'MPA': nan, 'rating': 6.5, 'votes': '469', 'meta_score': 0.0, 'description': \"Antonio Barbacane's wealthy grandfather sends him to Rome to try to corrupt politicians to shift the route of a motorway to their town to increase the land values.\", 'Movie_Link': 'https://www.imdb.com/title/tt0055536', 'writers': \"['Steno', 'Lucio Fulci', 'Bruno Corbucci']\", 'directors': \"['Sergio Corbucci']\", 'stars': \"['Totò', 'Peppino De Filippo', 'Mara Berni', 'Francesco Mulè', 'Rosalba Neri', 'Antonio Pierfederici', 'Gloria Paul', 'Peppino De Martino', 'Tania Béryl', 'Daniele Vargas']\", 'budget': nan, 'opening_weekend_gross': nan, 'gross_worldwide': nan, 'gross_us_canada': nan, 'release_date': 1961.0, 'countries_origin': \"['Italy']\", 'filming_locations': \"['Roma, Lazio, Italy']\", 'production_companies': \"['MB Film']\", 'awards_content': '[]', 'genres': \"['Satire', 'Comedy']\", 'languages': \"['Italian']\"}\n",
      "6. ID: tt0038793, Result: {'id': 'tt0038793', 'title': 'O.K. John', 'year': 1946, 'duration': 0, 'MPA': nan, 'rating': 0.0, 'votes': nan, 'meta_score': 0.0, 'description': nan, 'Movie_Link': 'https://www.imdb.com/title/tt0038793', 'writers': \"['Paolo Aiassa', 'Omero Angeli', 'Franco Atteni']\", 'directors': '[\"Giovanni d\\'Eramo\", \\'Ugo Fasano\\']', 'stars': \"['Paolo Aiassa', 'Omero Angeli', 'Franco Atteni', 'Leo Croce']\", 'budget': nan, 'opening_weekend_gross': nan, 'gross_worldwide': nan, 'gross_us_canada': nan, 'release_date': 1946.0, 'countries_origin': \"['Italy']\", 'filming_locations': '[]', 'production_companies': '[]', 'awards_content': '[]', 'genres': \"['Comedy']\", 'languages': \"['Italian']\"}\n",
      "7. ID: tt0030814, Result: {'id': 'tt0030814', 'title': 'Suspiros de España', 'year': 1939, 'duration': 100, 'MPA': nan, 'rating': 6.9, 'votes': '28', 'meta_score': 0.0, 'description': \"Soledad and her battling mother work as laundresses in Seville. When Sole's lively godfather sends a photograph of her to a musical producer, an agent is sent to seek her and she is offered a contract in la Habana. Tempting fame and fortune mix with sighs for her beloved Spain.\", 'Movie_Link': 'https://www.imdb.com/title/tt0030814', 'writers': \"['Antonio Álvarez Alonso', 'Antonio Quintero', 'Benito Perojo']\", 'directors': \"['Benito Perojo']\", 'stars': \"['Miguel Ligero', 'Estrellita Castro', 'Roberto Rey', 'Concha Catalá', 'Alberto Romea', 'Pedro Fernández Cuenca', 'Fortunato García', 'Manuel Pérez', 'José Escandel', 'Juan Calvo']\", 'budget': nan, 'opening_weekend_gross': nan, 'gross_worldwide': nan, 'gross_us_canada': nan, 'release_date': 1939.0, 'countries_origin': \"['Spain', 'Germany']\", 'filming_locations': \"['Germany']\", 'production_companies': \"['Hispano Filmproduktion']\", 'awards_content': '[]', 'genres': \"['Comedy']\", 'languages': \"['Spanish']\"}\n",
      "8. ID: tt0128266, Result: {'id': 'tt0128266', 'title': 'The Empire of Dracula', 'year': 1967, 'duration': 85, 'MPA': nan, 'rating': 5.4, 'votes': '96', 'meta_score': 0.0, 'description': 'In this partial remake of \"Dracula, Prince of Darkness,\" a handsome vampire named Draculstein is resurrected by his manservant, Igor, so that Draculstein may avenge himself against the son of the man who killed him years earlier.', 'Movie_Link': 'https://www.imdb.com/title/tt0128266', 'writers': \"['Ramón Obón', 'Luis Enrique Vergara', 'Bram Stoker']\", 'directors': \"['Federico Curiel']\", 'stars': \"['Lucha Villa', 'César del Campo', 'Eric del Castillo', 'Ethel Carrillo', 'Guillermo Zetina', 'Robin Joyce', 'Fernando Osés', 'Víctor Alcocer', 'Mario Orea', 'Rebeca Iturbide']\", 'budget': nan, 'opening_weekend_gross': nan, 'gross_worldwide': nan, 'gross_us_canada': nan, 'release_date': 1967.0, 'countries_origin': \"['Mexico']\", 'filming_locations': \"['Mexico City, Distrito Federal, Mexico']\", 'production_companies': \"['Filmica Vergara Comisiones']\", 'awards_content': '[]', 'genres': \"['Horror', 'Mystery', 'Thriller']\", 'languages': \"['Spanish']\"}\n",
      "9. ID: tt0078971, Result: {'id': 'tt0078971', 'title': 'Cicciolina amore mio', 'year': 1979, 'duration': 85, 'MPA': nan, 'rating': 4.3, 'votes': '140', 'meta_score': 0.0, 'description': 'Cicciolina (Ilona Staller) stars in this film which is the first showcase of this future Italian porn star and politician. One man, Riccardino, obsesses over her and it begins to effect his relationship with his girlfriend. Cicciolina though helps bring the 2 together in order for them to experience the ultimate sexual experience.', 'Movie_Link': 'https://www.imdb.com/title/tt0078971', 'writers': \"['Amasi Damiani', 'Riccardo Schicchi']\", 'directors': \"['Amasi Damiani', 'Bruno Mattei', 'Riccardo Schicchi']\", 'stars': \"['Ilona Staller', 'Patrizia Basso', 'Giancarlo Marinangeli', 'Paola Ludovica Barbanera', 'Enrico Bessieres', 'Tina Capecchi', 'Ciro Cefaro', 'Charlie Cho', 'Claudio Vacca', 'Thordis Rubivi Wende']\", 'budget': nan, 'opening_weekend_gross': nan, 'gross_worldwide': nan, 'gross_us_canada': nan, 'release_date': 1979.0, 'countries_origin': \"['Italy']\", 'filming_locations': '[]', 'production_companies': \"['Elea Cinematografica']\", 'awards_content': '[]', 'genres': \"['Comedy']\", 'languages': \"['Italian']\"}\n",
      "10. ID: tt0087653, Result: {'id': 'tt0087653', 'title': \"He's Worse Than Me\", 'year': 1985, 'duration': 108, 'MPA': nan, 'rating': 6.1, 'votes': '995', 'meta_score': 0.0, 'description': 'Leonardo and Luciano are two forty-year bachelors and holders of a company that rents vintage cars. The solid friendship goes up in smoke when Leonardo falls in love with Giovanna.', 'Movie_Link': 'https://www.imdb.com/title/tt0087653', 'writers': \"['Enrico Oldoini', 'Bernardino Zapponi']\", 'directors': \"['Enrico Oldoini']\", 'stars': \"['Adriano Celentano', 'Renato Pozzetto', 'Kelly Van der Velden', 'Sergio Renda', 'Daniel Stephen', 'Lamotte Eugene Atkins', 'Liliana Bocchi', 'Rita Catania', 'Enzo De Toma', 'Rossella Gardini']\", 'budget': nan, 'opening_weekend_gross': nan, 'gross_worldwide': nan, 'gross_us_canada': nan, 'release_date': 1985.0, 'countries_origin': \"['Italy']\", 'filming_locations': '[]', 'production_companies': \"['C.G. Silver Film']\", 'awards_content': '[]', 'genres': \"['Comedy']\", 'languages': \"['Italian']\"}\n"
     ]
    }
   ],
   "source": [
    "# === EXAMPLE USAGE ===\n",
    "results = search_movies(\"the godfather\", top_k=10, row_checker={\"excluded_genres\": [\"Drama\", \"Gangster\", \"Crime\"]})\n",
    "for i, res in enumerate(results, 1):\n",
    "    print(f\"{i}. ID: {res['id']}, Result: {res['metadata']}\")"
   ]
  },
  {
   "cell_type": "code",
   "execution_count": 13,
   "id": "9b7833f0",
   "metadata": {},
   "outputs": [],
   "source": [
    "def search_movies_dual_query_fast(\n",
    "    positive_query,\n",
    "    negative_query=None,\n",
    "    top_k=10,\n",
    "    search_batch_size=200,\n",
    "    row_checker={},\n",
    "    alpha=1.0,\n",
    "    beta=1.0\n",
    "):\n",
    "    # Encode queries\n",
    "    pos_embed = model.encode([positive_query], normalize_embeddings=True).astype(\"float32\")\n",
    "    neg_embed = None\n",
    "    if negative_query:\n",
    "        neg_embed = model.encode([negative_query], normalize_embeddings=True).astype(\"float32\")\n",
    "\n",
    "    # Search once for top-N potentially good matches\n",
    "    D_pos, I_pos = index.search(pos_embed, search_batch_size)\n",
    "\n",
    "    scored_results = []\n",
    "\n",
    "    for rank, idx in enumerate(I_pos[0]):\n",
    "        movie_id = id_list[idx]\n",
    "        row = metadata[metadata[\"id\"] == movie_id].iloc[0].to_dict()\n",
    "        if not metadata_filter(row, row_checker):\n",
    "            continue\n",
    "\n",
    "        pos_sim = float(D_pos[0][rank])\n",
    "\n",
    "        # Compute neg_sim manually if needed\n",
    "        neg_sim = 0.0\n",
    "        if neg_embed is not None:\n",
    "            embedding = index.reconstruct(int(idx))  # Fix applied here\n",
    "            neg_sim = float(np.dot(embedding, neg_embed[0]))\n",
    "\n",
    "\n",
    "        score = alpha * pos_sim - beta * neg_sim\n",
    "\n",
    "        scored_results.append({\n",
    "            \"id\": movie_id,\n",
    "            \"positive_similarity\": pos_sim,\n",
    "            \"negative_similarity\": neg_sim,\n",
    "            \"score\": score,\n",
    "            \"metadata\": row\n",
    "        })\n",
    "\n",
    "    # Sort and return top_k\n",
    "    sorted_results = sorted(scored_results, key=lambda x: x[\"score\"], reverse=True)\n",
    "    return sorted_results[:top_k]\n"
   ]
  },
  {
   "cell_type": "code",
   "execution_count": 14,
   "id": "c3547b4e",
   "metadata": {},
   "outputs": [],
   "source": [
    "results = search_movies_dual_query_fast(\n",
    "    positive_query=\"spiderman\",\n",
    "    negative_query=\"tom holland\",\n",
    "    top_k=10,\n",
    "    row_checker={},\n",
    "    search_batch_size = 100,\n",
    "    alpha=1.0,\n",
    "    beta=1.0\n",
    ")\n"
   ]
  },
  {
   "cell_type": "code",
   "execution_count": 15,
   "id": "071bd00c",
   "metadata": {},
   "outputs": [
    {
     "name": "stdout",
     "output_type": "stream",
     "text": [
      "1. ID: tt0145487, Result: {'id': 'tt0145487', 'title': 'Spider-Man', 'year': 2002, 'duration': 121, 'MPA': 'PG-13', 'rating': 7.4, 'votes': '917K', 'meta_score': 73.0, 'description': 'After being bitten by a genetically-modified spider, a shy teenager gains spider-like abilities that he uses to fight injustice as a masked superhero and face a vengeful enemy.', 'Movie_Link': 'https://www.imdb.com/title/tt0145487', 'writers': \"['Stan Lee', 'Steve Ditko', 'David Koepp']\", 'directors': \"['Sam Raimi']\", 'stars': \"['Tobey Maguire', 'Kirsten Dunst', 'Willem Dafoe', 'James Franco', 'Cliff Robertson', 'Rosemary Harris', 'J.K. Simmons', 'Joe Manganiello', 'Gerry Becker', 'Bill Nunn']\", 'budget': '$139,000,000 (estimated)', 'opening_weekend_gross': '$114,844,116', 'gross_worldwide': '$825,802,095', 'gross_us_canada': '$407,774,549', 'release_date': 2002.0, 'countries_origin': \"['United States']\", 'filming_locations': \"['Queensboro Bridge, Manhattan, New York City, New York, USA']\", 'production_companies': \"['Columbia Pictures', 'Marvel Enterprises', 'Laura Ziskin Productions']\", 'awards_content': \"['Nominated for 2 Oscars', '17 wins & 65 nominations total']\", 'genres': \"['Superhero', 'Urban Adventure', 'Action', 'Adventure', 'Sci-Fi']\", 'languages': \"['English']\"}\n",
      "2. ID: tt4633694, Result: {'id': 'tt4633694', 'title': 'Spider-Man: Into the Spider-Verse', 'year': 2018, 'duration': 117, 'MPA': 'PG', 'rating': 8.4, 'votes': '723K', 'meta_score': 87.0, 'description': 'Teen Miles Morales becomes the Spider-Man of his universe and must join with five spider-powered individuals from other dimensions to stop a threat for all realities.', 'Movie_Link': 'https://www.imdb.com/title/tt4633694', 'writers': \"['Phil Lord', 'Rodney Rothman']\", 'directors': \"['Bob Persichetti', 'Peter Ramsey', 'Rodney Rothman']\", 'stars': \"['Shameik Moore', 'Jake Johnson', 'Hailee Steinfeld', 'Mahershala Ali', 'Brian Tyree Henry', 'Lily Tomlin', 'Luna Lauren Velez', 'Zoë Kravitz', 'John Mulaney', 'Kimiko Glenn']\", 'budget': '$90,000,000 (estimated)', 'opening_weekend_gross': '$35,363,376', 'gross_worldwide': '$393,602,435', 'gross_us_canada': '$190,241,310', 'release_date': 0.0, 'countries_origin': \"['Canada', 'United States']\", 'filming_locations': '[]', 'production_companies': \"['Columbia Pictures', 'Marvel Entertainment', 'Avi Arad Productions']\", 'awards_content': \"['Won 1 Oscar', '85 wins & 61 nominations total']\", 'genres': \"['Computer Animation', 'Superhero', 'Supernatural Fantasy', 'Teen Adventure', 'Teen Comedy', 'Urban Adventure', 'Action', 'Adventure', 'Animation', 'Comedy']\", 'languages': \"['English', 'Spanish']\"}\n",
      "3. ID: tt0030779, Result: {'id': 'tt0030779', 'title': \"The Spider's Web\", 'year': 1938, 'duration': 300, 'MPA': 'Approved', 'rating': 6.8, 'votes': '177', 'meta_score': 0.0, 'description': 'A crime fighter known as The Spider battles a villain called The Octopus, who is out to sabotage America and install his own government.', 'Movie_Link': 'https://www.imdb.com/title/tt0030779', 'writers': \"['Robert E. Kent', 'George H. Plympton', 'Basil Dickey']\", 'directors': \"['James W. Horne', 'Ray Taylor']\", 'stars': \"['Warren Hull', 'Iris Meredith', 'Richard Fiske', 'Kenne Duncan', 'Forbes Murray', 'Donald Douglas', 'Marc Lawrence', 'Charles C. Wilson', 'John Tyrrell', 'Eugene Anderson Jr.']\", 'budget': nan, 'opening_weekend_gross': nan, 'gross_worldwide': nan, 'gross_us_canada': nan, 'release_date': 1938.0, 'countries_origin': \"['United States']\", 'filming_locations': '[]', 'production_companies': \"['Columbia Pictures']\", 'awards_content': '[]', 'genres': \"['Superhero', 'Action', 'Crime', 'Drama']\", 'languages': \"['English']\"}\n",
      "4. ID: tt0948470, Result: {'id': 'tt0948470', 'title': 'The Amazing Spider-Man', 'year': 2012, 'duration': 136, 'MPA': 'PG-13', 'rating': 6.9, 'votes': '729K', 'meta_score': 66.0, 'description': 'After Peter Parker is bitten by a genetically altered spider, he gains newfound, spider-like powers and ventures out to save the city from the machinations of a mysterious reptilian foe.', 'Movie_Link': 'https://www.imdb.com/title/tt0948470', 'writers': \"['James Vanderbilt', 'Alvin Sargent', 'Steve Kloves']\", 'directors': \"['Marc Webb']\", 'stars': \"['Andrew Garfield', 'Emma Stone', 'Rhys Ifans', 'Irrfan Khan', 'Denis Leary', 'Martin Sheen', 'Sally Field', 'Campbell Scott', 'Embeth Davidtz', 'Chris Zylka']\", 'budget': '$230,000,000 (estimated)', 'opening_weekend_gross': '$62,004,688', 'gross_worldwide': '$758,707,722', 'gross_us_canada': '$262,782,352', 'release_date': 2012.0, 'countries_origin': \"['United States']\", 'filming_locations': \"['Universal Studios Hollywood - 1000 Universal Studios Blvd, Universal City, California, USA (New York Street)']\", 'production_companies': \"['Columbia Pictures', 'Marvel Entertainment', 'Laura Ziskin Productions']\", 'awards_content': \"['Awards', '2 wins & 33 nominations total']\", 'genres': \"['Superhero', 'Action', 'Sci-Fi']\", 'languages': \"['English']\"}\n",
      "5. ID: tt9362722, Result: {'id': 'tt9362722', 'title': 'Spider-Man: Across the Spider-Verse', 'year': 2023, 'duration': 140, 'MPA': 'PG', 'rating': 8.5, 'votes': '444K', 'meta_score': 86.0, 'description': 'Traveling across the multiverse, Miles Morales meets a new team of Spider-People, made up of heroes from different dimensions. But when the heroes clash over how to deal with a new threat, Miles finds himself at a crossroads.', 'Movie_Link': 'https://www.imdb.com/title/tt9362722', 'writers': \"['Phil Lord', 'Christopher Miller', 'Dave Callaham']\", 'directors': \"['Joaquim Dos Santos', 'Kemp Powers', 'Justin K. Thompson']\", 'stars': \"['Shameik Moore', 'Hailee Steinfeld', 'Brian Tyree Henry', 'Luna Lauren Velez', 'Jake Johnson', 'Oscar Isaac', 'Jason Schwartzman', 'Issa Rae', 'Daniel Kaluuya', 'Karan Soni']\", 'budget': '$150,000,000 (estimated)', 'opening_weekend_gross': '$120,663,589', 'gross_worldwide': '$690,824,738', 'gross_us_canada': '$381,593,754', 'release_date': 2023.0, 'countries_origin': \"['United States']\", 'filming_locations': '[]', 'production_companies': \"['Columbia Pictures', 'Marvel Entertainment', 'Avi Arad Productions']\", 'awards_content': \"['Nominated for 1 Oscar', '106 wins & 168 nominations total']\", 'genres': \"['Computer Animation', 'Superhero', 'Supernatural Fantasy', 'Teen Adventure', 'Urban Adventure', 'Action', 'Adventure', 'Animation', 'Family', 'Fantasy']\", 'languages': \"['English']\"}\n",
      "6. ID: tt6320628, Result: {'id': 'tt6320628', 'title': 'Spider-Man: Far from Home', 'year': 2019, 'duration': 129, 'MPA': 'PG-13', 'rating': 7.4, 'votes': '591K', 'meta_score': 69.0, 'description': 'Peter Parker, the beloved superhero Spider-Man, faces four destructive elemental monsters while on holiday in Europe. Soon, he receives help from Mysterio, a fellow hero with mysterious origins.', 'Movie_Link': 'https://www.imdb.com/title/tt6320628', 'writers': \"['Chris McKenna', 'Erik Sommers', 'Stan Lee']\", 'directors': \"['Jon Watts']\", 'stars': \"['Tom Holland', 'Samuel L. Jackson', 'Jake Gyllenhaal', 'Marisa Tomei', 'Jon Favreau', 'Zendaya', 'Jacob Batalon', 'Tony Revolori', 'Angourie Rice', 'Remy Hii']\", 'budget': '$160,000,000 (estimated)', 'opening_weekend_gross': '$92,579,212', 'gross_worldwide': '$1,132,705,055', 'gross_us_canada': '$391,283,774', 'release_date': 0.0, 'countries_origin': \"['United States', 'Czech Republic', 'Australia', 'Canada', 'Italy']\", 'filming_locations': \"['Prague, Czech Republic (the city itself, but also the Broek op Langedijk scenes)']\", 'production_companies': \"['Columbia Pictures', 'Pascal Pictures', 'Marvel Studios']\", 'awards_content': \"['Awards', '11 wins & 26 nominations total']\", 'genres': \"['Superhero', 'Supernatural Fantasy', 'Teen Comedy', 'Urban Adventure', 'Action', 'Adventure', 'Comedy', 'Fantasy', 'Sci-Fi']\", 'languages': \"['English', 'Italian', 'Czech']\"}\n",
      "7. ID: tt0203940, Result: {'id': 'tt0203940', 'title': 'Spiders', 'year': 2000, 'duration': 94, 'MPA': 'R', 'rating': 3.9, 'votes': '3.3K', 'meta_score': 0.0, 'description': 'A DNA experiment on a rare breed of spider is taking place on a NASA space shuttle, when a freak meteor shower engulfs the shuttle, causing everything to go horribly wrong.', 'Movie_Link': 'https://www.imdb.com/title/tt0203940', 'writers': \"['Boaz Davidson', 'Stephen David Brooks', 'Jace Anderson']\", 'directors': \"['Gary Jones']\", 'stars': \"['Lana Parrilla', 'Josh Green', 'Oliver Macready', 'Nick Swarts', 'Mark Phelan', 'David Carpenter', 'Leslie Zemeckis', 'Mark Totty', 'Andrew Stoddard', 'Jonathan Breck']\", 'budget': '$22,000,000 (estimated)', 'opening_weekend_gross': nan, 'gross_worldwide': nan, 'gross_us_canada': nan, 'release_date': 2000.0, 'countries_origin': \"['United States']\", 'filming_locations': \"['Camarillo, California, USA']\", 'production_companies': \"['Cobwebster Corporation', 'Millennium Films']\", 'awards_content': '[]', 'genres': \"['Space Sci-Fi', 'Horror', 'Sci-Fi', 'Thriller']\", 'languages': \"['English']\"}\n",
      "8. ID: tt0271367, Result: {'id': 'tt0271367', 'title': 'Eight Legged Freaks', 'year': 2002, 'duration': 99, 'MPA': 'PG-13', 'rating': 5.5, 'votes': '62K', 'meta_score': 53.0, 'description': 'Venomous spiders get exposed to a noxious chemical that causes them to grow to monumental proportions.', 'Movie_Link': 'https://www.imdb.com/title/tt0271367', 'writers': \"['Ellory Elkayem', 'Randy Kornfield', 'Jesse Alexander']\", 'directors': \"['Ellory Elkayem']\", 'stars': \"['David Arquette', 'Kari Wuhrer', 'Scott Terra', 'Scarlett Johansson', 'Doug E. Doug', 'Rick Overton', 'Leon Rippy', 'Matt Czuchry', 'Jay Arlen Jones', 'Eileen Ryan']\", 'budget': '$30,000,000 (estimated)', 'opening_weekend_gross': '$6,485,458', 'gross_worldwide': '$45,867,333', 'gross_us_canada': '$17,322,606', 'release_date': 2002.0, 'countries_origin': \"['United States']\", 'filming_locations': \"['Arizona, USA']\", 'production_companies': \"['Warner Bros.', 'Village Roadshow Pictures', 'NPV Entertainment']\", 'awards_content': \"['Awards', '1 nomination total']\", 'genres': \"['Kaiju', 'Action', 'Adventure', 'Comedy', 'Horror', 'Sci-Fi', 'Thriller']\", 'languages': \"['English']\"}\n",
      "9. ID: tt20112746, Result: {'id': 'tt20112746', 'title': 'Sting', 'year': 2024, 'duration': 91, 'MPA': 'R', 'rating': 5.7, 'votes': '16K', 'meta_score': 57.0, 'description': \"After raising an unnervingly talented spider in secret, 12-year-old Charlotte must face the facts about her pet-and fight for her family's survival-when the once-charming creature rapidly transforms into a giant, flesh-eating monster.\", 'Movie_Link': 'https://www.imdb.com/title/tt20112746', 'writers': \"['Kiah Roache-Turner']\", 'directors': \"['Kiah Roache-Turner']\", 'stars': \"['Noni Hazlehurst', 'Jermaine Fowler', 'Alyla Browne', 'Robyn Nevin', 'Ryan Corr', 'Kate Walsh', 'Penelope Mitchell', 'Jett Berry', 'Kade Berry', 'Silvia Colloca']\", 'budget': nan, 'opening_weekend_gross': '$825,797', 'gross_worldwide': '$2,683,672', 'gross_us_canada': '$1,124,510', 'release_date': 0.0, 'countries_origin': \"['Australia']\", 'filming_locations': \"['Sydney, New South Wales, Australia (Location)']\", 'production_companies': \"['Screen Australia', 'Screen New South Wales', 'Cumulus VFX']\", 'awards_content': \"['Awards', '1 win total']\", 'genres': \"['B-Horror', 'Dark Comedy', 'Monster Horror', 'Horror', 'Sci-Fi', 'Thriller']\", 'languages': \"['English', 'Spanish']\"}\n",
      "10. ID: tt0051570, Result: {'id': 'tt0051570', 'title': 'The Spider', 'year': 1958, 'duration': 73, 'MPA': 'Approved', 'rating': 4.7, 'votes': '3.6K', 'meta_score': 0.0, 'description': 'Teenagers from a rural community and their high school science teacher join forces to battle a giant mutant spider.', 'Movie_Link': 'https://www.imdb.com/title/tt0051570', 'writers': \"['László Görög', 'George Worthing Yates', 'Bert I. Gordon']\", 'directors': \"['Bert I. Gordon']\", 'stars': \"['Ed Kemmer', 'June Kenney', 'Eugene Persson', 'Gene Roth', 'Hal Torey', 'June Jocelyn', 'Mickey Finn', 'Sally Fraser', 'Troy Patterson', 'Skip Young']\", 'budget': nan, 'opening_weekend_gross': nan, 'gross_worldwide': nan, 'gross_us_canada': nan, 'release_date': 1958.0, 'countries_origin': \"['United States']\", 'filming_locations': \"['Bronson Caves, Bronson Canyon, Griffith Park - 4730 Crystal Springs Drive, Los Angeles, California, USA']\", 'production_companies': \"['Santa Rosa Productions']\", 'awards_content': '[]', 'genres': \"['Kaiju', 'Monster Horror', 'Family', 'Horror', 'Sci-Fi', 'Thriller']\", 'languages': \"['English']\"}\n"
     ]
    }
   ],
   "source": [
    "for i, res in enumerate(results, 1):\n",
    "    print(f\"{i}. ID: {res['id']}, Result: {res['metadata']}\")"
   ]
  },
  {
   "cell_type": "code",
   "execution_count": 16,
   "id": "4b3d6a76",
   "metadata": {},
   "outputs": [],
   "source": [
    "results = search_movies_dual_query_fast(\n",
    "    positive_query=\"spiderman tom holland\",\n",
    "    top_k=10,\n",
    "    row_checker={},\n",
    "    search_batch_size = 100,\n",
    "    alpha=1.0,\n",
    "    beta=1.0\n",
    ")"
   ]
  },
  {
   "cell_type": "code",
   "execution_count": 17,
   "id": "9da7ef97",
   "metadata": {},
   "outputs": [
    {
     "name": "stdout",
     "output_type": "stream",
     "text": [
      "1. ID: tt6320628, Result: {'id': 'tt6320628', 'title': 'Spider-Man: Far from Home', 'year': 2019, 'duration': 129, 'MPA': 'PG-13', 'rating': 7.4, 'votes': '591K', 'meta_score': 69.0, 'description': 'Peter Parker, the beloved superhero Spider-Man, faces four destructive elemental monsters while on holiday in Europe. Soon, he receives help from Mysterio, a fellow hero with mysterious origins.', 'Movie_Link': 'https://www.imdb.com/title/tt6320628', 'writers': \"['Chris McKenna', 'Erik Sommers', 'Stan Lee']\", 'directors': \"['Jon Watts']\", 'stars': \"['Tom Holland', 'Samuel L. Jackson', 'Jake Gyllenhaal', 'Marisa Tomei', 'Jon Favreau', 'Zendaya', 'Jacob Batalon', 'Tony Revolori', 'Angourie Rice', 'Remy Hii']\", 'budget': '$160,000,000 (estimated)', 'opening_weekend_gross': '$92,579,212', 'gross_worldwide': '$1,132,705,055', 'gross_us_canada': '$391,283,774', 'release_date': 0.0, 'countries_origin': \"['United States', 'Czech Republic', 'Australia', 'Canada', 'Italy']\", 'filming_locations': \"['Prague, Czech Republic (the city itself, but also the Broek op Langedijk scenes)']\", 'production_companies': \"['Columbia Pictures', 'Pascal Pictures', 'Marvel Studios']\", 'awards_content': \"['Awards', '11 wins & 26 nominations total']\", 'genres': \"['Superhero', 'Supernatural Fantasy', 'Teen Comedy', 'Urban Adventure', 'Action', 'Adventure', 'Comedy', 'Fantasy', 'Sci-Fi']\", 'languages': \"['English', 'Italian', 'Czech']\"}\n",
      "2. ID: tt10872600, Result: {'id': 'tt10872600', 'title': 'Spider-Man: No Way Home', 'year': 2021, 'duration': 148, 'MPA': 'PG-13', 'rating': 8.2, 'votes': '941K', 'meta_score': 71.0, 'description': \"With Spider-Man's identity now revealed, Peter asks Doctor Strange for help. When a spell goes wrong, dangerous foes from other worlds start to appear.\", 'Movie_Link': 'https://www.imdb.com/title/tt10872600', 'writers': \"['Chris McKenna', 'Erik Sommers', 'Stan Lee']\", 'directors': \"['Jon Watts']\", 'stars': \"['Tom Holland', 'Zendaya', 'Benedict Cumberbatch', 'Jacob Batalon', 'Jon Favreau', 'Jamie Foxx', 'Willem Dafoe', 'Alfred Molina', 'Benedict Wong', 'Tony Revolori']\", 'budget': '$200,000,000 (estimated)', 'opening_weekend_gross': '$260,138,569', 'gross_worldwide': '$1,952,732,181', 'gross_us_canada': '$814,866,759', 'release_date': 2021.0, 'countries_origin': \"['United States']\", 'filming_locations': \"['Iceland']\", 'production_companies': \"['Columbia Pictures', 'Pascal Pictures', 'Marvel Studios']\", 'awards_content': \"['Nominated for 1 Oscar', '35 wins & 71 nominations total']\", 'genres': \"['Superhero', 'Supernatural Fantasy', 'Urban Adventure', 'Action', 'Adventure', 'Fantasy', 'Sci-Fi']\", 'languages': \"['English', 'Tagalog']\"}\n",
      "3. ID: tt0316654, Result: {'id': 'tt0316654', 'title': 'Spider-Man 2', 'year': 2004, 'duration': 127, 'MPA': 'PG-13', 'rating': 7.5, 'votes': '741K', 'meta_score': 83.0, 'description': 'Peter Parker is beset with troubles in his failing personal life as he battles a former brilliant scientist named Otto Octavius.', 'Movie_Link': 'https://www.imdb.com/title/tt0316654', 'writers': \"['Stan Lee', 'Steve Ditko', 'Alfred Gough']\", 'directors': \"['Sam Raimi']\", 'stars': \"['Tobey Maguire', 'Kirsten Dunst', 'Alfred Molina', 'James Franco', 'Rosemary Harris', 'J.K. Simmons', 'Donna Murphy', 'Daniel Gillies', 'Dylan Baker', 'Bill Nunn']\", 'budget': '$200,000,000 (estimated)', 'opening_weekend_gross': '$88,156,227', 'gross_worldwide': '$784,543,400', 'gross_us_canada': '$374,337,514', 'release_date': 2004.0, 'countries_origin': \"['United States']\", 'filming_locations': \"['Spring Street Towers - 650 S. Spring Street, Downtown, Los Angeles, California, USA (bank)']\", 'production_companies': \"['Columbia Pictures', 'Marvel Enterprises', 'Laura Ziskin Productions']\", 'awards_content': \"['Won 1 Oscar', '25 wins & 60 nominations total']\", 'genres': \"['Superhero', 'Urban Adventure', 'Action', 'Adventure', 'Sci-Fi']\", 'languages': \"['English', 'Russian', 'Chinese']\"}\n",
      "4. ID: tt2250912, Result: {'id': 'tt2250912', 'title': 'Spider-Man: Homecoming', 'year': 2017, 'duration': 133, 'MPA': 'PG-13', 'rating': 7.4, 'votes': '752K', 'meta_score': 73.0, 'description': \"Peter Parker tries to stop Adrian 'The Vulture' Toomes from selling weapons made with advanced Chitauri technology while trying to balance his life as an ordinary high school student.\", 'Movie_Link': 'https://www.imdb.com/title/tt2250912', 'writers': \"['Jonathan Goldstein', 'John Francis Daley', 'Jon Watts']\", 'directors': \"['Jon Watts']\", 'stars': \"['Tom Holland', 'Michael Keaton', 'Robert Downey Jr.', 'Marisa Tomei', 'Jon Favreau', 'Gwyneth Paltrow', 'Zendaya', 'Donald Glover', 'Jacob Batalon', 'Laura Harrier']\", 'budget': '$175,000,000 (estimated)', 'opening_weekend_gross': '$117,027,503', 'gross_worldwide': '$880,960,014', 'gross_us_canada': '$334,952,829', 'release_date': 0.0, 'countries_origin': \"['United States']\", 'filming_locations': \"['Berlin, Germany']\", 'production_companies': \"['Columbia Pictures', 'Marvel Studios', 'Pascal Pictures']\", 'awards_content': \"['Awards', '8 wins & 10 nominations total']\", 'genres': \"['Superhero', 'Urban Adventure', 'Action', 'Adventure', 'Sci-Fi']\", 'languages': \"['English', 'Spanish']\"}\n",
      "5. ID: tt0948470, Result: {'id': 'tt0948470', 'title': 'The Amazing Spider-Man', 'year': 2012, 'duration': 136, 'MPA': 'PG-13', 'rating': 6.9, 'votes': '729K', 'meta_score': 66.0, 'description': 'After Peter Parker is bitten by a genetically altered spider, he gains newfound, spider-like powers and ventures out to save the city from the machinations of a mysterious reptilian foe.', 'Movie_Link': 'https://www.imdb.com/title/tt0948470', 'writers': \"['James Vanderbilt', 'Alvin Sargent', 'Steve Kloves']\", 'directors': \"['Marc Webb']\", 'stars': \"['Andrew Garfield', 'Emma Stone', 'Rhys Ifans', 'Irrfan Khan', 'Denis Leary', 'Martin Sheen', 'Sally Field', 'Campbell Scott', 'Embeth Davidtz', 'Chris Zylka']\", 'budget': '$230,000,000 (estimated)', 'opening_weekend_gross': '$62,004,688', 'gross_worldwide': '$758,707,722', 'gross_us_canada': '$262,782,352', 'release_date': 2012.0, 'countries_origin': \"['United States']\", 'filming_locations': \"['Universal Studios Hollywood - 1000 Universal Studios Blvd, Universal City, California, USA (New York Street)']\", 'production_companies': \"['Columbia Pictures', 'Marvel Entertainment', 'Laura Ziskin Productions']\", 'awards_content': \"['Awards', '2 wins & 33 nominations total']\", 'genres': \"['Superhero', 'Action', 'Sci-Fi']\", 'languages': \"['English']\"}\n",
      "6. ID: tt0413300, Result: {'id': 'tt0413300', 'title': 'Spider-Man 3', 'year': 2007, 'duration': 139, 'MPA': 'PG-13', 'rating': 6.3, 'votes': '665K', 'meta_score': 59.0, 'description': 'A strange black entity from another world bonds with Peter Parker and causes inner turmoil as he contends with new villains, temptations, and revenge.', 'Movie_Link': 'https://www.imdb.com/title/tt0413300', 'writers': \"['Sam Raimi', 'Ivan Raimi', 'Alvin Sargent']\", 'directors': \"['Sam Raimi']\", 'stars': \"['Tobey Maguire', 'Kirsten Dunst', 'Topher Grace', 'Thomas Haden Church', 'James Franco', 'Bryce Dallas Howard', 'Rosemary Harris', 'J.K. Simmons', 'James Cromwell', 'Theresa Russell']\", 'budget': '$258,000,000 (estimated)', 'opening_weekend_gross': '$151,116,516', 'gross_worldwide': '$891,679,447', 'gross_us_canada': '$337,281,992', 'release_date': 2007.0, 'countries_origin': \"['United States']\", 'filming_locations': \"['Chicago, Illinois, USA']\", 'production_companies': \"['Columbia Pictures', 'Marvel Entertainment', 'Laura Ziskin Productions']\", 'awards_content': \"['Nominated for 1 BAFTA Award', '4 wins & 44 nominations total']\", 'genres': \"['Superhero', 'Urban Adventure', 'Action', 'Adventure', 'Sci-Fi']\", 'languages': \"['English', 'French']\"}\n",
      "7. ID: tt1872181, Result: {'id': 'tt1872181', 'title': 'The Amazing Spider-Man 2', 'year': 2014, 'duration': 142, 'MPA': 'PG-13', 'rating': 6.6, 'votes': '560K', 'meta_score': 53.0, 'description': 'When New York is put under siege by Oscorp, it is up to Spider-Man to save the city he swore to protect as well as his loved ones.', 'Movie_Link': 'https://www.imdb.com/title/tt1872181', 'writers': \"['Alex Kurtzman', 'Roberto Orci', 'Jeff Pinkner']\", 'directors': \"['Marc Webb']\", 'stars': \"['Andrew Garfield', 'Emma Stone', 'Jamie Foxx', 'Paul Giamatti', 'Dane DeHaan', 'Colm Feore', 'Felicity Jones', 'Sally Field', 'Embeth Davidtz', 'Campbell Scott']\", 'budget': '$200,000,000 (estimated)', 'opening_weekend_gross': '$91,608,337', 'gross_worldwide': '$716,916,608', 'gross_us_canada': '$203,605,622', 'release_date': 2014.0, 'countries_origin': \"['United States']\", 'filming_locations': \"['Rochester, New York, USA (Sytsevich car chase)']\", 'production_companies': \"['Columbia Pictures', 'Marvel Entertainment', 'Avi Arad Productions']\", 'awards_content': \"['Awards', '4 wins & 30 nominations total']\", 'genres': \"['Superhero', 'Urban Adventure', 'Action', 'Adventure', 'Sci-Fi']\", 'languages': \"['English']\"}\n",
      "8. ID: tt0145487, Result: {'id': 'tt0145487', 'title': 'Spider-Man', 'year': 2002, 'duration': 121, 'MPA': 'PG-13', 'rating': 7.4, 'votes': '917K', 'meta_score': 73.0, 'description': 'After being bitten by a genetically-modified spider, a shy teenager gains spider-like abilities that he uses to fight injustice as a masked superhero and face a vengeful enemy.', 'Movie_Link': 'https://www.imdb.com/title/tt0145487', 'writers': \"['Stan Lee', 'Steve Ditko', 'David Koepp']\", 'directors': \"['Sam Raimi']\", 'stars': \"['Tobey Maguire', 'Kirsten Dunst', 'Willem Dafoe', 'James Franco', 'Cliff Robertson', 'Rosemary Harris', 'J.K. Simmons', 'Joe Manganiello', 'Gerry Becker', 'Bill Nunn']\", 'budget': '$139,000,000 (estimated)', 'opening_weekend_gross': '$114,844,116', 'gross_worldwide': '$825,802,095', 'gross_us_canada': '$407,774,549', 'release_date': 2002.0, 'countries_origin': \"['United States']\", 'filming_locations': \"['Queensboro Bridge, Manhattan, New York City, New York, USA']\", 'production_companies': \"['Columbia Pictures', 'Marvel Enterprises', 'Laura Ziskin Productions']\", 'awards_content': \"['Nominated for 2 Oscars', '17 wins & 65 nominations total']\", 'genres': \"['Superhero', 'Urban Adventure', 'Action', 'Adventure', 'Sci-Fi']\", 'languages': \"['English']\"}\n",
      "9. ID: tt0030779, Result: {'id': 'tt0030779', 'title': \"The Spider's Web\", 'year': 1938, 'duration': 300, 'MPA': 'Approved', 'rating': 6.8, 'votes': '177', 'meta_score': 0.0, 'description': 'A crime fighter known as The Spider battles a villain called The Octopus, who is out to sabotage America and install his own government.', 'Movie_Link': 'https://www.imdb.com/title/tt0030779', 'writers': \"['Robert E. Kent', 'George H. Plympton', 'Basil Dickey']\", 'directors': \"['James W. Horne', 'Ray Taylor']\", 'stars': \"['Warren Hull', 'Iris Meredith', 'Richard Fiske', 'Kenne Duncan', 'Forbes Murray', 'Donald Douglas', 'Marc Lawrence', 'Charles C. Wilson', 'John Tyrrell', 'Eugene Anderson Jr.']\", 'budget': nan, 'opening_weekend_gross': nan, 'gross_worldwide': nan, 'gross_us_canada': nan, 'release_date': 1938.0, 'countries_origin': \"['United States']\", 'filming_locations': '[]', 'production_companies': \"['Columbia Pictures']\", 'awards_content': '[]', 'genres': \"['Superhero', 'Action', 'Crime', 'Drama']\", 'languages': \"['English']\"}\n",
      "10. ID: tt4633694, Result: {'id': 'tt4633694', 'title': 'Spider-Man: Into the Spider-Verse', 'year': 2018, 'duration': 117, 'MPA': 'PG', 'rating': 8.4, 'votes': '723K', 'meta_score': 87.0, 'description': 'Teen Miles Morales becomes the Spider-Man of his universe and must join with five spider-powered individuals from other dimensions to stop a threat for all realities.', 'Movie_Link': 'https://www.imdb.com/title/tt4633694', 'writers': \"['Phil Lord', 'Rodney Rothman']\", 'directors': \"['Bob Persichetti', 'Peter Ramsey', 'Rodney Rothman']\", 'stars': \"['Shameik Moore', 'Jake Johnson', 'Hailee Steinfeld', 'Mahershala Ali', 'Brian Tyree Henry', 'Lily Tomlin', 'Luna Lauren Velez', 'Zoë Kravitz', 'John Mulaney', 'Kimiko Glenn']\", 'budget': '$90,000,000 (estimated)', 'opening_weekend_gross': '$35,363,376', 'gross_worldwide': '$393,602,435', 'gross_us_canada': '$190,241,310', 'release_date': 0.0, 'countries_origin': \"['Canada', 'United States']\", 'filming_locations': '[]', 'production_companies': \"['Columbia Pictures', 'Marvel Entertainment', 'Avi Arad Productions']\", 'awards_content': \"['Won 1 Oscar', '85 wins & 61 nominations total']\", 'genres': \"['Computer Animation', 'Superhero', 'Supernatural Fantasy', 'Teen Adventure', 'Teen Comedy', 'Urban Adventure', 'Action', 'Adventure', 'Animation', 'Comedy']\", 'languages': \"['English', 'Spanish']\"}\n"
     ]
    }
   ],
   "source": [
    "for i, res in enumerate(results, 1):\n",
    "    print(f\"{i}. ID: {res['id']}, Result: {res['metadata']}\")"
   ]
  },
  {
   "cell_type": "code",
   "execution_count": 18,
   "id": "3bc09b89",
   "metadata": {},
   "outputs": [],
   "source": [
    "results = search_movies_dual_query_fast(\n",
    "    positive_query=\"war ww2 brad pitt\",\n",
    "    top_k=10,\n",
    "    row_checker={},\n",
    "    search_batch_size = 100,\n",
    "    alpha=1.0,\n",
    "    beta=1.0\n",
    ")"
   ]
  },
  {
   "cell_type": "code",
   "execution_count": 19,
   "id": "36b722d6",
   "metadata": {},
   "outputs": [
    {
     "name": "stdout",
     "output_type": "stream",
     "text": [
      "1. ID: tt0040645, Result: {'id': 'tt0040645', 'title': 'Night Wind', 'year': 1948, 'duration': 68, 'MPA': 'Approved', 'rating': 0.0, 'votes': nan, 'meta_score': 0.0, 'description': \"During World War Two,Big Dan (Flame) is a K-9 dog trained in warfare, and his American soldier mast is killed by the Germans. Years later, three men show up at a hunting lodge in America, where Big Dan is a pet of the young son of the lodge-owners. One of the men is wearing a trench coat worn by the his former master's killer. Big Dan attacks the man, who is revealed as a Nazi agent, spying on a nearby Atomic project.\", 'Movie_Link': 'https://www.imdb.com/title/tt0040645', 'writers': \"['Arnold Belgard', 'Robert G. North']\", 'directors': \"['James Tinling']\", 'stars': \"['Charles Russell', 'Virginia Christine', 'Gary Gray', 'John Ridgely', 'James Burke', 'Konstantin Shayne', 'William Stelling', 'Guy Kingsford', 'Charles Lang', 'Deanna Woodruff']\", 'budget': nan, 'opening_weekend_gross': nan, 'gross_worldwide': nan, 'gross_us_canada': nan, 'release_date': 1948.0, 'countries_origin': \"['United States']\", 'filming_locations': \"['Motion Picture Center Studios - 846 N. Cahuenga Blvd., Hollywood, Los Angeles, California, USA']\", 'production_companies': \"['Sol M. Wurtzel Productions']\", 'awards_content': '[]', 'genres': \"['Adventure', 'Drama', 'War']\", 'languages': \"['English']\"}\n",
      "2. ID: tt0050356, Result: {'id': 'tt0050356', 'title': 'The Enemy Below', 'year': 1957, 'duration': 98, 'MPA': 'Approved', 'rating': 7.4, 'votes': '13K', 'meta_score': 0.0, 'description': 'During WWII an American destroyer discovers a German U-boat, and in the ensuing duel the American captain must draw upon all his experience to defeat the equally experienced German commander.', 'Movie_Link': 'https://www.imdb.com/title/tt0050356', 'writers': \"['Wendell Mayes', 'D.A. Rayner']\", 'directors': \"['Dick Powell']\", 'stars': \"['Robert Mitchum', 'Curd Jürgens', 'David Hedison', 'Theodore Bikel', 'Russell Collins', 'Kurt Kreuger', 'Frank Albertson', 'Biff Elliot', 'David Bair', 'Alfred K. Baroa']\", 'budget': '$1,910,000 (estimated)', 'opening_weekend_gross': nan, 'gross_worldwide': nan, 'gross_us_canada': nan, 'release_date': 1957.0, 'countries_origin': \"['United States']\", 'filming_locations': \"['Hawaii, USA']\", 'production_companies': \"['Twentieth Century Fox']\", 'awards_content': \"['Won 1 Oscar', '3 wins & 3 nominations total']\", 'genres': \"['Sea Adventure', 'Action', 'Adventure', 'Drama', 'Thriller', 'War']\", 'languages': \"['English', 'German']\"}\n",
      "3. ID: tt0062688, Result: {'id': 'tt0062688', 'title': 'Attack on the Iron Coast', 'year': 1968, 'duration': 89, 'MPA': 'G', 'rating': 5.5, 'votes': '817', 'meta_score': 0.0, 'description': 'During World War II, a commando leader named Major Jamie Wilson leads a group of soldiers on a suicide mission to destroy a Nazi naval stronghold on the French coast.', 'Movie_Link': 'https://www.imdb.com/title/tt0062688', 'writers': \"['Herman Hoffman', 'John C. Champion']\", 'directors': \"['Paul Wendkos']\", 'stars': \"['Lloyd Bridges', 'Andrew Keir', 'Sue Lloyd', 'Mark Eden', 'Maurice Denham', 'Glyn Owen', 'Howard Pays', 'Walter Gotell', 'John Welsh', 'George Mikell']\", 'budget': '$1,000,000 (estimated)', 'opening_weekend_gross': nan, 'gross_worldwide': nan, 'gross_us_canada': nan, 'release_date': 1968.0, 'countries_origin': \"['United Kingdom', 'United States']\", 'filming_locations': \"['Millwall Dock, Millwall, London, England, UK (French port of St. Nazaire)']\", 'production_companies': \"['Mirisch Films', 'Oakmont Productions']\", 'awards_content': '[]', 'genres': \"['War Epic', 'Action', 'Drama', 'War']\", 'languages': \"['English']\"}\n",
      "4. ID: tt0043039, Result: {'id': 'tt0043039', 'title': 'They Were Not Divided', 'year': 1950, 'duration': 102, 'MPA': 'Approved', 'rating': 6.0, 'votes': '352', 'meta_score': 0.0, 'description': 'The story of men in the Guards Armoured Division in WWII, from basic training through to battle.', 'Movie_Link': 'https://www.imdb.com/title/tt0043039', 'writers': \"['Terence Young']\", 'directors': \"['Terence Young']\", 'stars': \"['Edward Underdown', 'Ralph Clanton', 'Helen Cherry', 'Stella Andrew', 'Michael Brennan', 'Michael Trubshawe', 'Rupert Gerard', 'John Wynn', 'Desmond Llewelyn', 'Anthony Dawson']\", 'budget': nan, 'opening_weekend_gross': nan, 'gross_worldwide': nan, 'gross_us_canada': nan, 'release_date': 1950.0, 'countries_origin': \"['United Kingdom']\", 'filming_locations': '[]', 'production_companies': \"['Two Cities Films']\", 'awards_content': '[]', 'genres': \"['Drama', 'War']\", 'languages': \"['German', 'French', 'English']\"}\n",
      "5. ID: tt31434639, Result: {'id': 'tt31434639', 'title': 'Warfare', 'year': 2025, 'duration': 95, 'MPA': 'R', 'rating': 0.0, 'votes': nan, 'meta_score': 0.0, 'description': 'A platoon of Navy SEALs embark on a dangerous mission in Ramadi, Iraq, with the chaos and brotherhood of war retold through their memories of the event.', 'Movie_Link': 'https://www.imdb.com/title/tt31434639', 'writers': \"['Ray Mendoza', 'Alex Garland']\", 'directors': \"['Alex Garland', 'Ray Mendoza']\", 'stars': '[\"D\\'Pharaoh Woon-A-Tai\", \\'Will Poulter\\', \\'Cosmo Jarvis\\', \\'Joseph Quinn\\', \\'Aaron Mackenzie\\', \\'Alex Brockdorff\\', \\'Finn Bennett\\', \\'Evan Holtzman\\', \\'Michael Gandolfini\\', \\'Joe Macaulay\\']', 'budget': nan, 'opening_weekend_gross': nan, 'gross_worldwide': nan, 'gross_us_canada': nan, 'release_date': 0.0, 'countries_origin': \"['United States', 'United Kingdom']\", 'filming_locations': \"['London, England, UK']\", 'production_companies': \"['A24', 'DNA Films']\", 'awards_content': '[]', 'genres': \"['Docudrama', 'War Epic', 'Action', 'Drama', 'War']\", 'languages': \"['English']\"}\n",
      "6. ID: tt0182766, Result: {'id': 'tt0182766', 'title': 'The Battle of Britain', 'year': 1943, 'duration': 54, 'MPA': 'Not Rated', 'rating': 7.1, 'votes': '1.1K', 'meta_score': 0.0, 'description': \"The official World War II US government account of Great Britain's stand against the Nazi war machine after the Dunkirk evacuation.\", 'Movie_Link': 'https://www.imdb.com/title/tt0182766', 'writers': \"['Julius J. Epstein', 'S.K. Lauren']\", 'directors': \"['Frank Capra', 'Anthony Veiller']\", 'stars': \"['Douglas Bader', 'Arno Breker', 'Winston Churchill', 'Hermann Göring', 'Adolf Hitler', 'John B. Hughes', 'Walter Huston', 'Frieda Inescort', 'Alfred Jodl', 'Wilhelm Keitel']\", 'budget': nan, 'opening_weekend_gross': nan, 'gross_worldwide': nan, 'gross_us_canada': nan, 'release_date': 1943.0, 'countries_origin': \"['United States']\", 'filming_locations': '[]', 'production_companies': \"['U.S. War Department']\", 'awards_content': \"['Awards', '2 wins total']\", 'genres': \"['Documentary', 'History', 'War']\", 'languages': \"['English']\"}\n",
      "7. ID: tt0076102, Result: {'id': 'tt0076102', 'title': 'The Biggest Battle', 'year': 1978, 'duration': 90, 'MPA': 'PG', 'rating': 4.7, 'votes': '619', 'meta_score': 0.0, 'description': 'How World War II affected the lives of a German family and an American family, both of whom had sons and fathers fighting in the war.', 'Movie_Link': 'https://www.imdb.com/title/tt0076102', 'writers': \"['Umberto Lenzi', 'Cesare Frugoni']\", 'directors': \"['Umberto Lenzi']\", 'stars': \"['Helmut Berger', 'Samantha Eggar', 'Giuliano Gemma', 'John Huston', 'Stacy Keach', 'Ray Lovelock', 'Aldo Massasso', 'Venantino Venantini', 'Ida Galli', 'Edwige Fenech']\", 'budget': nan, 'opening_weekend_gross': nan, 'gross_worldwide': nan, 'gross_us_canada': nan, 'release_date': 1978.0, 'countries_origin': \"['Italy', 'West Germany', 'Yugoslavia']\", 'filming_locations': \"['Venice, California, USA (beach scenes)']\", 'production_companies': \"['Dania Film', 'National Cinematografica']\", 'awards_content': '[]', 'genres': \"['Drama', 'War']\", 'languages': \"['Italian', 'German', 'English']\"}\n",
      "8. ID: tt0065967, Result: {'id': 'tt0065967', 'title': 'The Last Grenade', 'year': 1970, 'duration': 94, 'MPA': 'M', 'rating': 5.3, 'votes': '252', 'meta_score': 0.0, 'description': \"Two soldiers of fortune, Harry Grigsby and Kip Thompson, used to be the best of friends when they fought side by side in the Congo. But now Kip has changed sides and Grigsby does not forgive him for what he regards as a betrayal, all the more as Thompson now turns his guns against Grigsby's troops and, accordingly, against his former friend. While he is London recovering from tuberculosis, Grigsby is assigned a new mission that he gladly accepts: to eliminate Thompson, now in Hong Kong causing tensions with neighboring China by creating border incidents.\", 'Movie_Link': 'https://www.imdb.com/title/tt0065967', 'writers': \"['Kenneth Ware', 'James Mitchell', 'John Sherlock']\", 'directors': \"['Gordon Flemyng']\", 'stars': \"['Stanley Baker', 'Alex Cord', 'Honor Blackman', 'Richard Attenborough', 'Rafer Johnson', 'Andrew Keir', 'Ray Brooks', 'Julian Glover', 'John Thaw', 'A.J. Brown']\", 'budget': nan, 'opening_weekend_gross': nan, 'gross_worldwide': nan, 'gross_us_canada': '$38,000', 'release_date': 1970.0, 'countries_origin': \"['United Kingdom']\", 'filming_locations': \"['Málaga, Málaga, Andalucía, Spain']\", 'production_companies': \"['Lockmore']\", 'awards_content': '[]', 'genres': \"['Drama', 'War']\", 'languages': \"['English']\"}\n",
      "9. ID: tt0304857, Result: {'id': 'tt0304857', 'title': 'Two Men Went to War', 'year': 2002, 'duration': 109, 'MPA': 'PG', 'rating': 6.6, 'votes': '1K', 'meta_score': 57.0, 'description': 'Comedy drama based on the true story of two British Army dentists who in 1942, eager to see action, go A.W.O.L. and invade occupied France on their own.', 'Movie_Link': 'https://www.imdb.com/title/tt0304857', 'writers': \"['Richard Everett', 'Raymond Foxall', 'Christopher Villiers']\", 'directors': \"['John Henderson']\", 'stars': '[\\'Kenneth Cranham\\', \\'Leo Bill\\', \\'Derek Jacobi\\', \\'Anthony Valentine\\', \\'James Fleet\\', \\'Richard Sutton\\', \"Anthony O\\'Donnell\", \\'Glen Davies\\', \\'Paul Bayfield\\', \\'Jason Round\\']', 'budget': nan, 'opening_weekend_gross': '$10,672', 'gross_worldwide': '$218,378', 'gross_us_canada': '$151,435', 'release_date': 2002.0, 'countries_origin': \"['United Kingdom']\", 'filming_locations': \"['Charlestown, Cornwall, England, UK (Port scenes, Pub scenes)']\", 'production_companies': \"['Ira Trattner Productions', 'Ira Trattner Productions', 'Little Wing Films']\", 'awards_content': '[]', 'genres': \"['Comedy', 'Drama', 'War']\", 'languages': \"['English']\"}\n",
      "10. ID: tt0276783, Result: {'id': 'tt0276783', 'title': 'Attack in the Pacific', 'year': 1944, 'duration': 52, 'MPA': 'Not Rated', 'rating': 6.5, 'votes': '91', 'meta_score': 0.0, 'description': 'Crusade in the Pacific is a video series that documents the fighting between the United States and Imperial Japan during and immediately after World War II.', 'Movie_Link': 'https://www.imdb.com/title/tt0276783', 'writers': '[]', 'directors': \"['Henry H. Arnold', 'Alan Brooke', 'Kai-Shek Chiang']\", 'stars': \"['Henry H. Arnold', 'Alan Brooke', 'Kai-Shek Chiang', 'Winston Churchill', 'Andrew Cunningham', 'John Dill', 'James Doolittle', 'William F. Halsey', 'Hastings Ismay', 'Ernest J. King']\", 'budget': nan, 'opening_weekend_gross': nan, 'gross_worldwide': nan, 'gross_us_canada': nan, 'release_date': 1944.0, 'countries_origin': \"['United States']\", 'filming_locations': '[]', 'production_companies': '[]', 'awards_content': '[]', 'genres': \"['Documentary', 'History', 'War']\", 'languages': \"['English']\"}\n"
     ]
    }
   ],
   "source": [
    "for i, res in enumerate(results, 1):\n",
    "    print(f\"{i}. ID: {res['id']}, Result: {res['metadata']}\")"
   ]
  }
 ],
 "metadata": {
  "kernelspec": {
   "display_name": "base",
   "language": "python",
   "name": "python3"
  },
  "language_info": {
   "codemirror_mode": {
    "name": "ipython",
    "version": 3
   },
   "file_extension": ".py",
   "mimetype": "text/x-python",
   "name": "python",
   "nbconvert_exporter": "python",
   "pygments_lexer": "ipython3",
   "version": "3.12.7"
  }
 },
 "nbformat": 4,
 "nbformat_minor": 5
}
