{
 "cells": [
  {
   "cell_type": "code",
   "execution_count": 1,
   "id": "9914a493",
   "metadata": {},
   "outputs": [],
   "source": [
    "import faiss\n",
    "import pickle\n",
    "import pandas as pd\n",
    "import numpy as np\n",
    "from sentence_transformers import SentenceTransformer"
   ]
  },
  {
   "cell_type": "code",
   "execution_count": 2,
   "id": "473cce2c",
   "metadata": {},
   "outputs": [],
   "source": [
    "base_dir = \"./../faiss_embeddings5\"\n",
    "model_name = 'sentence-transformers/all-MiniLM-L12-v2'"
   ]
  },
  {
   "cell_type": "code",
   "execution_count": 3,
   "id": "1d5936d5",
   "metadata": {},
   "outputs": [],
   "source": [
    "index = faiss.read_index(f\"{base_dir}/movie_index.faiss\")"
   ]
  },
  {
   "cell_type": "code",
   "execution_count": 4,
   "id": "cd323c06",
   "metadata": {},
   "outputs": [],
   "source": [
    "with open(f\"{base_dir}/movie_ids.pkl\", \"rb\") as f:\n",
    "    id_list = pickle.load(f)\n",
    "\n",
    "metadata = pd.read_csv(f\"{base_dir}/movie_metadata.csv\")\n",
    "\n",
    "model = SentenceTransformer(model_name)"
   ]
  },
  {
   "cell_type": "code",
   "execution_count": 5,
   "id": "a6bf5ee1",
   "metadata": {},
   "outputs": [],
   "source": [
    "import ast\n",
    "\n",
    "def metadata_filter(row, row_checker):\n",
    "    # Extract numeric filters with defaults\n",
    "    min_year = row_checker.get(\"min_year\", float(\"-inf\"))\n",
    "    max_year = row_checker.get(\"max_year\", float(\"inf\"))\n",
    "    min_rating = row_checker.get(\"min_rating\", float(\"-inf\"))\n",
    "    max_rating = row_checker.get(\"max_rating\", float(\"inf\"))\n",
    "    min_duration = row_checker.get(\"min_duration\", float(\"-inf\"))\n",
    "    max_duration = row_checker.get(\"max_duration\", float(\"inf\"))\n",
    "\n",
    "    # Extract list-based filters with safe defaults\n",
    "    required_genres = set(row_checker.get(\"required_genres\", []))\n",
    "    excluded_genres = set(row_checker.get(\"excluded_genres\", []))\n",
    "    required_languages = set(row_checker.get(\"required_languages\", []))\n",
    "    excluded_languages = set(row_checker.get(\"excluded_languages\", []))\n",
    "\n",
    "    # Safely parse stringified lists (e.g., \"['English']\")\n",
    "    def parse_list(cell):\n",
    "        try:\n",
    "            return set(ast.literal_eval(cell)) if isinstance(cell, str) else set(cell)\n",
    "        except (ValueError, SyntaxError):\n",
    "            return set()\n",
    "\n",
    "    # Parse numeric values safely\n",
    "    try:\n",
    "        year = int(row.get(\"year\", 0))\n",
    "        rating = float(row.get(\"rating\", 0.0))\n",
    "        duration = int(row.get(\"duration\", 0))\n",
    "    except (ValueError, TypeError):\n",
    "        return False  # Reject row on parsing error\n",
    "\n",
    "    # Range checks\n",
    "    year_check = min_year <= year <= max_year\n",
    "    rating_check = min_rating <= rating <= max_rating\n",
    "    duration_check = min_duration <= duration <= max_duration\n",
    "\n",
    "    # List checks\n",
    "    genres = parse_list(row.get(\"genres\", \"[]\"))\n",
    "    languages = parse_list(row.get(\"languages\", \"[]\"))\n",
    "\n",
    "    genre_inclusion_check = not required_genres or bool(genres & required_genres)\n",
    "    genre_exclusion_check = not (genres & excluded_genres)\n",
    "\n",
    "    language_inclusion_check = not required_languages or bool(languages & required_languages)\n",
    "    language_exclusion_check = not (languages & excluded_languages)\n",
    "\n",
    "    # Final decision\n",
    "    return (\n",
    "        year_check and\n",
    "        rating_check and\n",
    "        duration_check and\n",
    "        genre_inclusion_check and\n",
    "        genre_exclusion_check and\n",
    "        language_inclusion_check and\n",
    "        language_exclusion_check\n",
    "    )\n"
   ]
  },
  {
   "cell_type": "code",
   "execution_count": 6,
   "id": "a76e2470",
   "metadata": {},
   "outputs": [],
   "source": [
    "# === DEFINE QUERY FUNCTION WITH OFFSET LOGIC ===\n",
    "def search_movies(query, top_k=10, search_batch_size=100, row_checker={}):\n",
    "    query_embedding = model.encode([query], normalize_embeddings=True).astype(\"float32\")\n",
    "\n",
    "    results = []\n",
    "    offset = 0\n",
    "\n",
    "    while len(results) < top_k:\n",
    "        fetch_size = min(search_batch_size + offset, len(id_list))\n",
    "        D, I = index.search(query_embedding, fetch_size)\n",
    "\n",
    "        for idx in I[0][offset:]:\n",
    "            movie_id = id_list[idx]\n",
    "            row = metadata[metadata[\"id\"] == movie_id].iloc[0].to_dict()\n",
    "            if metadata_filter(row, row_checker):\n",
    "                results.append({\n",
    "                    \"id\": movie_id,\n",
    "                    \"metadata\": row\n",
    "                })\n",
    "            if len(results) == top_k:\n",
    "                break\n",
    "\n",
    "        offset += search_batch_size\n",
    "        if offset >= len(id_list):\n",
    "            break\n",
    "\n",
    "    return results\n",
    "\n",
    "\n"
   ]
  },
  {
   "cell_type": "code",
   "execution_count": 7,
   "id": "d0bec876",
   "metadata": {},
   "outputs": [
    {
     "name": "stdout",
     "output_type": "stream",
     "text": [
      "1. ID: tt0033434, Result: {'id': 'tt0033434', 'title': 'Brivido', 'year': 1941, 'duration': 82, 'MPA': nan, 'rating': 0.0, 'votes': nan, 'meta_score': 0.0, 'description': nan, 'Movie_Link': 'https://www.imdb.com/title/tt0033434', 'writers': \"['Mino Caudana', 'Alessandro De Stefani', 'Giacomo Gentilomo']\", 'directors': \"['Giacomo Gentilomo']\", 'stars': \"['Umberto Melnati', 'María Mercader', 'Carlo Campanini', 'Clara Calamai', 'Sandro Ruffini', 'Andrea Checchi', 'Pina Renzi', 'Ernesto Almirante', 'Nino Crisman', 'Giacomo Moschini']\", 'budget': nan, 'opening_weekend_gross': nan, 'gross_worldwide': nan, 'gross_us_canada': nan, 'release_date': 1941.0, 'countries_origin': \"['Italy']\", 'filming_locations': \"['Titanus Studios, Rome, Lazio, Italy (Studio)']\", 'production_companies': \"['Industria Cinematografica Italiana (INCINE)']\", 'awards_content': '[]', 'genres': \"['Comedy', 'Mystery', 'Thriller']\", 'languages': \"['Italian']\"}\n",
      "2. ID: tt0047986, Result: {'id': 'tt0047986', 'title': 'Destinazione Piovarolo', 'year': 1955, 'duration': 89, 'MPA': nan, 'rating': 6.9, 'votes': '362', 'meta_score': 0.0, 'description': 'Antonio La Quaglia becomes the railroader in Piovarolo during 1922 meanwhile the fascism is raising. Later he marries a jewish woman. He has career ambitions but can not reach them.', 'Movie_Link': 'https://www.imdb.com/title/tt0047986', 'writers': \"['Leonardo Benvenuti', 'Piero De Bernardi', 'Gaio Frattini']\", 'directors': \"['Domenico Paolella']\", 'stars': \"['Totò', 'Irene Cefaro', 'Marisa Merlini', 'Tina Pica', 'Ernesto Almirante', 'Arnoldo Foà', 'Enrico Viarisio', 'Fanny Landini', 'Nando Bruno', 'Mario Carotenuto']\", 'budget': nan, 'opening_weekend_gross': nan, 'gross_worldwide': nan, 'gross_us_canada': nan, 'release_date': 1955.0, 'countries_origin': \"['Italy']\", 'filming_locations': '[]', 'production_companies': \"['D.D.L.']\", 'awards_content': '[]', 'genres': \"['Comedy']\", 'languages': \"['Italian']\"}\n",
      "3. ID: tt0063486, Result: {'id': 'tt0063486', 'title': 'Una ragazza piuttosto complicata', 'year': 1969, 'duration': 100, 'MPA': nan, 'rating': 5.7, 'votes': '248', 'meta_score': 0.0, 'description': 'A young girl named Claudia, flirts with two men, and at the same time, she is also having an affair with her step-mother who doles out her inheritance money from her dead father. Is she playing all three of them to get what she wants?', 'Movie_Link': 'https://www.imdb.com/title/tt0063486', 'writers': \"['Damiano Damiani', 'Alberto Silvestri', 'Franco Verucci']\", 'directors': \"['Damiano Damiani']\", 'stars': \"['Catherine Spaak', 'Jean Sorel', 'Florinda Bolkan', 'Gabriella Boccardo', 'Gigi Proietti', 'Luigi Casellato', 'Gino Lavagetto', 'Sergio Graziani', 'Maria Luisa Bavastro', 'Franco Leo']\", 'budget': nan, 'opening_weekend_gross': nan, 'gross_worldwide': nan, 'gross_us_canada': nan, 'release_date': 1969.0, 'countries_origin': \"['Italy']\", 'filming_locations': \"['Italy']\", 'production_companies': \"['Filmena S.R.L.', 'Fono Roma']\", 'awards_content': \"['Awards', '1 win total']\", 'genres': \"['Thriller']\", 'languages': \"['Italian']\"}\n",
      "4. ID: tt0036117, Result: {'id': 'tt0036117', 'title': 'La locandiera', 'year': 1944, 'duration': 71, 'MPA': nan, 'rating': 5.7, 'votes': '12', 'meta_score': 0.0, 'description': nan, 'Movie_Link': 'https://www.imdb.com/title/tt0036117', 'writers': \"['Umberto Barbaro', 'Luigi Chiarini', 'Carlo Goldoni']\", 'directors': \"['Luigi Chiarini']\", 'stars': \"['Luisa Ferida', 'Armando Falconi', 'Osvaldo Valenti', 'Camillo Pilotto', 'Elsa De Giorgi', 'Paola Borboni', 'Olga Solbelli', 'Mario Pisu', 'Carlo Micheluzzi', 'Emilio Baldanello']\", 'budget': nan, 'opening_weekend_gross': nan, 'gross_worldwide': nan, 'gross_us_canada': nan, 'release_date': 1944.0, 'countries_origin': \"['Italy']\", 'filming_locations': \"['Centro Sperimentale di Cinematografia, Rome, Lazio, Italy (Studio)']\", 'production_companies': \"['Società Italiana Cines']\", 'awards_content': '[]', 'genres': \"['Comedy']\", 'languages': \"['Italian']\"}\n",
      "5. ID: tt0089178, Result: {'id': 'tt0089178', 'title': 'Fuga scabrosamente pericolosa', 'year': 1981, 'duration': 85, 'MPA': nan, 'rating': 5.4, 'votes': '76', 'meta_score': 0.0, 'description': 'The daughter of a rich farmer is kidnapped by a fugitive. She is raped and brutalized but finally gets her revenge.', 'Movie_Link': 'https://www.imdb.com/title/tt0089178', 'writers': \"['Franco Reggiani', 'Nello Rossati']\", 'directors': \"['Nello Rossati']\", 'stars': \"['Rodrigo Obregón', 'Eleonora Vallone', 'Franky Linero', 'Roberto Reyes', 'Humberto Arango', 'Sergio Arevalo', 'Sergio Dow', 'Norberto García', 'Jairo Gonzáles Frijol', 'Julio Lara']\", 'budget': nan, 'opening_weekend_gross': nan, 'gross_worldwide': nan, 'gross_us_canada': nan, 'release_date': 1985.0, 'countries_origin': \"['Italy', 'Colombia']\", 'filming_locations': \"['Colombia']\", 'production_companies': \"['Filmcompass Distribuzione', 'Carreta Films']\", 'awards_content': '[]', 'genres': \"['Action', 'Adventure']\", 'languages': \"['Italian']\"}\n",
      "6. ID: tt0014448, Result: {'id': 'tt0014448', 'title': 'Cage of Death', 'year': 1923, 'duration': 0, 'MPA': nan, 'rating': 0.0, 'votes': nan, 'meta_score': 0.0, 'description': nan, 'Movie_Link': 'https://www.imdb.com/title/tt0014448', 'writers': \"['Luciano Albertini', 'Albert-Francis Bertoni']\", 'directors': \"['Luciano Albertini', 'Albert-Francis Bertoni', 'Max Obal']\", 'stars': \"['Luciano Albertini', 'Lya De Putti', 'Hermann Picha', 'Heinz Sarnow', 'Gertrude Hoffman']\", 'budget': nan, 'opening_weekend_gross': nan, 'gross_worldwide': nan, 'gross_us_canada': nan, 'release_date': 1929.0, 'countries_origin': \"['United States', 'Germany']\", 'filming_locations': \"['Elbe River, Saxony-Anhalt, Germany']\", 'production_companies': \"['Albertini-Film GmbH']\", 'awards_content': '[]', 'genres': \"['Thriller']\", 'languages': \"['None', 'German']\"}\n",
      "7. ID: tt0145484, Result: {'id': 'tt0145484', 'title': 'Spaghetti a mezzanotte', 'year': 1981, 'duration': 88, 'MPA': nan, 'rating': 6.2, 'votes': '644', 'meta_score': 0.0, 'description': \"Savino La Gastra discovers his wife Celeste has a liaison with an architect: Andrea. Even if also Savino has a story with Elvira, a judge's wife, he decides anyway to ask to a mobster to kill his wife. In the mean time Celeste is organizing a surprise party for Savino's birthday, and that day things start to get complicated. First Savino kills accidentally the mafia killer in charge to kill Celeste; second his lover Elvira arrives to the party with the judge... not to mention the police and the mafia Don...\", 'Movie_Link': 'https://www.imdb.com/title/tt0145484', 'writers': \"['Franco Marotta', 'Sergio Martino', 'Laura Toscano']\", 'directors': \"['Sergio Martino']\", 'stars': \"['Barbara Bouchet', 'Lino Banfi', 'Alida Chelli', 'Teo Teocoli', 'Daniele Vargas', 'Ugo Bologna', 'Pippo Santonastaso', 'Umberto Amambrini', 'Angelo Boscariol', 'Eros Buttaglieri']\", 'budget': nan, 'opening_weekend_gross': nan, 'gross_worldwide': nan, 'gross_us_canada': nan, 'release_date': 1981.0, 'countries_origin': \"['Italy']\", 'filming_locations': \"['Asti, Piedmont, Italy']\", 'production_companies': \"['Cinematografica Alex', 'Medusa Distribuzione', 'Otaria']\", 'awards_content': '[]', 'genres': \"['Comedy']\", 'languages': \"['Italian']\"}\n",
      "8. ID: tt0056605, Result: {'id': 'tt0056605', 'title': 'Totò e Peppino divisi a Berlino', 'year': 1962, 'duration': 103, 'MPA': nan, 'rating': 6.4, 'votes': '362', 'meta_score': 0.0, 'description': 'Antonio goes to West Berlin and meets Giuseppe. But Antonio looks like Canarinis, a wanted war criminal, So the daughter of the criminal pays Antonio to impersonate him.', 'Movie_Link': 'https://www.imdb.com/title/tt0056605', 'writers': \"['Agenore Incrocci', 'Furio Scarpelli', 'Sandro Continenza']\", 'directors': \"['Giorgio Bianchi']\", 'stars': \"['Totò', 'Peppino De Filippo', 'Nadia Sanders', 'Luigi Pavese', 'Peter Dane', 'Renata Monteduro', 'Dante Maggio', 'Carlo Pisacane', 'Renato Terra', 'Robert Alda']\", 'budget': nan, 'opening_weekend_gross': nan, 'gross_worldwide': nan, 'gross_us_canada': nan, 'release_date': 1962.0, 'countries_origin': \"['Italy']\", 'filming_locations': \"['Incir De Paolis Studios, Rome, Lazio, Italy']\", 'production_companies': \"['Cineriz', 'Cinex', 'Rizzoli Film']\", 'awards_content': '[]', 'genres': \"['Comedy']\", 'languages': \"['Italian']\"}\n",
      "9. ID: tt0069997, Result: {'id': 'tt0069997', 'title': 'Donne e magia con satanasso in compagnia', 'year': 1973, 'duration': 92, 'MPA': nan, 'rating': 5.0, 'votes': '22', 'meta_score': 0.0, 'description': 'Seven sensual episodes.', 'Movie_Link': 'https://www.imdb.com/title/tt0069997', 'writers': \"['Luigi Angelo', 'Luigi Ferraro']\", 'directors': \"['Roberto Bianchi Montero']\", 'stars': \"['Dada Gallotti', 'Bruna Beani', 'Enzo Biasciucci', 'Carlo Dori', 'Antonella Dogan', 'Luciano Rossi', 'Merlene Mayer', 'Walter Pinelli', 'Giulio Adinolfi', 'Alberto Amato']\", 'budget': nan, 'opening_weekend_gross': nan, 'gross_worldwide': nan, 'gross_us_canada': nan, 'release_date': 1973.0, 'countries_origin': \"['Italy']\", 'filming_locations': '[]', 'production_companies': \"['Irpinia Cinematografica']\", 'awards_content': '[]', 'genres': \"['Comedy']\", 'languages': \"['Italian']\"}\n",
      "10. ID: tt0053340, Result: {'id': 'tt0053340', 'title': 'Uncle Was a Vampire', 'year': 1959, 'duration': 85, 'MPA': nan, 'rating': 5.0, 'votes': '390', 'meta_score': 0.0, 'description': \"A baron down on his luck has to sell his family castle to pay off his mounting debt. After the castle is turned into a hotel, he's hired as a bellboy. But all is not lost, as he discovers he has a rich uncle; unfortunately, he's a vampire.\", 'Movie_Link': 'https://www.imdb.com/title/tt0053340', 'writers': \"['Edoardo Anton', 'Mario Cecchi Gori', 'Marcello Fondato']\", 'directors': \"['Steno']\", 'stars': \"['Renato Rascel', 'Sylva Koscina', 'Lia Zoppelli', 'Kai Fischer', 'Franco Scandurra', 'Carl Wery', 'Antje Geerk', 'Federico Collino', 'Susanne Loret', 'Angelo Zanolli']\", 'budget': nan, 'opening_weekend_gross': nan, 'gross_worldwide': nan, 'gross_us_canada': nan, 'release_date': 1959.0, 'countries_origin': \"['Italy', 'France']\", 'filming_locations': \"['Castello Brown, Portofino, Genoa, Liguria, Italy']\", 'production_companies': \"['CEI', 'Incom-Montfleur', 'Maxima Film Compagnia Cinematografica']\", 'awards_content': '[]', 'genres': \"['Comedy', 'Horror']\", 'languages': \"['Italian']\"}\n"
     ]
    }
   ],
   "source": [
    "# === EXAMPLE USAGE ===\n",
    "results = search_movies(\"the godfather\", top_k=10, row_checker={\"excluded_genres\": [\"Drama\", \"Gangster\", \"Crime\"]})\n",
    "for i, res in enumerate(results, 1):\n",
    "    print(f\"{i}. ID: {res['id']}, Result: {res['metadata']}\")"
   ]
  },
  {
   "cell_type": "code",
   "execution_count": 8,
   "id": "9b7833f0",
   "metadata": {},
   "outputs": [],
   "source": [
    "def search_movies_dual_query_fast(\n",
    "    positive_query,\n",
    "    negative_query=None,\n",
    "    top_k=10,\n",
    "    search_batch_size=200,\n",
    "    row_checker={},\n",
    "    alpha=1.0,\n",
    "    beta=1.0\n",
    "):\n",
    "    # Encode queries\n",
    "    pos_embed = model.encode([positive_query], normalize_embeddings=True).astype(\"float32\")\n",
    "    neg_embed = None\n",
    "    if negative_query:\n",
    "        neg_embed = model.encode([negative_query], normalize_embeddings=True).astype(\"float32\")\n",
    "\n",
    "    # Search once for top-N potentially good matches\n",
    "    D_pos, I_pos = index.search(pos_embed, search_batch_size)\n",
    "\n",
    "    scored_results = []\n",
    "\n",
    "    for rank, idx in enumerate(I_pos[0]):\n",
    "        movie_id = id_list[idx]\n",
    "        row = metadata[metadata[\"id\"] == movie_id].iloc[0].to_dict()\n",
    "        if not metadata_filter(row, row_checker):\n",
    "            continue\n",
    "\n",
    "        pos_sim = float(D_pos[0][rank])\n",
    "\n",
    "        # Compute neg_sim manually if needed\n",
    "        neg_sim = 0.0\n",
    "        if neg_embed is not None:\n",
    "            embedding = index.reconstruct(int(idx))  # Fix applied here\n",
    "            neg_sim = float(np.dot(embedding, neg_embed[0]))\n",
    "\n",
    "\n",
    "        score = alpha * pos_sim - beta * neg_sim\n",
    "\n",
    "        scored_results.append({\n",
    "            \"id\": movie_id,\n",
    "            \"positive_similarity\": pos_sim,\n",
    "            \"negative_similarity\": neg_sim,\n",
    "            \"score\": score,\n",
    "            \"metadata\": row\n",
    "        })\n",
    "\n",
    "    # Sort and return top_k\n",
    "    sorted_results = sorted(scored_results, key=lambda x: x[\"score\"], reverse=True)\n",
    "    return sorted_results[:top_k]\n"
   ]
  },
  {
   "cell_type": "code",
   "execution_count": 9,
   "id": "c3547b4e",
   "metadata": {},
   "outputs": [],
   "source": [
    "results = search_movies_dual_query_fast(\n",
    "    positive_query=\"spiderman\",\n",
    "    negative_query=\"tom holland\",\n",
    "    top_k=10,\n",
    "    row_checker={},\n",
    "    search_batch_size = 100,\n",
    "    alpha=1.0,\n",
    "    beta=1.0\n",
    ")\n"
   ]
  },
  {
   "cell_type": "code",
   "execution_count": 10,
   "id": "071bd00c",
   "metadata": {},
   "outputs": [
    {
     "name": "stdout",
     "output_type": "stream",
     "text": [
      "1. ID: tt6320628, Result: {'id': 'tt6320628', 'title': 'Spider-Man: Far from Home', 'year': 2019, 'duration': 129, 'MPA': 'PG-13', 'rating': 7.4, 'votes': '591K', 'meta_score': 69.0, 'description': 'Peter Parker, the beloved superhero Spider-Man, faces four destructive elemental monsters while on holiday in Europe. Soon, he receives help from Mysterio, a fellow hero with mysterious origins.', 'Movie_Link': 'https://www.imdb.com/title/tt6320628', 'writers': \"['Chris McKenna', 'Erik Sommers', 'Stan Lee']\", 'directors': \"['Jon Watts']\", 'stars': \"['Tom Holland', 'Samuel L. Jackson', 'Jake Gyllenhaal', 'Marisa Tomei', 'Jon Favreau', 'Zendaya', 'Jacob Batalon', 'Tony Revolori', 'Angourie Rice', 'Remy Hii']\", 'budget': '$160,000,000 (estimated)', 'opening_weekend_gross': '$92,579,212', 'gross_worldwide': '$1,132,705,055', 'gross_us_canada': '$391,283,774', 'release_date': 0.0, 'countries_origin': \"['United States', 'Czech Republic', 'Australia', 'Canada', 'Italy']\", 'filming_locations': \"['Prague, Czech Republic (the city itself, but also the Broek op Langedijk scenes)']\", 'production_companies': \"['Columbia Pictures', 'Pascal Pictures', 'Marvel Studios']\", 'awards_content': \"['Awards', '11 wins & 26 nominations total']\", 'genres': \"['Superhero', 'Supernatural Fantasy', 'Teen Comedy', 'Urban Adventure', 'Action', 'Adventure', 'Comedy', 'Fantasy', 'Sci-Fi']\", 'languages': \"['English', 'Italian', 'Czech']\"}\n",
      "2. ID: tt4633694, Result: {'id': 'tt4633694', 'title': 'Spider-Man: Into the Spider-Verse', 'year': 2018, 'duration': 117, 'MPA': 'PG', 'rating': 8.4, 'votes': '723K', 'meta_score': 87.0, 'description': 'Teen Miles Morales becomes the Spider-Man of his universe and must join with five spider-powered individuals from other dimensions to stop a threat for all realities.', 'Movie_Link': 'https://www.imdb.com/title/tt4633694', 'writers': \"['Phil Lord', 'Rodney Rothman']\", 'directors': \"['Bob Persichetti', 'Peter Ramsey', 'Rodney Rothman']\", 'stars': \"['Shameik Moore', 'Jake Johnson', 'Hailee Steinfeld', 'Mahershala Ali', 'Brian Tyree Henry', 'Lily Tomlin', 'Luna Lauren Velez', 'Zoë Kravitz', 'John Mulaney', 'Kimiko Glenn']\", 'budget': '$90,000,000 (estimated)', 'opening_weekend_gross': '$35,363,376', 'gross_worldwide': '$393,602,435', 'gross_us_canada': '$190,241,310', 'release_date': 0.0, 'countries_origin': \"['Canada', 'United States']\", 'filming_locations': '[]', 'production_companies': \"['Columbia Pictures', 'Marvel Entertainment', 'Avi Arad Productions']\", 'awards_content': \"['Won 1 Oscar', '85 wins & 61 nominations total']\", 'genres': \"['Computer Animation', 'Superhero', 'Supernatural Fantasy', 'Teen Adventure', 'Teen Comedy', 'Urban Adventure', 'Action', 'Adventure', 'Animation', 'Comedy']\", 'languages': \"['English', 'Spanish']\"}\n",
      "3. ID: tt0030779, Result: {'id': 'tt0030779', 'title': \"The Spider's Web\", 'year': 1938, 'duration': 300, 'MPA': 'Approved', 'rating': 6.8, 'votes': '177', 'meta_score': 0.0, 'description': 'A crime fighter known as The Spider battles a villain called The Octopus, who is out to sabotage America and install his own government.', 'Movie_Link': 'https://www.imdb.com/title/tt0030779', 'writers': \"['Robert E. Kent', 'George H. Plympton', 'Basil Dickey']\", 'directors': \"['James W. Horne', 'Ray Taylor']\", 'stars': \"['Warren Hull', 'Iris Meredith', 'Richard Fiske', 'Kenne Duncan', 'Forbes Murray', 'Donald Douglas', 'Marc Lawrence', 'Charles C. Wilson', 'John Tyrrell', 'Eugene Anderson Jr.']\", 'budget': nan, 'opening_weekend_gross': nan, 'gross_worldwide': nan, 'gross_us_canada': nan, 'release_date': 1938.0, 'countries_origin': \"['United States']\", 'filming_locations': '[]', 'production_companies': \"['Columbia Pictures']\", 'awards_content': '[]', 'genres': \"['Superhero', 'Action', 'Crime', 'Drama']\", 'languages': \"['English']\"}\n",
      "4. ID: tt0241644, Result: {'id': 'tt0241644', 'title': 'Eyes of the Spider', 'year': 1998, 'duration': 83, 'MPA': nan, 'rating': 6.5, 'votes': '724', 'meta_score': 0.0, 'description': \"A man discovers a darker side of himself after exacting revenge on his daughter's killer.\", 'Movie_Link': 'https://www.imdb.com/title/tt0241644', 'writers': \"['Kiyoshi Kurosawa', 'Yôichi Nishiyama']\", 'directors': \"['Kiyoshi Kurosawa']\", 'stars': \"['Shô Aikawa', 'Duncan', 'Ren Ôsugi', 'Sadao Abe', 'Satoshi Kajiwara', 'Kumi Nakamura', 'Moe Sakura', 'Shun Sugata', 'Tarô Suwa', 'Susumu Terajima']\", 'budget': nan, 'opening_weekend_gross': nan, 'gross_worldwide': nan, 'gross_us_canada': nan, 'release_date': 1998.0, 'countries_origin': \"['Japan']\", 'filming_locations': '[]', 'production_companies': \"['Daiei Studios']\", 'awards_content': \"['Awards', '1 win total']\", 'genres': \"['Crime', 'Drama', 'Thriller']\", 'languages': \"['Japanese']\"}\n",
      "5. ID: tt9362722, Result: {'id': 'tt9362722', 'title': 'Spider-Man: Across the Spider-Verse', 'year': 2023, 'duration': 140, 'MPA': 'PG', 'rating': 8.5, 'votes': '444K', 'meta_score': 86.0, 'description': 'Traveling across the multiverse, Miles Morales meets a new team of Spider-People, made up of heroes from different dimensions. But when the heroes clash over how to deal with a new threat, Miles finds himself at a crossroads.', 'Movie_Link': 'https://www.imdb.com/title/tt9362722', 'writers': \"['Phil Lord', 'Christopher Miller', 'Dave Callaham']\", 'directors': \"['Joaquim Dos Santos', 'Kemp Powers', 'Justin K. Thompson']\", 'stars': \"['Shameik Moore', 'Hailee Steinfeld', 'Brian Tyree Henry', 'Luna Lauren Velez', 'Jake Johnson', 'Oscar Isaac', 'Jason Schwartzman', 'Issa Rae', 'Daniel Kaluuya', 'Karan Soni']\", 'budget': '$150,000,000 (estimated)', 'opening_weekend_gross': '$120,663,589', 'gross_worldwide': '$690,824,738', 'gross_us_canada': '$381,593,754', 'release_date': 2023.0, 'countries_origin': \"['United States']\", 'filming_locations': '[]', 'production_companies': \"['Columbia Pictures', 'Marvel Entertainment', 'Avi Arad Productions']\", 'awards_content': \"['Nominated for 1 Oscar', '106 wins & 168 nominations total']\", 'genres': \"['Computer Animation', 'Superhero', 'Supernatural Fantasy', 'Teen Adventure', 'Urban Adventure', 'Action', 'Adventure', 'Animation', 'Family', 'Fantasy']\", 'languages': \"['English']\"}\n",
      "6. ID: tt0948470, Result: {'id': 'tt0948470', 'title': 'The Amazing Spider-Man', 'year': 2012, 'duration': 136, 'MPA': 'PG-13', 'rating': 6.9, 'votes': '729K', 'meta_score': 66.0, 'description': 'After Peter Parker is bitten by a genetically altered spider, he gains newfound, spider-like powers and ventures out to save the city from the machinations of a mysterious reptilian foe.', 'Movie_Link': 'https://www.imdb.com/title/tt0948470', 'writers': \"['James Vanderbilt', 'Alvin Sargent', 'Steve Kloves']\", 'directors': \"['Marc Webb']\", 'stars': \"['Andrew Garfield', 'Emma Stone', 'Rhys Ifans', 'Irrfan Khan', 'Denis Leary', 'Martin Sheen', 'Sally Field', 'Campbell Scott', 'Embeth Davidtz', 'Chris Zylka']\", 'budget': '$230,000,000 (estimated)', 'opening_weekend_gross': '$62,004,688', 'gross_worldwide': '$758,707,722', 'gross_us_canada': '$262,782,352', 'release_date': 2012.0, 'countries_origin': \"['United States']\", 'filming_locations': \"['Universal Studios Hollywood - 1000 Universal Studios Blvd, Universal City, California, USA (New York Street)']\", 'production_companies': \"['Columbia Pictures', 'Marvel Entertainment', 'Laura Ziskin Productions']\", 'awards_content': \"['Awards', '2 wins & 33 nominations total']\", 'genres': \"['Superhero', 'Action', 'Sci-Fi']\", 'languages': \"['English']\"}\n",
      "7. ID: tt0145487, Result: {'id': 'tt0145487', 'title': 'Spider-Man', 'year': 2002, 'duration': 121, 'MPA': 'PG-13', 'rating': 7.4, 'votes': '917K', 'meta_score': 73.0, 'description': 'After being bitten by a genetically-modified spider, a shy teenager gains spider-like abilities that he uses to fight injustice as a masked superhero and face a vengeful enemy.', 'Movie_Link': 'https://www.imdb.com/title/tt0145487', 'writers': \"['Stan Lee', 'Steve Ditko', 'David Koepp']\", 'directors': \"['Sam Raimi']\", 'stars': \"['Tobey Maguire', 'Kirsten Dunst', 'Willem Dafoe', 'James Franco', 'Cliff Robertson', 'Rosemary Harris', 'J.K. Simmons', 'Joe Manganiello', 'Gerry Becker', 'Bill Nunn']\", 'budget': '$139,000,000 (estimated)', 'opening_weekend_gross': '$114,844,116', 'gross_worldwide': '$825,802,095', 'gross_us_canada': '$407,774,549', 'release_date': 2002.0, 'countries_origin': \"['United States']\", 'filming_locations': \"['Queensboro Bridge, Manhattan, New York City, New York, USA']\", 'production_companies': \"['Columbia Pictures', 'Marvel Enterprises', 'Laura Ziskin Productions']\", 'awards_content': \"['Nominated for 2 Oscars', '17 wins & 65 nominations total']\", 'genres': \"['Superhero', 'Urban Adventure', 'Action', 'Adventure', 'Sci-Fi']\", 'languages': \"['English']\"}\n",
      "8. ID: tt0066413, Result: {'id': 'tt0066413', 'title': \"The Spider's Stratagem\", 'year': 1970, 'duration': 100, 'MPA': nan, 'rating': 6.9, 'votes': '3.3K', 'meta_score': 0.0, 'description': 'A man returns to the place where his father was murdered and tries to find closure. But he finds himself in a similar predicament as his late father instead.', 'Movie_Link': 'https://www.imdb.com/title/tt0066413', 'writers': \"['Jorge Luis Borges', 'Marilù Parolini', 'Eduardo de Gregorio']\", 'directors': \"['Bernardo Bertolucci']\", 'stars': \"['Giulio Brogi', 'Alida Valli', 'Pippo Campanini', 'Franco Giovanelli', 'Tino Scotti', 'Allen Midgette', 'Attilio Viti']\", 'budget': nan, 'opening_weekend_gross': nan, 'gross_worldwide': nan, 'gross_us_canada': nan, 'release_date': 1970.0, 'countries_origin': \"['Italy']\", 'filming_locations': \"['Sabbioneta, Mantua, Lombardia, Italy']\", 'production_companies': \"['RAI Radiotelevisione Italiana', 'Red Film']\", 'awards_content': \"['Awards', '1 win total']\", 'genres': \"['Drama', 'Mystery']\", 'languages': \"['Italian']\"}\n",
      "9. ID: tt0073043, Result: {'id': 'tt0073043', 'title': 'The Giant Spider Invasion', 'year': 1975, 'duration': 84, 'MPA': 'PG', 'rating': 3.3, 'votes': '4.8K', 'meta_score': 0.0, 'description': 'Giant spiders from another dimension invade Wisconsin.', 'Movie_Link': 'https://www.imdb.com/title/tt0073043', 'writers': \"['Richard L. Huff', 'Robert Easton']\", 'directors': \"['Bill Rebane']\", 'stars': \"['Steve Brodie', 'Barbara Hale', 'Robert Easton', 'Leslie Parrish', 'Alan Hale Jr.', 'Bill Williams', 'Kevin Brodie', 'Diane Lee Hart', 'Tain Bodkin', 'Paul Bentzen']\", 'budget': '$300,000 (estimated)', 'opening_weekend_gross': nan, 'gross_worldwide': '$293,053', 'gross_us_canada': '$293,053', 'release_date': 1975.0, 'countries_origin': \"['United States', 'Japan']\", 'filming_locations': \"['University of Wisconsin-Stevens Point, 2100 Main Street, Stevens Point, Wisconsin, USA']\", 'production_companies': \"['Cinema Group 75', 'Sanrio Company', 'Transcentury Productions']\", 'awards_content': '[]', 'genres': \"['Horror', 'Sci-Fi']\", 'languages': \"['English']\"}\n",
      "10. ID: tt1872181, Result: {'id': 'tt1872181', 'title': 'The Amazing Spider-Man 2', 'year': 2014, 'duration': 142, 'MPA': 'PG-13', 'rating': 6.6, 'votes': '560K', 'meta_score': 53.0, 'description': 'When New York is put under siege by Oscorp, it is up to Spider-Man to save the city he swore to protect as well as his loved ones.', 'Movie_Link': 'https://www.imdb.com/title/tt1872181', 'writers': \"['Alex Kurtzman', 'Roberto Orci', 'Jeff Pinkner']\", 'directors': \"['Marc Webb']\", 'stars': \"['Andrew Garfield', 'Emma Stone', 'Jamie Foxx', 'Paul Giamatti', 'Dane DeHaan', 'Colm Feore', 'Felicity Jones', 'Sally Field', 'Embeth Davidtz', 'Campbell Scott']\", 'budget': '$200,000,000 (estimated)', 'opening_weekend_gross': '$91,608,337', 'gross_worldwide': '$716,916,608', 'gross_us_canada': '$203,605,622', 'release_date': 2014.0, 'countries_origin': \"['United States']\", 'filming_locations': \"['Rochester, New York, USA (Sytsevich car chase)']\", 'production_companies': \"['Columbia Pictures', 'Marvel Entertainment', 'Avi Arad Productions']\", 'awards_content': \"['Awards', '4 wins & 30 nominations total']\", 'genres': \"['Superhero', 'Urban Adventure', 'Action', 'Adventure', 'Sci-Fi']\", 'languages': \"['English']\"}\n"
     ]
    }
   ],
   "source": [
    "for i, res in enumerate(results, 1):\n",
    "    print(f\"{i}. ID: {res['id']}, Result: {res['metadata']}\")"
   ]
  },
  {
   "cell_type": "code",
   "execution_count": 17,
   "id": "4b3d6a76",
   "metadata": {},
   "outputs": [],
   "source": [
    "results = search_movies_dual_query_fast(\n",
    "    positive_query=\"best movies with bradd pitt\",\n",
    "    top_k=10,\n",
    "    row_checker={},\n",
    "    search_batch_size = 100,\n",
    "    alpha=1.0,\n",
    "    beta=1.0\n",
    ")"
   ]
  },
  {
   "cell_type": "code",
   "execution_count": 18,
   "id": "9da7ef97",
   "metadata": {},
   "outputs": [
    {
     "name": "stdout",
     "output_type": "stream",
     "text": [
      "1. ID: tt0035586, Result: {'id': 'tt0035586', 'title': 'The Young Mr. Pitt', 'year': 1942, 'duration': 118, 'MPA': 'Approved', 'rating': 6.7, 'votes': '462', 'meta_score': 0.0, 'description': 'This biopic tells the story of the life of Pitt The Younger, who became Prime Minister of Great Britain at the age of twenty-four.', 'Movie_Link': 'https://www.imdb.com/title/tt0035586', 'writers': \"['Viscount Castlerosse', 'Sidney Gilliat', 'Frank Launder']\", 'directors': \"['Carol Reed']\", 'stars': \"['Robert Donat', 'Geoffrey Atkins', 'Jean Cadell', 'Robert Morley', 'Phyllis Calvert', 'Raymond Lovell', 'Agnes Lauchlan', 'John Mills', 'Felix Aylmer', 'Ian McLean']\", 'budget': nan, 'opening_weekend_gross': nan, 'gross_worldwide': nan, 'gross_us_canada': nan, 'release_date': 1942.0, 'countries_origin': \"['United Kingdom']\", 'filming_locations': \"['Gaumont-British Studios, London, England, UK (studio: made at the Gaumont-British Studios, London.)']\", 'production_companies': \"['Twentieth Century-Fox Productions']\", 'awards_content': \"['Awards', '1 win total']\", 'genres': \"['Biography', 'Drama', 'Romance', 'War']\", 'languages': \"['English']\"}\n",
      "2. ID: tt0061878, Result: {'id': 'tt0061878', 'title': 'Kill Me Gently', 'year': 1967, 'duration': 93, 'MPA': 'PG', 'rating': 5.5, 'votes': '180', 'meta_score': 0.0, 'description': \"One of Tony and Brad's best with the boys on the hunt for a treasure of missing LSD that has been stolen by a criminal organization. Their quest eventually leads the boys to far-off desert oil ruins where much of the film's best action occurs. The scene where Tony hides in a bathtub with a totally naked gorgeous gal is playfully erotic.\", 'Movie_Link': 'https://www.imdb.com/title/tt0061878', 'writers': \"['Rudolf Zehetgruber', 'Paul Alfred Müller', 'Giovanni Simonelli']\", 'directors': \"['Rudolf Zehetgruber', 'Gianfranco Parolini']\", 'stars': \"['Tony Kendall', 'Brad Harris', 'Olga Schoberová', 'Christa Linder', 'Dietmar Schönherr', 'Herbert Fux', 'Sabine Sun', 'Rossella Bergamonti', 'Emilio Carrer', 'Carlo Tamberlani']\", 'budget': nan, 'opening_weekend_gross': nan, 'gross_worldwide': nan, 'gross_us_canada': nan, 'release_date': 1967.0, 'countries_origin': \"['West Germany', 'Italy', 'France', 'Lebanon', 'Hungary']\", 'filming_locations': \"['Hagia Sophia, Istanbul, Turkey']\", 'production_companies': \"['Parnass Film', 'Cinesecolo', 'Comptoir Français du Film Production (CFFP)']\", 'awards_content': '[]', 'genres': \"['Action', 'Comedy', 'Crime', 'Thriller']\", 'languages': \"['German']\"}\n",
      "3. ID: tt0053751, Result: {'id': 'tt0053751', 'title': 'Date Bait', 'year': 1960, 'duration': 72, 'MPA': 'TV-14', 'rating': 5.1, 'votes': '193', 'meta_score': 0.0, 'description': \"Brad, a troubled young man, returns home after six months in rehab. On his first night he starts a fight at a dance club with a man named Logan because he was dancing with Sue, a girl with whom Brad is in love. Brad's older brother ends the fight just to beat up Logan later himself. Although Sue's strict father is strongly against her relationship with Logan, they secretly get married in Las Vegas. Soon Brad's love turns to obsession, and at the same time he falls back into using drugs. Sue's father takes matters into his own hands.\", 'Movie_Link': 'https://www.imdb.com/title/tt0053751', 'writers': '[\"O\\'Dale Ireland\", \\'Ethelmae Wilson Page\\', \\'Robert Slaven\\']', 'directors': '[\"O\\'Dale Ireland\"]', 'stars': \"['Gary Clarke', 'Marlo Ryan', 'Dick Gering', 'Carol Dawne', 'Jon Lindon', 'John Garwood', 'Michael Bachus', 'Mildred Miller', 'Steve Ihnat', 'Chad Williams']\", 'budget': nan, 'opening_weekend_gross': nan, 'gross_worldwide': nan, 'gross_us_canada': nan, 'release_date': 1960.0, 'countries_origin': \"['United States']\", 'filming_locations': \"['Chillicothe, Missouri, USA (setting)']\", 'production_companies': \"['Marathon Pictures']\", 'awards_content': '[]', 'genres': \"['Drama']\", 'languages': \"['English']\"}\n",
      "4. ID: tt0038956, Result: {'id': 'tt0038956', 'title': 'Smooth as Silk', 'year': 1946, 'duration': 64, 'MPA': 'Approved', 'rating': 6.3, 'votes': '296', 'meta_score': 0.0, 'description': \"An attorney's fiancée neglects him for a playboy client she hopes will fund her lead role. After acquitting the wealthy playboy of manslaughter, the jealous attorney kills his uncle and plans to murder him next.\", 'Movie_Link': 'https://www.imdb.com/title/tt0038956', 'writers': \"['Florence Ryerson', 'Colin Clements', 'Dane Lussier']\", 'directors': \"['Charles Barton']\", 'stars': \"['Kent Taylor', 'Virginia Grey', 'Milburn Stone', 'John Litel', 'Jane Adams', 'Danny Morton', 'Charles Trowbridge', 'Theresa Harris', 'Harry Cheshire', 'Ralph Brooks']\", 'budget': nan, 'opening_weekend_gross': nan, 'gross_worldwide': nan, 'gross_us_canada': nan, 'release_date': 1946.0, 'countries_origin': \"['United States']\", 'filming_locations': \"['Universal Studios - 100 Universal City Plaza, Universal City, California, USA (Studio)']\", 'production_companies': \"['Universal Pictures']\", 'awards_content': '[]', 'genres': \"['Film Noir', 'Crime', 'Drama']\", 'languages': \"['English']\"}\n",
      "5. ID: tt2437548, Result: {'id': 'tt2437548', 'title': 'Goodbye to All That', 'year': 2014, 'duration': 87, 'MPA': 'Unrated', 'rating': 5.3, 'votes': '2.6K', 'meta_score': 62.0, 'description': 'When his wife unexpectedly informs him that she wants a divorce, well-meaning but oblivious husband Otto Wall finds himself thrust back into bachelorhood, where he searches for the real thing amidst a string of one night stands.', 'Movie_Link': 'https://www.imdb.com/title/tt2437548', 'writers': \"['Angus MacLachlan']\", 'directors': \"['Angus MacLachlan']\", 'stars': \"['Paul Schneider', 'Melanie Lynskey', 'Anna Camp', 'Heather Graham', 'Audrey P. Scott', 'Michael Chernus', 'Celia Weston', 'Steve Coulter', 'Robert Haulbrook', 'Amy Sedaris']\", 'budget': nan, 'opening_weekend_gross': nan, 'gross_worldwide': '$16,986', 'gross_us_canada': '$16,986', 'release_date': 2014.0, 'countries_origin': \"['United States']\", 'filming_locations': \"['Winston-Salem, North Carolina, USA (Entire film based in Winston-Salem.)']\", 'production_companies': \"['Epoch Films', 'RC Pictures']\", 'awards_content': \"['Awards', '1 win & 1 nomination total']\", 'genres': \"['Comedy', 'Drama', 'Romance']\", 'languages': \"['English']\"}\n",
      "6. ID: tt5884230, Result: {'id': 'tt5884230', 'title': \"Brad's Status\", 'year': 2017, 'duration': 102, 'MPA': 'R', 'rating': 6.5, 'votes': '20K', 'meta_score': 71.0, 'description': \"A father takes his son to tour colleges on the East Coast and meets up with an old friend who makes him feel inferior about his life's choices.\", 'Movie_Link': 'https://www.imdb.com/title/tt5884230', 'writers': \"['Mike White']\", 'directors': \"['Mike White']\", 'stars': \"['Ben Stiller', 'Austin Abrams', 'Jenna Fischer', 'Michael Sheen', 'Jemaine Clement', 'Luke Wilson', 'Shazi Raja', 'Luisa Lee', 'Mike White', 'Xavier Grobet']\", 'budget': nan, 'opening_weekend_gross': '$89,921', 'gross_worldwide': '$3,805,422', 'gross_us_canada': '$2,133,158', 'release_date': 0.0, 'countries_origin': \"['United States']\", 'filming_locations': \"['Boston, Massachusetts, USA']\", 'production_companies': \"['Amazon Studios', 'Montreal Casting', 'Plan B Entertainment']\", 'awards_content': \"['Awards', '1 win & 2 nominations total']\", 'genres': \"['Comedy', 'Drama', 'Music']\", 'languages': \"['English']\"}\n",
      "7. ID: tt0017737, Result: {'id': 'tt0017737', 'title': 'Casey Jones', 'year': 1927, 'duration': 70, 'MPA': nan, 'rating': 0.0, 'votes': nan, 'meta_score': 0.0, 'description': nan, 'Movie_Link': 'https://www.imdb.com/title/tt0017737', 'writers': \"['Arthur Hoerl', 'Richard Weil']\", 'directors': \"['Charles J. Hunt']\", 'stars': \"['Ralph Lewis', 'Kate Price', 'Al St. John', 'Jason Robards Sr.', 'Anne Sheridan', 'Brooks Benedict', 'Violet N. Cane', 'Jimmy Kane', 'Charlie Kane']\", 'budget': nan, 'opening_weekend_gross': nan, 'gross_worldwide': nan, 'gross_us_canada': nan, 'release_date': 1927.0, 'countries_origin': \"['United States']\", 'filming_locations': '[]', 'production_companies': \"['Trem Carr Pictures']\", 'awards_content': '[]', 'genres': \"['Action', 'Drama']\", 'languages': \"['None']\"}\n",
      "8. ID: tt2446042, Result: {'id': 'tt2446042', 'title': 'Taken 3', 'year': 2014, 'duration': 108, 'MPA': 'PG-13', 'rating': 6.0, 'votes': '210K', 'meta_score': 26.0, 'description': \"Framed for his ex-Wife's murder, Bryan Mills sets out to take revenge on the real killers.\", 'Movie_Link': 'https://www.imdb.com/title/tt2446042', 'writers': \"['Luc Besson', 'Robert Mark Kamen']\", 'directors': \"['Olivier Megaton']\", 'stars': \"['Liam Neeson', 'Forest Whitaker', 'Maggie Grace', 'Famke Janssen', 'Dougray Scott', 'Sam Spruell', 'Don Harvey', 'Dylan Bruno', 'Leland Orser', 'David Warshofsky']\", 'budget': '$48,000,000 (estimated)', 'opening_weekend_gross': '$39,201,657', 'gross_worldwide': '$326,479,141', 'gross_us_canada': '$89,256,424', 'release_date': 2014.0, 'countries_origin': \"['France', 'Spain', 'United States']\", 'filming_locations': \"['Atlanta, Georgia, USA (as Los Angeles)']\", 'production_companies': \"['EuropaCorp', 'M6 Films', 'Canal+']\", 'awards_content': \"['Awards', '3 wins & 3 nominations total']\", 'genres': \"['Action', 'Thriller']\", 'languages': \"['English', 'Russian']\"}\n",
      "9. ID: tt0387992, Result: {'id': 'tt0387992', 'title': 'The Last Girl', 'year': 2002, 'duration': 90, 'MPA': nan, 'rating': 5.0, 'votes': '65', 'meta_score': 0.0, 'description': nan, 'Movie_Link': 'https://www.imdb.com/title/tt0387992', 'writers': \"['Céline Guyot', 'Martin Guyot', 'Philippe Carcout']\", 'directors': \"['Benjamin Beaulieu']\", 'stars': \"['Jerome Besson', 'Clara Morgane', 'Jif', 'Gaël Sesboue', 'Rachel Guenot', 'Antoni Saint-Aubin', 'Asian Shan']\", 'budget': nan, 'opening_weekend_gross': nan, 'gross_worldwide': nan, 'gross_us_canada': nan, 'release_date': 2002.0, 'countries_origin': \"['France']\", 'filming_locations': \"['France']\", 'production_companies': \"['Kerfaroc Films']\", 'awards_content': '[]', 'genres': \"['Romance', 'Thriller']\", 'languages': \"['French']\"}\n",
      "10. ID: tt0099783, Result: {'id': 'tt0099783', 'title': 'Hollywood Hot Tubs 2: Educating Crystal', 'year': 1990, 'duration': 100, 'MPA': 'R', 'rating': 3.5, 'votes': '211', 'meta_score': 0.0, 'description': 'A rich sheik tries to steal hot tub business by marrying the owner. Her daughter and others foil the plot.', 'Movie_Link': 'https://www.imdb.com/title/tt0099783', 'writers': \"['Brent Friedman']\", 'directors': \"['Kenneth Raich']\", 'stars': '[\\'Jewel Shepard\\', \"Remy O\\'Neill\", \\'David Tiefen\\', \\'Patrick Day\\', \\'Bart Braverman\\', \\'J.P. Bumstead\\', \\'Rob Garrison\\', \\'Dayna Danika\\', \\'Martina Castle\\', \\'Michael Pataki\\']', 'budget': nan, 'opening_weekend_gross': nan, 'gross_worldwide': nan, 'gross_us_canada': nan, 'release_date': 1990.0, 'countries_origin': \"['United States']\", 'filming_locations': \"['California, USA']\", 'production_companies': \"['Alimar Productions']\", 'awards_content': '[]', 'genres': \"['Comedy']\", 'languages': \"['English']\"}\n"
     ]
    }
   ],
   "source": [
    "for i, res in enumerate(results, 1):\n",
    "    print(f\"{i}. ID: {res['id']}, Result: {res['metadata']}\")"
   ]
  }
 ],
 "metadata": {
  "kernelspec": {
   "display_name": "base",
   "language": "python",
   "name": "python3"
  },
  "language_info": {
   "codemirror_mode": {
    "name": "ipython",
    "version": 3
   },
   "file_extension": ".py",
   "mimetype": "text/x-python",
   "name": "python",
   "nbconvert_exporter": "python",
   "pygments_lexer": "ipython3",
   "version": "3.12.7"
  }
 },
 "nbformat": 4,
 "nbformat_minor": 5
}
