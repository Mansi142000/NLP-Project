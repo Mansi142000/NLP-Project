{
 "cells": [
  {
   "cell_type": "code",
   "execution_count": 1,
   "id": "9914a493",
   "metadata": {},
   "outputs": [],
   "source": [
    "import faiss\n",
    "import pickle\n",
    "import pandas as pd\n",
    "import numpy as np\n",
    "from sentence_transformers import SentenceTransformer"
   ]
  },
  {
   "cell_type": "code",
   "execution_count": 5,
   "id": "473cce2c",
   "metadata": {},
   "outputs": [],
   "source": [
    "base_dir = \"./../faiss_embeddings2\"\n",
    "model_name = 'sentence-transformers/all-MiniLM-L6-v2'"
   ]
  },
  {
   "cell_type": "code",
   "execution_count": 6,
   "id": "1d5936d5",
   "metadata": {},
   "outputs": [],
   "source": [
    "index = faiss.read_index(f\"{base_dir}/movie_index.faiss\")"
   ]
  },
  {
   "cell_type": "code",
   "execution_count": 7,
   "id": "cd323c06",
   "metadata": {},
   "outputs": [],
   "source": [
    "with open(f\"{base_dir}/movie_ids.pkl\", \"rb\") as f:\n",
    "    id_list = pickle.load(f)\n",
    "\n",
    "metadata = pd.read_csv(f\"{base_dir}/movie_metadata.csv\")\n",
    "\n",
    "model = SentenceTransformer(model_name)"
   ]
  },
  {
   "cell_type": "code",
   "execution_count": 8,
   "id": "a6bf5ee1",
   "metadata": {},
   "outputs": [],
   "source": [
    "import ast\n",
    "\n",
    "def metadata_filter(row, row_checker):\n",
    "    # Extract numeric filters with defaults\n",
    "    min_year = row_checker.get(\"min_year\", float(\"-inf\"))\n",
    "    max_year = row_checker.get(\"max_year\", float(\"inf\"))\n",
    "    min_rating = row_checker.get(\"min_rating\", float(\"-inf\"))\n",
    "    max_rating = row_checker.get(\"max_rating\", float(\"inf\"))\n",
    "    min_duration = row_checker.get(\"min_duration\", float(\"-inf\"))\n",
    "    max_duration = row_checker.get(\"max_duration\", float(\"inf\"))\n",
    "\n",
    "    # Extract list-based filters with safe defaults\n",
    "    required_genres = set(row_checker.get(\"required_genres\", []))\n",
    "    excluded_genres = set(row_checker.get(\"excluded_genres\", []))\n",
    "    required_languages = set(row_checker.get(\"required_languages\", []))\n",
    "    excluded_languages = set(row_checker.get(\"excluded_languages\", []))\n",
    "\n",
    "    # Safely parse stringified lists (e.g., \"['English']\")\n",
    "    def parse_list(cell):\n",
    "        try:\n",
    "            return set(ast.literal_eval(cell)) if isinstance(cell, str) else set(cell)\n",
    "        except (ValueError, SyntaxError):\n",
    "            return set()\n",
    "\n",
    "    # Parse numeric values safely\n",
    "    try:\n",
    "        year = int(row.get(\"year\", 0))\n",
    "        rating = float(row.get(\"rating\", 0.0))\n",
    "        duration = int(row.get(\"duration\", 0))\n",
    "    except (ValueError, TypeError):\n",
    "        return False  # Reject row on parsing error\n",
    "\n",
    "    # Range checks\n",
    "    year_check = min_year <= year <= max_year\n",
    "    rating_check = min_rating <= rating <= max_rating\n",
    "    duration_check = min_duration <= duration <= max_duration\n",
    "\n",
    "    # List checks\n",
    "    genres = parse_list(row.get(\"genres\", \"[]\"))\n",
    "    languages = parse_list(row.get(\"languages\", \"[]\"))\n",
    "\n",
    "    genre_inclusion_check = not required_genres or bool(genres & required_genres)\n",
    "    genre_exclusion_check = not (genres & excluded_genres)\n",
    "\n",
    "    language_inclusion_check = not required_languages or bool(languages & required_languages)\n",
    "    language_exclusion_check = not (languages & excluded_languages)\n",
    "\n",
    "    # Final decision\n",
    "    return (\n",
    "        year_check and\n",
    "        rating_check and\n",
    "        duration_check and\n",
    "        genre_inclusion_check and\n",
    "        genre_exclusion_check and\n",
    "        language_inclusion_check and\n",
    "        language_exclusion_check\n",
    "    )\n"
   ]
  },
  {
   "cell_type": "code",
   "execution_count": 9,
   "id": "a76e2470",
   "metadata": {},
   "outputs": [],
   "source": [
    "# === DEFINE QUERY FUNCTION WITH OFFSET LOGIC ===\n",
    "def search_movies(query, top_k=10, search_batch_size=100, row_checker={}):\n",
    "    query_embedding = model.encode([query], normalize_embeddings=True).astype(\"float32\")\n",
    "\n",
    "    results = []\n",
    "    offset = 0\n",
    "\n",
    "    while len(results) < top_k:\n",
    "        fetch_size = min(search_batch_size + offset, len(id_list))\n",
    "        D, I = index.search(query_embedding, fetch_size)\n",
    "\n",
    "        for idx in I[0][offset:]:\n",
    "            movie_id = id_list[idx]\n",
    "            row = metadata[metadata[\"id\"] == movie_id].iloc[0].to_dict()\n",
    "            if metadata_filter(row, row_checker):\n",
    "                results.append({\n",
    "                    \"id\": movie_id,\n",
    "                    \"metadata\": row\n",
    "                })\n",
    "            if len(results) == top_k:\n",
    "                break\n",
    "\n",
    "        offset += search_batch_size\n",
    "        if offset >= len(id_list):\n",
    "            break\n",
    "\n",
    "    return results\n",
    "\n",
    "\n"
   ]
  },
  {
   "cell_type": "code",
   "execution_count": 10,
   "id": "d0bec876",
   "metadata": {},
   "outputs": [
    {
     "name": "stdout",
     "output_type": "stream",
     "text": [
      "1. ID: tt0127751, Result: {'id': 'tt0127751', 'title': 'Recoil', 'year': 1998, 'duration': 96, 'MPA': 'R', 'rating': 5.3, 'votes': '765', 'meta_score': 0.0, 'description': \"A mafia Godfather exacts revenge on the policeman responsible for his son's death during a bank robbery. The officer then unleashes his fury in retaliation for the death of his family.\", 'Movie_Link': 'https://www.imdb.com/title/tt0127751', 'writers': \"['Art Camacho', 'Richard Preston Jr.']\", 'directors': \"['Art Camacho']\", 'stars': \"['Gary Daniels', 'Gregory McKinney', 'Thomas Kopache', 'Billy Maddox', 'John Sanderford', 'Robin Curtis', 'Kelli McCarty', 'Maurice Lamont', 'Richard Foronjy', 'Michael Alaimo']\", 'budget': nan, 'opening_weekend_gross': nan, 'gross_worldwide': nan, 'gross_us_canada': nan, 'release_date': 1998.0, 'countries_origin': \"['United States']\", 'filming_locations': \"['1010 S. Flower St, Los Angeles, California, USA']\", 'production_companies': \"['PM Entertainment Group']\", 'awards_content': '[]', 'genres': \"['Action']\", 'languages': \"['English']\"}\n",
      "2. ID: tt3539966, Result: {'id': 'tt3539966', 'title': 'Dishkiyaoon', 'year': 2014, 'duration': 119, 'MPA': 'Not Rated', 'rating': 5.2, 'votes': '1.1K', 'meta_score': 0.0, 'description': 'Vicky wanted to be the godfather of the Mumbai underworld. He gains everything and also loses everything. He gains respect, power, and leadership, but he loses love and friendship.', 'Movie_Link': 'https://www.imdb.com/title/tt3539966', 'writers': \"['Sanamjit Singh Talwar']\", 'directors': \"['Sanamjit Singh Talwar']\", 'stars': \"['Krishna Agarwal', 'Harman Baweja', 'Harsh Chhaya', 'Sunny Deol', 'Rajit Kapoor', 'Harsh Katara', 'Ayesha Khanna', 'Scott Milburn', 'Prashant Narayanan', 'Sumit Nijhawan']\", 'budget': nan, 'opening_weekend_gross': '$8,173', 'gross_worldwide': '$11,288', 'gross_us_canada': '$11,288', 'release_date': 2014.0, 'countries_origin': \"['India']\", 'filming_locations': \"['Worli fort, Mumbai, Maharashtra, India']\", 'production_companies': \"['Eros Worldwide', 'Essential Sports & Media']\", 'awards_content': '[]', 'genres': \"['Action', 'Thriller']\", 'languages': \"['Hindi']\"}\n",
      "3. ID: tt0038793, Result: {'id': 'tt0038793', 'title': 'O.K. John', 'year': 1946, 'duration': 0, 'MPA': nan, 'rating': 0.0, 'votes': nan, 'meta_score': 0.0, 'description': nan, 'Movie_Link': 'https://www.imdb.com/title/tt0038793', 'writers': \"['Paolo Aiassa', 'Omero Angeli', 'Franco Atteni']\", 'directors': '[\"Giovanni d\\'Eramo\", \\'Ugo Fasano\\']', 'stars': \"['Paolo Aiassa', 'Omero Angeli', 'Franco Atteni', 'Leo Croce']\", 'budget': nan, 'opening_weekend_gross': nan, 'gross_worldwide': nan, 'gross_us_canada': nan, 'release_date': 1946.0, 'countries_origin': \"['Italy']\", 'filming_locations': '[]', 'production_companies': '[]', 'awards_content': '[]', 'genres': \"['Comedy']\", 'languages': \"['Italian']\"}\n",
      "4. ID: tt0078971, Result: {'id': 'tt0078971', 'title': 'Cicciolina amore mio', 'year': 1979, 'duration': 85, 'MPA': nan, 'rating': 4.3, 'votes': '140', 'meta_score': 0.0, 'description': 'Cicciolina (Ilona Staller) stars in this film which is the first showcase of this future Italian porn star and politician. One man, Riccardino, obsesses over her and it begins to effect his relationship with his girlfriend. Cicciolina though helps bring the 2 together in order for them to experience the ultimate sexual experience.', 'Movie_Link': 'https://www.imdb.com/title/tt0078971', 'writers': \"['Amasi Damiani', 'Riccardo Schicchi']\", 'directors': \"['Amasi Damiani', 'Bruno Mattei', 'Riccardo Schicchi']\", 'stars': \"['Ilona Staller', 'Patrizia Basso', 'Giancarlo Marinangeli', 'Paola Ludovica Barbanera', 'Enrico Bessieres', 'Tina Capecchi', 'Ciro Cefaro', 'Charlie Cho', 'Claudio Vacca', 'Thordis Rubivi Wende']\", 'budget': nan, 'opening_weekend_gross': nan, 'gross_worldwide': nan, 'gross_us_canada': nan, 'release_date': 1979.0, 'countries_origin': \"['Italy']\", 'filming_locations': '[]', 'production_companies': \"['Elea Cinematografica']\", 'awards_content': '[]', 'genres': \"['Comedy']\", 'languages': \"['Italian']\"}\n",
      "5. ID: tt0068154, Result: {'id': 'tt0068154', 'title': 'Trinity Is Still My Name', 'year': 1971, 'duration': 117, 'MPA': 'G', 'rating': 7.2, 'votes': '18K', 'meta_score': 0.0, 'description': 'Bambino tries to teach his brother Trinity how to become an outlaw, but the two wind up saving a pioneer family and breaking up an arms ring instead.', 'Movie_Link': 'https://www.imdb.com/title/tt0068154', 'writers': \"['Enzo Barboni', 'Gene Luotto']\", 'directors': \"['Enzo Barboni']\", 'stars': \"['Terence Hill', 'Bud Spencer', 'Yanti Somer', 'Enzo Tarascio', 'Harry Carey Jr.', 'Pupo De Luca', 'Jessica Dublin', 'Dana Ghia', 'Emilio Delle Piane', 'Enzo Fiermonte']\", 'budget': nan, 'opening_weekend_gross': nan, 'gross_worldwide': nan, 'gross_us_canada': nan, 'release_date': 1971.0, 'countries_origin': \"['Italy']\", 'filming_locations': '[\"Campo Imperatore, L\\'Aquila, Abruzzo, Italy\"]', 'production_companies': \"['West Film']\", 'awards_content': \"['Awards', '1 win total']\", 'genres': \"['Parody', 'Spaghetti Western', 'Comedy', 'Western']\", 'languages': \"['Italian', 'English', 'Latin']\"}\n",
      "6. ID: tt0052307, Result: {'id': 'tt0052307', 'title': 'Totò e Marcellino', 'year': 1958, 'duration': 102, 'MPA': nan, 'rating': 6.2, 'votes': '184', 'meta_score': 0.0, 'description': 'Marcellino becomes an orphan and finds two uncles--a good old eccentric man and a villain.', 'Movie_Link': 'https://www.imdb.com/title/tt0052307', 'writers': \"['Diego Fabbri', 'Pasquale Festa Campanile', 'Massimo Franciosa']\", 'directors': \"['Antonio Musu']\", 'stars': \"['Totò', 'Pablito Calvo', 'Memmo Carotenuto', 'Jone Salinas', 'Fanfulla', 'Wandisa Guida', 'Nanda Primavera', 'Amelia Perrella', 'Marianne Leibl', 'Renato Terra']\", 'budget': nan, 'opening_weekend_gross': nan, 'gross_worldwide': nan, 'gross_us_canada': nan, 'release_date': 1958.0, 'countries_origin': \"['Italy', 'France']\", 'filming_locations': \"['Roma, Lazio, Italy']\", 'production_companies': \"['C.I.C.C.', 'Euro International Films']\", 'awards_content': '[]', 'genres': \"['Comedy']\", 'languages': \"['Italian']\"}\n",
      "7. ID: tt0096299, Result: {'id': 'tt0096299', 'title': 'La trasgressione', 'year': 1987, 'duration': 95, 'MPA': nan, 'rating': 4.9, 'votes': '79', 'meta_score': 0.0, 'description': 'An Italian drug-addict, Angelo, kills his mother. He gets a ride with a wealthy man who invites Angelo home to meet and keep his crazy but attractive daughter company. Unfortunately Angelo wants to kill more people - or does he?', 'Movie_Link': 'https://www.imdb.com/title/tt0096299', 'writers': \"['Pierfrancesco Campanella']\", 'directors': \"['Fabrizio Rampelli']\", 'stars': '[\\'Pierfrancesco Campanella\\', \"Milly D\\'Abbraccio\", \\'Angelo Cannavacciolo\\', \\'Claudia Cavalcanti\\', \\'Rosanna Banfi\\', \\'George Ardisson\\', \\'Paolo Gozlino\\', \\'Didi Perego\\', \\'Flavia Borelli\\', \\'Paola Ciampi\\']', 'budget': nan, 'opening_weekend_gross': nan, 'gross_worldwide': nan, 'gross_us_canada': nan, 'release_date': 1987.0, 'countries_origin': \"['Italy']\", 'filming_locations': '[]', 'production_companies': \"['Freeway Production']\", 'awards_content': '[]', 'genres': \"['Horror', 'Thriller']\", 'languages': \"['Italian']\"}\n",
      "8. ID: tt0030814, Result: {'id': 'tt0030814', 'title': 'Suspiros de España', 'year': 1939, 'duration': 100, 'MPA': nan, 'rating': 6.9, 'votes': '28', 'meta_score': 0.0, 'description': \"Soledad and her battling mother work as laundresses in Seville. When Sole's lively godfather sends a photograph of her to a musical producer, an agent is sent to seek her and she is offered a contract in la Habana. Tempting fame and fortune mix with sighs for her beloved Spain.\", 'Movie_Link': 'https://www.imdb.com/title/tt0030814', 'writers': \"['Antonio Álvarez Alonso', 'Antonio Quintero', 'Benito Perojo']\", 'directors': \"['Benito Perojo']\", 'stars': \"['Miguel Ligero', 'Estrellita Castro', 'Roberto Rey', 'Concha Catalá', 'Alberto Romea', 'Pedro Fernández Cuenca', 'Fortunato García', 'Manuel Pérez', 'José Escandel', 'Juan Calvo']\", 'budget': nan, 'opening_weekend_gross': nan, 'gross_worldwide': nan, 'gross_us_canada': nan, 'release_date': 1939.0, 'countries_origin': \"['Spain', 'Germany']\", 'filming_locations': \"['Germany']\", 'production_companies': \"['Hispano Filmproduktion']\", 'awards_content': '[]', 'genres': \"['Comedy']\", 'languages': \"['Spanish']\"}\n",
      "9. ID: tt2103266, Result: {'id': 'tt2103266', 'title': 'Cauliflower Cupids', 'year': 1970, 'duration': 91, 'MPA': nan, 'rating': 5.8, 'votes': '24', 'meta_score': 0.0, 'description': \"Johnny Stiletto, crime godfather, decides to go straight so his beautiful daughter will be accepted by her boyfriend's wealthy society family. But Stiletto's mob, their rival gang and the boyfriend's money-grubbing family have other ideas.\", 'Movie_Link': 'https://www.imdb.com/title/tt2103266', 'writers': \"['Peter Savage']\", 'directors': \"['Peter Savage', 'Jerome Shaw']\", 'stars': \"['Jane Russell', 'Peter Savage', 'Alan Dale', 'Jake LaMotta', 'Rocky Graziano', 'Willie Pep', 'Paddy DeMarco', 'Tony Zale', 'Petey Scalzo', 'Joe Bennet']\", 'budget': '$2,000,000 (estimated)', 'opening_weekend_gross': nan, 'gross_worldwide': nan, 'gross_us_canada': nan, 'release_date': 1970.0, 'countries_origin': \"['United States']\", 'filming_locations': \"['New York City, New York, USA']\", 'production_companies': \"['Starlite Films']\", 'awards_content': '[]', 'genres': \"['Comedy']\", 'languages': \"['English']\"}\n",
      "10. ID: tt0063486, Result: {'id': 'tt0063486', 'title': 'Una ragazza piuttosto complicata', 'year': 1969, 'duration': 100, 'MPA': nan, 'rating': 5.7, 'votes': '248', 'meta_score': 0.0, 'description': 'A young girl named Claudia, flirts with two men, and at the same time, she is also having an affair with her step-mother who doles out her inheritance money from her dead father. Is she playing all three of them to get what she wants?', 'Movie_Link': 'https://www.imdb.com/title/tt0063486', 'writers': \"['Damiano Damiani', 'Alberto Silvestri', 'Franco Verucci']\", 'directors': \"['Damiano Damiani']\", 'stars': \"['Catherine Spaak', 'Jean Sorel', 'Florinda Bolkan', 'Gabriella Boccardo', 'Gigi Proietti', 'Luigi Casellato', 'Gino Lavagetto', 'Sergio Graziani', 'Maria Luisa Bavastro', 'Franco Leo']\", 'budget': nan, 'opening_weekend_gross': nan, 'gross_worldwide': nan, 'gross_us_canada': nan, 'release_date': 1969.0, 'countries_origin': \"['Italy']\", 'filming_locations': \"['Italy']\", 'production_companies': \"['Filmena S.R.L.', 'Fono Roma']\", 'awards_content': \"['Awards', '1 win total']\", 'genres': \"['Thriller']\", 'languages': \"['Italian']\"}\n"
     ]
    }
   ],
   "source": [
    "# === EXAMPLE USAGE ===\n",
    "results = search_movies(\"the godfather\", top_k=10, row_checker={\"excluded_genres\": [\"Drama\", \"Gangster\", \"Crime\"]})\n",
    "for i, res in enumerate(results, 1):\n",
    "    print(f\"{i}. ID: {res['id']}, Result: {res['metadata']}\")"
   ]
  },
  {
   "cell_type": "code",
   "execution_count": 11,
   "id": "9b7833f0",
   "metadata": {},
   "outputs": [],
   "source": [
    "def search_movies_dual_query_fast(\n",
    "    positive_query,\n",
    "    negative_query=None,\n",
    "    top_k=10,\n",
    "    search_batch_size=200,\n",
    "    row_checker={},\n",
    "    alpha=1.0,\n",
    "    beta=1.0\n",
    "):\n",
    "    # Encode queries\n",
    "    pos_embed = model.encode([positive_query], normalize_embeddings=True).astype(\"float32\")\n",
    "    neg_embed = None\n",
    "    if negative_query:\n",
    "        neg_embed = model.encode([negative_query], normalize_embeddings=True).astype(\"float32\")\n",
    "\n",
    "    # Search once for top-N potentially good matches\n",
    "    D_pos, I_pos = index.search(pos_embed, search_batch_size)\n",
    "\n",
    "    scored_results = []\n",
    "\n",
    "    for rank, idx in enumerate(I_pos[0]):\n",
    "        movie_id = id_list[idx]\n",
    "        row = metadata[metadata[\"id\"] == movie_id].iloc[0].to_dict()\n",
    "        if not metadata_filter(row, row_checker):\n",
    "            continue\n",
    "\n",
    "        pos_sim = float(D_pos[0][rank])\n",
    "\n",
    "        # Compute neg_sim manually if needed\n",
    "        neg_sim = 0.0\n",
    "        if neg_embed is not None:\n",
    "            embedding = index.reconstruct(int(idx))  # Fix applied here\n",
    "            neg_sim = float(np.dot(embedding, neg_embed[0]))\n",
    "\n",
    "\n",
    "        score = alpha * pos_sim - beta * neg_sim\n",
    "\n",
    "        scored_results.append({\n",
    "            \"id\": movie_id,\n",
    "            \"positive_similarity\": pos_sim,\n",
    "            \"negative_similarity\": neg_sim,\n",
    "            \"score\": score,\n",
    "            \"metadata\": row\n",
    "        })\n",
    "\n",
    "    # Sort and return top_k\n",
    "    sorted_results = sorted(scored_results, key=lambda x: x[\"score\"], reverse=True)\n",
    "    return sorted_results[:top_k]\n"
   ]
  },
  {
   "cell_type": "code",
   "execution_count": 12,
   "id": "c3547b4e",
   "metadata": {},
   "outputs": [],
   "source": [
    "results = search_movies_dual_query_fast(\n",
    "    positive_query=\"spiderman\",\n",
    "    negative_query=\"tom holland\",\n",
    "    top_k=10,\n",
    "    row_checker={},\n",
    "    search_batch_size = 100,\n",
    "    alpha=1.0,\n",
    "    beta=1.0\n",
    ")\n"
   ]
  },
  {
   "cell_type": "code",
   "execution_count": 13,
   "id": "071bd00c",
   "metadata": {},
   "outputs": [
    {
     "name": "stdout",
     "output_type": "stream",
     "text": [
      "1. ID: tt0948470, Result: {'id': 'tt0948470', 'title': 'The Amazing Spider-Man', 'year': 2012, 'duration': 136, 'MPA': 'PG-13', 'rating': 6.9, 'votes': '729K', 'meta_score': 66.0, 'description': 'After Peter Parker is bitten by a genetically altered spider, he gains newfound, spider-like powers and ventures out to save the city from the machinations of a mysterious reptilian foe.', 'Movie_Link': 'https://www.imdb.com/title/tt0948470', 'writers': \"['James Vanderbilt', 'Alvin Sargent', 'Steve Kloves']\", 'directors': \"['Marc Webb']\", 'stars': \"['Andrew Garfield', 'Emma Stone', 'Rhys Ifans', 'Irrfan Khan', 'Denis Leary', 'Martin Sheen', 'Sally Field', 'Campbell Scott', 'Embeth Davidtz', 'Chris Zylka']\", 'budget': '$230,000,000 (estimated)', 'opening_weekend_gross': '$62,004,688', 'gross_worldwide': '$758,707,722', 'gross_us_canada': '$262,782,352', 'release_date': 2012.0, 'countries_origin': \"['United States']\", 'filming_locations': \"['Universal Studios Hollywood - 1000 Universal Studios Blvd, Universal City, California, USA (New York Street)']\", 'production_companies': \"['Columbia Pictures', 'Marvel Entertainment', 'Laura Ziskin Productions']\", 'awards_content': \"['Awards', '2 wins & 33 nominations total']\", 'genres': \"['Superhero', 'Action', 'Sci-Fi']\", 'languages': \"['English']\"}\n",
      "2. ID: tt0241644, Result: {'id': 'tt0241644', 'title': 'Eyes of the Spider', 'year': 1998, 'duration': 83, 'MPA': nan, 'rating': 6.5, 'votes': '724', 'meta_score': 0.0, 'description': \"A man discovers a darker side of himself after exacting revenge on his daughter's killer.\", 'Movie_Link': 'https://www.imdb.com/title/tt0241644', 'writers': \"['Kiyoshi Kurosawa', 'Yôichi Nishiyama']\", 'directors': \"['Kiyoshi Kurosawa']\", 'stars': \"['Shô Aikawa', 'Duncan', 'Ren Ôsugi', 'Sadao Abe', 'Satoshi Kajiwara', 'Kumi Nakamura', 'Moe Sakura', 'Shun Sugata', 'Tarô Suwa', 'Susumu Terajima']\", 'budget': nan, 'opening_weekend_gross': nan, 'gross_worldwide': nan, 'gross_us_canada': nan, 'release_date': 1998.0, 'countries_origin': \"['Japan']\", 'filming_locations': '[]', 'production_companies': \"['Daiei Studios']\", 'awards_content': \"['Awards', '1 win total']\", 'genres': \"['Crime', 'Drama', 'Thriller']\", 'languages': \"['Japanese']\"}\n",
      "3. ID: tt0145487, Result: {'id': 'tt0145487', 'title': 'Spider-Man', 'year': 2002, 'duration': 121, 'MPA': 'PG-13', 'rating': 7.4, 'votes': '917K', 'meta_score': 73.0, 'description': 'After being bitten by a genetically-modified spider, a shy teenager gains spider-like abilities that he uses to fight injustice as a masked superhero and face a vengeful enemy.', 'Movie_Link': 'https://www.imdb.com/title/tt0145487', 'writers': \"['Stan Lee', 'Steve Ditko', 'David Koepp']\", 'directors': \"['Sam Raimi']\", 'stars': \"['Tobey Maguire', 'Kirsten Dunst', 'Willem Dafoe', 'James Franco', 'Cliff Robertson', 'Rosemary Harris', 'J.K. Simmons', 'Joe Manganiello', 'Gerry Becker', 'Bill Nunn']\", 'budget': '$139,000,000 (estimated)', 'opening_weekend_gross': '$114,844,116', 'gross_worldwide': '$825,802,095', 'gross_us_canada': '$407,774,549', 'release_date': 2002.0, 'countries_origin': \"['United States']\", 'filming_locations': \"['Queensboro Bridge, Manhattan, New York City, New York, USA']\", 'production_companies': \"['Columbia Pictures', 'Marvel Enterprises', 'Laura Ziskin Productions']\", 'awards_content': \"['Nominated for 2 Oscars', '17 wins & 65 nominations total']\", 'genres': \"['Superhero', 'Urban Adventure', 'Action', 'Adventure', 'Sci-Fi']\", 'languages': \"['English']\"}\n",
      "4. ID: tt0030779, Result: {'id': 'tt0030779', 'title': \"The Spider's Web\", 'year': 1938, 'duration': 300, 'MPA': 'Approved', 'rating': 6.8, 'votes': '177', 'meta_score': 0.0, 'description': 'A crime fighter known as The Spider battles a villain called The Octopus, who is out to sabotage America and install his own government.', 'Movie_Link': 'https://www.imdb.com/title/tt0030779', 'writers': \"['Robert E. Kent', 'George H. Plympton', 'Basil Dickey']\", 'directors': \"['James W. Horne', 'Ray Taylor']\", 'stars': \"['Warren Hull', 'Iris Meredith', 'Richard Fiske', 'Kenne Duncan', 'Forbes Murray', 'Donald Douglas', 'Marc Lawrence', 'Charles C. Wilson', 'John Tyrrell', 'Eugene Anderson Jr.']\", 'budget': nan, 'opening_weekend_gross': nan, 'gross_worldwide': nan, 'gross_us_canada': nan, 'release_date': 1938.0, 'countries_origin': \"['United States']\", 'filming_locations': '[]', 'production_companies': \"['Columbia Pictures']\", 'awards_content': '[]', 'genres': \"['Superhero', 'Action', 'Crime', 'Drama']\", 'languages': \"['English']\"}\n",
      "5. ID: tt0051570, Result: {'id': 'tt0051570', 'title': 'The Spider', 'year': 1958, 'duration': 73, 'MPA': 'Approved', 'rating': 4.7, 'votes': '3.6K', 'meta_score': 0.0, 'description': 'Teenagers from a rural community and their high school science teacher join forces to battle a giant mutant spider.', 'Movie_Link': 'https://www.imdb.com/title/tt0051570', 'writers': \"['László Görög', 'George Worthing Yates', 'Bert I. Gordon']\", 'directors': \"['Bert I. Gordon']\", 'stars': \"['Ed Kemmer', 'June Kenney', 'Eugene Persson', 'Gene Roth', 'Hal Torey', 'June Jocelyn', 'Mickey Finn', 'Sally Fraser', 'Troy Patterson', 'Skip Young']\", 'budget': nan, 'opening_weekend_gross': nan, 'gross_worldwide': nan, 'gross_us_canada': nan, 'release_date': 1958.0, 'countries_origin': \"['United States']\", 'filming_locations': \"['Bronson Caves, Bronson Canyon, Griffith Park - 4730 Crystal Springs Drive, Los Angeles, California, USA']\", 'production_companies': \"['Santa Rosa Productions']\", 'awards_content': '[]', 'genres': \"['Kaiju', 'Monster Horror', 'Family', 'Horror', 'Sci-Fi', 'Thriller']\", 'languages': \"['English']\"}\n",
      "6. ID: tt4633694, Result: {'id': 'tt4633694', 'title': 'Spider-Man: Into the Spider-Verse', 'year': 2018, 'duration': 117, 'MPA': 'PG', 'rating': 8.4, 'votes': '723K', 'meta_score': 87.0, 'description': 'Teen Miles Morales becomes the Spider-Man of his universe and must join with five spider-powered individuals from other dimensions to stop a threat for all realities.', 'Movie_Link': 'https://www.imdb.com/title/tt4633694', 'writers': \"['Phil Lord', 'Rodney Rothman']\", 'directors': \"['Bob Persichetti', 'Peter Ramsey', 'Rodney Rothman']\", 'stars': \"['Shameik Moore', 'Jake Johnson', 'Hailee Steinfeld', 'Mahershala Ali', 'Brian Tyree Henry', 'Lily Tomlin', 'Luna Lauren Velez', 'Zoë Kravitz', 'John Mulaney', 'Kimiko Glenn']\", 'budget': '$90,000,000 (estimated)', 'opening_weekend_gross': '$35,363,376', 'gross_worldwide': '$393,602,435', 'gross_us_canada': '$190,241,310', 'release_date': 0.0, 'countries_origin': \"['Canada', 'United States']\", 'filming_locations': '[]', 'production_companies': \"['Columbia Pictures', 'Marvel Entertainment', 'Avi Arad Productions']\", 'awards_content': \"['Won 1 Oscar', '85 wins & 61 nominations total']\", 'genres': \"['Computer Animation', 'Superhero', 'Supernatural Fantasy', 'Teen Adventure', 'Teen Comedy', 'Urban Adventure', 'Action', 'Adventure', 'Animation', 'Comedy']\", 'languages': \"['English', 'Spanish']\"}\n",
      "7. ID: tt0046066, Result: {'id': 'tt0046066', 'title': 'Mesa of Lost Women', 'year': 1953, 'duration': 70, 'MPA': 'Approved', 'rating': 2.7, 'votes': '2K', 'meta_score': 0.0, 'description': 'A mad scientist named Arana is creating giant spiders and dwarfs in his lab on Zarpa Mesa in Mexico. He wants to create a master race of superwomen by injecting his female subjects with spider venom.', 'Movie_Link': 'https://www.imdb.com/title/tt0046066', 'writers': \"['Herbert Tevos', 'Orville H. Hampton']\", 'directors': \"['Ron Ormond', 'Herbert Tevos']\", 'stars': \"['Jackie Coogan', 'Allan Nixon', 'Richard Travis', 'Lyle Talbot', 'Paula Hill', 'Robert Knapp', 'Tandra Quinn', 'Chris-Pin Martin', 'Harmon Stevens', 'Nico Lek']\", 'budget': nan, 'opening_weekend_gross': nan, 'gross_worldwide': nan, 'gross_us_canada': nan, 'release_date': 1953.0, 'countries_origin': \"['United States']\", 'filming_locations': \"['Red Rock Canyon State Park - Highway 14, Cantil, California, USA']\", 'production_companies': \"['Ron Ormond Productions']\", 'awards_content': '[]', 'genres': \"['Horror', 'Sci-Fi']\", 'languages': \"['English']\"}\n",
      "8. ID: tt20112746, Result: {'id': 'tt20112746', 'title': 'Sting', 'year': 2024, 'duration': 91, 'MPA': 'R', 'rating': 5.7, 'votes': '16K', 'meta_score': 57.0, 'description': \"After raising an unnervingly talented spider in secret, 12-year-old Charlotte must face the facts about her pet-and fight for her family's survival-when the once-charming creature rapidly transforms into a giant, flesh-eating monster.\", 'Movie_Link': 'https://www.imdb.com/title/tt20112746', 'writers': \"['Kiah Roache-Turner']\", 'directors': \"['Kiah Roache-Turner']\", 'stars': \"['Noni Hazlehurst', 'Jermaine Fowler', 'Alyla Browne', 'Robyn Nevin', 'Ryan Corr', 'Kate Walsh', 'Penelope Mitchell', 'Jett Berry', 'Kade Berry', 'Silvia Colloca']\", 'budget': nan, 'opening_weekend_gross': '$825,797', 'gross_worldwide': '$2,683,672', 'gross_us_canada': '$1,124,510', 'release_date': 0.0, 'countries_origin': \"['Australia']\", 'filming_locations': \"['Sydney, New South Wales, Australia (Location)']\", 'production_companies': \"['Screen Australia', 'Screen New South Wales', 'Cumulus VFX']\", 'awards_content': \"['Awards', '1 win total']\", 'genres': \"['B-Horror', 'Dark Comedy', 'Monster Horror', 'Horror', 'Sci-Fi', 'Thriller']\", 'languages': \"['English', 'Spanish']\"}\n",
      "9. ID: tt0316654, Result: {'id': 'tt0316654', 'title': 'Spider-Man 2', 'year': 2004, 'duration': 127, 'MPA': 'PG-13', 'rating': 7.5, 'votes': '741K', 'meta_score': 83.0, 'description': 'Peter Parker is beset with troubles in his failing personal life as he battles a former brilliant scientist named Otto Octavius.', 'Movie_Link': 'https://www.imdb.com/title/tt0316654', 'writers': \"['Stan Lee', 'Steve Ditko', 'Alfred Gough']\", 'directors': \"['Sam Raimi']\", 'stars': \"['Tobey Maguire', 'Kirsten Dunst', 'Alfred Molina', 'James Franco', 'Rosemary Harris', 'J.K. Simmons', 'Donna Murphy', 'Daniel Gillies', 'Dylan Baker', 'Bill Nunn']\", 'budget': '$200,000,000 (estimated)', 'opening_weekend_gross': '$88,156,227', 'gross_worldwide': '$784,543,400', 'gross_us_canada': '$374,337,514', 'release_date': 2004.0, 'countries_origin': \"['United States']\", 'filming_locations': \"['Spring Street Towers - 650 S. Spring Street, Downtown, Los Angeles, California, USA (bank)']\", 'production_companies': \"['Columbia Pictures', 'Marvel Enterprises', 'Laura Ziskin Productions']\", 'awards_content': \"['Won 1 Oscar', '25 wins & 60 nominations total']\", 'genres': \"['Superhero', 'Urban Adventure', 'Action', 'Adventure', 'Sci-Fi']\", 'languages': \"['English', 'Russian', 'Chinese']\"}\n",
      "10. ID: tt0413300, Result: {'id': 'tt0413300', 'title': 'Spider-Man 3', 'year': 2007, 'duration': 139, 'MPA': 'PG-13', 'rating': 6.3, 'votes': '665K', 'meta_score': 59.0, 'description': 'A strange black entity from another world bonds with Peter Parker and causes inner turmoil as he contends with new villains, temptations, and revenge.', 'Movie_Link': 'https://www.imdb.com/title/tt0413300', 'writers': \"['Sam Raimi', 'Ivan Raimi', 'Alvin Sargent']\", 'directors': \"['Sam Raimi']\", 'stars': \"['Tobey Maguire', 'Kirsten Dunst', 'Topher Grace', 'Thomas Haden Church', 'James Franco', 'Bryce Dallas Howard', 'Rosemary Harris', 'J.K. Simmons', 'James Cromwell', 'Theresa Russell']\", 'budget': '$258,000,000 (estimated)', 'opening_weekend_gross': '$151,116,516', 'gross_worldwide': '$891,679,447', 'gross_us_canada': '$337,281,992', 'release_date': 2007.0, 'countries_origin': \"['United States']\", 'filming_locations': \"['Chicago, Illinois, USA']\", 'production_companies': \"['Columbia Pictures', 'Marvel Entertainment', 'Laura Ziskin Productions']\", 'awards_content': \"['Nominated for 1 BAFTA Award', '4 wins & 44 nominations total']\", 'genres': \"['Superhero', 'Urban Adventure', 'Action', 'Adventure', 'Sci-Fi']\", 'languages': \"['English', 'French']\"}\n"
     ]
    }
   ],
   "source": [
    "for i, res in enumerate(results, 1):\n",
    "    print(f\"{i}. ID: {res['id']}, Result: {res['metadata']}\")"
   ]
  },
  {
   "cell_type": "code",
   "execution_count": 14,
   "id": "4b3d6a76",
   "metadata": {},
   "outputs": [],
   "source": [
    "results = search_movies_dual_query_fast(\n",
    "    positive_query=\"spiderman tom holland\",\n",
    "    top_k=10,\n",
    "    row_checker={},\n",
    "    search_batch_size = 100,\n",
    "    alpha=1.0,\n",
    "    beta=1.0\n",
    ")"
   ]
  },
  {
   "cell_type": "code",
   "execution_count": 15,
   "id": "9da7ef97",
   "metadata": {},
   "outputs": [
    {
     "name": "stdout",
     "output_type": "stream",
     "text": [
      "1. ID: tt10872600, Result: {'id': 'tt10872600', 'title': 'Spider-Man: No Way Home', 'year': 2021, 'duration': 148, 'MPA': 'PG-13', 'rating': 8.2, 'votes': '941K', 'meta_score': 71.0, 'description': \"With Spider-Man's identity now revealed, Peter asks Doctor Strange for help. When a spell goes wrong, dangerous foes from other worlds start to appear.\", 'Movie_Link': 'https://www.imdb.com/title/tt10872600', 'writers': \"['Chris McKenna', 'Erik Sommers', 'Stan Lee']\", 'directors': \"['Jon Watts']\", 'stars': \"['Tom Holland', 'Zendaya', 'Benedict Cumberbatch', 'Jacob Batalon', 'Jon Favreau', 'Jamie Foxx', 'Willem Dafoe', 'Alfred Molina', 'Benedict Wong', 'Tony Revolori']\", 'budget': '$200,000,000 (estimated)', 'opening_weekend_gross': '$260,138,569', 'gross_worldwide': '$1,952,732,181', 'gross_us_canada': '$814,866,759', 'release_date': 2021.0, 'countries_origin': \"['United States']\", 'filming_locations': \"['Iceland']\", 'production_companies': \"['Columbia Pictures', 'Pascal Pictures', 'Marvel Studios']\", 'awards_content': \"['Nominated for 1 Oscar', '35 wins & 71 nominations total']\", 'genres': \"['Superhero', 'Supernatural Fantasy', 'Urban Adventure', 'Action', 'Adventure', 'Fantasy', 'Sci-Fi']\", 'languages': \"['English', 'Tagalog']\"}\n",
      "2. ID: tt0948470, Result: {'id': 'tt0948470', 'title': 'The Amazing Spider-Man', 'year': 2012, 'duration': 136, 'MPA': 'PG-13', 'rating': 6.9, 'votes': '729K', 'meta_score': 66.0, 'description': 'After Peter Parker is bitten by a genetically altered spider, he gains newfound, spider-like powers and ventures out to save the city from the machinations of a mysterious reptilian foe.', 'Movie_Link': 'https://www.imdb.com/title/tt0948470', 'writers': \"['James Vanderbilt', 'Alvin Sargent', 'Steve Kloves']\", 'directors': \"['Marc Webb']\", 'stars': \"['Andrew Garfield', 'Emma Stone', 'Rhys Ifans', 'Irrfan Khan', 'Denis Leary', 'Martin Sheen', 'Sally Field', 'Campbell Scott', 'Embeth Davidtz', 'Chris Zylka']\", 'budget': '$230,000,000 (estimated)', 'opening_weekend_gross': '$62,004,688', 'gross_worldwide': '$758,707,722', 'gross_us_canada': '$262,782,352', 'release_date': 2012.0, 'countries_origin': \"['United States']\", 'filming_locations': \"['Universal Studios Hollywood - 1000 Universal Studios Blvd, Universal City, California, USA (New York Street)']\", 'production_companies': \"['Columbia Pictures', 'Marvel Entertainment', 'Laura Ziskin Productions']\", 'awards_content': \"['Awards', '2 wins & 33 nominations total']\", 'genres': \"['Superhero', 'Action', 'Sci-Fi']\", 'languages': \"['English']\"}\n",
      "3. ID: tt6320628, Result: {'id': 'tt6320628', 'title': 'Spider-Man: Far from Home', 'year': 2019, 'duration': 129, 'MPA': 'PG-13', 'rating': 7.4, 'votes': '591K', 'meta_score': 69.0, 'description': 'Peter Parker, the beloved superhero Spider-Man, faces four destructive elemental monsters while on holiday in Europe. Soon, he receives help from Mysterio, a fellow hero with mysterious origins.', 'Movie_Link': 'https://www.imdb.com/title/tt6320628', 'writers': \"['Chris McKenna', 'Erik Sommers', 'Stan Lee']\", 'directors': \"['Jon Watts']\", 'stars': \"['Tom Holland', 'Samuel L. Jackson', 'Jake Gyllenhaal', 'Marisa Tomei', 'Jon Favreau', 'Zendaya', 'Jacob Batalon', 'Tony Revolori', 'Angourie Rice', 'Remy Hii']\", 'budget': '$160,000,000 (estimated)', 'opening_weekend_gross': '$92,579,212', 'gross_worldwide': '$1,132,705,055', 'gross_us_canada': '$391,283,774', 'release_date': 0.0, 'countries_origin': \"['United States', 'Czech Republic', 'Australia', 'Canada', 'Italy']\", 'filming_locations': \"['Prague, Czech Republic (the city itself, but also the Broek op Langedijk scenes)']\", 'production_companies': \"['Columbia Pictures', 'Pascal Pictures', 'Marvel Studios']\", 'awards_content': \"['Awards', '11 wins & 26 nominations total']\", 'genres': \"['Superhero', 'Supernatural Fantasy', 'Teen Comedy', 'Urban Adventure', 'Action', 'Adventure', 'Comedy', 'Fantasy', 'Sci-Fi']\", 'languages': \"['English', 'Italian', 'Czech']\"}\n",
      "4. ID: tt2250912, Result: {'id': 'tt2250912', 'title': 'Spider-Man: Homecoming', 'year': 2017, 'duration': 133, 'MPA': 'PG-13', 'rating': 7.4, 'votes': '752K', 'meta_score': 73.0, 'description': \"Peter Parker tries to stop Adrian 'The Vulture' Toomes from selling weapons made with advanced Chitauri technology while trying to balance his life as an ordinary high school student.\", 'Movie_Link': 'https://www.imdb.com/title/tt2250912', 'writers': \"['Jonathan Goldstein', 'John Francis Daley', 'Jon Watts']\", 'directors': \"['Jon Watts']\", 'stars': \"['Tom Holland', 'Michael Keaton', 'Robert Downey Jr.', 'Marisa Tomei', 'Jon Favreau', 'Gwyneth Paltrow', 'Zendaya', 'Donald Glover', 'Jacob Batalon', 'Laura Harrier']\", 'budget': '$175,000,000 (estimated)', 'opening_weekend_gross': '$117,027,503', 'gross_worldwide': '$880,960,014', 'gross_us_canada': '$334,952,829', 'release_date': 0.0, 'countries_origin': \"['United States']\", 'filming_locations': \"['Berlin, Germany']\", 'production_companies': \"['Columbia Pictures', 'Marvel Studios', 'Pascal Pictures']\", 'awards_content': \"['Awards', '8 wins & 10 nominations total']\", 'genres': \"['Superhero', 'Urban Adventure', 'Action', 'Adventure', 'Sci-Fi']\", 'languages': \"['English', 'Spanish']\"}\n",
      "5. ID: tt0145487, Result: {'id': 'tt0145487', 'title': 'Spider-Man', 'year': 2002, 'duration': 121, 'MPA': 'PG-13', 'rating': 7.4, 'votes': '917K', 'meta_score': 73.0, 'description': 'After being bitten by a genetically-modified spider, a shy teenager gains spider-like abilities that he uses to fight injustice as a masked superhero and face a vengeful enemy.', 'Movie_Link': 'https://www.imdb.com/title/tt0145487', 'writers': \"['Stan Lee', 'Steve Ditko', 'David Koepp']\", 'directors': \"['Sam Raimi']\", 'stars': \"['Tobey Maguire', 'Kirsten Dunst', 'Willem Dafoe', 'James Franco', 'Cliff Robertson', 'Rosemary Harris', 'J.K. Simmons', 'Joe Manganiello', 'Gerry Becker', 'Bill Nunn']\", 'budget': '$139,000,000 (estimated)', 'opening_weekend_gross': '$114,844,116', 'gross_worldwide': '$825,802,095', 'gross_us_canada': '$407,774,549', 'release_date': 2002.0, 'countries_origin': \"['United States']\", 'filming_locations': \"['Queensboro Bridge, Manhattan, New York City, New York, USA']\", 'production_companies': \"['Columbia Pictures', 'Marvel Enterprises', 'Laura Ziskin Productions']\", 'awards_content': \"['Nominated for 2 Oscars', '17 wins & 65 nominations total']\", 'genres': \"['Superhero', 'Urban Adventure', 'Action', 'Adventure', 'Sci-Fi']\", 'languages': \"['English']\"}\n",
      "6. ID: tt0413300, Result: {'id': 'tt0413300', 'title': 'Spider-Man 3', 'year': 2007, 'duration': 139, 'MPA': 'PG-13', 'rating': 6.3, 'votes': '665K', 'meta_score': 59.0, 'description': 'A strange black entity from another world bonds with Peter Parker and causes inner turmoil as he contends with new villains, temptations, and revenge.', 'Movie_Link': 'https://www.imdb.com/title/tt0413300', 'writers': \"['Sam Raimi', 'Ivan Raimi', 'Alvin Sargent']\", 'directors': \"['Sam Raimi']\", 'stars': \"['Tobey Maguire', 'Kirsten Dunst', 'Topher Grace', 'Thomas Haden Church', 'James Franco', 'Bryce Dallas Howard', 'Rosemary Harris', 'J.K. Simmons', 'James Cromwell', 'Theresa Russell']\", 'budget': '$258,000,000 (estimated)', 'opening_weekend_gross': '$151,116,516', 'gross_worldwide': '$891,679,447', 'gross_us_canada': '$337,281,992', 'release_date': 2007.0, 'countries_origin': \"['United States']\", 'filming_locations': \"['Chicago, Illinois, USA']\", 'production_companies': \"['Columbia Pictures', 'Marvel Entertainment', 'Laura Ziskin Productions']\", 'awards_content': \"['Nominated for 1 BAFTA Award', '4 wins & 44 nominations total']\", 'genres': \"['Superhero', 'Urban Adventure', 'Action', 'Adventure', 'Sci-Fi']\", 'languages': \"['English', 'French']\"}\n",
      "7. ID: tt0316654, Result: {'id': 'tt0316654', 'title': 'Spider-Man 2', 'year': 2004, 'duration': 127, 'MPA': 'PG-13', 'rating': 7.5, 'votes': '741K', 'meta_score': 83.0, 'description': 'Peter Parker is beset with troubles in his failing personal life as he battles a former brilliant scientist named Otto Octavius.', 'Movie_Link': 'https://www.imdb.com/title/tt0316654', 'writers': \"['Stan Lee', 'Steve Ditko', 'Alfred Gough']\", 'directors': \"['Sam Raimi']\", 'stars': \"['Tobey Maguire', 'Kirsten Dunst', 'Alfred Molina', 'James Franco', 'Rosemary Harris', 'J.K. Simmons', 'Donna Murphy', 'Daniel Gillies', 'Dylan Baker', 'Bill Nunn']\", 'budget': '$200,000,000 (estimated)', 'opening_weekend_gross': '$88,156,227', 'gross_worldwide': '$784,543,400', 'gross_us_canada': '$374,337,514', 'release_date': 2004.0, 'countries_origin': \"['United States']\", 'filming_locations': \"['Spring Street Towers - 650 S. Spring Street, Downtown, Los Angeles, California, USA (bank)']\", 'production_companies': \"['Columbia Pictures', 'Marvel Enterprises', 'Laura Ziskin Productions']\", 'awards_content': \"['Won 1 Oscar', '25 wins & 60 nominations total']\", 'genres': \"['Superhero', 'Urban Adventure', 'Action', 'Adventure', 'Sci-Fi']\", 'languages': \"['English', 'Russian', 'Chinese']\"}\n",
      "8. ID: tt4633694, Result: {'id': 'tt4633694', 'title': 'Spider-Man: Into the Spider-Verse', 'year': 2018, 'duration': 117, 'MPA': 'PG', 'rating': 8.4, 'votes': '723K', 'meta_score': 87.0, 'description': 'Teen Miles Morales becomes the Spider-Man of his universe and must join with five spider-powered individuals from other dimensions to stop a threat for all realities.', 'Movie_Link': 'https://www.imdb.com/title/tt4633694', 'writers': \"['Phil Lord', 'Rodney Rothman']\", 'directors': \"['Bob Persichetti', 'Peter Ramsey', 'Rodney Rothman']\", 'stars': \"['Shameik Moore', 'Jake Johnson', 'Hailee Steinfeld', 'Mahershala Ali', 'Brian Tyree Henry', 'Lily Tomlin', 'Luna Lauren Velez', 'Zoë Kravitz', 'John Mulaney', 'Kimiko Glenn']\", 'budget': '$90,000,000 (estimated)', 'opening_weekend_gross': '$35,363,376', 'gross_worldwide': '$393,602,435', 'gross_us_canada': '$190,241,310', 'release_date': 0.0, 'countries_origin': \"['Canada', 'United States']\", 'filming_locations': '[]', 'production_companies': \"['Columbia Pictures', 'Marvel Entertainment', 'Avi Arad Productions']\", 'awards_content': \"['Won 1 Oscar', '85 wins & 61 nominations total']\", 'genres': \"['Computer Animation', 'Superhero', 'Supernatural Fantasy', 'Teen Adventure', 'Teen Comedy', 'Urban Adventure', 'Action', 'Adventure', 'Animation', 'Comedy']\", 'languages': \"['English', 'Spanish']\"}\n",
      "9. ID: tt0030779, Result: {'id': 'tt0030779', 'title': \"The Spider's Web\", 'year': 1938, 'duration': 300, 'MPA': 'Approved', 'rating': 6.8, 'votes': '177', 'meta_score': 0.0, 'description': 'A crime fighter known as The Spider battles a villain called The Octopus, who is out to sabotage America and install his own government.', 'Movie_Link': 'https://www.imdb.com/title/tt0030779', 'writers': \"['Robert E. Kent', 'George H. Plympton', 'Basil Dickey']\", 'directors': \"['James W. Horne', 'Ray Taylor']\", 'stars': \"['Warren Hull', 'Iris Meredith', 'Richard Fiske', 'Kenne Duncan', 'Forbes Murray', 'Donald Douglas', 'Marc Lawrence', 'Charles C. Wilson', 'John Tyrrell', 'Eugene Anderson Jr.']\", 'budget': nan, 'opening_weekend_gross': nan, 'gross_worldwide': nan, 'gross_us_canada': nan, 'release_date': 1938.0, 'countries_origin': \"['United States']\", 'filming_locations': '[]', 'production_companies': \"['Columbia Pictures']\", 'awards_content': '[]', 'genres': \"['Superhero', 'Action', 'Crime', 'Drama']\", 'languages': \"['English']\"}\n",
      "10. ID: tt0034223, Result: {'id': 'tt0034223', 'title': 'The Spider Returns', 'year': 1941, 'duration': 300, 'MPA': 'Approved', 'rating': 6.2, 'votes': '281', 'meta_score': 0.0, 'description': 'The evil and masked \"Gargoyle\" is sabotaging all of America\\'s industrial plants. It is up to the Spider to save the country.', 'Movie_Link': 'https://www.imdb.com/title/tt0034223', 'writers': \"['Morgan Cox', 'Lawrence Taylor', 'John Cutting']\", 'directors': \"['James W. Horne']\", 'stars': '[\\'Warren Hull\\', \\'Mary Ainslee\\', \"Dave O\\'Brien\", \\'Joseph W. Girard\\', \\'Kenne Duncan\\', \\'Corbet Morris\\', \\'Bryant Washburn\\', \\'Charles Miller\\', \\'Anthony Warde\\', \\'Harry Harvey\\']', 'budget': nan, 'opening_weekend_gross': nan, 'gross_worldwide': nan, 'gross_us_canada': nan, 'release_date': 1941.0, 'countries_origin': \"['United States']\", 'filming_locations': '[]', 'production_companies': \"['Larry Darmour Productions']\", 'awards_content': '[]', 'genres': \"['Superhero', 'Action', 'Adventure', 'Crime', 'Mystery']\", 'languages': \"['English']\"}\n"
     ]
    }
   ],
   "source": [
    "for i, res in enumerate(results, 1):\n",
    "    print(f\"{i}. ID: {res['id']}, Result: {res['metadata']}\")"
   ]
  },
  {
   "cell_type": "code",
   "execution_count": 16,
   "id": "e0802a17",
   "metadata": {},
   "outputs": [],
   "source": [
    "results = search_movies_dual_query_fast(\n",
    "    positive_query=\"war ww2 brad pitt\",\n",
    "    top_k=10,\n",
    "    row_checker={},\n",
    "    search_batch_size = 100,\n",
    "    alpha=1.0,\n",
    "    beta=1.0\n",
    ")"
   ]
  },
  {
   "cell_type": "code",
   "execution_count": 17,
   "id": "35f12bcd",
   "metadata": {},
   "outputs": [
    {
     "name": "stdout",
     "output_type": "stream",
     "text": [
      "1. ID: tt0076102, Result: {'id': 'tt0076102', 'title': 'The Biggest Battle', 'year': 1978, 'duration': 90, 'MPA': 'PG', 'rating': 4.7, 'votes': '619', 'meta_score': 0.0, 'description': 'How World War II affected the lives of a German family and an American family, both of whom had sons and fathers fighting in the war.', 'Movie_Link': 'https://www.imdb.com/title/tt0076102', 'writers': \"['Umberto Lenzi', 'Cesare Frugoni']\", 'directors': \"['Umberto Lenzi']\", 'stars': \"['Helmut Berger', 'Samantha Eggar', 'Giuliano Gemma', 'John Huston', 'Stacy Keach', 'Ray Lovelock', 'Aldo Massasso', 'Venantino Venantini', 'Ida Galli', 'Edwige Fenech']\", 'budget': nan, 'opening_weekend_gross': nan, 'gross_worldwide': nan, 'gross_us_canada': nan, 'release_date': 1978.0, 'countries_origin': \"['Italy', 'West Germany', 'Yugoslavia']\", 'filming_locations': \"['Venice, California, USA (beach scenes)']\", 'production_companies': \"['Dania Film', 'National Cinematografica']\", 'awards_content': '[]', 'genres': \"['Drama', 'War']\", 'languages': \"['Italian', 'German', 'English']\"}\n",
      "2. ID: tt0029656, Result: {'id': 'tt0029656', 'title': 'They Gave Him a Gun', 'year': 1937, 'duration': 94, 'MPA': 'Approved', 'rating': 6.3, 'votes': '415', 'meta_score': 0.0, 'description': 'A World War I veteran who married the girlfriend of his presumed-dead war buddy falls into the racketeering business.', 'Movie_Link': 'https://www.imdb.com/title/tt0029656', 'writers': \"['William J. Cowen', 'Cyril Hume', 'Richard Maibaum']\", 'directors': \"['W.S. Van Dyke']\", 'stars': \"['Spencer Tracy', 'Gladys George', 'Franchot Tone', 'Edgar Dearing', 'Mary Treen', 'Cliff Edwards', 'Charles Trowbridge', 'Ernie Alexander', 'Hooper Atchley', 'Irving Bacon']\", 'budget': nan, 'opening_weekend_gross': nan, 'gross_worldwide': nan, 'gross_us_canada': nan, 'release_date': 1937.0, 'countries_origin': \"['United States']\", 'filming_locations': \"['La Jolla, San Diego, California, USA']\", 'production_companies': \"['Metro-Goldwyn-Mayer (MGM)']\", 'awards_content': \"['Awards', '3 wins total']\", 'genres': \"['Film Noir', 'Crime', 'Drama', 'Romance', 'War']\", 'languages': \"['English', 'French']\"}\n",
      "3. ID: tt0061789, Result: {'id': 'tt0061789', 'title': 'How I Won the War', 'year': 1967, 'duration': 109, 'MPA': 'Approved', 'rating': 5.5, 'votes': '2.6K', 'meta_score': 0.0, 'description': 'An inept British World War II commander leads his troops through a series of misadventures in North Africa and Europe.', 'Movie_Link': 'https://www.imdb.com/title/tt0061789', 'writers': \"['Charles Wood', 'Patrick Ryan']\", 'directors': \"['Richard Lester']\", 'stars': \"['Michael Crawford', 'John Lennon', 'Roy Kinnear', 'Lee Montague', 'Jack MacGowran', 'Michael Hordern', 'Jack Hedley', 'Karl Michael Vogler', 'Ronald Lacey', 'James Cossins']\", 'budget': nan, 'opening_weekend_gross': nan, 'gross_worldwide': nan, 'gross_us_canada': nan, 'release_date': 1967.0, 'countries_origin': \"['United Kingdom']\", 'filming_locations': \"['Carboneras, Almería, Andalucía, Spain']\", 'production_companies': \"['Petersham Pictures']\", 'awards_content': '[]', 'genres': \"['Dark Comedy', 'Farce', 'Satire', 'Comedy', 'War']\", 'languages': \"['English']\"}\n",
      "4. ID: tt0183997, Result: {'id': 'tt0183997', 'title': 'War Comes to America', 'year': 1945, 'duration': 70, 'MPA': 'Not Rated', 'rating': 6.8, 'votes': '875', 'meta_score': 0.0, 'description': 'Part VII of the \"Why We Fight\" series of wartime documentaries. This entry attempts to describe the factors leading up to America\\'s entry into the Second World War.', 'Movie_Link': 'https://www.imdb.com/title/tt0183997', 'writers': \"['Julius J. Epstein', 'Adolf Hitler', 'Emma Lazarus']\", 'directors': \"['Frank Capra', 'Anatole Litvak']\", 'stars': \"['Dean Acheson', 'General Bergeret', 'Adolf A. Berle', 'Arno Breker', 'Neville Chamberlain', 'Winston Churchill', 'Galeazzo Ciano', 'Édouard Daladier', 'Charles Edison', 'Francisco Franco']\", 'budget': nan, 'opening_weekend_gross': nan, 'gross_worldwide': nan, 'gross_us_canada': nan, 'release_date': 1945.0, 'countries_origin': \"['United States']\", 'filming_locations': '[]', 'production_companies': \"['U.S. Army Pictorial Services']\", 'awards_content': \"['Awards', '1 win total']\", 'genres': \"['Documentary', 'War']\", 'languages': \"['English']\"}\n",
      "5. ID: tt0023992, Result: {'id': 'tt0023992', 'title': 'Ever in My Heart', 'year': 1933, 'duration': 68, 'MPA': 'Passed', 'rating': 6.6, 'votes': '857', 'meta_score': 0.0, 'description': 'World War I brings tribulations to an American woman married to a German.', 'Movie_Link': 'https://www.imdb.com/title/tt0023992', 'writers': \"['Bertram Millhauser', 'Beulah Marie Dix']\", 'directors': \"['Archie Mayo']\", 'stars': \"['Barbara Stanwyck', 'Otto Kruger', 'Ralph Bellamy', 'Ruth Donnelly', 'Laura Hope Crews', 'Frank Albertson', 'Ronnie Cosby', 'Clara Blandick', 'Elizabeth Patterson', 'Willard Robertson']\", 'budget': '$243,000 (estimated)', 'opening_weekend_gross': nan, 'gross_worldwide': nan, 'gross_us_canada': nan, 'release_date': 1933.0, 'countries_origin': \"['United States']\", 'filming_locations': \"['Warner Brothers Burbank Studios - 4000 Warner Boulevard, Burbank, California, USA (Studio)']\", 'production_companies': \"['Warner Bros.']\", 'awards_content': '[]', 'genres': \"['Drama', 'Romance', 'War']\", 'languages': \"['English', 'German']\"}\n",
      "6. ID: tt0043590, Result: {'id': 'tt0043590', 'title': 'Go for Broke!', 'year': 1951, 'duration': 92, 'MPA': 'Approved', 'rating': 6.6, 'votes': '1.9K', 'meta_score': 0.0, 'description': 'The story of Japanese-American soldiers who fought in Europe during World War II.', 'Movie_Link': 'https://www.imdb.com/title/tt0043590', 'writers': \"['Robert Pirosh']\", 'directors': \"['Robert Pirosh']\", 'stars': \"['Van Johnson', 'Lane Nakano', 'George Miki', 'Akira Fukunaga', 'Ken K. Okamoto', 'Henry Oyasato', 'Harry Hamada', 'Henry Nakamura', 'Warner Anderson', 'Don Haggerty']\", 'budget': '$1,337,000 (estimated)', 'opening_weekend_gross': nan, 'gross_worldwide': nan, 'gross_us_canada': nan, 'release_date': 1951.0, 'countries_origin': \"['United States']\", 'filming_locations': \"['Riverside County, California, USA']\", 'production_companies': '[\"Loew\\'s\"]', 'awards_content': \"['Nominated for 1 Oscar', '1 win & 1 nomination total']\", 'genres': \"['Drama', 'History', 'War']\", 'languages': \"['English', 'Japanese', 'Italian', 'Hawaiian', 'German', 'French']\"}\n",
      "7. ID: tt0025011, Result: {'id': 'tt0025011', 'title': 'Crimson Romance', 'year': 1934, 'duration': 71, 'MPA': 'Approved', 'rating': 5.6, 'votes': '191', 'meta_score': 0.0, 'description': 'After Fred von Bergen, a German immigrant in America, is forced from his job by anti-German hysteria before the Great War, he and his friend Bob Wilson leave America and join the German air force,', 'Movie_Link': 'https://www.imdb.com/title/tt0025011', 'writers': \"['Milton Krims', 'Al Martin', 'Sherman L. Lowe']\", 'directors': \"['David Howard']\", 'stars': \"['Ben Lyon', 'Sari Maritza', 'Erich von Stroheim', 'James Bush', 'William Bakewell', 'Hardie Albright', 'Herman Bing', 'Bodil Rosing', 'Vince Barnett', 'Arthur Clayton']\", 'budget': nan, 'opening_weekend_gross': nan, 'gross_worldwide': nan, 'gross_us_canada': nan, 'release_date': 1934.0, 'countries_origin': \"['United States']\", 'filming_locations': '[]', 'production_companies': \"['Mascot Pictures']\", 'awards_content': '[]', 'genres': \"['Action', 'Drama', 'War']\", 'languages': \"['English', 'German']\"}\n",
      "8. ID: tt0039041, Result: {'id': 'tt0039041', 'title': 'Tomorrow Is Forever', 'year': 1946, 'duration': 104, 'MPA': 'Approved', 'rating': 7.3, 'votes': '3.2K', 'meta_score': 0.0, 'description': 'An American World War I soldier whose disfigured face is reconstructed by Austrian plastic surgeons returns home after 20 years, but no one recognizes him, his widow is married to another man, and his son is a grown young man.', 'Movie_Link': 'https://www.imdb.com/title/tt0039041', 'writers': \"['Gwen Bristow', 'Lenore J. Coffee']\", 'directors': \"['Irving Pichel']\", 'stars': \"['Claudette Colbert', 'Orson Welles', 'George Brent', 'Lucile Watson', 'Richard Long', 'Natalie Wood', 'John Wengraf', 'Sonny Howe', 'Ian Wolfe', 'Joyce Mackenzie']\", 'budget': '$1,300,000 (estimated)', 'opening_weekend_gross': nan, 'gross_worldwide': nan, 'gross_us_canada': nan, 'release_date': 1946.0, 'countries_origin': \"['United States']\", 'filming_locations': \"['RMS Queen Mary - 1126 Queens Highway, Long Beach, California, USA (stock footage of ship at sea and docked in New York)']\", 'production_companies': \"['International Pictures (I)']\", 'awards_content': \"['Awards', '3 wins & 1 nomination total']\", 'genres': \"['Drama', 'Romance', 'War']\", 'languages': \"['English', 'German']\"}\n",
      "9. ID: tt0040645, Result: {'id': 'tt0040645', 'title': 'Night Wind', 'year': 1948, 'duration': 68, 'MPA': 'Approved', 'rating': 0.0, 'votes': nan, 'meta_score': 0.0, 'description': \"During World War Two,Big Dan (Flame) is a K-9 dog trained in warfare, and his American soldier mast is killed by the Germans. Years later, three men show up at a hunting lodge in America, where Big Dan is a pet of the young son of the lodge-owners. One of the men is wearing a trench coat worn by the his former master's killer. Big Dan attacks the man, who is revealed as a Nazi agent, spying on a nearby Atomic project.\", 'Movie_Link': 'https://www.imdb.com/title/tt0040645', 'writers': \"['Arnold Belgard', 'Robert G. North']\", 'directors': \"['James Tinling']\", 'stars': \"['Charles Russell', 'Virginia Christine', 'Gary Gray', 'John Ridgely', 'James Burke', 'Konstantin Shayne', 'William Stelling', 'Guy Kingsford', 'Charles Lang', 'Deanna Woodruff']\", 'budget': nan, 'opening_weekend_gross': nan, 'gross_worldwide': nan, 'gross_us_canada': nan, 'release_date': 1948.0, 'countries_origin': \"['United States']\", 'filming_locations': \"['Motion Picture Center Studios - 846 N. Cahuenga Blvd., Hollywood, Los Angeles, California, USA']\", 'production_companies': \"['Sol M. Wurtzel Productions']\", 'awards_content': '[]', 'genres': \"['Adventure', 'Drama', 'War']\", 'languages': \"['English']\"}\n",
      "10. ID: tt0035209, Result: {'id': 'tt0035209', 'title': 'Why We Fight', 'year': 1942, 'duration': 52, 'MPA': 'Not Rated', 'rating': 7.0, 'votes': '2.5K', 'meta_score': 0.0, 'description': 'The official World War II US Government film statement defining the various enemies of the Allies and why they must be fought.', 'Movie_Link': 'https://www.imdb.com/title/tt0035209', 'writers': \"['Julius J. Epstein', 'Robert Heller', 'Williband Hentschel']\", 'directors': \"['Frank Capra', 'Anatole Litvak']\", 'stars': \"['Walter Huston', 'Victor Bulwer-Lytton', 'Kai-Shek Chiang', 'Walter Darré', 'Otto Dietrich', 'Hans Frank', 'Joseph Goebbels', 'Hermann Göring', 'Rudolf Hess', 'Adolf Hitler']\", 'budget': nan, 'opening_weekend_gross': nan, 'gross_worldwide': nan, 'gross_us_canada': nan, 'release_date': 1942.0, 'countries_origin': \"['United States']\", 'filming_locations': '[]', 'production_companies': \"['U.S. War Department', 'Academy of Motion Picture Arts and Sciences (AMPAS)', 'U.S. Army Special Service Division']\", 'awards_content': \"['Won 1 Oscar', '5 wins total']\", 'genres': \"['Documentary', 'War']\", 'languages': \"['English', 'German', 'Italian', 'Japanese', 'Amharic', 'Russian']\"}\n"
     ]
    }
   ],
   "source": [
    "for i, res in enumerate(results, 1):\n",
    "    print(f\"{i}. ID: {res['id']}, Result: {res['metadata']}\")"
   ]
  }
 ],
 "metadata": {
  "kernelspec": {
   "display_name": "base",
   "language": "python",
   "name": "python3"
  },
  "language_info": {
   "codemirror_mode": {
    "name": "ipython",
    "version": 3
   },
   "file_extension": ".py",
   "mimetype": "text/x-python",
   "name": "python",
   "nbconvert_exporter": "python",
   "pygments_lexer": "ipython3",
   "version": "3.12.7"
  }
 },
 "nbformat": 4,
 "nbformat_minor": 5
}
