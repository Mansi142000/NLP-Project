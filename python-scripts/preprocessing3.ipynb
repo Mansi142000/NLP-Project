{
 "cells": [
  {
   "cell_type": "code",
   "execution_count": 2,
   "metadata": {},
   "outputs": [],
   "source": [
    "import kagglehub\n",
    "import pandas as pd\n",
    "import os\n"
   ]
  },
  {
   "cell_type": "code",
   "execution_count": 3,
   "metadata": {},
   "outputs": [
    {
     "name": "stdout",
     "output_type": "stream",
     "text": [
      "Warning: Looks like you're using an outdated `kagglehub` version (installed: 0.3.10), please consider upgrading to the latest version (0.3.11).\n",
      "Loaded dataset from: C:\\Users\\RohanDalvi\\.cache\\kagglehub\\datasets\\raedaddala\\top-500-600-movies-of-each-year-from-1960-to-2024\\versions\\3\\final_dataset.csv\n",
      "          id                            title  year duration MPA  rating  \\\n",
      "0  tt0073195                             Jaws  1975    2h 4m  PG     8.1   \n",
      "1  tt0073629    The Rocky Horror Picture Show  1975   1h 40m   R     7.4   \n",
      "2  tt0073486  One Flew Over the Cuckoo's Nest  1975   2h 13m   R     8.7   \n",
      "3  tt0072890                Dog Day Afternoon  1975    2h 5m   R     8.0   \n",
      "4  tt0073692                          Shampoo  1975   1h 50m   R     6.4   \n",
      "\n",
      "  votes  meta_score                                        description  \\\n",
      "0  690K        87.0  When a massive killer shark unleashes chaos on...   \n",
      "1  174K        65.0  A newly-engaged couple have a breakdown in an ...   \n",
      "2  1.1M        84.0  In the Fall of 1963, a Korean War veteran and ...   \n",
      "3  281K        86.0  Three amateur robbers plan to hold up a Brookl...   \n",
      "4   15K        65.0  On Election Day, 1968, irresponsible hairdress...   \n",
      "\n",
      "                             Movie_Link  ... opening_weekend_gross  \\\n",
      "0  https://www.imdb.com/title/tt0073195  ...            $7,061,513   \n",
      "1  https://www.imdb.com/title/tt0073629  ...                   NaN   \n",
      "2  https://www.imdb.com/title/tt0073486  ...                   NaN   \n",
      "3  https://www.imdb.com/title/tt0072890  ...                   NaN   \n",
      "4  https://www.imdb.com/title/tt0073692  ...                   NaN   \n",
      "\n",
      "  gross_worldwide gross_us_canada release_date  \\\n",
      "0    $477,916,625    $267,263,625       1975.0   \n",
      "1    $115,827,018    $112,892,319       1975.0   \n",
      "2    $109,115,366    $108,981,275       1975.0   \n",
      "3     $50,004,527     $50,000,000       1975.0   \n",
      "4     $49,407,734     $49,407,734       1975.0   \n",
      "\n",
      "                      countries_origin  \\\n",
      "0                    ['United States']   \n",
      "1  ['United Kingdom', 'United States']   \n",
      "2                    ['United States']   \n",
      "3                    ['United States']   \n",
      "4                    ['United States']   \n",
      "\n",
      "                                   filming_locations  \\\n",
      "0  [\"Water Street, Edgartown, Martha's Vineyard, ...   \n",
      "1  [\"Oakley Court, Windsor Road, Oakley Green, Wi...   \n",
      "2  ['Oregon State Mental Hospital - 2600 Center S...   \n",
      "3  ['285 Prospect Park West, Brooklyn, New York C...   \n",
      "4  [\"2270 Bowmont Drive, Beverly Hills, Californi...   \n",
      "\n",
      "                                production_companies  \\\n",
      "0  ['Zanuck/Brown Productions', 'Universal Pictur...   \n",
      "1  ['Twentieth Century Fox', 'Michael White Produ...   \n",
      "2                   ['Fantasy Films', 'N.V. Zvaluw']   \n",
      "3  ['Warner Bros.', 'Artists Entertainment Complex']   \n",
      "4  ['Persky-Bright / Vista', 'Columbia Pictures',...   \n",
      "\n",
      "                                 awards_content  \\\n",
      "0  Won 3 Oscars, 16 wins & 20 nominations total   \n",
      "1          Awards, 3 wins & 4 nominations total   \n",
      "2  Won 5 Oscars, 38 wins & 15 nominations total   \n",
      "3   Won 1 Oscar, 14 wins & 20 nominations total   \n",
      "4    Won 1 Oscar, 3 wins & 11 nominations total   \n",
      "\n",
      "                                              genres    languages  \n",
      "0  ['Monster Horror', 'Sea Adventure', 'Survival'...  ['English']  \n",
      "1  ['B-Horror', 'Dark Comedy', 'Parody', 'Raunchy...  ['English']  \n",
      "2  ['Medical Drama', 'Psychological Drama', 'Drama']  ['English']  \n",
      "3  ['Dark Comedy', 'Heist', 'True Crime', 'Biogra...  ['English']  \n",
      "4                      ['Satire', 'Comedy', 'Drama']  ['English']  \n",
      "\n",
      "[5 rows x 24 columns]\n"
     ]
    }
   ],
   "source": [
    "dataset_path = kagglehub.dataset_download(\"raedaddala/top-500-600-movies-of-each-year-from-1960-to-2024\")\n",
    "\n",
    "csv_filename = os.path.join(dataset_path, \"final_dataset.csv\")\n",
    "df = pd.read_csv(csv_filename)\n",
    "\n",
    "print(\"Loaded dataset from:\", csv_filename)\n",
    "print(df.head())\n"
   ]
  },
  {
   "cell_type": "code",
   "execution_count": 4,
   "metadata": {},
   "outputs": [],
   "source": [
    "def convert_duration_to_minutes(duration):\n",
    "    if pd.isna(duration):\n",
    "        return 0  \n",
    "    if isinstance(duration, int):\n",
    "        return duration  \n",
    "\n",
    "    total_minutes = 0\n",
    "    parts = duration.split()\n",
    "    for part in parts:\n",
    "        if 'h' in part:\n",
    "            total_minutes += int(part[:-1]) * 60 \n",
    "        elif 'm' in part:\n",
    "            total_minutes += int(part[:-1])  \n",
    "    return total_minutes\n",
    "\n",
    "df['duration'] = df['duration'].apply(convert_duration_to_minutes)\n",
    "\n",
    "\n"
   ]
  },
  {
   "cell_type": "code",
   "execution_count": 5,
   "metadata": {},
   "outputs": [
    {
     "name": "stderr",
     "output_type": "stream",
     "text": [
      "C:\\Users\\RohanDalvi\\AppData\\Local\\Temp\\ipykernel_23384\\1653071518.py:5: FutureWarning: A value is trying to be set on a copy of a DataFrame or Series through chained assignment using an inplace method.\n",
      "The behavior will change in pandas 3.0. This inplace method will never work because the intermediate object on which we are setting values always behaves as a copy.\n",
      "\n",
      "For example, when doing 'df[col].method(value, inplace=True)', try using 'df.method({col: value}, inplace=True)' or df[col] = df[col].method(value) instead, to perform the operation inplace on the original object.\n",
      "\n",
      "\n",
      "  df[col].fillna('', inplace=True)\n",
      "C:\\Users\\RohanDalvi\\AppData\\Local\\Temp\\ipykernel_23384\\1653071518.py:3: FutureWarning: A value is trying to be set on a copy of a DataFrame or Series through chained assignment using an inplace method.\n",
      "The behavior will change in pandas 3.0. This inplace method will never work because the intermediate object on which we are setting values always behaves as a copy.\n",
      "\n",
      "For example, when doing 'df[col].method(value, inplace=True)', try using 'df.method({col: value}, inplace=True)' or df[col] = df[col].method(value) instead, to perform the operation inplace on the original object.\n",
      "\n",
      "\n",
      "  df[col].fillna(0, inplace=True)\n"
     ]
    }
   ],
   "source": [
    "for col in df.columns:\n",
    "    if df[col].dtype in ['int', 'int64', 'float64']: \n",
    "        df[col].fillna(0, inplace=True)\n",
    "    else:\n",
    "        df[col].fillna('', inplace=True)"
   ]
  },
  {
   "cell_type": "code",
   "execution_count": 6,
   "metadata": {},
   "outputs": [],
   "source": [
    "import ast\n",
    "import pandas as pd"
   ]
  },
  {
   "cell_type": "code",
   "execution_count": 7,
   "metadata": {},
   "outputs": [],
   "source": [
    "def parse_list(cell):\n",
    "    if pd.isnull(cell) or cell == \"\":\n",
    "        return []\n",
    "    try:\n",
    "        return ast.literal_eval(cell)  \n",
    "    except (ValueError, SyntaxError):\n",
    "        return cell.split(\", \")  \n"
   ]
  },
  {
   "cell_type": "code",
   "execution_count": null,
   "metadata": {},
   "outputs": [],
   "source": [
    "import re\n",
    "import ast\n",
    "\n",
    "def get_cleaned_name_string(name_list):\n",
    "    cleaned_names = []\n",
    "    if isinstance(name_list, str):\n",
    "        if name_list != \"\":\n",
    "            name_list = ast.literal_eval(name_list)\n",
    "    if not isinstance(name_list, list):\n",
    "        name_list = []\n",
    "    for name in name_list:\n",
    "        cleaned_name = re.sub(r'[^a-zA-Z]', '', name).lower()\n",
    "        cleaned_names.append(cleaned_name)\n",
    "    return ' '.join(cleaned_names)\n"
   ]
  },
  {
   "cell_type": "code",
   "execution_count": 40,
   "metadata": {},
   "outputs": [],
   "source": [
    "def get_cleaned_locations(locations):\n",
    "    cleaned_locations = []\n",
    "    if isinstance(locations, str):\n",
    "        if locations != \"\":\n",
    "            locations = ast.literal_eval(locations)\n",
    "    if not isinstance(locations, list):\n",
    "        locations = []\n",
    "    for location in locations:\n",
    "        cleaned_location = desc_cleaning(location)\n",
    "        cleaned_locations.append(cleaned_location)\n",
    "    return ' '.join(cleaned_locations)"
   ]
  },
  {
   "cell_type": "code",
   "execution_count": 9,
   "metadata": {},
   "outputs": [
    {
     "name": "stderr",
     "output_type": "stream",
     "text": [
      "[nltk_data] Downloading package stopwords to\n",
      "[nltk_data]     C:\\Users\\RohanDalvi\\AppData\\Roaming\\nltk_data...\n",
      "[nltk_data]   Package stopwords is already up-to-date!\n",
      "[nltk_data] Downloading package punkt to\n",
      "[nltk_data]     C:\\Users\\RohanDalvi\\AppData\\Roaming\\nltk_data...\n",
      "[nltk_data]   Package punkt is already up-to-date!\n"
     ]
    },
    {
     "data": {
      "text/plain": [
       "True"
      ]
     },
     "execution_count": 9,
     "metadata": {},
     "output_type": "execute_result"
    }
   ],
   "source": [
    "import re\n",
    "import nltk\n",
    "from nltk.corpus import stopwords\n",
    "from nltk.tokenize import word_tokenize\n",
    "\n",
    "nltk.download('stopwords')\n",
    "nltk.download('punkt')"
   ]
  },
  {
   "cell_type": "code",
   "execution_count": 10,
   "metadata": {},
   "outputs": [],
   "source": [
    "def desc_cleaning(desc):\n",
    "    desc = desc.lower()\n",
    "    desc = re.sub(r'[^a-z\\s]', '', desc)\n",
    "    words = word_tokenize(desc)\n",
    "    stop_words = set(stopwords.words('english'))\n",
    "    filtered_words = [word for word in words if word not in stop_words]\n",
    "    return ' '.join(filtered_words)"
   ]
  },
  {
   "cell_type": "code",
   "execution_count": 11,
   "metadata": {},
   "outputs": [],
   "source": [
    "def name_cleaning(name):\n",
    "    name = name.lower()\n",
    "    words = str.split(name)\n",
    "    stop_words = set(stopwords.words('english'))\n",
    "    filtered_words = [word for word in words if word not in stop_words]\n",
    "    return ' '.join(filtered_words)"
   ]
  },
  {
   "cell_type": "code",
   "execution_count": null,
   "metadata": {},
   "outputs": [],
   "source": [
    "def get_cleaned_doc(row):\n",
    "    new_name = name_cleaning(row['title'])\n",
    "    new_desc = desc_cleaning(row['description'])\n",
    "    new_stars = get_cleaned_name_string(row['stars'])\n",
    "    new_directors = get_cleaned_name_string(row['directors'])\n",
    "    new_genres = get_cleaned_locations(row['genres'])\n",
    "    new_production = get_cleaned_locations(row['production_companies'])\n",
    "    new_filming_locations = get_cleaned_locations(row['filming_locations'])\n",
    "    new_language = get_cleaned_name_string(row['languages'])\n",
    "    new_countries = get_cleaned_name_string(row['countries_origin'])\n",
    "    doc_list = [new_name, new_desc, new_stars, new_directors, new_genres, new_production, new_filming_locations, new_language, new_countries]\n",
    "    return str.join(\" \", doc_list)\n"
   ]
  },
  {
   "cell_type": "code",
   "execution_count": 42,
   "metadata": {},
   "outputs": [
    {
     "name": "stdout",
     "output_type": "stream",
     "text": [
      "Movie ID: tt0073195, Data: {'docs': 'jaws massive killer shark unleashes chaos beach community long island local sheriff marine biologist old seafarer hunt beast royscheider robertshaw richarddreyfuss lorrainegary murrayhamilton carlgottlieb jeffreykramer susanbacklinie jonathanfilley tedgrossman stevenspielberg monsterhorror seaadventure survival adventure drama horror thriller zanuckbrownproductions universalpictures water street edgartown marthas vineyard massachusetts usa english unitedstates', 'title': 'Jaws', 'year': 1975, 'duration': 124, 'MPA': 'PG', 'rating': 8.1, 'votes': '690K', 'meta_score': 87.0, 'description': \"When a massive killer shark unleashes chaos on a beach community off Long Island, it's up to a local sheriff, a marine biologist, and an old seafarer to hunt the beast down.\", 'Movie_Link': 'https://www.imdb.com/title/tt0073195', 'writers': ['Peter Benchley', 'Carl Gottlieb'], 'directors': ['Steven Spielberg'], 'stars': ['Roy Scheider', 'Robert Shaw', 'Richard Dreyfuss', 'Lorraine Gary', 'Murray Hamilton', 'Carl Gottlieb', 'Jeffrey Kramer', 'Susan Backlinie', 'Jonathan Filley', 'Ted Grossman'], 'budget': '$7,000,000 (estimated)', 'opening_weekend_gross': '$7,061,513', 'gross_worldwide': '$477,916,625', 'gross_us_canada': '$267,263,625', 'release_date': 1975.0, 'countries_origin': ['United States'], 'filming_locations': [\"Water Street, Edgartown, Martha's Vineyard, Massachusetts, USA\"], 'production_companies': ['Zanuck/Brown Productions', 'Universal Pictures'], 'awards_content': ['Won 3 Oscars', '16 wins & 20 nominations total'], 'genres': ['Monster Horror', 'Sea Adventure', 'Survival', 'Adventure', 'Drama', 'Horror', 'Thriller'], 'languages': ['English']}\n",
      "Movie ID: tt0073629, Data: {'docs': 'rocky horror picture show newlyengaged couple breakdown isolated area must seek shelter bizarre residence dr franknfurter timcurry susansarandon barrybostwick richardobrien patriciaquinn nellcampbell jonathanadams peterhinwood meatloaf charlesgray jimsharman bhorror darkcomedy parody raunchycomedy rockmusical supernaturalhorror comedy horror musical twentiethcenturyfox michaelwhiteproductions oakley court windsor road oakley green windsor berkshire england uk castle exterior criminologists study brads room janets room dining room columbias room entrance hall stairs english unitedkingdom unitedstates', 'title': 'The Rocky Horror Picture Show', 'year': 1975, 'duration': 100, 'MPA': 'R', 'rating': 7.4, 'votes': '174K', 'meta_score': 65.0, 'description': 'A newly-engaged couple have a breakdown in an isolated area and must seek shelter at the bizarre residence of Dr. Frank-n-Furter.', 'Movie_Link': 'https://www.imdb.com/title/tt0073629', 'writers': [\"Richard O'Brien\", 'Jim Sharman'], 'directors': ['Jim Sharman'], 'stars': ['Tim Curry', 'Susan Sarandon', 'Barry Bostwick', \"Richard O'Brien\", 'Patricia Quinn', 'Nell Campbell', 'Jonathan Adams', 'Peter Hinwood', 'Meat Loaf', 'Charles Gray'], 'budget': '$1,200,000 (estimated)', 'opening_weekend_gross': '', 'gross_worldwide': '$115,827,018', 'gross_us_canada': '$112,892,319', 'release_date': 1975.0, 'countries_origin': ['United Kingdom', 'United States'], 'filming_locations': [\"Oakley Court, Windsor Road, Oakley Green, Windsor, Berkshire, England, UK (castle exterior, criminologist's study, Brad's room, Janet's room, dining room, Columbia's room, entrance hall and stairs)\"], 'production_companies': ['Twentieth Century Fox', 'Michael White Productions'], 'awards_content': ['Awards', '3 wins & 4 nominations total'], 'genres': ['B-Horror', 'Dark Comedy', 'Parody', 'Raunchy Comedy', 'Rock Musical', 'Supernatural Horror', 'Comedy', 'Horror', 'Musical'], 'languages': ['English']}\n",
      "Movie ID: tt0073486, Data: {'docs': \"one flew cuckoo's nest fall korean war veteran criminal pleads insanity admitted mental institution rallies scared patients tyrannical nurse jacknicholson louisefletcher michaelberryman peterbrocco deanrbrooks alonzobrown scatmancrothers mwakocumbuka dannydevito williamduell milosforman medicaldrama psychologicaldrama drama fantasyfilms nvzvaluw oregon state mental hospital center street ne salem oregon usa english unitedstates\", 'title': \"One Flew Over the Cuckoo's Nest\", 'year': 1975, 'duration': 133, 'MPA': 'R', 'rating': 8.7, 'votes': '1.1M', 'meta_score': 84.0, 'description': 'In the Fall of 1963, a Korean War veteran and criminal pleads insanity and is admitted to a mental institution, where he rallies up the scared patients against the tyrannical nurse.', 'Movie_Link': 'https://www.imdb.com/title/tt0073486', 'writers': ['Lawrence Hauben', 'Bo Goldman', 'Ken Kesey'], 'directors': ['Milos Forman'], 'stars': ['Jack Nicholson', 'Louise Fletcher', 'Michael Berryman', 'Peter Brocco', 'Dean R. Brooks', 'Alonzo Brown', 'Scatman Crothers', 'Mwako Cumbuka', 'Danny DeVito', 'William Duell'], 'budget': '$3,000,000 (estimated)', 'opening_weekend_gross': '', 'gross_worldwide': '$109,115,366', 'gross_us_canada': '$108,981,275', 'release_date': 1975.0, 'countries_origin': ['United States'], 'filming_locations': ['Oregon State Mental Hospital - 2600 Center Street NE, Salem, Oregon, USA'], 'production_companies': ['Fantasy Films', 'N.V. Zvaluw'], 'awards_content': ['Won 5 Oscars', '38 wins & 15 nominations total'], 'genres': ['Medical Drama', 'Psychological Drama', 'Drama'], 'languages': ['English']}\n",
      "Movie ID: tt0072890, Data: {'docs': 'dog day afternoon three amateur robbers plan hold brooklyn bank nice simple robbery walk take money run unfortunately supposedly uncomplicated heist suddenly becomes bizarre nightmare everything could go wrong alpacino johncazale penelopeallen sullyboyar beulahgarrick carolkane sandrakazan marciajeankurtz amylevitt johnmarriott sidneylumet darkcomedy heist truecrime biography crime drama thriller warnerbros artistsentertainmentcomplex prospect park west brooklyn new york city new york usa bank exterior english unitedstates', 'title': 'Dog Day Afternoon', 'year': 1975, 'duration': 125, 'MPA': 'R', 'rating': 8.0, 'votes': '281K', 'meta_score': 86.0, 'description': 'Three amateur robbers plan to hold up a Brooklyn bank. A nice, simple robbery: Walk in, take the money, and run. Unfortunately, the supposedly uncomplicated heist suddenly becomes a bizarre nightmare as everything that could go wrong does.', 'Movie_Link': 'https://www.imdb.com/title/tt0072890', 'writers': ['Frank Pierson', 'P.F. Kluge', 'Thomas Moore'], 'directors': ['Sidney Lumet'], 'stars': ['Al Pacino', 'John Cazale', 'Penelope Allen', 'Sully Boyar', 'Beulah Garrick', 'Carol Kane', 'Sandra Kazan', 'Marcia Jean Kurtz', 'Amy Levitt', 'John Marriott'], 'budget': '$1,800,000 (estimated)', 'opening_weekend_gross': '', 'gross_worldwide': '$50,004,527', 'gross_us_canada': '$50,000,000', 'release_date': 1975.0, 'countries_origin': ['United States'], 'filming_locations': ['285 Prospect Park West, Brooklyn, New York City, New York, USA (Bank exterior)'], 'production_companies': ['Warner Bros.', 'Artists Entertainment Complex'], 'awards_content': ['Won 1 Oscar', '14 wins & 20 nominations total'], 'genres': ['Dark Comedy', 'Heist', 'True Crime', 'Biography', 'Crime', 'Drama', 'Thriller'], 'languages': ['English']}\n",
      "Movie ID: tt0073692, Data: {'docs': 'shampoo election day irresponsible hairdresser ladies man george roundy busy cutting hair dealing girlfriends mistress felicia karpf whose husband lester affair exgirlfriend jackie warrenbeatty juliechristie goldiehawn leegrant jackwarden tonybill georgefurth jayrobinson annweldon luanaanders halashby satire comedy drama perskybrightvista columbiapictures rubeekerfilms bowmont drive beverly hills california usa jackies house bowmont hazen english unitedstates', 'title': 'Shampoo', 'year': 1975, 'duration': 110, 'MPA': 'R', 'rating': 6.4, 'votes': '15K', 'meta_score': 65.0, 'description': \"On Election Day, 1968, irresponsible hairdresser and ladies' man George Roundy is too busy cutting hair and dealing with his girlfriends and mistress Felicia Karpf, whose husband Lester is having an affair with his ex-girlfriend Jackie.\", 'Movie_Link': 'https://www.imdb.com/title/tt0073692', 'writers': ['Robert Towne', 'Warren Beatty'], 'directors': ['Hal Ashby'], 'stars': ['Warren Beatty', 'Julie Christie', 'Goldie Hawn', 'Lee Grant', 'Jack Warden', 'Tony Bill', 'George Furth', 'Jay Robinson', 'Ann Weldon', 'Luana Anders'], 'budget': '$4,000,000 (estimated)', 'opening_weekend_gross': '', 'gross_worldwide': '$49,407,734', 'gross_us_canada': '$49,407,734', 'release_date': 1975.0, 'countries_origin': ['United States'], 'filming_locations': [\"2270 Bowmont Drive, Beverly Hills, California, USA (Jackie's House at Bowmont & Hazen)\"], 'production_companies': ['Persky-Bright / Vista', 'Columbia Pictures', 'Rubeeker Films'], 'awards_content': ['Won 1 Oscar', '3 wins & 11 nominations total'], 'genres': ['Satire', 'Comedy', 'Drama'], 'languages': ['English']}\n"
     ]
    }
   ],
   "source": [
    "movie_data_dict = {}\n",
    "\n",
    "# First iteration to store cleaned document data\n",
    "for _, row in df.iterrows():\n",
    "    id = row[\"id\"]\n",
    "    movie_data_dict[id] = {\n",
    "        \"docs\": get_cleaned_doc(row)\n",
    "    }\n",
    "\n",
    "# Second iteration to add other movie data\n",
    "for _, row in df.iterrows():\n",
    "    id = row[\"id\"]\n",
    "    if id in movie_data_dict:\n",
    "        movie_data_dict[id].update({\n",
    "            \"title\": row[\"title\"],\n",
    "            \"year\": row[\"year\"],\n",
    "            \"duration\": row[\"duration\"],\n",
    "            \"MPA\": row[\"MPA\"],\n",
    "            \"rating\": row[\"rating\"],\n",
    "            \"votes\": row[\"votes\"],\n",
    "            \"meta_score\": row[\"meta_score\"],\n",
    "            \"description\": row[\"description\"],\n",
    "            \"Movie_Link\": row[\"Movie_Link\"],\n",
    "            \"writers\": parse_list(row[\"writers\"]),\n",
    "            \"directors\": parse_list(row[\"directors\"]),\n",
    "            \"stars\": parse_list(row[\"stars\"]),\n",
    "            \"budget\": row[\"budget\"],\n",
    "            \"opening_weekend_gross\": row[\"opening_weekend_gross\"],\n",
    "            \"gross_worldwide\": row[\"gross_worldwide\"],\n",
    "            \"gross_us_canada\": row[\"gross_us_canada\"],\n",
    "            \"release_date\": row[\"release_date\"],\n",
    "            \"countries_origin\": parse_list(row[\"countries_origin\"]),\n",
    "            \"filming_locations\": parse_list(row[\"filming_locations\"]),\n",
    "            \"production_companies\": parse_list(row[\"production_companies\"]),\n",
    "            \"awards_content\": parse_list(row[\"awards_content\"]),\n",
    "            \"genres\": parse_list(row[\"genres\"]),\n",
    "            \"languages\": parse_list(row[\"languages\"])\n",
    "        })\n",
    "\n",
    "# Print first 5 movie IDs and their data\n",
    "first_5_keys = list(movie_data_dict.keys())[:5]\n",
    "for key in first_5_keys:\n",
    "    print(f\"Movie ID: {key}, Data: {movie_data_dict[key]}\")\n"
   ]
  },
  {
   "cell_type": "code",
   "execution_count": null,
   "metadata": {},
   "outputs": [],
   "source": []
  },
  {
   "cell_type": "code",
   "execution_count": 44,
   "metadata": {},
   "outputs": [
    {
     "name": "stdout",
     "output_type": "stream",
     "text": [
      "Dictionary saved to ./../cleaned_database/cleaned_final_dataset3.csv\n"
     ]
    }
   ],
   "source": [
    "df_cleaned = pd.DataFrame.from_dict(movie_data_dict, orient=\"index\")\n",
    "df_cleaned.to_csv(\"./../cleaned_database/cleaned_final_dataset3.csv\", index_label=\"id\")\n",
    "print(\"Dictionary saved to ./../cleaned_database/cleaned_final_dataset3.csv\")\n"
   ]
  }
 ],
 "metadata": {
  "kernelspec": {
   "display_name": "base",
   "language": "python",
   "name": "python3"
  },
  "language_info": {
   "codemirror_mode": {
    "name": "ipython",
    "version": 3
   },
   "file_extension": ".py",
   "mimetype": "text/x-python",
   "name": "python",
   "nbconvert_exporter": "python",
   "pygments_lexer": "ipython3",
   "version": "3.12.7"
  }
 },
 "nbformat": 4,
 "nbformat_minor": 2
}
