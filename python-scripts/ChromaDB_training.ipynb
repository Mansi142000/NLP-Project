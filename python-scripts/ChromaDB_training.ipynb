{
 "cells": [
  {
   "cell_type": "markdown",
   "metadata": {},
   "source": [
    "# Create ChromaDB embeddings Model. "
   ]
  },
  {
   "cell_type": "markdown",
   "metadata": {},
   "source": [
    "### Installing Dependencies\n",
    "Pip install libraries as required"
   ]
  },
  {
   "cell_type": "code",
   "execution_count": null,
   "metadata": {},
   "outputs": [],
   "source": [
    "import pandas as pd\n",
    "import ast\n",
    "import chromadb"
   ]
  },
  {
   "cell_type": "markdown",
   "metadata": {},
   "source": [
    "## Fetch Cleaned Dataset into dataframe"
   ]
  },
  {
   "cell_type": "code",
   "execution_count": 17,
   "metadata": {},
   "outputs": [],
   "source": [
    "df_original = pd.read_csv('./../cleaned_database/cleaned_final_dataset3.csv')"
   ]
  },
  {
   "cell_type": "markdown",
   "metadata": {},
   "source": [
    "save a copy incase you modify the df."
   ]
  },
  {
   "cell_type": "code",
   "execution_count": 6,
   "metadata": {},
   "outputs": [],
   "source": [
    "df = df_original.copy()"
   ]
  },
  {
   "cell_type": "markdown",
   "metadata": {},
   "source": [
    "## Seperate IDs, Documents, and Metadata"
   ]
  },
  {
   "cell_type": "code",
   "execution_count": 7,
   "metadata": {},
   "outputs": [],
   "source": [
    "ids = df[\"id\"].astype(str).tolist()\n",
    "documents = df[\"docs\"].astype(str).tolist()\n",
    "metadata = df.drop(columns=[\"id\", \"docs\"]).to_dict(orient=\"records\")"
   ]
  },
  {
   "cell_type": "markdown",
   "metadata": {},
   "source": [
    "### print and check some entries to ensure data has been fetched correctly"
   ]
  },
  {
   "cell_type": "code",
   "execution_count": 8,
   "metadata": {},
   "outputs": [
    {
     "name": "stdout",
     "output_type": "stream",
     "text": [
      "\n",
      "Record 1\n",
      "ID: tt0073195\n",
      "Document: jaws massive killer shark unleashes chaos beach community long island local sheriff marine biologist old seafarer hunt beast royscheider robertshaw richarddreyfuss lorrainegary murrayhamilton carlgottlieb jeffreykramer susanbacklinie jonathanfilley tedgrossman stevenspielberg monsterhorror seaadventure survival adventure drama horror thriller zanuckbrownproductions universalpictures water street edgartown marthas vineyard massachusetts usa english unitedstates...\n",
      "Metadata keys: ['title', 'year', 'duration', 'MPA', 'rating', 'votes', 'meta_score', 'description', 'Movie_Link', 'writers', 'directors', 'stars', 'budget', 'opening_weekend_gross', 'gross_worldwide', 'gross_us_canada', 'release_date', 'countries_origin', 'filming_locations', 'production_companies', 'awards_content', 'genres', 'languages']\n",
      "Metadata sample: {'title': 'Jaws', 'year': 1975, 'duration': 124, 'MPA': 'PG', 'rating': 8.1, 'votes': '690K', 'meta_score': 87.0, 'description': \"When a massive killer shark unleashes chaos on a beach community off Long Island, it's up to a local sheriff, a marine biologist, and an old seafarer to hunt the beast down.\", 'Movie_Link': 'https://www.imdb.com/title/tt0073195', 'writers': \"['Peter Benchley', 'Carl Gottlieb']\", 'directors': \"['Steven Spielberg']\", 'stars': \"['Roy Scheider', 'Robert Shaw', 'Richard Dreyfuss', 'Lorraine Gary', 'Murray Hamilton', 'Carl Gottlieb', 'Jeffrey Kramer', 'Susan Backlinie', 'Jonathan Filley', 'Ted Grossman']\", 'budget': '$7,000,000 (estimated)', 'opening_weekend_gross': '$7,061,513', 'gross_worldwide': '$477,916,625', 'gross_us_canada': '$267,263,625', 'release_date': 1975.0, 'countries_origin': \"['United States']\", 'filming_locations': '[\"Water Street, Edgartown, Martha\\'s Vineyard, Massachusetts, USA\"]', 'production_companies': \"['Zanuck/Brown Productions', 'Universal Pictures']\", 'awards_content': \"['Won 3 Oscars', '16 wins & 20 nominations total']\", 'genres': \"['Monster Horror', 'Sea Adventure', 'Survival', 'Adventure', 'Drama', 'Horror', 'Thriller']\", 'languages': \"['English']\"}...\n",
      "\n",
      "Record 2\n",
      "ID: tt0073629\n",
      "Document: rocky horror picture show newlyengaged couple breakdown isolated area must seek shelter bizarre residence dr franknfurter timcurry susansarandon barrybostwick richardobrien patriciaquinn nellcampbell jonathanadams peterhinwood meatloaf charlesgray jimsharman bhorror darkcomedy parody raunchycomedy rockmusical supernaturalhorror comedy horror musical twentiethcenturyfox michaelwhiteproductions oakley court windsor road oakley green windsor berkshire england uk castle exterior criminologists study brads room janets room dining room columbias room entrance hall stairs english unitedkingdom unitedstates...\n",
      "Metadata keys: ['title', 'year', 'duration', 'MPA', 'rating', 'votes', 'meta_score', 'description', 'Movie_Link', 'writers', 'directors', 'stars', 'budget', 'opening_weekend_gross', 'gross_worldwide', 'gross_us_canada', 'release_date', 'countries_origin', 'filming_locations', 'production_companies', 'awards_content', 'genres', 'languages']\n",
      "Metadata sample: {'title': 'The Rocky Horror Picture Show', 'year': 1975, 'duration': 100, 'MPA': 'R', 'rating': 7.4, 'votes': '174K', 'meta_score': 65.0, 'description': 'A newly-engaged couple have a breakdown in an isolated area and must seek shelter at the bizarre residence of Dr. Frank-n-Furter.', 'Movie_Link': 'https://www.imdb.com/title/tt0073629', 'writers': '[\"Richard O\\'Brien\", \\'Jim Sharman\\']', 'directors': \"['Jim Sharman']\", 'stars': '[\\'Tim Curry\\', \\'Susan Sarandon\\', \\'Barry Bostwick\\', \"Richard O\\'Brien\", \\'Patricia Quinn\\', \\'Nell Campbell\\', \\'Jonathan Adams\\', \\'Peter Hinwood\\', \\'Meat Loaf\\', \\'Charles Gray\\']', 'budget': '$1,200,000 (estimated)', 'opening_weekend_gross': nan, 'gross_worldwide': '$115,827,018', 'gross_us_canada': '$112,892,319', 'release_date': 1975.0, 'countries_origin': \"['United Kingdom', 'United States']\", 'filming_locations': '[\"Oakley Court, Windsor Road, Oakley Green, Windsor, Berkshire, England, UK (castle exterior, criminologist\\'s study, Brad\\'s room, Janet\\'s room, dining room, Columbia\\'s room, entrance hall and stairs)\"]', 'production_companies': \"['Twentieth Century Fox', 'Michael White Productions']\", 'awards_content': \"['Awards', '3 wins & 4 nominations total']\", 'genres': \"['B-Horror', 'Dark Comedy', 'Parody', 'Raunchy Comedy', 'Rock Musical', 'Supernatural Horror', 'Comedy', 'Horror', 'Musical']\", 'languages': \"['English']\"}...\n",
      "\n",
      "Record 3\n",
      "ID: tt0073486\n",
      "Document: one flew cuckoo's nest fall korean war veteran criminal pleads insanity admitted mental institution rallies scared patients tyrannical nurse jacknicholson louisefletcher michaelberryman peterbrocco deanrbrooks alonzobrown scatmancrothers mwakocumbuka dannydevito williamduell milosforman medicaldrama psychologicaldrama drama fantasyfilms nvzvaluw oregon state mental hospital center street ne salem oregon usa english unitedstates...\n",
      "Metadata keys: ['title', 'year', 'duration', 'MPA', 'rating', 'votes', 'meta_score', 'description', 'Movie_Link', 'writers', 'directors', 'stars', 'budget', 'opening_weekend_gross', 'gross_worldwide', 'gross_us_canada', 'release_date', 'countries_origin', 'filming_locations', 'production_companies', 'awards_content', 'genres', 'languages']\n",
      "Metadata sample: {'title': \"One Flew Over the Cuckoo's Nest\", 'year': 1975, 'duration': 133, 'MPA': 'R', 'rating': 8.7, 'votes': '1.1M', 'meta_score': 84.0, 'description': 'In the Fall of 1963, a Korean War veteran and criminal pleads insanity and is admitted to a mental institution, where he rallies up the scared patients against the tyrannical nurse.', 'Movie_Link': 'https://www.imdb.com/title/tt0073486', 'writers': \"['Lawrence Hauben', 'Bo Goldman', 'Ken Kesey']\", 'directors': \"['Milos Forman']\", 'stars': \"['Jack Nicholson', 'Louise Fletcher', 'Michael Berryman', 'Peter Brocco', 'Dean R. Brooks', 'Alonzo Brown', 'Scatman Crothers', 'Mwako Cumbuka', 'Danny DeVito', 'William Duell']\", 'budget': '$3,000,000 (estimated)', 'opening_weekend_gross': nan, 'gross_worldwide': '$109,115,366', 'gross_us_canada': '$108,981,275', 'release_date': 1975.0, 'countries_origin': \"['United States']\", 'filming_locations': \"['Oregon State Mental Hospital - 2600 Center Street NE, Salem, Oregon, USA']\", 'production_companies': \"['Fantasy Films', 'N.V. Zvaluw']\", 'awards_content': \"['Won 5 Oscars', '38 wins & 15 nominations total']\", 'genres': \"['Medical Drama', 'Psychological Drama', 'Drama']\", 'languages': \"['English']\"}...\n",
      "\n",
      "Record 4\n",
      "ID: tt0072890\n",
      "Document: dog day afternoon three amateur robbers plan hold brooklyn bank nice simple robbery walk take money run unfortunately supposedly uncomplicated heist suddenly becomes bizarre nightmare everything could go wrong alpacino johncazale penelopeallen sullyboyar beulahgarrick carolkane sandrakazan marciajeankurtz amylevitt johnmarriott sidneylumet darkcomedy heist truecrime biography crime drama thriller warnerbros artistsentertainmentcomplex prospect park west brooklyn new york city new york usa bank exterior english unitedstates...\n",
      "Metadata keys: ['title', 'year', 'duration', 'MPA', 'rating', 'votes', 'meta_score', 'description', 'Movie_Link', 'writers', 'directors', 'stars', 'budget', 'opening_weekend_gross', 'gross_worldwide', 'gross_us_canada', 'release_date', 'countries_origin', 'filming_locations', 'production_companies', 'awards_content', 'genres', 'languages']\n",
      "Metadata sample: {'title': 'Dog Day Afternoon', 'year': 1975, 'duration': 125, 'MPA': 'R', 'rating': 8.0, 'votes': '281K', 'meta_score': 86.0, 'description': 'Three amateur robbers plan to hold up a Brooklyn bank. A nice, simple robbery: Walk in, take the money, and run. Unfortunately, the supposedly uncomplicated heist suddenly becomes a bizarre nightmare as everything that could go wrong does.', 'Movie_Link': 'https://www.imdb.com/title/tt0072890', 'writers': \"['Frank Pierson', 'P.F. Kluge', 'Thomas Moore']\", 'directors': \"['Sidney Lumet']\", 'stars': \"['Al Pacino', 'John Cazale', 'Penelope Allen', 'Sully Boyar', 'Beulah Garrick', 'Carol Kane', 'Sandra Kazan', 'Marcia Jean Kurtz', 'Amy Levitt', 'John Marriott']\", 'budget': '$1,800,000 (estimated)', 'opening_weekend_gross': nan, 'gross_worldwide': '$50,004,527', 'gross_us_canada': '$50,000,000', 'release_date': 1975.0, 'countries_origin': \"['United States']\", 'filming_locations': \"['285 Prospect Park West, Brooklyn, New York City, New York, USA (Bank exterior)']\", 'production_companies': \"['Warner Bros.', 'Artists Entertainment Complex']\", 'awards_content': \"['Won 1 Oscar', '14 wins & 20 nominations total']\", 'genres': \"['Dark Comedy', 'Heist', 'True Crime', 'Biography', 'Crime', 'Drama', 'Thriller']\", 'languages': \"['English']\"}...\n",
      "\n",
      "Record 5\n",
      "ID: tt0073692\n",
      "Document: shampoo election day irresponsible hairdresser ladies man george roundy busy cutting hair dealing girlfriends mistress felicia karpf whose husband lester affair exgirlfriend jackie warrenbeatty juliechristie goldiehawn leegrant jackwarden tonybill georgefurth jayrobinson annweldon luanaanders halashby satire comedy drama perskybrightvista columbiapictures rubeekerfilms bowmont drive beverly hills california usa jackies house bowmont hazen english unitedstates...\n",
      "Metadata keys: ['title', 'year', 'duration', 'MPA', 'rating', 'votes', 'meta_score', 'description', 'Movie_Link', 'writers', 'directors', 'stars', 'budget', 'opening_weekend_gross', 'gross_worldwide', 'gross_us_canada', 'release_date', 'countries_origin', 'filming_locations', 'production_companies', 'awards_content', 'genres', 'languages']\n",
      "Metadata sample: {'title': 'Shampoo', 'year': 1975, 'duration': 110, 'MPA': 'R', 'rating': 6.4, 'votes': '15K', 'meta_score': 65.0, 'description': \"On Election Day, 1968, irresponsible hairdresser and ladies' man George Roundy is too busy cutting hair and dealing with his girlfriends and mistress Felicia Karpf, whose husband Lester is having an affair with his ex-girlfriend Jackie.\", 'Movie_Link': 'https://www.imdb.com/title/tt0073692', 'writers': \"['Robert Towne', 'Warren Beatty']\", 'directors': \"['Hal Ashby']\", 'stars': \"['Warren Beatty', 'Julie Christie', 'Goldie Hawn', 'Lee Grant', 'Jack Warden', 'Tony Bill', 'George Furth', 'Jay Robinson', 'Ann Weldon', 'Luana Anders']\", 'budget': '$4,000,000 (estimated)', 'opening_weekend_gross': nan, 'gross_worldwide': '$49,407,734', 'gross_us_canada': '$49,407,734', 'release_date': 1975.0, 'countries_origin': \"['United States']\", 'filming_locations': '[\"2270 Bowmont Drive, Beverly Hills, California, USA (Jackie\\'s House at Bowmont & Hazen)\"]', 'production_companies': \"['Persky-Bright / Vista', 'Columbia Pictures', 'Rubeeker Films']\", 'awards_content': \"['Won 1 Oscar', '3 wins & 11 nominations total']\", 'genres': \"['Satire', 'Comedy', 'Drama']\", 'languages': \"['English']\"}...\n"
     ]
    }
   ],
   "source": [
    "for i in range(min(5, len(ids))):\n",
    "    print(f\"\\nRecord {i+1}\")\n",
    "    print(f\"ID: {ids[i]}\")\n",
    "    print(f\"Document: {documents[i]}...\")\n",
    "    print(f\"Metadata keys: {list(metadata[i].keys())}\")\n",
    "    print(f\"Metadata sample: {metadata[i]}...\") \n"
   ]
  },
  {
   "cell_type": "markdown",
   "metadata": {},
   "source": [
    "## ChromaDB \n"
   ]
  },
  {
   "cell_type": "markdown",
   "metadata": {},
   "source": [
    "### Declare a local chromaDB client with path in this repository"
   ]
  },
  {
   "cell_type": "code",
   "execution_count": null,
   "metadata": {},
   "outputs": [],
   "source": [
    "chroma_client = chromadb.PersistentClient(path=\"./../chromadb_client\")"
   ]
  },
  {
   "cell_type": "markdown",
   "metadata": {},
   "source": [
    "### Create a collection"
   ]
  },
  {
   "cell_type": "code",
   "execution_count": 14,
   "metadata": {},
   "outputs": [],
   "source": [
    "collection = chroma_client.create_collection(name=\"best_movies_database\")"
   ]
  },
  {
   "cell_type": "markdown",
   "metadata": {},
   "source": [
    "### Incase you have alreay created a collection eariler, you can also fetch a collection"
   ]
  },
  {
   "cell_type": "code",
   "execution_count": null,
   "metadata": {},
   "outputs": [],
   "source": [
    "collection = chroma_client.get_collection(name=\"best_movies_database\")\n",
    "\n"
   ]
  },
  {
   "cell_type": "markdown",
   "metadata": {},
   "source": [
    "### Insert into collection using (.add) function "
   ]
  },
  {
   "cell_type": "code",
   "execution_count": null,
   "metadata": {},
   "outputs": [],
   "source": [
    "def insert_in_batches(batch_size=100):\n",
    "    for i in range(0, len(ids), batch_size):\n",
    "        batch_ids = ids[i:i+batch_size]\n",
    "        batch_docs = documents[i:i+batch_size]\n",
    "        batch_meta = metadata[i:i+batch_size]\n",
    "        \n",
    "        collection.add(\n",
    "            ids=batch_ids,\n",
    "            documents=batch_docs,\n",
    "            metadatas=batch_meta\n",
    "        )\n",
    "        print(f\"Inserted batch {i // batch_size + 1}\")"
   ]
  },
  {
   "cell_type": "code",
   "execution_count": null,
   "metadata": {},
   "outputs": [
    {
     "name": "stdout",
     "output_type": "stream",
     "text": [
      "Inserted batch 1\n",
      "Inserted batch 2\n",
      "Inserted batch 3\n",
      "Inserted batch 4\n",
      "Inserted batch 5\n",
      "Inserted batch 6\n",
      "Inserted batch 7\n",
      "Inserted batch 8\n",
      "Inserted batch 9\n",
      "Inserted batch 10\n",
      "Inserted batch 11\n",
      "Inserted batch 12\n",
      "Inserted batch 13\n",
      "Inserted batch 14\n",
      "Inserted batch 15\n",
      "Inserted batch 16\n",
      "Inserted batch 17\n",
      "Inserted batch 18\n",
      "Inserted batch 19\n",
      "Inserted batch 20\n",
      "Inserted batch 21\n",
      "Inserted batch 22\n",
      "Inserted batch 23\n",
      "Inserted batch 24\n",
      "Inserted batch 25\n",
      "Inserted batch 26\n",
      "Inserted batch 27\n",
      "Inserted batch 28\n",
      "Inserted batch 29\n",
      "Inserted batch 30\n",
      "Inserted batch 31\n",
      "Inserted batch 32\n",
      "Inserted batch 33\n",
      "Inserted batch 34\n",
      "Inserted batch 35\n",
      "Inserted batch 36\n",
      "Inserted batch 37\n",
      "Inserted batch 38\n",
      "Inserted batch 39\n",
      "Inserted batch 40\n",
      "Inserted batch 41\n",
      "Inserted batch 42\n",
      "Inserted batch 43\n",
      "Inserted batch 44\n",
      "Inserted batch 45\n",
      "Inserted batch 46\n",
      "Inserted batch 47\n",
      "Inserted batch 48\n",
      "Inserted batch 49\n",
      "Inserted batch 50\n",
      "Inserted batch 51\n",
      "Inserted batch 52\n",
      "Inserted batch 53\n",
      "Inserted batch 54\n",
      "Inserted batch 55\n",
      "Inserted batch 56\n",
      "Inserted batch 57\n",
      "Inserted batch 58\n",
      "Inserted batch 59\n",
      "Inserted batch 60\n",
      "Inserted batch 61\n",
      "Inserted batch 62\n",
      "Inserted batch 63\n",
      "Inserted batch 64\n"
     ]
    }
   ],
   "source": [
    "insert_in_batches(batch_size=1000)"
   ]
  },
  {
   "cell_type": "markdown",
   "metadata": {},
   "source": [
    "# Delete collection if you want to re-do the embeddings training. "
   ]
  },
  {
   "cell_type": "code",
   "execution_count": null,
   "metadata": {},
   "outputs": [],
   "source": [
    "chroma_client.delete_collection(name=\"best_movies_database\")"
   ]
  }
 ],
 "metadata": {
  "kernelspec": {
   "display_name": "base",
   "language": "python",
   "name": "python3"
  },
  "language_info": {
   "codemirror_mode": {
    "name": "ipython",
    "version": 3
   },
   "file_extension": ".py",
   "mimetype": "text/x-python",
   "name": "python",
   "nbconvert_exporter": "python",
   "pygments_lexer": "ipython3",
   "version": "3.12.7"
  }
 },
 "nbformat": 4,
 "nbformat_minor": 2
}
