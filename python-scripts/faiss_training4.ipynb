{
 "cells": [
  {
   "cell_type": "code",
   "execution_count": 1,
   "id": "8a741ef1",
   "metadata": {},
   "outputs": [],
   "source": [
    "import os\n",
    "import pandas as pd\n",
    "import numpy as np\n",
    "import faiss\n",
    "from sentence_transformers import SentenceTransformer\n",
    "import pickle"
   ]
  },
  {
   "cell_type": "code",
   "execution_count": 2,
   "id": "22346e74",
   "metadata": {},
   "outputs": [],
   "source": [
    "CSV_PATH = \"./../cleaned_database/cleaned_final_dataset3.csv\"\n",
    "OUTPUT_DIR = \"./../faiss_embeddings4\"\n",
    "BATCH_SIZE = 1000 "
   ]
  },
  {
   "cell_type": "code",
   "execution_count": 3,
   "id": "01fd0240",
   "metadata": {},
   "outputs": [],
   "source": [
    "def load_data(csv_path):\n",
    "    df = pd.read_csv(csv_path)\n",
    "    docs = df[\"docs\"].fillna(\"\").tolist()\n",
    "    ids = df[\"id\"].tolist()\n",
    "    metadata = df.drop(columns=[\"docs\"])\n",
    "    return docs, ids, metadata"
   ]
  },
  {
   "cell_type": "code",
   "execution_count": 4,
   "id": "bf003774",
   "metadata": {},
   "outputs": [],
   "source": [
    "def load_model():\n",
    "    return SentenceTransformer('sentence-transformers/distilbert-base-nli-stsb-mean-tokens')"
   ]
  },
  {
   "cell_type": "code",
   "execution_count": 5,
   "id": "97267745",
   "metadata": {},
   "outputs": [],
   "source": [
    "def create_index(model):\n",
    "    dim = model.get_sentence_embedding_dimension()\n",
    "    return faiss.IndexFlatIP(dim)"
   ]
  },
  {
   "cell_type": "code",
   "execution_count": 7,
   "id": "a4ecd287",
   "metadata": {},
   "outputs": [],
   "source": [
    "def process_batches(docs, ids, model, index, batch_size):\n",
    "    all_ids = []\n",
    "    for start in range(0, len(docs), batch_size):\n",
    "        end = start + batch_size\n",
    "        batch_docs = docs[start:end]\n",
    "        batch_ids = ids[start:end]\n",
    "\n",
    "        print(f\"Processing batch {start // batch_size + 1} | Size: {len(batch_docs)}\")\n",
    "        embeddings = model.encode(batch_docs, normalize_embeddings=True).astype(\"float32\")\n",
    "        index.add(embeddings)\n",
    "        all_ids.extend(batch_ids)\n",
    "    return all_ids\n"
   ]
  },
  {
   "cell_type": "code",
   "execution_count": 8,
   "id": "d2450bd5",
   "metadata": {},
   "outputs": [],
   "source": [
    "def save_outputs(index, ids, metadata, output_dir):\n",
    "    os.makedirs(output_dir, exist_ok=True)\n",
    "\n",
    "    faiss.write_index(index, os.path.join(output_dir, \"movie_index.faiss\"))\n",
    "    with open(os.path.join(output_dir, \"movie_ids.pkl\"), \"wb\") as f:\n",
    "        pickle.dump(ids, f)\n",
    "\n",
    "    metadata.to_csv(os.path.join(output_dir, \"movie_metadata.csv\"), index=False)"
   ]
  },
  {
   "cell_type": "code",
   "execution_count": 9,
   "id": "f98fd6e6",
   "metadata": {},
   "outputs": [],
   "source": [
    "def run_embedding_pipeline():\n",
    "    docs, ids, metadata = load_data(CSV_PATH)\n",
    "    model = load_model()\n",
    "    index = create_index(model)\n",
    "    final_ids = process_batches(docs, ids, model, index, BATCH_SIZE)\n",
    "    save_outputs(index, final_ids, metadata, OUTPUT_DIR)"
   ]
  },
  {
   "cell_type": "code",
   "execution_count": 10,
   "id": "4b366299",
   "metadata": {},
   "outputs": [
    {
     "data": {
      "application/vnd.jupyter.widget-view+json": {
       "model_id": "b61c5e709201459db174ef1d8c8bbe05",
       "version_major": 2,
       "version_minor": 0
      },
      "text/plain": [
       "modules.json:   0%|          | 0.00/229 [00:00<?, ?B/s]"
      ]
     },
     "metadata": {},
     "output_type": "display_data"
    },
    {
     "data": {
      "application/vnd.jupyter.widget-view+json": {
       "model_id": "e7161d510e494eab8c7ddf02e988f58f",
       "version_major": 2,
       "version_minor": 0
      },
      "text/plain": [
       "config_sentence_transformers.json:   0%|          | 0.00/122 [00:00<?, ?B/s]"
      ]
     },
     "metadata": {},
     "output_type": "display_data"
    },
    {
     "data": {
      "application/vnd.jupyter.widget-view+json": {
       "model_id": "2ad6f46b27be4c1c86cc509515fe280c",
       "version_major": 2,
       "version_minor": 0
      },
      "text/plain": [
       "README.md:   0%|          | 0.00/3.82k [00:00<?, ?B/s]"
      ]
     },
     "metadata": {},
     "output_type": "display_data"
    },
    {
     "data": {
      "application/vnd.jupyter.widget-view+json": {
       "model_id": "a05b390e4d2d4219a98040d50ead965c",
       "version_major": 2,
       "version_minor": 0
      },
      "text/plain": [
       "sentence_bert_config.json:   0%|          | 0.00/53.0 [00:00<?, ?B/s]"
      ]
     },
     "metadata": {},
     "output_type": "display_data"
    },
    {
     "data": {
      "application/vnd.jupyter.widget-view+json": {
       "model_id": "0dcde8cc6b3744ec85172014bb2465c5",
       "version_major": 2,
       "version_minor": 0
      },
      "text/plain": [
       "config.json:   0%|          | 0.00/555 [00:00<?, ?B/s]"
      ]
     },
     "metadata": {},
     "output_type": "display_data"
    },
    {
     "data": {
      "application/vnd.jupyter.widget-view+json": {
       "model_id": "ea4d408d78b9462fb90dc1bd0e53e7b4",
       "version_major": 2,
       "version_minor": 0
      },
      "text/plain": [
       "model.safetensors:   0%|          | 0.00/265M [00:00<?, ?B/s]"
      ]
     },
     "metadata": {},
     "output_type": "display_data"
    },
    {
     "data": {
      "application/vnd.jupyter.widget-view+json": {
       "model_id": "92dcb02dd1364ffe819676e577a6014c",
       "version_major": 2,
       "version_minor": 0
      },
      "text/plain": [
       "tokenizer_config.json:   0%|          | 0.00/505 [00:00<?, ?B/s]"
      ]
     },
     "metadata": {},
     "output_type": "display_data"
    },
    {
     "data": {
      "application/vnd.jupyter.widget-view+json": {
       "model_id": "46cd40d13ed84251bd455ab606cedfc3",
       "version_major": 2,
       "version_minor": 0
      },
      "text/plain": [
       "vocab.txt:   0%|          | 0.00/232k [00:00<?, ?B/s]"
      ]
     },
     "metadata": {},
     "output_type": "display_data"
    },
    {
     "data": {
      "application/vnd.jupyter.widget-view+json": {
       "model_id": "bf87f169caca4ea7a9e67bdd08a3f069",
       "version_major": 2,
       "version_minor": 0
      },
      "text/plain": [
       "tokenizer.json:   0%|          | 0.00/466k [00:00<?, ?B/s]"
      ]
     },
     "metadata": {},
     "output_type": "display_data"
    },
    {
     "data": {
      "application/vnd.jupyter.widget-view+json": {
       "model_id": "777505dc221d45d7a107c1820aa22506",
       "version_major": 2,
       "version_minor": 0
      },
      "text/plain": [
       "special_tokens_map.json:   0%|          | 0.00/112 [00:00<?, ?B/s]"
      ]
     },
     "metadata": {},
     "output_type": "display_data"
    },
    {
     "data": {
      "application/vnd.jupyter.widget-view+json": {
       "model_id": "7dda0e82d4304338bdef0c051770c0eb",
       "version_major": 2,
       "version_minor": 0
      },
      "text/plain": [
       "config.json:   0%|          | 0.00/190 [00:00<?, ?B/s]"
      ]
     },
     "metadata": {},
     "output_type": "display_data"
    },
    {
     "name": "stdout",
     "output_type": "stream",
     "text": [
      "Processing batch 1 | Size: 1000\n",
      "Processing batch 2 | Size: 1000\n",
      "Processing batch 3 | Size: 1000\n",
      "Processing batch 4 | Size: 1000\n",
      "Processing batch 5 | Size: 1000\n",
      "Processing batch 6 | Size: 1000\n",
      "Processing batch 7 | Size: 1000\n",
      "Processing batch 8 | Size: 1000\n",
      "Processing batch 9 | Size: 1000\n",
      "Processing batch 10 | Size: 1000\n",
      "Processing batch 11 | Size: 1000\n",
      "Processing batch 12 | Size: 1000\n",
      "Processing batch 13 | Size: 1000\n",
      "Processing batch 14 | Size: 1000\n",
      "Processing batch 15 | Size: 1000\n",
      "Processing batch 16 | Size: 1000\n",
      "Processing batch 17 | Size: 1000\n",
      "Processing batch 18 | Size: 1000\n",
      "Processing batch 19 | Size: 1000\n",
      "Processing batch 20 | Size: 1000\n",
      "Processing batch 21 | Size: 1000\n",
      "Processing batch 22 | Size: 1000\n",
      "Processing batch 23 | Size: 1000\n",
      "Processing batch 24 | Size: 1000\n",
      "Processing batch 25 | Size: 1000\n",
      "Processing batch 26 | Size: 1000\n",
      "Processing batch 27 | Size: 1000\n",
      "Processing batch 28 | Size: 1000\n",
      "Processing batch 29 | Size: 1000\n",
      "Processing batch 30 | Size: 1000\n",
      "Processing batch 31 | Size: 1000\n",
      "Processing batch 32 | Size: 1000\n",
      "Processing batch 33 | Size: 1000\n",
      "Processing batch 34 | Size: 1000\n",
      "Processing batch 35 | Size: 1000\n",
      "Processing batch 36 | Size: 1000\n",
      "Processing batch 37 | Size: 1000\n",
      "Processing batch 38 | Size: 1000\n",
      "Processing batch 39 | Size: 1000\n",
      "Processing batch 40 | Size: 1000\n",
      "Processing batch 41 | Size: 1000\n",
      "Processing batch 42 | Size: 1000\n",
      "Processing batch 43 | Size: 1000\n",
      "Processing batch 44 | Size: 1000\n",
      "Processing batch 45 | Size: 1000\n",
      "Processing batch 46 | Size: 1000\n",
      "Processing batch 47 | Size: 1000\n",
      "Processing batch 48 | Size: 1000\n",
      "Processing batch 49 | Size: 1000\n",
      "Processing batch 50 | Size: 1000\n",
      "Processing batch 51 | Size: 1000\n",
      "Processing batch 52 | Size: 1000\n",
      "Processing batch 53 | Size: 1000\n",
      "Processing batch 54 | Size: 1000\n",
      "Processing batch 55 | Size: 1000\n",
      "Processing batch 56 | Size: 1000\n",
      "Processing batch 57 | Size: 1000\n",
      "Processing batch 58 | Size: 1000\n",
      "Processing batch 59 | Size: 1000\n",
      "Processing batch 60 | Size: 1000\n",
      "Processing batch 61 | Size: 1000\n",
      "Processing batch 62 | Size: 1000\n",
      "Processing batch 63 | Size: 1000\n",
      "Processing batch 64 | Size: 249\n"
     ]
    }
   ],
   "source": [
    "run_embedding_pipeline()\n"
   ]
  },
  {
   "cell_type": "code",
   "execution_count": null,
   "id": "7a27f7d7",
   "metadata": {},
   "outputs": [],
   "source": []
  }
 ],
 "metadata": {
  "kernelspec": {
   "display_name": "base",
   "language": "python",
   "name": "python3"
  },
  "language_info": {
   "codemirror_mode": {
    "name": "ipython",
    "version": 3
   },
   "file_extension": ".py",
   "mimetype": "text/x-python",
   "name": "python",
   "nbconvert_exporter": "python",
   "pygments_lexer": "ipython3",
   "version": "3.12.7"
  }
 },
 "nbformat": 4,
 "nbformat_minor": 5
}
