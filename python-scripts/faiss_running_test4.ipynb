{
 "cells": [
  {
   "cell_type": "code",
   "execution_count": 13,
   "id": "9914a493",
   "metadata": {},
   "outputs": [],
   "source": [
    "import faiss\n",
    "import pickle\n",
    "import pandas as pd\n",
    "import numpy as np\n",
    "from sentence_transformers import SentenceTransformer"
   ]
  },
  {
   "cell_type": "code",
   "execution_count": 14,
   "id": "473cce2c",
   "metadata": {},
   "outputs": [],
   "source": [
    "base_dir = \"./../faiss_embeddings4\"\n",
    "model_name = 'sentence-transformers/distilbert-base-nli-stsb-mean-tokens'"
   ]
  },
  {
   "cell_type": "code",
   "execution_count": 15,
   "id": "1d5936d5",
   "metadata": {},
   "outputs": [],
   "source": [
    "index = faiss.read_index(f\"{base_dir}/movie_index.faiss\")"
   ]
  },
  {
   "cell_type": "code",
   "execution_count": 16,
   "id": "cd323c06",
   "metadata": {},
   "outputs": [],
   "source": [
    "with open(f\"{base_dir}/movie_ids.pkl\", \"rb\") as f:\n",
    "    id_list = pickle.load(f)\n",
    "\n",
    "metadata = pd.read_csv(f\"{base_dir}/movie_metadata.csv\")\n",
    "\n",
    "model = SentenceTransformer(model_name)"
   ]
  },
  {
   "cell_type": "code",
   "execution_count": 17,
   "id": "a6bf5ee1",
   "metadata": {},
   "outputs": [],
   "source": [
    "import ast\n",
    "\n",
    "def metadata_filter(row, row_checker):\n",
    "    # Extract numeric filters with defaults\n",
    "    min_year = row_checker.get(\"min_year\", float(\"-inf\"))\n",
    "    max_year = row_checker.get(\"max_year\", float(\"inf\"))\n",
    "    min_rating = row_checker.get(\"min_rating\", float(\"-inf\"))\n",
    "    max_rating = row_checker.get(\"max_rating\", float(\"inf\"))\n",
    "    min_duration = row_checker.get(\"min_duration\", float(\"-inf\"))\n",
    "    max_duration = row_checker.get(\"max_duration\", float(\"inf\"))\n",
    "\n",
    "    # Extract list-based filters with safe defaults\n",
    "    required_genres = set(row_checker.get(\"required_genres\", []))\n",
    "    excluded_genres = set(row_checker.get(\"excluded_genres\", []))\n",
    "    required_languages = set(row_checker.get(\"required_languages\", []))\n",
    "    excluded_languages = set(row_checker.get(\"excluded_languages\", []))\n",
    "\n",
    "    # Safely parse stringified lists (e.g., \"['English']\")\n",
    "    def parse_list(cell):\n",
    "        try:\n",
    "            return set(ast.literal_eval(cell)) if isinstance(cell, str) else set(cell)\n",
    "        except (ValueError, SyntaxError):\n",
    "            return set()\n",
    "\n",
    "    # Parse numeric values safely\n",
    "    try:\n",
    "        year = int(row.get(\"year\", 0))\n",
    "        rating = float(row.get(\"rating\", 0.0))\n",
    "        duration = int(row.get(\"duration\", 0))\n",
    "    except (ValueError, TypeError):\n",
    "        return False  # Reject row on parsing error\n",
    "\n",
    "    # Range checks\n",
    "    year_check = min_year <= year <= max_year\n",
    "    rating_check = min_rating <= rating <= max_rating\n",
    "    duration_check = min_duration <= duration <= max_duration\n",
    "\n",
    "    # List checks\n",
    "    genres = parse_list(row.get(\"genres\", \"[]\"))\n",
    "    languages = parse_list(row.get(\"languages\", \"[]\"))\n",
    "\n",
    "    genre_inclusion_check = not required_genres or bool(genres & required_genres)\n",
    "    genre_exclusion_check = not (genres & excluded_genres)\n",
    "\n",
    "    language_inclusion_check = not required_languages or bool(languages & required_languages)\n",
    "    language_exclusion_check = not (languages & excluded_languages)\n",
    "\n",
    "    # Final decision\n",
    "    return (\n",
    "        year_check and\n",
    "        rating_check and\n",
    "        duration_check and\n",
    "        genre_inclusion_check and\n",
    "        genre_exclusion_check and\n",
    "        language_inclusion_check and\n",
    "        language_exclusion_check\n",
    "    )\n"
   ]
  },
  {
   "cell_type": "code",
   "execution_count": 18,
   "id": "a76e2470",
   "metadata": {},
   "outputs": [],
   "source": [
    "# === DEFINE QUERY FUNCTION WITH OFFSET LOGIC ===\n",
    "def search_movies(query, top_k=10, search_batch_size=100, row_checker={}):\n",
    "    query_embedding = model.encode([query], normalize_embeddings=True).astype(\"float32\")\n",
    "\n",
    "    results = []\n",
    "    offset = 0\n",
    "\n",
    "    while len(results) < top_k:\n",
    "        fetch_size = min(search_batch_size + offset, len(id_list))\n",
    "        D, I = index.search(query_embedding, fetch_size)\n",
    "\n",
    "        for idx in I[0][offset:]:\n",
    "            movie_id = id_list[idx]\n",
    "            row = metadata[metadata[\"id\"] == movie_id].iloc[0].to_dict()\n",
    "            if metadata_filter(row, row_checker):\n",
    "                results.append({\n",
    "                    \"id\": movie_id,\n",
    "                    \"metadata\": row\n",
    "                })\n",
    "            if len(results) == top_k:\n",
    "                break\n",
    "\n",
    "        offset += search_batch_size\n",
    "        if offset >= len(id_list):\n",
    "            break\n",
    "\n",
    "    return results\n",
    "\n",
    "\n"
   ]
  },
  {
   "cell_type": "code",
   "execution_count": 19,
   "id": "d0bec876",
   "metadata": {},
   "outputs": [
    {
     "name": "stdout",
     "output_type": "stream",
     "text": [
      "1. ID: tt0045168, Result: {'id': 'tt0045168', 'title': 'The Dream of Zorro', 'year': 1952, 'duration': 93, 'MPA': nan, 'rating': 5.1, 'votes': '103', 'meta_score': 0.0, 'description': 'An old gentleman, a direct descendant of Zorro, has a single son named Raimundo in whom there is no trace of proud pride.', 'Movie_Link': 'https://www.imdb.com/title/tt0045168', 'writers': \"['Mario Amendola', 'Sandro Continenza', 'Ruggero Maccari']\", 'directors': \"['Mario Soldati']\", 'stars': \"['Walter Chiari', 'Delia Scala', 'Vittorio Gassman', 'Carlo Ninchi', 'Umberto Aquilino', 'Anna Arena', 'Sandro Bianchi', 'Pietro Capanna', 'Giorgio Costantini', 'Juan de Landa']\", 'budget': nan, 'opening_weekend_gross': nan, 'gross_worldwide': nan, 'gross_us_canada': nan, 'release_date': 1952.0, 'countries_origin': \"['Italy']\", 'filming_locations': '[]', 'production_companies': \"['Industrie Cinematografiche Sociali (ICS)']\", 'awards_content': '[]', 'genres': \"['Adventure', 'Western']\", 'languages': \"['Italian']\"}\n",
      "2. ID: tt0068240, Result: {'id': 'tt0068240', 'title': 'Avanti!', 'year': 1972, 'duration': 144, 'MPA': 'R', 'rating': 7.2, 'votes': '12K', 'meta_score': 0.0, 'description': \"A successful businessman goes to Italy to arrange for the return of his tycoon father's body--and discovers that Dad died with his long-time mistress.\", 'Movie_Link': 'https://www.imdb.com/title/tt0068240', 'writers': \"['Samuel A. Taylor', 'Billy Wilder', 'I.A.L. Diamond']\", 'directors': \"['Billy Wilder']\", 'stars': \"['Jack Lemmon', 'Juliet Mills', 'Clive Revill', 'Edward Andrews', 'Gianfranco Barra', 'Franco Angrisano', 'Pippo Franco', 'Franco Acampora', 'Giselda Castrini', 'Raffaele Mottola']\", 'budget': '$2,750,000 (estimated)', 'opening_weekend_gross': nan, 'gross_worldwide': '$22,792', 'gross_us_canada': nan, 'release_date': 1972.0, 'countries_origin': \"['United States', 'Italy']\", 'filming_locations': \"['Hotel Excelsior Vittoria, Piazza Tasso, Sorrento, Naples, Campania, Italy (Hotel)']\", 'production_companies': \"['The Mirisch Corporation', 'Phalanx Productions', 'Jalem Productions']\", 'awards_content': \"['Awards', '1 win & 6 nominations total']\", 'genres': \"['Comedy', 'Romance']\", 'languages': \"['English', 'Italian']\"}\n",
      "3. ID: tt4958468, Result: {'id': 'tt4958468', 'title': 'The Patriarch', 'year': 2016, 'duration': 94, 'MPA': 'PG-13', 'rating': 6.9, 'votes': '1.3K', 'meta_score': 0.0, 'description': 'When Don Servando Villegas gets expelled from his retirement home, his younger son Francisco takes him in. Don Servando is about to find out the truth about his son and his way of living.', 'Movie_Link': 'https://www.imdb.com/title/tt4958468', 'writers': \"['Alberto Bremer']\", 'directors': \"['Raúl Martínez']\", 'stars': \"['Héctor Bonilla', 'Jacqueline Bracamontes', 'Rafael Simón', 'Arturo Barba', 'Sergio Mayer Mori', 'Camila Selser', 'Sergio Bonilla', 'Sandra Sánchez Cantú', 'Zamia Fandiño', 'Gabriel Nuncio']\", 'budget': nan, 'opening_weekend_gross': '$978,894', 'gross_worldwide': '$6,156,936', 'gross_us_canada': '$2,156,047', 'release_date': 0.0, 'countries_origin': \"['Mexico']\", 'filming_locations': '[]', 'production_companies': \"['Panorama Global']\", 'awards_content': \"['Awards', '2 nominations total']\", 'genres': \"['Comedy']\", 'languages': \"['Spanish']\"}\n",
      "4. ID: tt0061582, Result: {'id': 'tt0061582', 'title': 'Django Shoots First', 'year': 1966, 'duration': 95, 'MPA': nan, 'rating': 6.0, 'votes': '662', 'meta_score': 0.0, 'description': \"Django's father is framed by his business partner Clusker and shot by a bounty Killer. Django inherits his fathers part of the business and a score to settle with Clusker.\", 'Movie_Link': 'https://www.imdb.com/title/tt0061582', 'writers': \"['Sandro Continenza', 'Massimiliano Capriccioli', 'Tito Carpi']\", 'directors': \"['Alberto De Martino']\", 'stars': \"['Glenn Saxson', 'Ida Galli', 'Fernando Sancho', 'Nando Gazzolo', 'Guido Lollobrigida', 'Erika Blanc', 'Marcello Tusco', 'Valentino Macchi', 'Antonio Piretti', 'Alberto Lupo']\", 'budget': nan, 'opening_weekend_gross': nan, 'gross_worldwide': nan, 'gross_us_canada': nan, 'release_date': 1966.0, 'countries_origin': \"['Italy']\", 'filming_locations': \"['Desierto de Tabernas, Almería, Andalucía, Spain']\", 'production_companies': \"['Fida Cinematografica']\", 'awards_content': '[]', 'genres': \"['Spaghetti Western', 'Romance', 'Western']\", 'languages': \"['Italian']\"}\n",
      "5. ID: tt0248131, Result: {'id': 'tt0248131', 'title': 'Kavalkaran', 'year': 1967, 'duration': 177, 'MPA': 'Not Rated', 'rating': 7.2, 'votes': '36', 'meta_score': 0.0, 'description': 'Manickam, a humble man, leads a simple life working as a driver for a billionaire. However, his life gets embroiled in deceit when he is forced to safeguard a secret about his younger brother.', 'Movie_Link': 'https://www.imdb.com/title/tt0248131', 'writers': \"['M.G. Ramachandran', 'Jayalalitha J', 'M.N. Nambiar']\", 'directors': \"['P. Neelakantan']\", 'stars': \"['M.G. Ramachandran', 'Jayalalitha J', 'M.N. Nambiar', 'S.A. Ashokan', 'Nagesh', 'R.S. Manohar', 'Pushpa Mala', 'Rangammal']\", 'budget': nan, 'opening_weekend_gross': nan, 'gross_worldwide': nan, 'gross_us_canada': nan, 'release_date': 1967.0, 'countries_origin': \"['India']\", 'filming_locations': '[]', 'production_companies': \"['Sathya Movies']\", 'awards_content': \"['Awards', '1 win total']\", 'genres': '[]', 'languages': \"['Tamil']\"}\n",
      "6. ID: tt0127751, Result: {'id': 'tt0127751', 'title': 'Recoil', 'year': 1998, 'duration': 96, 'MPA': 'R', 'rating': 5.3, 'votes': '765', 'meta_score': 0.0, 'description': \"A mafia Godfather exacts revenge on the policeman responsible for his son's death during a bank robbery. The officer then unleashes his fury in retaliation for the death of his family.\", 'Movie_Link': 'https://www.imdb.com/title/tt0127751', 'writers': \"['Art Camacho', 'Richard Preston Jr.']\", 'directors': \"['Art Camacho']\", 'stars': \"['Gary Daniels', 'Gregory McKinney', 'Thomas Kopache', 'Billy Maddox', 'John Sanderford', 'Robin Curtis', 'Kelli McCarty', 'Maurice Lamont', 'Richard Foronjy', 'Michael Alaimo']\", 'budget': nan, 'opening_weekend_gross': nan, 'gross_worldwide': nan, 'gross_us_canada': nan, 'release_date': 1998.0, 'countries_origin': \"['United States']\", 'filming_locations': \"['1010 S. Flower St, Los Angeles, California, USA']\", 'production_companies': \"['PM Entertainment Group']\", 'awards_content': '[]', 'genres': \"['Action']\", 'languages': \"['English']\"}\n",
      "7. ID: tt0081536, Result: {'id': 'tt0081536', 'title': 'Sono fotogenico', 'year': 1980, 'duration': 114, 'MPA': nan, 'rating': 6.1, 'votes': '571', 'meta_score': 0.0, 'description': 'Antonio Barozzi, an aspiring actor, goes to Rome to seek both fame and fortune.', 'Movie_Link': 'https://www.imdb.com/title/tt0081536', 'writers': \"['Massimo Franciosa', 'Marco Risi', 'Dino Risi']\", 'directors': \"['Dino Risi']\", 'stars': \"['Renato Pozzetto', 'Edwige Fenech', 'Aldo Maccione', 'Julien Guiomar', 'Michel Galabru', 'Gino Santercole', 'Massimo Boldi', 'Livia Ermolli', 'Paolo Baroni', 'Eolo Capritti']\", 'budget': nan, 'opening_weekend_gross': nan, 'gross_worldwide': nan, 'gross_us_canada': nan, 'release_date': 1980.0, 'countries_origin': \"['Italy', 'France']\", 'filming_locations': \"['Laveno, Varese, Lombardia, Italy']\", 'production_companies': \"['International Dean Film', 'Les Films Marceau-Cocinor']\", 'awards_content': '[]', 'genres': \"['Comedy']\", 'languages': \"['Italian']\"}\n",
      "8. ID: tt0056724, Result: {'id': 'tt0056724', 'title': 'Zorro in the Court of Spain', 'year': 1962, 'duration': 94, 'MPA': 'Not Rated', 'rating': 6.2, 'votes': '73', 'meta_score': 0.0, 'description': 'The perfidious brother of the deceased Duke of Lusitania usurps the throne from its legitimate heir, the Grand Duchess; however, an enigmatic man in black known only as the Zorro is out for justice. But, who is this valiant vindicator?', 'Movie_Link': 'https://www.imdb.com/title/tt0056724', 'writers': \"['Arpad DeRiso', 'Giovanni Scolaro']\", 'directors': \"['Luigi Capuano']\", 'stars': \"['George Ardisson', 'Alberto Lupo', 'Nadia Marlowa', 'Maria Letizia Gazzoni', 'Franco Fantasia', 'Antonio Gradoli', 'Carlo Tamberlani', 'Amedeo Trilli', 'Maria Grazia Spina', 'Nazzareno Zamperla']\", 'budget': nan, 'opening_weekend_gross': nan, 'gross_worldwide': nan, 'gross_us_canada': nan, 'release_date': 1962.0, 'countries_origin': \"['Italy']\", 'filming_locations': '[]', 'production_companies': \"['Jonia Film']\", 'awards_content': '[]', 'genres': \"['Spaghetti Western', 'Swashbuckler', 'Adventure', 'Western']\", 'languages': \"['Italian']\"}\n",
      "9. ID: tt1956697, Result: {'id': 'tt1956697', 'title': 'Vettai', 'year': 2012, 'duration': 150, 'MPA': 'Not Rated', 'rating': 6.0, 'votes': '2.6K', 'meta_score': 0.0, 'description': 'Thiru join hands with his brother Guru to face the mobsters of a city.', 'Movie_Link': 'https://www.imdb.com/title/tt1956697', 'writers': \"['N. Linguswamy', 'Brindha Sarathy']\", 'directors': \"['N. Linguswamy']\", 'stars': \"['Arya', 'Madhavan', 'Sameera Reddy', 'Amala Paul', 'Nassar', 'Ashutosh Rana', 'Sreejith Ravi', 'Muthukumar', 'Thambi Ramaiah', 'Shanmugarajan']\", 'budget': nan, 'opening_weekend_gross': '$87,921', 'gross_worldwide': '$687,636', 'gross_us_canada': '$204,373', 'release_date': 2012.0, 'countries_origin': \"['India']\", 'filming_locations': '[]', 'production_companies': \"['Thirupathi Brothers', 'UTV Motion Pictures']\", 'awards_content': \"['Awards', '1 win & 2 nominations total']\", 'genres': \"['Action']\", 'languages': \"['Tamil']\"}\n",
      "10. ID: tt0085211, Result: {'id': 'tt0085211', 'title': 'The Prodigal Son', 'year': 1981, 'duration': 100, 'MPA': 'R', 'rating': 7.3, 'votes': '3.6K', 'meta_score': 0.0, 'description': \"A young man discovers that his reputation as a fearsome martial artist is manufactured by his rich father, after meeting a real martial arts master, who's also a master thespian, and is determined to apprentice under him to learn kung fu.\", 'Movie_Link': 'https://www.imdb.com/title/tt0085211', 'writers': \"['Sammo Kam-Bo Hung', 'Barry Wong', 'Jing Wong']\", 'directors': \"['Sammo Kam-Bo Hung']\", 'stars': \"['Biao Yuen', 'Ching-Ying Lam', 'Sammo Kam-Bo Hung', 'Frankie Chan', 'Lung Chan', 'Yau-Hau Chan', 'Ching Po Chang', 'Hsi Chang', 'Wellson Chin', 'Yuet-Sang Chin']\", 'budget': nan, 'opening_weekend_gross': nan, 'gross_worldwide': nan, 'gross_us_canada': nan, 'release_date': 1981.0, 'countries_origin': \"['Hong Kong']\", 'filming_locations': \"['Hong Kong, China']\", 'production_companies': \"['Golden Harvest Company', 'Paragon Films Ltd.']\", 'awards_content': \"['Awards', '1 win & 2 nominations total']\", 'genres': \"['Kung Fu', 'Martial Arts', 'Action', 'Comedy']\", 'languages': \"['Cantonese']\"}\n"
     ]
    }
   ],
   "source": [
    "# === EXAMPLE USAGE ===\n",
    "results = search_movies(\"the godfather\", top_k=10, row_checker={\"excluded_genres\": [\"Drama\", \"Gangster\", \"Crime\"]})\n",
    "for i, res in enumerate(results, 1):\n",
    "    print(f\"{i}. ID: {res['id']}, Result: {res['metadata']}\")"
   ]
  },
  {
   "cell_type": "code",
   "execution_count": 20,
   "id": "9b7833f0",
   "metadata": {},
   "outputs": [],
   "source": [
    "def search_movies_dual_query_fast(\n",
    "    positive_query,\n",
    "    negative_query=None,\n",
    "    top_k=10,\n",
    "    search_batch_size=200,\n",
    "    row_checker={},\n",
    "    alpha=1.0,\n",
    "    beta=1.0\n",
    "):\n",
    "    # Encode queries\n",
    "    pos_embed = model.encode([positive_query], normalize_embeddings=True).astype(\"float32\")\n",
    "    neg_embed = None\n",
    "    if negative_query:\n",
    "        neg_embed = model.encode([negative_query], normalize_embeddings=True).astype(\"float32\")\n",
    "\n",
    "    # Search once for top-N potentially good matches\n",
    "    D_pos, I_pos = index.search(pos_embed, search_batch_size)\n",
    "\n",
    "    scored_results = []\n",
    "\n",
    "    for rank, idx in enumerate(I_pos[0]):\n",
    "        movie_id = id_list[idx]\n",
    "        row = metadata[metadata[\"id\"] == movie_id].iloc[0].to_dict()\n",
    "        if not metadata_filter(row, row_checker):\n",
    "            continue\n",
    "\n",
    "        pos_sim = float(D_pos[0][rank])\n",
    "\n",
    "        # Compute neg_sim manually if needed\n",
    "        neg_sim = 0.0\n",
    "        if neg_embed is not None:\n",
    "            embedding = index.reconstruct(int(idx))  # Fix applied here\n",
    "            neg_sim = float(np.dot(embedding, neg_embed[0]))\n",
    "\n",
    "\n",
    "        score = alpha * pos_sim - beta * neg_sim\n",
    "\n",
    "        scored_results.append({\n",
    "            \"id\": movie_id,\n",
    "            \"positive_similarity\": pos_sim,\n",
    "            \"negative_similarity\": neg_sim,\n",
    "            \"score\": score,\n",
    "            \"metadata\": row\n",
    "        })\n",
    "\n",
    "    # Sort and return top_k\n",
    "    sorted_results = sorted(scored_results, key=lambda x: x[\"score\"], reverse=True)\n",
    "    return sorted_results[:top_k]\n"
   ]
  },
  {
   "cell_type": "code",
   "execution_count": 27,
   "id": "c3547b4e",
   "metadata": {},
   "outputs": [],
   "source": [
    "results = search_movies_dual_query_fast(\n",
    "    positive_query=\"spiderman\",\n",
    "    negative_query=\"tom holland\",\n",
    "    top_k=10,\n",
    "    row_checker={},\n",
    "    search_batch_size = 100,\n",
    "    alpha=1.0,\n",
    "    beta=1.0\n",
    ")\n"
   ]
  },
  {
   "cell_type": "code",
   "execution_count": 28,
   "id": "071bd00c",
   "metadata": {},
   "outputs": [
    {
     "name": "stdout",
     "output_type": "stream",
     "text": [
      "1. ID: tt0948470, Result: {'id': 'tt0948470', 'title': 'The Amazing Spider-Man', 'year': 2012, 'duration': 136, 'MPA': 'PG-13', 'rating': 6.9, 'votes': '729K', 'meta_score': 66.0, 'description': 'After Peter Parker is bitten by a genetically altered spider, he gains newfound, spider-like powers and ventures out to save the city from the machinations of a mysterious reptilian foe.', 'Movie_Link': 'https://www.imdb.com/title/tt0948470', 'writers': \"['James Vanderbilt', 'Alvin Sargent', 'Steve Kloves']\", 'directors': \"['Marc Webb']\", 'stars': \"['Andrew Garfield', 'Emma Stone', 'Rhys Ifans', 'Irrfan Khan', 'Denis Leary', 'Martin Sheen', 'Sally Field', 'Campbell Scott', 'Embeth Davidtz', 'Chris Zylka']\", 'budget': '$230,000,000 (estimated)', 'opening_weekend_gross': '$62,004,688', 'gross_worldwide': '$758,707,722', 'gross_us_canada': '$262,782,352', 'release_date': 2012.0, 'countries_origin': \"['United States']\", 'filming_locations': \"['Universal Studios Hollywood - 1000 Universal Studios Blvd, Universal City, California, USA (New York Street)']\", 'production_companies': \"['Columbia Pictures', 'Marvel Entertainment', 'Laura Ziskin Productions']\", 'awards_content': \"['Awards', '2 wins & 33 nominations total']\", 'genres': \"['Superhero', 'Action', 'Sci-Fi']\", 'languages': \"['English']\"}\n",
      "2. ID: tt0200740, Result: {'id': 'tt0200740', 'title': 'Irezumi', 'year': 1966, 'duration': 86, 'MPA': nan, 'rating': 7.1, 'votes': '1.5K', 'meta_score': 0.0, 'description': 'A seductive woman gets kidnapped into prostitution. After getting a spider tattoo made on her back, she grows vengeful, leaving several men in her path.', 'Movie_Link': 'https://www.imdb.com/title/tt0200740', 'writers': '[\"Jun\\'ichirô Tanizaki\", \\'Kaneto Shindô\\']', 'directors': \"['Yasuzô Masumura']\", 'stars': \"['Ayako Wakao', 'Akio Hasegawa', 'Gaku Yamamoto', 'Kei Satô', 'Fujio Suga', 'Reiko Fujiwara', 'Asao Uchida', 'Kikue Môri', 'Jun Fujikawa', 'Tadashi Iwata']\", 'budget': nan, 'opening_weekend_gross': nan, 'gross_worldwide': nan, 'gross_us_canada': nan, 'release_date': 1966.0, 'countries_origin': \"['Japan']\", 'filming_locations': '[]', 'production_companies': \"['Daiei']\", 'awards_content': '[]', 'genres': \"['Crime', 'Drama']\", 'languages': \"['Japanese']\"}\n",
      "3. ID: tt0030779, Result: {'id': 'tt0030779', 'title': \"The Spider's Web\", 'year': 1938, 'duration': 300, 'MPA': 'Approved', 'rating': 6.8, 'votes': '177', 'meta_score': 0.0, 'description': 'A crime fighter known as The Spider battles a villain called The Octopus, who is out to sabotage America and install his own government.', 'Movie_Link': 'https://www.imdb.com/title/tt0030779', 'writers': \"['Robert E. Kent', 'George H. Plympton', 'Basil Dickey']\", 'directors': \"['James W. Horne', 'Ray Taylor']\", 'stars': \"['Warren Hull', 'Iris Meredith', 'Richard Fiske', 'Kenne Duncan', 'Forbes Murray', 'Donald Douglas', 'Marc Lawrence', 'Charles C. Wilson', 'John Tyrrell', 'Eugene Anderson Jr.']\", 'budget': nan, 'opening_weekend_gross': nan, 'gross_worldwide': nan, 'gross_us_canada': nan, 'release_date': 1938.0, 'countries_origin': \"['United States']\", 'filming_locations': '[]', 'production_companies': \"['Columbia Pictures']\", 'awards_content': '[]', 'genres': \"['Superhero', 'Action', 'Crime', 'Drama']\", 'languages': \"['English']\"}\n",
      "4. ID: tt0145487, Result: {'id': 'tt0145487', 'title': 'Spider-Man', 'year': 2002, 'duration': 121, 'MPA': 'PG-13', 'rating': 7.4, 'votes': '917K', 'meta_score': 73.0, 'description': 'After being bitten by a genetically-modified spider, a shy teenager gains spider-like abilities that he uses to fight injustice as a masked superhero and face a vengeful enemy.', 'Movie_Link': 'https://www.imdb.com/title/tt0145487', 'writers': \"['Stan Lee', 'Steve Ditko', 'David Koepp']\", 'directors': \"['Sam Raimi']\", 'stars': \"['Tobey Maguire', 'Kirsten Dunst', 'Willem Dafoe', 'James Franco', 'Cliff Robertson', 'Rosemary Harris', 'J.K. Simmons', 'Joe Manganiello', 'Gerry Becker', 'Bill Nunn']\", 'budget': '$139,000,000 (estimated)', 'opening_weekend_gross': '$114,844,116', 'gross_worldwide': '$825,802,095', 'gross_us_canada': '$407,774,549', 'release_date': 2002.0, 'countries_origin': \"['United States']\", 'filming_locations': \"['Queensboro Bridge, Manhattan, New York City, New York, USA']\", 'production_companies': \"['Columbia Pictures', 'Marvel Enterprises', 'Laura Ziskin Productions']\", 'awards_content': \"['Nominated for 2 Oscars', '17 wins & 65 nominations total']\", 'genres': \"['Superhero', 'Urban Adventure', 'Action', 'Adventure', 'Sci-Fi']\", 'languages': \"['English']\"}\n",
      "5. ID: tt0038110, Result: {'id': 'tt0038110', 'title': 'The Spider', 'year': 1945, 'duration': 63, 'MPA': 'Approved', 'rating': 6.0, 'votes': '225', 'meta_score': 0.0, 'description': \"A private detective, his devoted servant, and his female associate are caught in a web of crimes after discovering the fatal fate of a mind-reader's assistant billed as 'The Spider Woman'.\", 'Movie_Link': 'https://www.imdb.com/title/tt0038110', 'writers': \"['Jo Eisinger', 'Scott Darling', 'Fulton Oursler']\", 'directors': \"['Robert D. Webb']\", 'stars': \"['Richard Conte', 'Faye Marlowe', 'Kurt Kreuger', 'John Harvey', 'Martin Kosleck', 'Mantan Moreland', 'Walter Sande', 'Cara Williams', 'Charles Tannen', 'Margaret Brayton']\", 'budget': nan, 'opening_weekend_gross': nan, 'gross_worldwide': nan, 'gross_us_canada': nan, 'release_date': 1945.0, 'countries_origin': \"['United States']\", 'filming_locations': \"['20th Century Fox Studios - 10201 Pico Blvd., Century City, Los Angeles, California, USA (Studio)']\", 'production_companies': \"['Twentieth Century Fox']\", 'awards_content': '[]', 'genres': \"['Film Noir', 'Crime', 'Mystery']\", 'languages': \"['English']\"}\n",
      "6. ID: tt0241644, Result: {'id': 'tt0241644', 'title': 'Eyes of the Spider', 'year': 1998, 'duration': 83, 'MPA': nan, 'rating': 6.5, 'votes': '724', 'meta_score': 0.0, 'description': \"A man discovers a darker side of himself after exacting revenge on his daughter's killer.\", 'Movie_Link': 'https://www.imdb.com/title/tt0241644', 'writers': \"['Kiyoshi Kurosawa', 'Yôichi Nishiyama']\", 'directors': \"['Kiyoshi Kurosawa']\", 'stars': \"['Shô Aikawa', 'Duncan', 'Ren Ôsugi', 'Sadao Abe', 'Satoshi Kajiwara', 'Kumi Nakamura', 'Moe Sakura', 'Shun Sugata', 'Tarô Suwa', 'Susumu Terajima']\", 'budget': nan, 'opening_weekend_gross': nan, 'gross_worldwide': nan, 'gross_us_canada': nan, 'release_date': 1998.0, 'countries_origin': \"['Japan']\", 'filming_locations': '[]', 'production_companies': \"['Daiei Studios']\", 'awards_content': \"['Awards', '1 win total']\", 'genres': \"['Crime', 'Drama', 'Thriller']\", 'languages': \"['Japanese']\"}\n",
      "7. ID: tt18550140, Result: {'id': 'tt18550140', 'title': 'Holy Spider', 'year': 2022, 'duration': 118, 'MPA': nan, 'rating': 7.3, 'votes': '29K', 'meta_score': 66.0, 'description': 'A journalist descends into the dark underbelly of the Iranian holy city of Mashhad as she investigates the serial killings of sex workers by the so called \"Spider Killer\", who believes he is cleansing the streets of sinners.', 'Movie_Link': 'https://www.imdb.com/title/tt18550140', 'writers': \"['Ali Abbasi', 'Afshin Kamran Bahrami', 'Jonas Wagner']\", 'directors': \"['Ali Abbasi']\", 'stars': \"['Zar Amir Ebrahimi', 'Diana Al Hussen', 'Soraya Helli', 'Mehdi Bajestani', 'Alice Rahimi', 'Hazem Elian', 'Arash Ashtiani', 'Sohaib Qista', 'Forouzan Jamshidnejad', 'Maryam Taleb']\", 'budget': nan, 'opening_weekend_gross': '$16,376', 'gross_worldwide': '$1,706,583', 'gross_us_canada': '$307,188', 'release_date': 2022.0, 'countries_origin': \"['Germany', 'Denmark', 'France', 'Sweden', 'Jordan', 'Italy']\", 'filming_locations': \"['Jordan (as Iran)']\", 'production_companies': \"['Profile Pictures', 'ONE TWO Films', 'Nordisk Film Production']\", 'awards_content': \"['Awards', '22 wins & 35 nominations total']\", 'genres': \"['Serial Killer', 'True Crime', 'Crime', 'Drama', 'Thriller']\", 'languages': \"['Persian']\"}\n",
      "8. ID: tt0041911, Result: {'id': 'tt0041911', 'title': 'The Spider and the Fly', 'year': 1949, 'duration': 87, 'MPA': 'Not Rated', 'rating': 6.7, 'votes': '441', 'meta_score': 0.0, 'description': 'A clever and dedicated French police official, a cleverer master-thief whom he secretly admires, the woman loved by the official who is in love with the thief, at the outbreak of World War I.', 'Movie_Link': 'https://www.imdb.com/title/tt0041911', 'writers': \"['Robert Westerby']\", 'directors': \"['Robert Hamer']\", 'stars': \"['Eric Portman', 'Guy Rolfe', 'Nadia Gray', 'Edward Chapman', 'John Carol', 'Maurice Denham', 'George Cole', 'Harold Lang', 'John Salew', 'May Hallatt']\", 'budget': nan, 'opening_weekend_gross': nan, 'gross_worldwide': nan, 'gross_us_canada': nan, 'release_date': 1949.0, 'countries_origin': \"['United Kingdom']\", 'filming_locations': \"['Pinewood Studios, Iver Heath, Buckinghamshire, England, UK (Studio)']\", 'production_companies': \"['Mayflower Productions']\", 'awards_content': '[]', 'genres': \"['Crime', 'Drama', 'Romance', 'Thriller']\", 'languages': \"['English', 'French']\"}\n",
      "9. ID: tt0413300, Result: {'id': 'tt0413300', 'title': 'Spider-Man 3', 'year': 2007, 'duration': 139, 'MPA': 'PG-13', 'rating': 6.3, 'votes': '665K', 'meta_score': 59.0, 'description': 'A strange black entity from another world bonds with Peter Parker and causes inner turmoil as he contends with new villains, temptations, and revenge.', 'Movie_Link': 'https://www.imdb.com/title/tt0413300', 'writers': \"['Sam Raimi', 'Ivan Raimi', 'Alvin Sargent']\", 'directors': \"['Sam Raimi']\", 'stars': \"['Tobey Maguire', 'Kirsten Dunst', 'Topher Grace', 'Thomas Haden Church', 'James Franco', 'Bryce Dallas Howard', 'Rosemary Harris', 'J.K. Simmons', 'James Cromwell', 'Theresa Russell']\", 'budget': '$258,000,000 (estimated)', 'opening_weekend_gross': '$151,116,516', 'gross_worldwide': '$891,679,447', 'gross_us_canada': '$337,281,992', 'release_date': 2007.0, 'countries_origin': \"['United States']\", 'filming_locations': \"['Chicago, Illinois, USA']\", 'production_companies': \"['Columbia Pictures', 'Marvel Entertainment', 'Laura Ziskin Productions']\", 'awards_content': \"['Nominated for 1 BAFTA Award', '4 wins & 44 nominations total']\", 'genres': \"['Superhero', 'Urban Adventure', 'Action', 'Adventure', 'Sci-Fi']\", 'languages': \"['English', 'French']\"}\n",
      "10. ID: tt1872181, Result: {'id': 'tt1872181', 'title': 'The Amazing Spider-Man 2', 'year': 2014, 'duration': 142, 'MPA': 'PG-13', 'rating': 6.6, 'votes': '560K', 'meta_score': 53.0, 'description': 'When New York is put under siege by Oscorp, it is up to Spider-Man to save the city he swore to protect as well as his loved ones.', 'Movie_Link': 'https://www.imdb.com/title/tt1872181', 'writers': \"['Alex Kurtzman', 'Roberto Orci', 'Jeff Pinkner']\", 'directors': \"['Marc Webb']\", 'stars': \"['Andrew Garfield', 'Emma Stone', 'Jamie Foxx', 'Paul Giamatti', 'Dane DeHaan', 'Colm Feore', 'Felicity Jones', 'Sally Field', 'Embeth Davidtz', 'Campbell Scott']\", 'budget': '$200,000,000 (estimated)', 'opening_weekend_gross': '$91,608,337', 'gross_worldwide': '$716,916,608', 'gross_us_canada': '$203,605,622', 'release_date': 2014.0, 'countries_origin': \"['United States']\", 'filming_locations': \"['Rochester, New York, USA (Sytsevich car chase)']\", 'production_companies': \"['Columbia Pictures', 'Marvel Entertainment', 'Avi Arad Productions']\", 'awards_content': \"['Awards', '4 wins & 30 nominations total']\", 'genres': \"['Superhero', 'Urban Adventure', 'Action', 'Adventure', 'Sci-Fi']\", 'languages': \"['English']\"}\n"
     ]
    }
   ],
   "source": [
    "for i, res in enumerate(results, 1):\n",
    "    print(f\"{i}. ID: {res['id']}, Result: {res['metadata']}\")"
   ]
  },
  {
   "cell_type": "code",
   "execution_count": 33,
   "id": "4b3d6a76",
   "metadata": {},
   "outputs": [],
   "source": [
    "results = search_movies_dual_query_fast(\n",
    "    positive_query=\"war ww2 brad pitt\",\n",
    "    top_k=10,\n",
    "    row_checker={},\n",
    "    search_batch_size = 100,\n",
    "    alpha=1.0,\n",
    "    beta=1.0\n",
    ")"
   ]
  },
  {
   "cell_type": "code",
   "execution_count": 34,
   "id": "9da7ef97",
   "metadata": {},
   "outputs": [
    {
     "name": "stdout",
     "output_type": "stream",
     "text": [
      "1. ID: tt0116130, Result: {'id': 'tt0116130', 'title': 'Down Periscope', 'year': 1996, 'duration': 92, 'MPA': 'PG-13', 'rating': 6.2, 'votes': '28K', 'meta_score': 39.0, 'description': 'Lt. Cmdr. Tom Dodge is assigned as Captain to the USS Stingray, an old diesel driven submarine that has seen better days.', 'Movie_Link': 'https://www.imdb.com/title/tt0116130', 'writers': \"['Hugh Wilson', 'Andrew Kurtzman', 'Eliot Wald']\", 'directors': \"['David S. Ward']\", 'stars': \"['Kelsey Grammer', 'Lauren Holly', 'Rob Schneider', 'Harry Dean Stanton', 'Bruce Dern', 'William H. Macy', 'Ken Hudson Campbell', 'Toby Huss', 'Duane Martin', 'Jonathan Penner']\", 'budget': '$31,000,000 (estimated)', 'opening_weekend_gross': '$7,231,087', 'gross_worldwide': '$37,553,752', 'gross_us_canada': '$25,785,603', 'release_date': 1996.0, 'countries_origin': \"['United States']\", 'filming_locations': \"['U.S. Navy Submarine Base, New London, Connecticut, USA (opening credits)']\", 'production_companies': \"['Sprockets Music', 'Twentieth Century Fox']\", 'awards_content': '[]', 'genres': \"['Comedy']\", 'languages': \"['English']\"}\n",
      "2. ID: tt0035586, Result: {'id': 'tt0035586', 'title': 'The Young Mr. Pitt', 'year': 1942, 'duration': 118, 'MPA': 'Approved', 'rating': 6.7, 'votes': '462', 'meta_score': 0.0, 'description': 'This biopic tells the story of the life of Pitt The Younger, who became Prime Minister of Great Britain at the age of twenty-four.', 'Movie_Link': 'https://www.imdb.com/title/tt0035586', 'writers': \"['Viscount Castlerosse', 'Sidney Gilliat', 'Frank Launder']\", 'directors': \"['Carol Reed']\", 'stars': \"['Robert Donat', 'Geoffrey Atkins', 'Jean Cadell', 'Robert Morley', 'Phyllis Calvert', 'Raymond Lovell', 'Agnes Lauchlan', 'John Mills', 'Felix Aylmer', 'Ian McLean']\", 'budget': nan, 'opening_weekend_gross': nan, 'gross_worldwide': nan, 'gross_us_canada': nan, 'release_date': 1942.0, 'countries_origin': \"['United Kingdom']\", 'filming_locations': \"['Gaumont-British Studios, London, England, UK (studio: made at the Gaumont-British Studios, London.)']\", 'production_companies': \"['Twentieth Century-Fox Productions']\", 'awards_content': \"['Awards', '1 win total']\", 'genres': \"['Biography', 'Drama', 'Romance', 'War']\", 'languages': \"['English']\"}\n",
      "3. ID: tt0221880, Result: {'id': 'tt0221880', 'title': 'Undersea Raider', 'year': 1943, 'duration': 75, 'MPA': nan, 'rating': 7.5, 'votes': '45', 'meta_score': 0.0, 'description': 'Docudrama about a British submarine on a North Sea patrol during World War II.', 'Movie_Link': 'https://www.imdb.com/title/tt0221880', 'writers': \"['Jack Lee']\", 'directors': \"['Jack Lee']\", 'stars': '[]', 'budget': nan, 'opening_weekend_gross': nan, 'gross_worldwide': nan, 'gross_us_canada': nan, 'release_date': 1943.0, 'countries_origin': \"['United Kingdom']\", 'filming_locations': '[]', 'production_companies': \"['Crown Film Unit']\", 'awards_content': '[]', 'genres': \"['Documentary', 'War']\", 'languages': \"['English']\"}\n",
      "4. ID: tt0052336, Result: {'id': 'tt0052336', 'title': 'Underwater Warrior', 'year': 1958, 'duration': 91, 'MPA': nan, 'rating': 5.3, 'votes': '54', 'meta_score': 0.0, 'description': 'Based upon the life of Commander Francis D. Fane (USNR), \"Underwater Warrior\" follows the evolution of the US Navy\\'s Underwater Demolition Unit from its inception near the end of World War II through its acceptance and finally successful utilization in Korea. Landmark underwater camera work makes this film a milestone in cinematic history.', 'Movie_Link': 'https://www.imdb.com/title/tt0052336', 'writers': \"['Gene Levitt']\", 'directors': \"['Andrew Marton']\", 'stars': \"['Dan Dailey', 'James Gregory', 'Ross Martin', 'Raymond Bailey', 'Alex Gerry', 'Gina Maria Hidalgo', 'Charles Keane', 'Jon Lindbergh', 'Zale Parry', 'Alex Fane']\", 'budget': nan, 'opening_weekend_gross': nan, 'gross_worldwide': nan, 'gross_us_canada': nan, 'release_date': 1958.0, 'countries_origin': \"['United States']\", 'filming_locations': \"['Hawaii, USA']\", 'production_companies': \"['Underwater Productions']\", 'awards_content': '[]', 'genres': \"['Adventure', 'Biography', 'Drama']\", 'languages': \"['English']\"}\n",
      "5. ID: tt0072666, Result: {'id': 'tt0072666', 'title': 'Zaat', 'year': 1971, 'duration': 100, 'MPA': 'PG', 'rating': 2.2, 'votes': '5.4K', 'meta_score': 0.0, 'description': 'A mad scientist transforms himself into an aquatic killer.', 'Movie_Link': 'https://www.imdb.com/title/tt0072666', 'writers': \"['Ron Kivett', 'Lee O. Larew', 'Don Barton']\", 'directors': \"['Don Barton', 'Arnold Stevens']\", 'stars': \"['Marshall Grauer', 'Wade Popwell', 'Paul Galloway', 'Gerald Cruse', 'Sanna Ringhaver', 'Dave Dickerson', 'Rich Valliere', 'Nancy Lien', 'Russell Holcomb', 'Gloria Brady']\", 'budget': '$75,000 (estimated)', 'opening_weekend_gross': nan, 'gross_worldwide': nan, 'gross_us_canada': nan, 'release_date': 1971.0, 'countries_origin': \"['United States']\", 'filming_locations': \"['Green Cove Springs, Florida, USA']\", 'production_companies': \"['Barton Films']\", 'awards_content': '[]', 'genres': \"['Horror', 'Sci-Fi']\", 'languages': \"['English']\"}\n",
      "6. ID: tt0036398, Result: {'id': 'tt0036398', 'title': 'Submarine Base', 'year': 1943, 'duration': 65, 'MPA': 'Approved', 'rating': 4.5, 'votes': '231', 'meta_score': 0.0, 'description': 'WW2: US ganster-on-the-run Joe sells torpedoes to German U-boats on a remote island off South America. When shipwrecked engineer Jim is saved by Joe and arrives on the island a showdown seems inevitable.', 'Movie_Link': 'https://www.imdb.com/title/tt0036398', 'writers': \"['Arthur St. Claire', 'George M. Merrick']\", 'directors': \"['Albert H. Kelley']\", 'stars': '[\\'John Litel\\', \\'Alan Baxter\\', \\'Eric Blore\\', \\'Georges Metaxa\\', \\'George Flaherty\\', \\'Rafael Alcayde\\', \"Fifi D\\'Orsay\", \\'Iris Adrian\\', \\'Jacqueline Dalya\\', \\'Anna Demetrio\\']', 'budget': nan, 'opening_weekend_gross': nan, 'gross_worldwide': nan, 'gross_us_canada': nan, 'release_date': 1943.0, 'countries_origin': \"['United States']\", 'filming_locations': '[]', 'production_companies': \"['Jack Schwarz Productions']\", 'awards_content': '[]', 'genres': \"['Drama']\", 'languages': \"['English']\"}\n",
      "7. ID: tt0052151, Result: {'id': 'tt0052151', 'title': 'Run Silent Run Deep', 'year': 1958, 'duration': 93, 'MPA': 'Approved', 'rating': 7.3, 'votes': '14K', 'meta_score': 62.0, 'description': \"A U.S. submarine commander who's obsessed with sinking a particular Japanese ship butts heads with his first officer and crew.\", 'Movie_Link': 'https://www.imdb.com/title/tt0052151', 'writers': \"['John Gay', 'Edward L. Beach']\", 'directors': \"['Robert Wise']\", 'stars': \"['Clark Gable', 'Burt Lancaster', 'Jack Warden', 'Brad Dexter', 'Don Rickles', 'Nick Cravat', 'Joe Maross', 'Mary LaRoche', 'Eddie Foy III', 'Rudy Bond']\", 'budget': nan, 'opening_weekend_gross': nan, 'gross_worldwide': nan, 'gross_us_canada': nan, 'release_date': 1958.0, 'countries_origin': \"['United States']\", 'filming_locations': \"['Salton Sea, California, USA (battle scenes using miniatures and models)']\", 'production_companies': \"['Hecht-Hill-Lancaster Productions', 'Jeffrey Productions']\", 'awards_content': \"['Awards', '1 nomination total']\", 'genres': \"['Action', 'Drama', 'War']\", 'languages': \"['English', 'Japanese']\"}\n",
      "8. ID: tt0231402, Result: {'id': 'tt0231402', 'title': 'Crocodile Dundee in Los Angeles', 'year': 2001, 'duration': 95, 'MPA': 'PG', 'rating': 4.8, 'votes': '27K', 'meta_score': 37.0, 'description': 'Australian Outback adventurer Mick \"Crocodile\" Dundee travels to Los Angeles with his young son while his longtime companion suspects foul play at a movie studio.', 'Movie_Link': 'https://www.imdb.com/title/tt0231402', 'writers': \"['Paul Hogan', 'Matthew Berry', 'Eric Abrams']\", 'directors': \"['Simon Wincer']\", 'stars': \"['Paul Hogan', 'Linda Kozlowski', 'Jere Burns', 'Jonathan Banks', 'Alec Wilson', 'Gerry Skilton', 'Steve Rackman', 'Serge Negus', 'Aida Turturro', 'Paul Rodriguez']\", 'budget': '$21,150,000 (estimated)', 'opening_weekend_gross': '$7,714,362', 'gross_worldwide': '$39,438,674', 'gross_us_canada': '$25,635,682', 'release_date': 2001.0, 'countries_origin': \"['Australia', 'United States']\", 'filming_locations': \"['Los Angeles, California, USA']\", 'production_companies': \"['Bungalow Productions', 'Silver Lion Films', 'Vision View Entertainment']\", 'awards_content': \"['Awards', '1 win & 2 nominations total']\", 'genres': \"['Adventure', 'Comedy', 'Crime']\", 'languages': \"['English']\"}\n",
      "9. ID: tt3095734, Result: {'id': 'tt3095734', 'title': 'Monster Trucks', 'year': 2016, 'duration': 104, 'MPA': 'PG', 'rating': 5.7, 'votes': '20K', 'meta_score': 41.0, 'description': 'A young man working at a small town junkyard discovers and befriends a creature which feeds on oil being sought by a fracking company.', 'Movie_Link': 'https://www.imdb.com/title/tt3095734', 'writers': \"['Derek Connolly', 'Matthew Robinson', 'Jonathan Aibel']\", 'directors': \"['Chris Wedge']\", 'stars': '[\\'Lucas Till\\', \\'Jane Levy\\', \\'Thomas Lennon\\', \\'Barry Pepper\\', \\'Rob Lowe\\', \\'Danny Glover\\', \\'Amy Ryan\\', \\'Holt McCallany\\', \\'Frank Whaley\\', \"Aliyah O\\'Brien\"]', 'budget': '$125,000,000 (estimated)', 'opening_weekend_gross': '$10,950,705', 'gross_worldwide': '$64,493,915', 'gross_us_canada': '$33,370,166', 'release_date': 0.0, 'countries_origin': \"['United States', 'Canada']\", 'filming_locations': \"['Chilliwack, British Columbia, Canada (Downtown Chilliwack)']\", 'production_companies': \"['Paramount Pictures', 'Nickelodeon Movies', 'Disruption Entertainment']\", 'awards_content': \"['Awards', '2 nominations total']\", 'genres': \"['Car Action', 'Teen Adventure', 'Action', 'Adventure', 'Comedy', 'Family', 'Sci-Fi']\", 'languages': \"['English']\"}\n",
      "10. ID: tt0035391, Result: {'id': 'tt0035391', 'title': 'Submarine Raider', 'year': 1942, 'duration': 64, 'MPA': 'Approved', 'rating': 4.6, 'votes': '226', 'meta_score': 0.0, 'description': 'An American yacht is sunk by a Japanese submarine on its way to Pearl Harbour, and when the single survivor is picked up by a US submarine, the commander tries desperately to warn the mainland of the imminent attack.', 'Movie_Link': 'https://www.imdb.com/title/tt0035391', 'writers': \"['Aubrey Wisberg']\", 'directors': \"['Lew Landers', 'Budd Boetticher']\", 'stars': '[\\'John Howard\\', \\'Marguerite Chapman\\', \\'Bruce Bennett\\', \\'Warren Ashe\\', \"Eileen O\\'Hearn\", \\'Nino Pipitone\\', \\'Philip Ahn\\', \\'Larry Parks\\', \\'Rudy Robles\\', \\'Roger Clark\\']', 'budget': nan, 'opening_weekend_gross': nan, 'gross_worldwide': nan, 'gross_us_canada': nan, 'release_date': 1942.0, 'countries_origin': \"['United States']\", 'filming_locations': '[]', 'production_companies': \"['Columbia Pictures']\", 'awards_content': '[]', 'genres': \"['Drama', 'War']\", 'languages': \"['English']\"}\n"
     ]
    }
   ],
   "source": [
    "for i, res in enumerate(results, 1):\n",
    "    print(f\"{i}. ID: {res['id']}, Result: {res['metadata']}\")"
   ]
  }
 ],
 "metadata": {
  "kernelspec": {
   "display_name": "base",
   "language": "python",
   "name": "python3"
  },
  "language_info": {
   "codemirror_mode": {
    "name": "ipython",
    "version": 3
   },
   "file_extension": ".py",
   "mimetype": "text/x-python",
   "name": "python",
   "nbconvert_exporter": "python",
   "pygments_lexer": "ipython3",
   "version": "3.12.7"
  }
 },
 "nbformat": 4,
 "nbformat_minor": 5
}
