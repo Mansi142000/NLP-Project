{
 "cells": [
  {
   "cell_type": "code",
   "execution_count": 2,
   "metadata": {},
   "outputs": [],
   "source": [
    "import kagglehub\n",
    "import pandas as pd\n",
    "import os\n"
   ]
  },
  {
   "cell_type": "code",
   "execution_count": 8,
   "metadata": {},
   "outputs": [
    {
     "name": "stdout",
     "output_type": "stream",
     "text": [
      "Loaded dataset from: C:\\Users\\Mansi\\.cache\\kagglehub\\datasets\\raedaddala\\top-500-600-movies-of-each-year-from-1960-to-2024\\versions\\3\\final_dataset.csv\n",
      "          id                            title  year duration MPA  rating  \\\n",
      "0  tt0073195                             Jaws  1975    2h 4m  PG     8.1   \n",
      "1  tt0073629    The Rocky Horror Picture Show  1975   1h 40m   R     7.4   \n",
      "2  tt0073486  One Flew Over the Cuckoo's Nest  1975   2h 13m   R     8.7   \n",
      "3  tt0072890                Dog Day Afternoon  1975    2h 5m   R     8.0   \n",
      "4  tt0073692                          Shampoo  1975   1h 50m   R     6.4   \n",
      "\n",
      "  votes  meta_score                                        description  \\\n",
      "0  690K        87.0  When a massive killer shark unleashes chaos on...   \n",
      "1  174K        65.0  A newly-engaged couple have a breakdown in an ...   \n",
      "2  1.1M        84.0  In the Fall of 1963, a Korean War veteran and ...   \n",
      "3  281K        86.0  Three amateur robbers plan to hold up a Brookl...   \n",
      "4   15K        65.0  On Election Day, 1968, irresponsible hairdress...   \n",
      "\n",
      "                             Movie_Link  ... opening_weekend_gross  \\\n",
      "0  https://www.imdb.com/title/tt0073195  ...            $7,061,513   \n",
      "1  https://www.imdb.com/title/tt0073629  ...                   NaN   \n",
      "2  https://www.imdb.com/title/tt0073486  ...                   NaN   \n",
      "3  https://www.imdb.com/title/tt0072890  ...                   NaN   \n",
      "4  https://www.imdb.com/title/tt0073692  ...                   NaN   \n",
      "\n",
      "  gross_worldwide gross_us_canada release_date  \\\n",
      "0    $477,916,625    $267,263,625       1975.0   \n",
      "1    $115,827,018    $112,892,319       1975.0   \n",
      "2    $109,115,366    $108,981,275       1975.0   \n",
      "3     $50,004,527     $50,000,000       1975.0   \n",
      "4     $49,407,734     $49,407,734       1975.0   \n",
      "\n",
      "                      countries_origin  \\\n",
      "0                    ['United States']   \n",
      "1  ['United Kingdom', 'United States']   \n",
      "2                    ['United States']   \n",
      "3                    ['United States']   \n",
      "4                    ['United States']   \n",
      "\n",
      "                                   filming_locations  \\\n",
      "0  [\"Water Street, Edgartown, Martha's Vineyard, ...   \n",
      "1  [\"Oakley Court, Windsor Road, Oakley Green, Wi...   \n",
      "2  ['Oregon State Mental Hospital - 2600 Center S...   \n",
      "3  ['285 Prospect Park West, Brooklyn, New York C...   \n",
      "4  [\"2270 Bowmont Drive, Beverly Hills, Californi...   \n",
      "\n",
      "                                production_companies  \\\n",
      "0  ['Zanuck/Brown Productions', 'Universal Pictur...   \n",
      "1  ['Twentieth Century Fox', 'Michael White Produ...   \n",
      "2                   ['Fantasy Films', 'N.V. Zvaluw']   \n",
      "3  ['Warner Bros.', 'Artists Entertainment Complex']   \n",
      "4  ['Persky-Bright / Vista', 'Columbia Pictures',...   \n",
      "\n",
      "                                 awards_content  \\\n",
      "0  Won 3 Oscars, 16 wins & 20 nominations total   \n",
      "1          Awards, 3 wins & 4 nominations total   \n",
      "2  Won 5 Oscars, 38 wins & 15 nominations total   \n",
      "3   Won 1 Oscar, 14 wins & 20 nominations total   \n",
      "4    Won 1 Oscar, 3 wins & 11 nominations total   \n",
      "\n",
      "                                              genres    languages  \n",
      "0  ['Monster Horror', 'Sea Adventure', 'Survival'...  ['English']  \n",
      "1  ['B-Horror', 'Dark Comedy', 'Parody', 'Raunchy...  ['English']  \n",
      "2  ['Medical Drama', 'Psychological Drama', 'Drama']  ['English']  \n",
      "3  ['Dark Comedy', 'Heist', 'True Crime', 'Biogra...  ['English']  \n",
      "4                      ['Satire', 'Comedy', 'Drama']  ['English']  \n",
      "\n",
      "[5 rows x 24 columns]\n"
     ]
    }
   ],
   "source": [
    "dataset_path = kagglehub.dataset_download(\"raedaddala/top-500-600-movies-of-each-year-from-1960-to-2024\")\n",
    "\n",
    "csv_filename = os.path.join(dataset_path, \"final_dataset.csv\")\n",
    "df = pd.read_csv(csv_filename)\n",
    "\n",
    "print(\"Loaded dataset from:\", csv_filename)\n",
    "print(df.head())\n"
   ]
  },
  {
   "cell_type": "code",
   "execution_count": 9,
   "metadata": {},
   "outputs": [
    {
     "name": "stderr",
     "output_type": "stream",
     "text": [
      "C:\\Users\\Mansi\\AppData\\Local\\Temp\\ipykernel_21744\\2857353357.py:19: FutureWarning: A value is trying to be set on a copy of a DataFrame or Series through chained assignment using an inplace method.\n",
      "The behavior will change in pandas 3.0. This inplace method will never work because the intermediate object on which we are setting values always behaves as a copy.\n",
      "\n",
      "For example, when doing 'df[col].method(value, inplace=True)', try using 'df.method({col: value}, inplace=True)' or df[col] = df[col].method(value) instead, to perform the operation inplace on the original object.\n",
      "\n",
      "\n",
      "  df[col].fillna('n/a', inplace=True)\n",
      "C:\\Users\\Mansi\\AppData\\Local\\Temp\\ipykernel_21744\\2857353357.py:17: FutureWarning: A value is trying to be set on a copy of a DataFrame or Series through chained assignment using an inplace method.\n",
      "The behavior will change in pandas 3.0. This inplace method will never work because the intermediate object on which we are setting values always behaves as a copy.\n",
      "\n",
      "For example, when doing 'df[col].method(value, inplace=True)', try using 'df.method({col: value}, inplace=True)' or df[col] = df[col].method(value) instead, to perform the operation inplace on the original object.\n",
      "\n",
      "\n",
      "  df[col].fillna(0, inplace=True)\n"
     ]
    }
   ],
   "source": [
    "\n",
    "def convert_duration_to_minutes(duration):\n",
    "    if pd.isna(duration):  # Check if the value is NaN\n",
    "        return 0  # Return 0 minutes if the duration is NaN\n",
    "    total_minutes = 0\n",
    "    parts = duration.split()\n",
    "    for part in parts:\n",
    "        if 'h' in part:\n",
    "            total_minutes += int(part[:-1]) * 60  # Convert hours to minutes\n",
    "        elif 'm' in part:\n",
    "            total_minutes += int(part[:-1])\n",
    "    return total_minutes\n",
    "\n",
    "df['duration'] = df['duration'].apply(convert_duration_to_minutes)\n",
    "\n",
    "for col in df.columns:\n",
    "    if df[col].dtype in ['int64', 'float64']:  # Numeric columns\n",
    "        df[col].fillna(0, inplace=True)\n",
    "    else:\n",
    "        df[col].fillna('n/a', inplace=True)\n"
   ]
  },
  {
   "cell_type": "code",
   "execution_count": 10,
   "metadata": {},
   "outputs": [],
   "source": [
    "import ast\n",
    "import pandas as pd\n",
    "\n",
    "def parse_list(cell):\n",
    "    if pd.isnull(cell) or cell == \"\":\n",
    "        return []\n",
    "    try:\n",
    "        return ast.literal_eval(cell)  \n",
    "    except (ValueError, SyntaxError):\n",
    "        return cell.split(\", \")  \n"
   ]
  },
  {
   "cell_type": "code",
   "execution_count": 11,
   "metadata": {},
   "outputs": [
    {
     "name": "stdout",
     "output_type": "stream",
     "text": [
      "Movie ID: tt0073195, Data: {'title': 'Jaws', 'year': 1975, 'duration': 124, 'MPA': 'PG', 'rating': 8.1, 'votes': '690K', 'meta_score': 87.0, 'description': \"When a massive killer shark unleashes chaos on a beach community off Long Island, it's up to a local sheriff, a marine biologist, and an old seafarer to hunt the beast down.\", 'Movie_Link': 'https://www.imdb.com/title/tt0073195', 'writers': ['Peter Benchley', 'Carl Gottlieb'], 'directors': ['Steven Spielberg'], 'stars': ['Roy Scheider', 'Robert Shaw', 'Richard Dreyfuss', 'Lorraine Gary', 'Murray Hamilton', 'Carl Gottlieb', 'Jeffrey Kramer', 'Susan Backlinie', 'Jonathan Filley', 'Ted Grossman'], 'budget': '$7,000,000 (estimated)', 'opening_weekend_gross': '$7,061,513', 'gross_worldwide': '$477,916,625', 'gross_us_canada': '$267,263,625', 'release_date': 1975.0, 'countries_origin': ['United States'], 'filming_locations': [\"Water Street, Edgartown, Martha's Vineyard, Massachusetts, USA\"], 'production_companies': ['Zanuck/Brown Productions', 'Universal Pictures'], 'awards_content': ['Won 3 Oscars', '16 wins & 20 nominations total'], 'genres': ['Monster Horror', 'Sea Adventure', 'Survival', 'Adventure', 'Drama', 'Horror', 'Thriller'], 'languages': ['English']}\n",
      "Movie ID: tt0073629, Data: {'title': 'The Rocky Horror Picture Show', 'year': 1975, 'duration': 100, 'MPA': 'R', 'rating': 7.4, 'votes': '174K', 'meta_score': 65.0, 'description': 'A newly-engaged couple have a breakdown in an isolated area and must seek shelter at the bizarre residence of Dr. Frank-n-Furter.', 'Movie_Link': 'https://www.imdb.com/title/tt0073629', 'writers': [\"Richard O'Brien\", 'Jim Sharman'], 'directors': ['Jim Sharman'], 'stars': ['Tim Curry', 'Susan Sarandon', 'Barry Bostwick', \"Richard O'Brien\", 'Patricia Quinn', 'Nell Campbell', 'Jonathan Adams', 'Peter Hinwood', 'Meat Loaf', 'Charles Gray'], 'budget': '$1,200,000 (estimated)', 'opening_weekend_gross': 'n/a', 'gross_worldwide': '$115,827,018', 'gross_us_canada': '$112,892,319', 'release_date': 1975.0, 'countries_origin': ['United Kingdom', 'United States'], 'filming_locations': [\"Oakley Court, Windsor Road, Oakley Green, Windsor, Berkshire, England, UK (castle exterior, criminologist's study, Brad's room, Janet's room, dining room, Columbia's room, entrance hall and stairs)\"], 'production_companies': ['Twentieth Century Fox', 'Michael White Productions'], 'awards_content': ['Awards', '3 wins & 4 nominations total'], 'genres': ['B-Horror', 'Dark Comedy', 'Parody', 'Raunchy Comedy', 'Rock Musical', 'Supernatural Horror', 'Comedy', 'Horror', 'Musical'], 'languages': ['English']}\n",
      "Movie ID: tt0073486, Data: {'title': \"One Flew Over the Cuckoo's Nest\", 'year': 1975, 'duration': 133, 'MPA': 'R', 'rating': 8.7, 'votes': '1.1M', 'meta_score': 84.0, 'description': 'In the Fall of 1963, a Korean War veteran and criminal pleads insanity and is admitted to a mental institution, where he rallies up the scared patients against the tyrannical nurse.', 'Movie_Link': 'https://www.imdb.com/title/tt0073486', 'writers': ['Lawrence Hauben', 'Bo Goldman', 'Ken Kesey'], 'directors': ['Milos Forman'], 'stars': ['Jack Nicholson', 'Louise Fletcher', 'Michael Berryman', 'Peter Brocco', 'Dean R. Brooks', 'Alonzo Brown', 'Scatman Crothers', 'Mwako Cumbuka', 'Danny DeVito', 'William Duell'], 'budget': '$3,000,000 (estimated)', 'opening_weekend_gross': 'n/a', 'gross_worldwide': '$109,115,366', 'gross_us_canada': '$108,981,275', 'release_date': 1975.0, 'countries_origin': ['United States'], 'filming_locations': ['Oregon State Mental Hospital - 2600 Center Street NE, Salem, Oregon, USA'], 'production_companies': ['Fantasy Films', 'N.V. Zvaluw'], 'awards_content': ['Won 5 Oscars', '38 wins & 15 nominations total'], 'genres': ['Medical Drama', 'Psychological Drama', 'Drama'], 'languages': ['English']}\n",
      "Movie ID: tt0072890, Data: {'title': 'Dog Day Afternoon', 'year': 1975, 'duration': 125, 'MPA': 'R', 'rating': 8.0, 'votes': '281K', 'meta_score': 86.0, 'description': 'Three amateur robbers plan to hold up a Brooklyn bank. A nice, simple robbery: Walk in, take the money, and run. Unfortunately, the supposedly uncomplicated heist suddenly becomes a bizarre nightmare as everything that could go wrong does.', 'Movie_Link': 'https://www.imdb.com/title/tt0072890', 'writers': ['Frank Pierson', 'P.F. Kluge', 'Thomas Moore'], 'directors': ['Sidney Lumet'], 'stars': ['Al Pacino', 'John Cazale', 'Penelope Allen', 'Sully Boyar', 'Beulah Garrick', 'Carol Kane', 'Sandra Kazan', 'Marcia Jean Kurtz', 'Amy Levitt', 'John Marriott'], 'budget': '$1,800,000 (estimated)', 'opening_weekend_gross': 'n/a', 'gross_worldwide': '$50,004,527', 'gross_us_canada': '$50,000,000', 'release_date': 1975.0, 'countries_origin': ['United States'], 'filming_locations': ['285 Prospect Park West, Brooklyn, New York City, New York, USA (Bank exterior)'], 'production_companies': ['Warner Bros.', 'Artists Entertainment Complex'], 'awards_content': ['Won 1 Oscar', '14 wins & 20 nominations total'], 'genres': ['Dark Comedy', 'Heist', 'True Crime', 'Biography', 'Crime', 'Drama', 'Thriller'], 'languages': ['English']}\n",
      "Movie ID: tt0073692, Data: {'title': 'Shampoo', 'year': 1975, 'duration': 110, 'MPA': 'R', 'rating': 6.4, 'votes': '15K', 'meta_score': 65.0, 'description': \"On Election Day, 1968, irresponsible hairdresser and ladies' man George Roundy is too busy cutting hair and dealing with his girlfriends and mistress Felicia Karpf, whose husband Lester is having an affair with his ex-girlfriend Jackie.\", 'Movie_Link': 'https://www.imdb.com/title/tt0073692', 'writers': ['Robert Towne', 'Warren Beatty'], 'directors': ['Hal Ashby'], 'stars': ['Warren Beatty', 'Julie Christie', 'Goldie Hawn', 'Lee Grant', 'Jack Warden', 'Tony Bill', 'George Furth', 'Jay Robinson', 'Ann Weldon', 'Luana Anders'], 'budget': '$4,000,000 (estimated)', 'opening_weekend_gross': 'n/a', 'gross_worldwide': '$49,407,734', 'gross_us_canada': '$49,407,734', 'release_date': 1975.0, 'countries_origin': ['United States'], 'filming_locations': [\"2270 Bowmont Drive, Beverly Hills, California, USA (Jackie's House at Bowmont & Hazen)\"], 'production_companies': ['Persky-Bright / Vista', 'Columbia Pictures', 'Rubeeker Films'], 'awards_content': ['Won 1 Oscar', '3 wins & 11 nominations total'], 'genres': ['Satire', 'Comedy', 'Drama'], 'languages': ['English']}\n"
     ]
    }
   ],
   "source": [
    "# Dictionary to hold movie data\n",
    "movie_data_dict = {}\n",
    "\n",
    "for _, row in df.iterrows():\n",
    "    id = row[\"id\"]\n",
    "    movie_data_dict[id] = {\n",
    "        \"title\": row[\"title\"],\n",
    "        \"year\": row[\"year\"],\n",
    "        \"duration\": row[\"duration\"],\n",
    "        \"MPA\": row[\"MPA\"],\n",
    "        \"rating\": row[\"rating\"],\n",
    "        \"votes\": row[\"votes\"],\n",
    "        \"meta_score\": row[\"meta_score\"],\n",
    "        \"description\": row[\"description\"],\n",
    "        \"Movie_Link\": row[\"Movie_Link\"],\n",
    "        \"writers\": parse_list(row[\"writers\"]),\n",
    "        \"directors\": parse_list(row[\"directors\"]),\n",
    "        \"stars\": parse_list(row[\"stars\"]),\n",
    "        \"budget\": row[\"budget\"],\n",
    "        \"opening_weekend_gross\": row[\"opening_weekend_gross\"],\n",
    "        \"gross_worldwide\": row[\"gross_worldwide\"],\n",
    "        \"gross_us_canada\": row[\"gross_us_canada\"],\n",
    "        \"release_date\": row[\"release_date\"],\n",
    "        \"countries_origin\": parse_list(row[\"countries_origin\"]),\n",
    "        \"filming_locations\": parse_list(row[\"filming_locations\"]),\n",
    "        \"production_companies\": parse_list(row[\"production_companies\"]),\n",
    "        \"awards_content\": parse_list(row[\"awards_content\"]),\n",
    "        \"genres\": parse_list(row[\"genres\"]),\n",
    "        \"languages\": parse_list(row[\"languages\"])\n",
    "    }\n",
    "\n",
    "first_5_keys = list(movie_data_dict.keys())[:5]  \n",
    "for key in first_5_keys:\n",
    "    print(f\"Movie ID: {key}, Data: {movie_data_dict[key]}\")\n"
   ]
  },
  {
   "cell_type": "code",
   "execution_count": 12,
   "metadata": {},
   "outputs": [
    {
     "name": "stdout",
     "output_type": "stream",
     "text": [
      "Dictionary saved to ./../cleaned_database/cleaned_final_dataset.csv\n"
     ]
    }
   ],
   "source": [
    "df_cleaned = pd.DataFrame.from_dict(movie_data_dict, orient=\"index\")\n",
    "df_cleaned.to_csv(\"./../cleaned_database/cleaned_final_dataset.csv\", index_label=\"id\")\n",
    "print(\"Dictionary saved to ./../cleaned_database/cleaned_final_dataset.csv\")\n"
   ]
  }
 ],
 "metadata": {
  "kernelspec": {
   "display_name": "base",
   "language": "python",
   "name": "python3"
  },
  "language_info": {
   "codemirror_mode": {
    "name": "ipython",
    "version": 3
   },
   "file_extension": ".py",
   "mimetype": "text/x-python",
   "name": "python",
   "nbconvert_exporter": "python",
   "pygments_lexer": "ipython3",
   "version": "3.12.9"
  }
 },
 "nbformat": 4,
 "nbformat_minor": 2
}
