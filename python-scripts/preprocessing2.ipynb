{
 "cells": [
  {
   "cell_type": "code",
   "execution_count": 23,
   "metadata": {},
   "outputs": [],
   "source": [
    "import kagglehub\n",
    "import pandas as pd\n",
    "import os\n"
   ]
  },
  {
   "cell_type": "code",
   "execution_count": 38,
   "metadata": {},
   "outputs": [
    {
     "name": "stdout",
     "output_type": "stream",
     "text": [
      "Warning: Looks like you're using an outdated `kagglehub` version (installed: 0.3.10), please consider upgrading to the latest version (0.3.11).\n",
      "Loaded dataset from: C:\\Users\\Mansi\\.cache\\kagglehub\\datasets\\raedaddala\\top-500-600-movies-of-each-year-from-1960-to-2024\\versions\\3\\final_dataset.csv\n",
      "          id                            title  year duration MPA  rating  \\\n",
      "0  tt0073195                             Jaws  1975    2h 4m  PG     8.1   \n",
      "1  tt0073629    The Rocky Horror Picture Show  1975   1h 40m   R     7.4   \n",
      "2  tt0073486  One Flew Over the Cuckoo's Nest  1975   2h 13m   R     8.7   \n",
      "3  tt0072890                Dog Day Afternoon  1975    2h 5m   R     8.0   \n",
      "4  tt0073692                          Shampoo  1975   1h 50m   R     6.4   \n",
      "\n",
      "  votes  meta_score                                        description  \\\n",
      "0  690K        87.0  When a massive killer shark unleashes chaos on...   \n",
      "1  174K        65.0  A newly-engaged couple have a breakdown in an ...   \n",
      "2  1.1M        84.0  In the Fall of 1963, a Korean War veteran and ...   \n",
      "3  281K        86.0  Three amateur robbers plan to hold up a Brookl...   \n",
      "4   15K        65.0  On Election Day, 1968, irresponsible hairdress...   \n",
      "\n",
      "                             Movie_Link  ... opening_weekend_gross  \\\n",
      "0  https://www.imdb.com/title/tt0073195  ...            $7,061,513   \n",
      "1  https://www.imdb.com/title/tt0073629  ...                   NaN   \n",
      "2  https://www.imdb.com/title/tt0073486  ...                   NaN   \n",
      "3  https://www.imdb.com/title/tt0072890  ...                   NaN   \n",
      "4  https://www.imdb.com/title/tt0073692  ...                   NaN   \n",
      "\n",
      "  gross_worldwide gross_us_canada release_date  \\\n",
      "0    $477,916,625    $267,263,625       1975.0   \n",
      "1    $115,827,018    $112,892,319       1975.0   \n",
      "2    $109,115,366    $108,981,275       1975.0   \n",
      "3     $50,004,527     $50,000,000       1975.0   \n",
      "4     $49,407,734     $49,407,734       1975.0   \n",
      "\n",
      "                      countries_origin  \\\n",
      "0                    ['United States']   \n",
      "1  ['United Kingdom', 'United States']   \n",
      "2                    ['United States']   \n",
      "3                    ['United States']   \n",
      "4                    ['United States']   \n",
      "\n",
      "                                   filming_locations  \\\n",
      "0  [\"Water Street, Edgartown, Martha's Vineyard, ...   \n",
      "1  [\"Oakley Court, Windsor Road, Oakley Green, Wi...   \n",
      "2  ['Oregon State Mental Hospital - 2600 Center S...   \n",
      "3  ['285 Prospect Park West, Brooklyn, New York C...   \n",
      "4  [\"2270 Bowmont Drive, Beverly Hills, Californi...   \n",
      "\n",
      "                                production_companies  \\\n",
      "0  ['Zanuck/Brown Productions', 'Universal Pictur...   \n",
      "1  ['Twentieth Century Fox', 'Michael White Produ...   \n",
      "2                   ['Fantasy Films', 'N.V. Zvaluw']   \n",
      "3  ['Warner Bros.', 'Artists Entertainment Complex']   \n",
      "4  ['Persky-Bright / Vista', 'Columbia Pictures',...   \n",
      "\n",
      "                                 awards_content  \\\n",
      "0  Won 3 Oscars, 16 wins & 20 nominations total   \n",
      "1          Awards, 3 wins & 4 nominations total   \n",
      "2  Won 5 Oscars, 38 wins & 15 nominations total   \n",
      "3   Won 1 Oscar, 14 wins & 20 nominations total   \n",
      "4    Won 1 Oscar, 3 wins & 11 nominations total   \n",
      "\n",
      "                                              genres    languages  \n",
      "0  ['Monster Horror', 'Sea Adventure', 'Survival'...  ['English']  \n",
      "1  ['B-Horror', 'Dark Comedy', 'Parody', 'Raunchy...  ['English']  \n",
      "2  ['Medical Drama', 'Psychological Drama', 'Drama']  ['English']  \n",
      "3  ['Dark Comedy', 'Heist', 'True Crime', 'Biogra...  ['English']  \n",
      "4                      ['Satire', 'Comedy', 'Drama']  ['English']  \n",
      "\n",
      "[5 rows x 24 columns]\n"
     ]
    }
   ],
   "source": [
    "dataset_path = kagglehub.dataset_download(\"raedaddala/top-500-600-movies-of-each-year-from-1960-to-2024\")\n",
    "\n",
    "csv_filename = os.path.join(dataset_path, \"final_dataset.csv\")\n",
    "df = pd.read_csv(csv_filename)\n",
    "\n",
    "print(\"Loaded dataset from:\", csv_filename)\n",
    "print(df.head())\n"
   ]
  },
  {
   "cell_type": "code",
   "execution_count": 39,
   "metadata": {},
   "outputs": [],
   "source": [
    "def convert_duration_to_minutes(duration):\n",
    "    if pd.isna(duration):\n",
    "        return 0  \n",
    "    if isinstance(duration, int):\n",
    "        return duration  \n",
    "\n",
    "    total_minutes = 0\n",
    "    parts = duration.split()\n",
    "    for part in parts:\n",
    "        if 'h' in part:\n",
    "            total_minutes += int(part[:-1]) * 60 \n",
    "        elif 'm' in part:\n",
    "            total_minutes += int(part[:-1])  \n",
    "    return total_minutes\n",
    "\n",
    "df['duration'] = df['duration'].apply(convert_duration_to_minutes)\n",
    "\n",
    "\n"
   ]
  },
  {
   "cell_type": "code",
   "execution_count": 40,
   "metadata": {},
   "outputs": [
    {
     "name": "stderr",
     "output_type": "stream",
     "text": [
      "C:\\Users\\Mansi\\AppData\\Local\\Temp\\ipykernel_20580\\4202546302.py:5: FutureWarning: A value is trying to be set on a copy of a DataFrame or Series through chained assignment using an inplace method.\n",
      "The behavior will change in pandas 3.0. This inplace method will never work because the intermediate object on which we are setting values always behaves as a copy.\n",
      "\n",
      "For example, when doing 'df[col].method(value, inplace=True)', try using 'df.method({col: value}, inplace=True)' or df[col] = df[col].method(value) instead, to perform the operation inplace on the original object.\n",
      "\n",
      "\n",
      "  df[col].fillna('n/a', inplace=True)\n",
      "C:\\Users\\Mansi\\AppData\\Local\\Temp\\ipykernel_20580\\4202546302.py:3: FutureWarning: A value is trying to be set on a copy of a DataFrame or Series through chained assignment using an inplace method.\n",
      "The behavior will change in pandas 3.0. This inplace method will never work because the intermediate object on which we are setting values always behaves as a copy.\n",
      "\n",
      "For example, when doing 'df[col].method(value, inplace=True)', try using 'df.method({col: value}, inplace=True)' or df[col] = df[col].method(value) instead, to perform the operation inplace on the original object.\n",
      "\n",
      "\n",
      "  df[col].fillna(0, inplace=True)\n"
     ]
    }
   ],
   "source": [
    "for col in df.columns:\n",
    "    if df[col].dtype in ['int', 'int64', 'float64']: \n",
    "        df[col].fillna(0, inplace=True)\n",
    "    else:\n",
    "        df[col].fillna('n/a', inplace=True)"
   ]
  },
  {
   "cell_type": "code",
   "execution_count": 41,
   "metadata": {},
   "outputs": [
    {
     "name": "stderr",
     "output_type": "stream",
     "text": [
      "C:\\Users\\Mansi\\AppData\\Local\\Temp\\ipykernel_20580\\1526783218.py:4: FutureWarning: DataFrame.applymap has been deprecated. Use DataFrame.map instead.\n",
      "  df = df.applymap(lambda x: x.lower() if isinstance(x, str) else x)\n"
     ]
    },
    {
     "name": "stdout",
     "output_type": "stream",
     "text": [
      "Writers column:\n",
      " 0            [peterbenchley, carlgottlieb]\n",
      "1              [richardobrien, jimsharman]\n",
      "2    [lawrencehauben, bogoldman, kenkesey]\n",
      "3     [frankpierson, pfkluge, thomasmoore]\n",
      "4              [roberttowne, warrenbeatty]\n",
      "Name: writers, dtype: object \n",
      "\n",
      "Directors column:\n",
      " 0    [stevenspielberg]\n",
      "1         [jimsharman]\n",
      "2        [milosforman]\n",
      "3        [sidneylumet]\n",
      "4           [halashby]\n",
      "Name: directors, dtype: object \n",
      "\n",
      "Stars column:\n",
      " 0    [royscheider, robertshaw, richarddreyfuss, lor...\n",
      "1    [timcurry, susansarandon, barrybostwick, richa...\n",
      "2    [jacknicholson, louisefletcher, michaelberryma...\n",
      "3    [alpacino, johncazale, penelopeallen, sullyboy...\n",
      "4    [warrenbeatty, juliechristie, goldiehawn, leeg...\n",
      "Name: stars, dtype: object \n",
      "\n"
     ]
    }
   ],
   "source": [
    "import string\n",
    "\n",
    "# Convert all string entries in the DataFrame to lowercase\n",
    "df = df.applymap(lambda x: x.lower() if isinstance(x, str) else x)\n",
    "\n",
    "def clean_name_list(cell):\n",
    "    if pd.isna(cell) or cell == 'n/a':\n",
    "        return ['n/a']\n",
    "    try:\n",
    "        names = eval(cell) if isinstance(cell, str) and cell.startswith(\"[\") else [cell]\n",
    "    except:\n",
    "        names = [cell]\n",
    "    \n",
    "    # Remove punctuation and join first+last name while keeping list format\n",
    "    table = str.maketrans('', '', string.punctuation)\n",
    "    cleaned = [''.join(name.translate(table).split()) for name in names]\n",
    "    return cleaned  # returns a list like ['tomholland', 'jenniferaniston']\n",
    "\n",
    "# Apply to relevant columns\n",
    "for col in ['writers', 'directors', 'stars']:\n",
    "    if col in df.columns:\n",
    "        df[col] = df[col].apply(clean_name_list)\n",
    "\n",
    "# Print to verify results\n",
    "print(\"Writers column:\\n\", df['writers'].head(), \"\\n\")\n",
    "print(\"Directors column:\\n\", df['directors'].head(), \"\\n\")\n",
    "print(\"Stars column:\\n\", df['stars'].head(), \"\\n\")"
   ]
  },
  {
   "cell_type": "code",
   "execution_count": 35,
   "metadata": {},
   "outputs": [],
   "source": [
    "import ast\n",
    "import pandas as pd"
   ]
  },
  {
   "cell_type": "code",
   "execution_count": 42,
   "metadata": {},
   "outputs": [],
   "source": [
    "import ast\n",
    "\n",
    "def parse_list(cell):\n",
    "    if isinstance(cell, list):\n",
    "        return cell\n",
    "    if isinstance(cell, float) and pd.isna(cell):\n",
    "        return []\n",
    "    if isinstance(cell, str) and cell.strip() == \"\":\n",
    "        return []\n",
    "    try:\n",
    "        return ast.literal_eval(cell)\n",
    "    except (ValueError, SyntaxError):\n",
    "        return cell.split(\", \") if isinstance(cell, str) else [cell]"
   ]
  },
  {
   "cell_type": "code",
   "execution_count": null,
   "metadata": {},
   "outputs": [
    {
     "name": "stdout",
     "output_type": "stream",
     "text": [
      "Movie ID: tt0073195, Data: {'title': 'jaws', 'year': 1975, 'duration': 124, 'MPA': 'pg', 'rating': 8.1, 'votes': '690k', 'meta_score': 87.0, 'description': \"when a massive killer shark unleashes chaos on a beach community off long island, it's up to a local sheriff, a marine biologist, and an old seafarer to hunt the beast down.\", 'Movie_Link': 'https://www.imdb.com/title/tt0073195', 'writers': ['peterbenchley', 'carlgottlieb'], 'directors': ['stevenspielberg'], 'stars': ['royscheider', 'robertshaw', 'richarddreyfuss', 'lorrainegary', 'murrayhamilton', 'carlgottlieb', 'jeffreykramer', 'susanbacklinie', 'jonathanfilley', 'tedgrossman'], 'budget': '$7,000,000 (estimated)', 'opening_weekend_gross': '$7,061,513', 'gross_worldwide': '$477,916,625', 'gross_us_canada': '$267,263,625', 'release_date': 1975.0, 'countries_origin': ['united states'], 'filming_locations': [\"water street, edgartown, martha's vineyard, massachusetts, usa\"], 'production_companies': ['zanuck/brown productions', 'universal pictures'], 'awards_content': ['won 3 oscars', '16 wins & 20 nominations total'], 'genres': ['monster horror', 'sea adventure', 'survival', 'adventure', 'drama', 'horror', 'thriller'], 'languages': ['english']}\n",
      "Movie ID: tt0073629, Data: {'title': 'the rocky horror picture show', 'year': 1975, 'duration': 100, 'MPA': 'r', 'rating': 7.4, 'votes': '174k', 'meta_score': 65.0, 'description': 'a newly-engaged couple have a breakdown in an isolated area and must seek shelter at the bizarre residence of dr. frank-n-furter.', 'Movie_Link': 'https://www.imdb.com/title/tt0073629', 'writers': ['richardobrien', 'jimsharman'], 'directors': ['jimsharman'], 'stars': ['timcurry', 'susansarandon', 'barrybostwick', 'richardobrien', 'patriciaquinn', 'nellcampbell', 'jonathanadams', 'peterhinwood', 'meatloaf', 'charlesgray'], 'budget': '$1,200,000 (estimated)', 'opening_weekend_gross': 'n/a', 'gross_worldwide': '$115,827,018', 'gross_us_canada': '$112,892,319', 'release_date': 1975.0, 'countries_origin': ['united kingdom', 'united states'], 'filming_locations': [\"oakley court, windsor road, oakley green, windsor, berkshire, england, uk (castle exterior, criminologist's study, brad's room, janet's room, dining room, columbia's room, entrance hall and stairs)\"], 'production_companies': ['twentieth century fox', 'michael white productions'], 'awards_content': ['awards', '3 wins & 4 nominations total'], 'genres': ['b-horror', 'dark comedy', 'parody', 'raunchy comedy', 'rock musical', 'supernatural horror', 'comedy', 'horror', 'musical'], 'languages': ['english']}\n",
      "Movie ID: tt0073486, Data: {'title': \"one flew over the cuckoo's nest\", 'year': 1975, 'duration': 133, 'MPA': 'r', 'rating': 8.7, 'votes': '1.1m', 'meta_score': 84.0, 'description': 'in the fall of 1963, a korean war veteran and criminal pleads insanity and is admitted to a mental institution, where he rallies up the scared patients against the tyrannical nurse.', 'Movie_Link': 'https://www.imdb.com/title/tt0073486', 'writers': ['lawrencehauben', 'bogoldman', 'kenkesey'], 'directors': ['milosforman'], 'stars': ['jacknicholson', 'louisefletcher', 'michaelberryman', 'peterbrocco', 'deanrbrooks', 'alonzobrown', 'scatmancrothers', 'mwakocumbuka', 'dannydevito', 'williamduell'], 'budget': '$3,000,000 (estimated)', 'opening_weekend_gross': 'n/a', 'gross_worldwide': '$109,115,366', 'gross_us_canada': '$108,981,275', 'release_date': 1975.0, 'countries_origin': ['united states'], 'filming_locations': ['oregon state mental hospital - 2600 center street ne, salem, oregon, usa'], 'production_companies': ['fantasy films', 'n.v. zvaluw'], 'awards_content': ['won 5 oscars', '38 wins & 15 nominations total'], 'genres': ['medical drama', 'psychological drama', 'drama'], 'languages': ['english']}\n",
      "Movie ID: tt0072890, Data: {'title': 'dog day afternoon', 'year': 1975, 'duration': 125, 'MPA': 'r', 'rating': 8.0, 'votes': '281k', 'meta_score': 86.0, 'description': 'three amateur robbers plan to hold up a brooklyn bank. a nice, simple robbery: walk in, take the money, and run. unfortunately, the supposedly uncomplicated heist suddenly becomes a bizarre nightmare as everything that could go wrong does.', 'Movie_Link': 'https://www.imdb.com/title/tt0072890', 'writers': ['frankpierson', 'pfkluge', 'thomasmoore'], 'directors': ['sidneylumet'], 'stars': ['alpacino', 'johncazale', 'penelopeallen', 'sullyboyar', 'beulahgarrick', 'carolkane', 'sandrakazan', 'marciajeankurtz', 'amylevitt', 'johnmarriott'], 'budget': '$1,800,000 (estimated)', 'opening_weekend_gross': 'n/a', 'gross_worldwide': '$50,004,527', 'gross_us_canada': '$50,000,000', 'release_date': 1975.0, 'countries_origin': ['united states'], 'filming_locations': ['285 prospect park west, brooklyn, new york city, new york, usa (bank exterior)'], 'production_companies': ['warner bros.', 'artists entertainment complex'], 'awards_content': ['won 1 oscar', '14 wins & 20 nominations total'], 'genres': ['dark comedy', 'heist', 'true crime', 'biography', 'crime', 'drama', 'thriller'], 'languages': ['english']}\n",
      "Movie ID: tt0073692, Data: {'title': 'shampoo', 'year': 1975, 'duration': 110, 'MPA': 'r', 'rating': 6.4, 'votes': '15k', 'meta_score': 65.0, 'description': \"on election day, 1968, irresponsible hairdresser and ladies' man george roundy is too busy cutting hair and dealing with his girlfriends and mistress felicia karpf, whose husband lester is having an affair with his ex-girlfriend jackie.\", 'Movie_Link': 'https://www.imdb.com/title/tt0073692', 'writers': ['roberttowne', 'warrenbeatty'], 'directors': ['halashby'], 'stars': ['warrenbeatty', 'juliechristie', 'goldiehawn', 'leegrant', 'jackwarden', 'tonybill', 'georgefurth', 'jayrobinson', 'annweldon', 'luanaanders'], 'budget': '$4,000,000 (estimated)', 'opening_weekend_gross': 'n/a', 'gross_worldwide': '$49,407,734', 'gross_us_canada': '$49,407,734', 'release_date': 1975.0, 'countries_origin': ['united states'], 'filming_locations': [\"2270 bowmont drive, beverly hills, california, usa (jackie's house at bowmont & hazen)\"], 'production_companies': ['persky-bright / vista', 'columbia pictures', 'rubeeker films'], 'awards_content': ['won 1 oscar', '3 wins & 11 nominations total'], 'genres': ['satire', 'comedy', 'drama'], 'languages': ['english']}\n"
     ]
    }
   ],
   "source": [
    "movie_data_dict = {}\n",
    "\n",
    "for _, row in df.iterrows():\n",
    "    id = row[\"id\"]\n",
    "    movie_data_dict[id] = {\n",
    "\n",
    "        \"title\": row[\"title\"],\n",
    "        \"year\": row[\"year\"],\n",
    "        \"duration\": row[\"duration\"],\n",
    "        \"MPA\": row[\"MPA\"],\n",
    "        \"rating\": row[\"rating\"],\n",
    "        \"votes\": row[\"votes\"],\n",
    "        \"meta_score\": row[\"meta_score\"],\n",
    "        \"description\": row[\"description\"],\n",
    "        \"Movie_Link\": row[\"Movie_Link\"],\n",
    "        \"writers\": parse_list(row[\"writers\"]),\n",
    "        \"directors\": parse_list(row[\"directors\"]),\n",
    "        \"stars\": parse_list(row[\"stars\"]),\n",
    "        \"budget\": row[\"budget\"],\n",
    "        \"opening_weekend_gross\": row[\"opening_weekend_gross\"],\n",
    "        \"gross_worldwide\": row[\"gross_worldwide\"],\n",
    "        \"gross_us_canada\": row[\"gross_us_canada\"],\n",
    "        \"release_date\": row[\"release_date\"],\n",
    "        \"countries_origin\": parse_list(row[\"countries_origin\"]),\n",
    "        \"filming_locations\": parse_list(row[\"filming_locations\"]),\n",
    "        \"production_companies\": parse_list(row[\"production_companies\"]),\n",
    "        \"awards_content\": parse_list(row[\"awards_content\"]),\n",
    "        \"genres\": parse_list(row[\"genres\"]),\n",
    "        \"languages\": parse_list(row[\"languages\"])\n",
    "    }\n",
    "\n",
    "first_5_keys = list(movie_data_dict.keys())[:5]  \n",
    "for key in first_5_keys:\n",
    "    print(f\"Movie ID: {key}, Data: {movie_data_dict[key]}\")\n"
   ]
  },
  {
   "cell_type": "code",
   "execution_count": 44,
   "metadata": {},
   "outputs": [
    {
     "name": "stdout",
     "output_type": "stream",
     "text": [
      "Dictionary saved to ./../cleaned_database/cleaned_final_dataset.csv\n"
     ]
    }
   ],
   "source": [
    "df_cleaned = pd.DataFrame.from_dict(movie_data_dict, orient=\"index\")\n",
    "df_cleaned.to_csv(\"./../cleaned_database/cleaned_final_dataset.csv\", index_label=\"id\")\n",
    "print(\"Dictionary saved to ./../cleaned_database/cleaned_final_dataset.csv\")\n"
   ]
  }
 ],
 "metadata": {
  "kernelspec": {
   "display_name": "base",
   "language": "python",
   "name": "python3"
  },
  "language_info": {
   "codemirror_mode": {
    "name": "ipython",
    "version": 3
   },
   "file_extension": ".py",
   "mimetype": "text/x-python",
   "name": "python",
   "nbconvert_exporter": "python",
   "pygments_lexer": "ipython3",
   "version": "3.12.9"
  }
 },
 "nbformat": 4,
 "nbformat_minor": 2
}
