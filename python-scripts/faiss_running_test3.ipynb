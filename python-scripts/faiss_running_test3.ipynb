{
 "cells": [
  {
   "cell_type": "code",
   "execution_count": 1,
   "id": "9914a493",
   "metadata": {},
   "outputs": [],
   "source": [
    "import faiss\n",
    "import pickle\n",
    "import pandas as pd\n",
    "import numpy as np\n",
    "from sentence_transformers import SentenceTransformer"
   ]
  },
  {
   "cell_type": "code",
   "execution_count": 2,
   "id": "473cce2c",
   "metadata": {},
   "outputs": [],
   "source": [
    "base_dir = \"./../faiss_embeddings3\"\n",
    "model_name = 'sentence-transformers/all-distilroberta-v1'"
   ]
  },
  {
   "cell_type": "code",
   "execution_count": 3,
   "id": "1d5936d5",
   "metadata": {},
   "outputs": [],
   "source": [
    "index = faiss.read_index(f\"{base_dir}/movie_index.faiss\")"
   ]
  },
  {
   "cell_type": "code",
   "execution_count": 4,
   "id": "cd323c06",
   "metadata": {},
   "outputs": [],
   "source": [
    "with open(f\"{base_dir}/movie_ids.pkl\", \"rb\") as f:\n",
    "    id_list = pickle.load(f)\n",
    "\n",
    "metadata = pd.read_csv(f\"{base_dir}/movie_metadata.csv\")\n",
    "\n",
    "model = SentenceTransformer(model_name)"
   ]
  },
  {
   "cell_type": "code",
   "execution_count": 8,
   "id": "a6bf5ee1",
   "metadata": {},
   "outputs": [],
   "source": [
    "import ast\n",
    "\n",
    "def metadata_filter(row, row_checker):\n",
    "    # Extract numeric filters with defaults\n",
    "    min_year = row_checker.get(\"min_year\", float(\"-inf\"))\n",
    "    max_year = row_checker.get(\"max_year\", float(\"inf\"))\n",
    "    min_rating = row_checker.get(\"min_rating\", float(\"-inf\"))\n",
    "    max_rating = row_checker.get(\"max_rating\", float(\"inf\"))\n",
    "    min_duration = row_checker.get(\"min_duration\", float(\"-inf\"))\n",
    "    max_duration = row_checker.get(\"max_duration\", float(\"inf\"))\n",
    "\n",
    "    # Extract list-based filters with safe defaults\n",
    "    required_genres = set(row_checker.get(\"required_genres\", []))\n",
    "    excluded_genres = set(row_checker.get(\"excluded_genres\", []))\n",
    "    required_languages = set(row_checker.get(\"required_languages\", []))\n",
    "    excluded_languages = set(row_checker.get(\"excluded_languages\", []))\n",
    "\n",
    "    # Safely parse stringified lists (e.g., \"['English']\")\n",
    "    def parse_list(cell):\n",
    "        try:\n",
    "            return set(ast.literal_eval(cell)) if isinstance(cell, str) else set(cell)\n",
    "        except (ValueError, SyntaxError):\n",
    "            return set()\n",
    "\n",
    "    # Parse numeric values safely\n",
    "    try:\n",
    "        year = int(row.get(\"year\", 0))\n",
    "        rating = float(row.get(\"rating\", 0.0))\n",
    "        duration = int(row.get(\"duration\", 0))\n",
    "    except (ValueError, TypeError):\n",
    "        return False  # Reject row on parsing error\n",
    "\n",
    "    # Range checks\n",
    "    year_check = min_year <= year <= max_year\n",
    "    rating_check = min_rating <= rating <= max_rating\n",
    "    duration_check = min_duration <= duration <= max_duration\n",
    "\n",
    "    # List checks\n",
    "    genres = parse_list(row.get(\"genres\", \"[]\"))\n",
    "    languages = parse_list(row.get(\"languages\", \"[]\"))\n",
    "\n",
    "    genre_inclusion_check = not required_genres or bool(genres & required_genres)\n",
    "    genre_exclusion_check = not (genres & excluded_genres)\n",
    "\n",
    "    language_inclusion_check = not required_languages or bool(languages & required_languages)\n",
    "    language_exclusion_check = not (languages & excluded_languages)\n",
    "\n",
    "    # Final decision\n",
    "    return (\n",
    "        year_check and\n",
    "        rating_check and\n",
    "        duration_check and\n",
    "        genre_inclusion_check and\n",
    "        genre_exclusion_check and\n",
    "        language_inclusion_check and\n",
    "        language_exclusion_check\n",
    "    )\n"
   ]
  },
  {
   "cell_type": "code",
   "execution_count": 9,
   "id": "a76e2470",
   "metadata": {},
   "outputs": [],
   "source": [
    "# === DEFINE QUERY FUNCTION WITH OFFSET LOGIC ===\n",
    "def search_movies(query, top_k=10, search_batch_size=100, row_checker={}):\n",
    "    query_embedding = model.encode([query], normalize_embeddings=True).astype(\"float32\")\n",
    "\n",
    "    results = []\n",
    "    offset = 0\n",
    "\n",
    "    while len(results) < top_k:\n",
    "        fetch_size = min(search_batch_size + offset, len(id_list))\n",
    "        D, I = index.search(query_embedding, fetch_size)\n",
    "\n",
    "        for idx in I[0][offset:]:\n",
    "            movie_id = id_list[idx]\n",
    "            row = metadata[metadata[\"id\"] == movie_id].iloc[0].to_dict()\n",
    "            if metadata_filter(row, row_checker):\n",
    "                results.append({\n",
    "                    \"id\": movie_id,\n",
    "                    \"metadata\": row\n",
    "                })\n",
    "            if len(results) == top_k:\n",
    "                break\n",
    "\n",
    "        offset += search_batch_size\n",
    "        if offset >= len(id_list):\n",
    "            break\n",
    "\n",
    "    return results\n",
    "\n",
    "\n"
   ]
  },
  {
   "cell_type": "code",
   "execution_count": 10,
   "id": "d0bec876",
   "metadata": {},
   "outputs": [
    {
     "name": "stdout",
     "output_type": "stream",
     "text": [
      "1. ID: tt0066240, Result: {'id': 'tt0066240', 'title': 'Shoot the Living and Pray for the Dead', 'year': 1971, 'duration': 90, 'MPA': 'PG-13', 'rating': 6.2, 'votes': '853', 'meta_score': 0.0, 'description': 'After Dan Hogan and his gang rob a bank, they hire a mysterious man to guide them across the Mexican border in return for half of the loot.', 'Movie_Link': 'https://www.imdb.com/title/tt0066240', 'writers': \"['Adriano Bolzoni']\", 'directors': \"['Giuseppe Vari']\", 'stars': \"['Klaus Kinski', 'Victoria Zinny', 'Paolo Casella', 'Dino Strano', 'Antonio La Raina', 'Dante Maggio', 'Fortunato Arena', 'Anna Zinnemann', 'Adriana Giuffrè', 'Gianni Pulone']\", 'budget': nan, 'opening_weekend_gross': nan, 'gross_worldwide': nan, 'gross_us_canada': nan, 'release_date': 1971.0, 'countries_origin': \"['Italy']\", 'filming_locations': \"['Italy']\", 'production_companies': \"['Castor Film']\", 'awards_content': '[]', 'genres': \"['Spaghetti Western', 'Western']\", 'languages': \"['Italian']\"}\n",
      "2. ID: tt0060123, Result: {'id': 'tt0060123', 'title': 'The Devil in Love', 'year': 1966, 'duration': 97, 'MPA': nan, 'rating': 6.2, 'votes': '334', 'meta_score': 0.0, 'description': 'A leading devil comes to earth to prevent the marriage of a papal aristocrat and a daughter of Lorenzo the Magnificent.', 'Movie_Link': 'https://www.imdb.com/title/tt0060123', 'writers': \"['Ruggero Maccari', 'Ettore Scola', 'Niccolò Machiavelli']\", 'directors': \"['Ettore Scola']\", 'stars': \"['Vittorio Gassman', 'Claudine Auger', 'Mickey Rooney', 'Ettore Manni', 'Annabella Incontrera', 'Hélène Chanel', 'Sherill Mogan', 'Liana Orfei', 'Luigi Vannucchi', 'Giorgia Moll']\", 'budget': nan, 'opening_weekend_gross': nan, 'gross_worldwide': nan, 'gross_us_canada': nan, 'release_date': 1966.0, 'countries_origin': \"['Italy']\", 'filming_locations': '[\"Strozzi Palace, Florence, Tuscany, Italy (as Palazzo de\\' Medici)\"]', 'production_companies': \"['Fair Film']\", 'awards_content': '[]', 'genres': \"['Comedy']\", 'languages': \"['Italian']\"}\n",
      "3. ID: tt0147353, Result: {'id': 'tt0147353', 'title': 'Scandalo in famiglia', 'year': 1976, 'duration': 88, 'MPA': nan, 'rating': 5.9, 'votes': '81', 'meta_score': 0.0, 'description': \"Elena loves her stepmother's brother and tries to seduce him. The feeling is mutual but she is forced to marry a nobleman. The only solution is adultery.\", 'Movie_Link': 'https://www.imdb.com/title/tt0147353', 'writers': \"['Marcello Andrei']\", 'directors': \"['Marcello Andrei']\", 'stars': \"['Gloria Guida', 'Gianluigi Chirizzi', 'Lucretia Love', 'Giuseppe Anatrelli', 'Loredana Martinez', 'Luciana Turina', 'Mario Maranzana', 'Gianni Nazzaro', 'Carlo Giuffrè', 'Ines Pellegrini']\", 'budget': nan, 'opening_weekend_gross': nan, 'gross_worldwide': nan, 'gross_us_canada': nan, 'release_date': 1976.0, 'countries_origin': \"['Italy']\", 'filming_locations': '[]', 'production_companies': \"['Medusa Distribuzione', 'Produzioni Thousand Associates (PTA)']\", 'awards_content': '[]', 'genres': \"['Comedy']\", 'languages': \"['Italian']\"}\n",
      "4. ID: tt0148086, Result: {'id': 'tt0148086', 'title': 'Ultimate Gunfighter', 'year': 1967, 'duration': 84, 'MPA': nan, 'rating': 6.0, 'votes': '260', 'meta_score': 0.0, 'description': 'Two family clans have always been enemies; they spend their time hating and killing each other. The daughter of the Campos family and the son of the Mounter family fall in love, thus causing further hatred and deaths.', 'Movie_Link': 'https://www.imdb.com/title/tt0148086', 'writers': \"['Bruno Baratti', 'María del Carmen Martínez Román']\", 'directors': \"['Gianni Puccini']\", 'stars': \"['Peter Lee Lawrence', 'Cristina Galbó', 'Andrés Mejuto', 'Piero Lulli', 'Peter Martell', 'Ángel Álvarez', 'Luis Induni', 'Ana María Noé', 'Rufino Inglés', 'Pepe Rubio']\", 'budget': nan, 'opening_weekend_gross': nan, 'gross_worldwide': nan, 'gross_us_canada': nan, 'release_date': 1967.0, 'countries_origin': \"['Italy', 'Spain']\", 'filming_locations': \"['Cinecitta Mexican western pueblo, Rome, Lazio, Italy']\", 'production_companies': \"['Framer Films', 'Hispamer Films']\", 'awards_content': '[]', 'genres': \"['Spaghetti Western', 'Western']\", 'languages': \"['Italian']\"}\n",
      "5. ID: tt0096299, Result: {'id': 'tt0096299', 'title': 'La trasgressione', 'year': 1987, 'duration': 95, 'MPA': nan, 'rating': 4.9, 'votes': '79', 'meta_score': 0.0, 'description': 'An Italian drug-addict, Angelo, kills his mother. He gets a ride with a wealthy man who invites Angelo home to meet and keep his crazy but attractive daughter company. Unfortunately Angelo wants to kill more people - or does he?', 'Movie_Link': 'https://www.imdb.com/title/tt0096299', 'writers': \"['Pierfrancesco Campanella']\", 'directors': \"['Fabrizio Rampelli']\", 'stars': '[\\'Pierfrancesco Campanella\\', \"Milly D\\'Abbraccio\", \\'Angelo Cannavacciolo\\', \\'Claudia Cavalcanti\\', \\'Rosanna Banfi\\', \\'George Ardisson\\', \\'Paolo Gozlino\\', \\'Didi Perego\\', \\'Flavia Borelli\\', \\'Paola Ciampi\\']', 'budget': nan, 'opening_weekend_gross': nan, 'gross_worldwide': nan, 'gross_us_canada': nan, 'release_date': 1987.0, 'countries_origin': \"['Italy']\", 'filming_locations': '[]', 'production_companies': \"['Freeway Production']\", 'awards_content': '[]', 'genres': \"['Horror', 'Thriller']\", 'languages': \"['Italian']\"}\n",
      "6. ID: tt0169815, Result: {'id': 'tt0169815', 'title': 'Due cuori, una cappella', 'year': 1975, 'duration': 105, 'MPA': nan, 'rating': 5.5, 'votes': '152', 'meta_score': 0.0, 'description': 'Aristide receives a big inheritance from his mother, but when he meets a beautiful redhead at the cemetery, his life changes unexpectedly.', 'Movie_Link': 'https://www.imdb.com/title/tt0169815', 'writers': \"['Nicola Badalucco', 'Maurizio Lucidi', 'Renato Pozzetto']\", 'directors': \"['Maurizio Lucidi']\", 'stars': \"['Renato Pozzetto', 'Agostina Belli', 'Aldo Maccione', 'Leopoldo Trieste', 'Giusi Raspani Dandolo', 'Renato Pinciroli', 'Pia Morra', 'Giuseppina Matteotti', 'Franca Scagnetti', 'Alessandra Vazzoler']\", 'budget': nan, 'opening_weekend_gross': nan, 'gross_worldwide': nan, 'gross_us_canada': nan, 'release_date': 1975.0, 'countries_origin': \"['Italy']\", 'filming_locations': \"['Roma, Lazio, Italy']\", 'production_companies': \"['Rizzoli Film', 'Mars Film']\", 'awards_content': '[]', 'genres': \"['Comedy']\", 'languages': \"['Italian']\"}\n",
      "7. ID: tt2103266, Result: {'id': 'tt2103266', 'title': 'Cauliflower Cupids', 'year': 1970, 'duration': 91, 'MPA': nan, 'rating': 5.8, 'votes': '24', 'meta_score': 0.0, 'description': \"Johnny Stiletto, crime godfather, decides to go straight so his beautiful daughter will be accepted by her boyfriend's wealthy society family. But Stiletto's mob, their rival gang and the boyfriend's money-grubbing family have other ideas.\", 'Movie_Link': 'https://www.imdb.com/title/tt2103266', 'writers': \"['Peter Savage']\", 'directors': \"['Peter Savage', 'Jerome Shaw']\", 'stars': \"['Jane Russell', 'Peter Savage', 'Alan Dale', 'Jake LaMotta', 'Rocky Graziano', 'Willie Pep', 'Paddy DeMarco', 'Tony Zale', 'Petey Scalzo', 'Joe Bennet']\", 'budget': '$2,000,000 (estimated)', 'opening_weekend_gross': nan, 'gross_worldwide': nan, 'gross_us_canada': nan, 'release_date': 1970.0, 'countries_origin': \"['United States']\", 'filming_locations': \"['New York City, New York, USA']\", 'production_companies': \"['Starlite Films']\", 'awards_content': '[]', 'genres': \"['Comedy']\", 'languages': \"['English']\"}\n",
      "8. ID: tt0057522, Result: {'id': 'tt0057522', 'title': 'The Ghost', 'year': 1963, 'duration': 97, 'MPA': 'Not Rated', 'rating': 6.1, 'votes': '1.5K', 'meta_score': 0.0, 'description': 'A woman and her lover murder her doctor husband, but when strange things start happening, they wonder if they really killed him, or if he has come back from the dead to haunt them.', 'Movie_Link': 'https://www.imdb.com/title/tt0057522', 'writers': \"['Oreste Biancoli', 'Riccardo Freda']\", 'directors': \"['Riccardo Freda']\", 'stars': \"['Barbara Steele', 'Peter Baldwin', 'Elio Jotta', 'Harriet Medin', 'Carol Bennet', 'Carlo Kechler', 'Umberto Raho', 'Reginald Price Anderson']\", 'budget': nan, 'opening_weekend_gross': nan, 'gross_worldwide': nan, 'gross_us_canada': nan, 'release_date': 1963.0, 'countries_origin': \"['Italy']\", 'filming_locations': '[]', 'production_companies': '[\"Panda Societa per L\\'Industria Cinematografica\"]', 'awards_content': '[]', 'genres': \"['Horror']\", 'languages': \"['Italian']\"}\n",
      "9. ID: tt0027299, Result: {'id': 'tt0027299', 'title': 'The Ancestor', 'year': 1936, 'duration': 76, 'MPA': nan, 'rating': 0.0, 'votes': nan, 'meta_score': 0.0, 'description': 'After a Rip Van Winkle like sleep of 300 years, a baron awakes, and helps his young descendant marry and hold onto the family property.', 'Movie_Link': 'https://www.imdb.com/title/tt0027299', 'writers': \"['Guido Brignone', 'Carlo Veneziani']\", 'directors': \"['Guido Brignone']\", 'stars': '[\\'Paola Barbara\\', \\'Guglielmo Barnabò\\', \\'Mercedes Brignone\\', \\'Giovanni Conforti\\', \"Maurizio D\\'Ancora\", \"Rocco D\\'Assunta\", \\'Claudio Ermelli\\', \\'Olivia Fried\\', \\'Antonio Gandusio\\', \\'Dina Romano\\']', 'budget': nan, 'opening_weekend_gross': nan, 'gross_worldwide': nan, 'gross_us_canada': nan, 'release_date': 1936.0, 'countries_origin': \"['Italy', 'Germany']\", 'filming_locations': '[]', 'production_companies': \"['Astra Film']\", 'awards_content': '[]', 'genres': \"['Comedy']\", 'languages': \"['Italian']\"}\n",
      "10. ID: tt0063486, Result: {'id': 'tt0063486', 'title': 'Una ragazza piuttosto complicata', 'year': 1969, 'duration': 100, 'MPA': nan, 'rating': 5.7, 'votes': '248', 'meta_score': 0.0, 'description': 'A young girl named Claudia, flirts with two men, and at the same time, she is also having an affair with her step-mother who doles out her inheritance money from her dead father. Is she playing all three of them to get what she wants?', 'Movie_Link': 'https://www.imdb.com/title/tt0063486', 'writers': \"['Damiano Damiani', 'Alberto Silvestri', 'Franco Verucci']\", 'directors': \"['Damiano Damiani']\", 'stars': \"['Catherine Spaak', 'Jean Sorel', 'Florinda Bolkan', 'Gabriella Boccardo', 'Gigi Proietti', 'Luigi Casellato', 'Gino Lavagetto', 'Sergio Graziani', 'Maria Luisa Bavastro', 'Franco Leo']\", 'budget': nan, 'opening_weekend_gross': nan, 'gross_worldwide': nan, 'gross_us_canada': nan, 'release_date': 1969.0, 'countries_origin': \"['Italy']\", 'filming_locations': \"['Italy']\", 'production_companies': \"['Filmena S.R.L.', 'Fono Roma']\", 'awards_content': \"['Awards', '1 win total']\", 'genres': \"['Thriller']\", 'languages': \"['Italian']\"}\n"
     ]
    }
   ],
   "source": [
    "# === EXAMPLE USAGE ===\n",
    "results = search_movies(\"the godfather\", top_k=10, row_checker={\"excluded_genres\": [\"Drama\", \"Gangster\", \"Crime\"]})\n",
    "for i, res in enumerate(results, 1):\n",
    "    print(f\"{i}. ID: {res['id']}, Result: {res['metadata']}\")"
   ]
  },
  {
   "cell_type": "code",
   "execution_count": 11,
   "id": "9b7833f0",
   "metadata": {},
   "outputs": [],
   "source": [
    "def search_movies_dual_query_fast(\n",
    "    positive_query,\n",
    "    negative_query=None,\n",
    "    top_k=10,\n",
    "    search_batch_size=200,\n",
    "    row_checker={},\n",
    "    alpha=1.0,\n",
    "    beta=1.0\n",
    "):\n",
    "    # Encode queries\n",
    "    pos_embed = model.encode([positive_query], normalize_embeddings=True).astype(\"float32\")\n",
    "    neg_embed = None\n",
    "    if negative_query:\n",
    "        neg_embed = model.encode([negative_query], normalize_embeddings=True).astype(\"float32\")\n",
    "\n",
    "    # Search once for top-N potentially good matches\n",
    "    D_pos, I_pos = index.search(pos_embed, search_batch_size)\n",
    "\n",
    "    scored_results = []\n",
    "\n",
    "    for rank, idx in enumerate(I_pos[0]):\n",
    "        movie_id = id_list[idx]\n",
    "        row = metadata[metadata[\"id\"] == movie_id].iloc[0].to_dict()\n",
    "        if not metadata_filter(row, row_checker):\n",
    "            continue\n",
    "\n",
    "        pos_sim = float(D_pos[0][rank])\n",
    "\n",
    "        # Compute neg_sim manually if needed\n",
    "        neg_sim = 0.0\n",
    "        if neg_embed is not None:\n",
    "            embedding = index.reconstruct(int(idx))  # Fix applied here\n",
    "            neg_sim = float(np.dot(embedding, neg_embed[0]))\n",
    "\n",
    "\n",
    "        score = alpha * pos_sim - beta * neg_sim\n",
    "\n",
    "        scored_results.append({\n",
    "            \"id\": movie_id,\n",
    "            \"positive_similarity\": pos_sim,\n",
    "            \"negative_similarity\": neg_sim,\n",
    "            \"score\": score,\n",
    "            \"metadata\": row\n",
    "        })\n",
    "\n",
    "    # Sort and return top_k\n",
    "    sorted_results = sorted(scored_results, key=lambda x: x[\"score\"], reverse=True)\n",
    "    return sorted_results[:top_k]\n"
   ]
  },
  {
   "cell_type": "code",
   "execution_count": 12,
   "id": "c3547b4e",
   "metadata": {},
   "outputs": [],
   "source": [
    "results = search_movies_dual_query_fast(\n",
    "    positive_query=\"spiderman\",\n",
    "    negative_query=\"tom holland\",\n",
    "    top_k=10,\n",
    "    row_checker={},\n",
    "    search_batch_size = 100,\n",
    "    alpha=1.0,\n",
    "    beta=1.0\n",
    ")\n"
   ]
  },
  {
   "cell_type": "code",
   "execution_count": 13,
   "id": "071bd00c",
   "metadata": {},
   "outputs": [
    {
     "name": "stdout",
     "output_type": "stream",
     "text": [
      "1. ID: tt2250912, Result: {'id': 'tt2250912', 'title': 'Spider-Man: Homecoming', 'year': 2017, 'duration': 133, 'MPA': 'PG-13', 'rating': 7.4, 'votes': '752K', 'meta_score': 73.0, 'description': \"Peter Parker tries to stop Adrian 'The Vulture' Toomes from selling weapons made with advanced Chitauri technology while trying to balance his life as an ordinary high school student.\", 'Movie_Link': 'https://www.imdb.com/title/tt2250912', 'writers': \"['Jonathan Goldstein', 'John Francis Daley', 'Jon Watts']\", 'directors': \"['Jon Watts']\", 'stars': \"['Tom Holland', 'Michael Keaton', 'Robert Downey Jr.', 'Marisa Tomei', 'Jon Favreau', 'Gwyneth Paltrow', 'Zendaya', 'Donald Glover', 'Jacob Batalon', 'Laura Harrier']\", 'budget': '$175,000,000 (estimated)', 'opening_weekend_gross': '$117,027,503', 'gross_worldwide': '$880,960,014', 'gross_us_canada': '$334,952,829', 'release_date': 0.0, 'countries_origin': \"['United States']\", 'filming_locations': \"['Berlin, Germany']\", 'production_companies': \"['Columbia Pictures', 'Marvel Studios', 'Pascal Pictures']\", 'awards_content': \"['Awards', '8 wins & 10 nominations total']\", 'genres': \"['Superhero', 'Urban Adventure', 'Action', 'Adventure', 'Sci-Fi']\", 'languages': \"['English', 'Spanish']\"}\n",
      "2. ID: tt0413300, Result: {'id': 'tt0413300', 'title': 'Spider-Man 3', 'year': 2007, 'duration': 139, 'MPA': 'PG-13', 'rating': 6.3, 'votes': '665K', 'meta_score': 59.0, 'description': 'A strange black entity from another world bonds with Peter Parker and causes inner turmoil as he contends with new villains, temptations, and revenge.', 'Movie_Link': 'https://www.imdb.com/title/tt0413300', 'writers': \"['Sam Raimi', 'Ivan Raimi', 'Alvin Sargent']\", 'directors': \"['Sam Raimi']\", 'stars': \"['Tobey Maguire', 'Kirsten Dunst', 'Topher Grace', 'Thomas Haden Church', 'James Franco', 'Bryce Dallas Howard', 'Rosemary Harris', 'J.K. Simmons', 'James Cromwell', 'Theresa Russell']\", 'budget': '$258,000,000 (estimated)', 'opening_weekend_gross': '$151,116,516', 'gross_worldwide': '$891,679,447', 'gross_us_canada': '$337,281,992', 'release_date': 2007.0, 'countries_origin': \"['United States']\", 'filming_locations': \"['Chicago, Illinois, USA']\", 'production_companies': \"['Columbia Pictures', 'Marvel Entertainment', 'Laura Ziskin Productions']\", 'awards_content': \"['Nominated for 1 BAFTA Award', '4 wins & 44 nominations total']\", 'genres': \"['Superhero', 'Urban Adventure', 'Action', 'Adventure', 'Sci-Fi']\", 'languages': \"['English', 'French']\"}\n",
      "3. ID: tt4633694, Result: {'id': 'tt4633694', 'title': 'Spider-Man: Into the Spider-Verse', 'year': 2018, 'duration': 117, 'MPA': 'PG', 'rating': 8.4, 'votes': '723K', 'meta_score': 87.0, 'description': 'Teen Miles Morales becomes the Spider-Man of his universe and must join with five spider-powered individuals from other dimensions to stop a threat for all realities.', 'Movie_Link': 'https://www.imdb.com/title/tt4633694', 'writers': \"['Phil Lord', 'Rodney Rothman']\", 'directors': \"['Bob Persichetti', 'Peter Ramsey', 'Rodney Rothman']\", 'stars': \"['Shameik Moore', 'Jake Johnson', 'Hailee Steinfeld', 'Mahershala Ali', 'Brian Tyree Henry', 'Lily Tomlin', 'Luna Lauren Velez', 'Zoë Kravitz', 'John Mulaney', 'Kimiko Glenn']\", 'budget': '$90,000,000 (estimated)', 'opening_weekend_gross': '$35,363,376', 'gross_worldwide': '$393,602,435', 'gross_us_canada': '$190,241,310', 'release_date': 0.0, 'countries_origin': \"['Canada', 'United States']\", 'filming_locations': '[]', 'production_companies': \"['Columbia Pictures', 'Marvel Entertainment', 'Avi Arad Productions']\", 'awards_content': \"['Won 1 Oscar', '85 wins & 61 nominations total']\", 'genres': \"['Computer Animation', 'Superhero', 'Supernatural Fantasy', 'Teen Adventure', 'Teen Comedy', 'Urban Adventure', 'Action', 'Adventure', 'Animation', 'Comedy']\", 'languages': \"['English', 'Spanish']\"}\n",
      "4. ID: tt9362722, Result: {'id': 'tt9362722', 'title': 'Spider-Man: Across the Spider-Verse', 'year': 2023, 'duration': 140, 'MPA': 'PG', 'rating': 8.5, 'votes': '444K', 'meta_score': 86.0, 'description': 'Traveling across the multiverse, Miles Morales meets a new team of Spider-People, made up of heroes from different dimensions. But when the heroes clash over how to deal with a new threat, Miles finds himself at a crossroads.', 'Movie_Link': 'https://www.imdb.com/title/tt9362722', 'writers': \"['Phil Lord', 'Christopher Miller', 'Dave Callaham']\", 'directors': \"['Joaquim Dos Santos', 'Kemp Powers', 'Justin K. Thompson']\", 'stars': \"['Shameik Moore', 'Hailee Steinfeld', 'Brian Tyree Henry', 'Luna Lauren Velez', 'Jake Johnson', 'Oscar Isaac', 'Jason Schwartzman', 'Issa Rae', 'Daniel Kaluuya', 'Karan Soni']\", 'budget': '$150,000,000 (estimated)', 'opening_weekend_gross': '$120,663,589', 'gross_worldwide': '$690,824,738', 'gross_us_canada': '$381,593,754', 'release_date': 2023.0, 'countries_origin': \"['United States']\", 'filming_locations': '[]', 'production_companies': \"['Columbia Pictures', 'Marvel Entertainment', 'Avi Arad Productions']\", 'awards_content': \"['Nominated for 1 Oscar', '106 wins & 168 nominations total']\", 'genres': \"['Computer Animation', 'Superhero', 'Supernatural Fantasy', 'Teen Adventure', 'Urban Adventure', 'Action', 'Adventure', 'Animation', 'Family', 'Fantasy']\", 'languages': \"['English']\"}\n",
      "5. ID: tt6320628, Result: {'id': 'tt6320628', 'title': 'Spider-Man: Far from Home', 'year': 2019, 'duration': 129, 'MPA': 'PG-13', 'rating': 7.4, 'votes': '591K', 'meta_score': 69.0, 'description': 'Peter Parker, the beloved superhero Spider-Man, faces four destructive elemental monsters while on holiday in Europe. Soon, he receives help from Mysterio, a fellow hero with mysterious origins.', 'Movie_Link': 'https://www.imdb.com/title/tt6320628', 'writers': \"['Chris McKenna', 'Erik Sommers', 'Stan Lee']\", 'directors': \"['Jon Watts']\", 'stars': \"['Tom Holland', 'Samuel L. Jackson', 'Jake Gyllenhaal', 'Marisa Tomei', 'Jon Favreau', 'Zendaya', 'Jacob Batalon', 'Tony Revolori', 'Angourie Rice', 'Remy Hii']\", 'budget': '$160,000,000 (estimated)', 'opening_weekend_gross': '$92,579,212', 'gross_worldwide': '$1,132,705,055', 'gross_us_canada': '$391,283,774', 'release_date': 0.0, 'countries_origin': \"['United States', 'Czech Republic', 'Australia', 'Canada', 'Italy']\", 'filming_locations': \"['Prague, Czech Republic (the city itself, but also the Broek op Langedijk scenes)']\", 'production_companies': \"['Columbia Pictures', 'Pascal Pictures', 'Marvel Studios']\", 'awards_content': \"['Awards', '11 wins & 26 nominations total']\", 'genres': \"['Superhero', 'Supernatural Fantasy', 'Teen Comedy', 'Urban Adventure', 'Action', 'Adventure', 'Comedy', 'Fantasy', 'Sci-Fi']\", 'languages': \"['English', 'Italian', 'Czech']\"}\n",
      "6. ID: tt0316654, Result: {'id': 'tt0316654', 'title': 'Spider-Man 2', 'year': 2004, 'duration': 127, 'MPA': 'PG-13', 'rating': 7.5, 'votes': '741K', 'meta_score': 83.0, 'description': 'Peter Parker is beset with troubles in his failing personal life as he battles a former brilliant scientist named Otto Octavius.', 'Movie_Link': 'https://www.imdb.com/title/tt0316654', 'writers': \"['Stan Lee', 'Steve Ditko', 'Alfred Gough']\", 'directors': \"['Sam Raimi']\", 'stars': \"['Tobey Maguire', 'Kirsten Dunst', 'Alfred Molina', 'James Franco', 'Rosemary Harris', 'J.K. Simmons', 'Donna Murphy', 'Daniel Gillies', 'Dylan Baker', 'Bill Nunn']\", 'budget': '$200,000,000 (estimated)', 'opening_weekend_gross': '$88,156,227', 'gross_worldwide': '$784,543,400', 'gross_us_canada': '$374,337,514', 'release_date': 2004.0, 'countries_origin': \"['United States']\", 'filming_locations': \"['Spring Street Towers - 650 S. Spring Street, Downtown, Los Angeles, California, USA (bank)']\", 'production_companies': \"['Columbia Pictures', 'Marvel Enterprises', 'Laura Ziskin Productions']\", 'awards_content': \"['Won 1 Oscar', '25 wins & 60 nominations total']\", 'genres': \"['Superhero', 'Urban Adventure', 'Action', 'Adventure', 'Sci-Fi']\", 'languages': \"['English', 'Russian', 'Chinese']\"}\n",
      "7. ID: tt0145487, Result: {'id': 'tt0145487', 'title': 'Spider-Man', 'year': 2002, 'duration': 121, 'MPA': 'PG-13', 'rating': 7.4, 'votes': '917K', 'meta_score': 73.0, 'description': 'After being bitten by a genetically-modified spider, a shy teenager gains spider-like abilities that he uses to fight injustice as a masked superhero and face a vengeful enemy.', 'Movie_Link': 'https://www.imdb.com/title/tt0145487', 'writers': \"['Stan Lee', 'Steve Ditko', 'David Koepp']\", 'directors': \"['Sam Raimi']\", 'stars': \"['Tobey Maguire', 'Kirsten Dunst', 'Willem Dafoe', 'James Franco', 'Cliff Robertson', 'Rosemary Harris', 'J.K. Simmons', 'Joe Manganiello', 'Gerry Becker', 'Bill Nunn']\", 'budget': '$139,000,000 (estimated)', 'opening_weekend_gross': '$114,844,116', 'gross_worldwide': '$825,802,095', 'gross_us_canada': '$407,774,549', 'release_date': 2002.0, 'countries_origin': \"['United States']\", 'filming_locations': \"['Queensboro Bridge, Manhattan, New York City, New York, USA']\", 'production_companies': \"['Columbia Pictures', 'Marvel Enterprises', 'Laura Ziskin Productions']\", 'awards_content': \"['Nominated for 2 Oscars', '17 wins & 65 nominations total']\", 'genres': \"['Superhero', 'Urban Adventure', 'Action', 'Adventure', 'Sci-Fi']\", 'languages': \"['English']\"}\n",
      "8. ID: tt0034223, Result: {'id': 'tt0034223', 'title': 'The Spider Returns', 'year': 1941, 'duration': 300, 'MPA': 'Approved', 'rating': 6.2, 'votes': '281', 'meta_score': 0.0, 'description': 'The evil and masked \"Gargoyle\" is sabotaging all of America\\'s industrial plants. It is up to the Spider to save the country.', 'Movie_Link': 'https://www.imdb.com/title/tt0034223', 'writers': \"['Morgan Cox', 'Lawrence Taylor', 'John Cutting']\", 'directors': \"['James W. Horne']\", 'stars': '[\\'Warren Hull\\', \\'Mary Ainslee\\', \"Dave O\\'Brien\", \\'Joseph W. Girard\\', \\'Kenne Duncan\\', \\'Corbet Morris\\', \\'Bryant Washburn\\', \\'Charles Miller\\', \\'Anthony Warde\\', \\'Harry Harvey\\']', 'budget': nan, 'opening_weekend_gross': nan, 'gross_worldwide': nan, 'gross_us_canada': nan, 'release_date': 1941.0, 'countries_origin': \"['United States']\", 'filming_locations': '[]', 'production_companies': \"['Larry Darmour Productions']\", 'awards_content': '[]', 'genres': \"['Superhero', 'Action', 'Adventure', 'Crime', 'Mystery']\", 'languages': \"['English']\"}\n",
      "9. ID: tt10872600, Result: {'id': 'tt10872600', 'title': 'Spider-Man: No Way Home', 'year': 2021, 'duration': 148, 'MPA': 'PG-13', 'rating': 8.2, 'votes': '941K', 'meta_score': 71.0, 'description': \"With Spider-Man's identity now revealed, Peter asks Doctor Strange for help. When a spell goes wrong, dangerous foes from other worlds start to appear.\", 'Movie_Link': 'https://www.imdb.com/title/tt10872600', 'writers': \"['Chris McKenna', 'Erik Sommers', 'Stan Lee']\", 'directors': \"['Jon Watts']\", 'stars': \"['Tom Holland', 'Zendaya', 'Benedict Cumberbatch', 'Jacob Batalon', 'Jon Favreau', 'Jamie Foxx', 'Willem Dafoe', 'Alfred Molina', 'Benedict Wong', 'Tony Revolori']\", 'budget': '$200,000,000 (estimated)', 'opening_weekend_gross': '$260,138,569', 'gross_worldwide': '$1,952,732,181', 'gross_us_canada': '$814,866,759', 'release_date': 2021.0, 'countries_origin': \"['United States']\", 'filming_locations': \"['Iceland']\", 'production_companies': \"['Columbia Pictures', 'Pascal Pictures', 'Marvel Studios']\", 'awards_content': \"['Nominated for 1 Oscar', '35 wins & 71 nominations total']\", 'genres': \"['Superhero', 'Supernatural Fantasy', 'Urban Adventure', 'Action', 'Adventure', 'Fantasy', 'Sci-Fi']\", 'languages': \"['English', 'Tagalog']\"}\n",
      "10. ID: tt0948470, Result: {'id': 'tt0948470', 'title': 'The Amazing Spider-Man', 'year': 2012, 'duration': 136, 'MPA': 'PG-13', 'rating': 6.9, 'votes': '729K', 'meta_score': 66.0, 'description': 'After Peter Parker is bitten by a genetically altered spider, he gains newfound, spider-like powers and ventures out to save the city from the machinations of a mysterious reptilian foe.', 'Movie_Link': 'https://www.imdb.com/title/tt0948470', 'writers': \"['James Vanderbilt', 'Alvin Sargent', 'Steve Kloves']\", 'directors': \"['Marc Webb']\", 'stars': \"['Andrew Garfield', 'Emma Stone', 'Rhys Ifans', 'Irrfan Khan', 'Denis Leary', 'Martin Sheen', 'Sally Field', 'Campbell Scott', 'Embeth Davidtz', 'Chris Zylka']\", 'budget': '$230,000,000 (estimated)', 'opening_weekend_gross': '$62,004,688', 'gross_worldwide': '$758,707,722', 'gross_us_canada': '$262,782,352', 'release_date': 2012.0, 'countries_origin': \"['United States']\", 'filming_locations': \"['Universal Studios Hollywood - 1000 Universal Studios Blvd, Universal City, California, USA (New York Street)']\", 'production_companies': \"['Columbia Pictures', 'Marvel Entertainment', 'Laura Ziskin Productions']\", 'awards_content': \"['Awards', '2 wins & 33 nominations total']\", 'genres': \"['Superhero', 'Action', 'Sci-Fi']\", 'languages': \"['English']\"}\n"
     ]
    }
   ],
   "source": [
    "for i, res in enumerate(results, 1):\n",
    "    print(f\"{i}. ID: {res['id']}, Result: {res['metadata']}\")"
   ]
  },
  {
   "cell_type": "code",
   "execution_count": 14,
   "id": "4b3d6a76",
   "metadata": {},
   "outputs": [],
   "source": [
    "results = search_movies_dual_query_fast(\n",
    "    positive_query=\"spiderman tom holland\",\n",
    "    top_k=10,\n",
    "    row_checker={},\n",
    "    search_batch_size = 100,\n",
    "    alpha=1.0,\n",
    "    beta=1.0\n",
    ")"
   ]
  },
  {
   "cell_type": "code",
   "execution_count": 15,
   "id": "9da7ef97",
   "metadata": {},
   "outputs": [
    {
     "name": "stdout",
     "output_type": "stream",
     "text": [
      "1. ID: tt6320628, Result: {'id': 'tt6320628', 'title': 'Spider-Man: Far from Home', 'year': 2019, 'duration': 129, 'MPA': 'PG-13', 'rating': 7.4, 'votes': '591K', 'meta_score': 69.0, 'description': 'Peter Parker, the beloved superhero Spider-Man, faces four destructive elemental monsters while on holiday in Europe. Soon, he receives help from Mysterio, a fellow hero with mysterious origins.', 'Movie_Link': 'https://www.imdb.com/title/tt6320628', 'writers': \"['Chris McKenna', 'Erik Sommers', 'Stan Lee']\", 'directors': \"['Jon Watts']\", 'stars': \"['Tom Holland', 'Samuel L. Jackson', 'Jake Gyllenhaal', 'Marisa Tomei', 'Jon Favreau', 'Zendaya', 'Jacob Batalon', 'Tony Revolori', 'Angourie Rice', 'Remy Hii']\", 'budget': '$160,000,000 (estimated)', 'opening_weekend_gross': '$92,579,212', 'gross_worldwide': '$1,132,705,055', 'gross_us_canada': '$391,283,774', 'release_date': 0.0, 'countries_origin': \"['United States', 'Czech Republic', 'Australia', 'Canada', 'Italy']\", 'filming_locations': \"['Prague, Czech Republic (the city itself, but also the Broek op Langedijk scenes)']\", 'production_companies': \"['Columbia Pictures', 'Pascal Pictures', 'Marvel Studios']\", 'awards_content': \"['Awards', '11 wins & 26 nominations total']\", 'genres': \"['Superhero', 'Supernatural Fantasy', 'Teen Comedy', 'Urban Adventure', 'Action', 'Adventure', 'Comedy', 'Fantasy', 'Sci-Fi']\", 'languages': \"['English', 'Italian', 'Czech']\"}\n",
      "2. ID: tt2250912, Result: {'id': 'tt2250912', 'title': 'Spider-Man: Homecoming', 'year': 2017, 'duration': 133, 'MPA': 'PG-13', 'rating': 7.4, 'votes': '752K', 'meta_score': 73.0, 'description': \"Peter Parker tries to stop Adrian 'The Vulture' Toomes from selling weapons made with advanced Chitauri technology while trying to balance his life as an ordinary high school student.\", 'Movie_Link': 'https://www.imdb.com/title/tt2250912', 'writers': \"['Jonathan Goldstein', 'John Francis Daley', 'Jon Watts']\", 'directors': \"['Jon Watts']\", 'stars': \"['Tom Holland', 'Michael Keaton', 'Robert Downey Jr.', 'Marisa Tomei', 'Jon Favreau', 'Gwyneth Paltrow', 'Zendaya', 'Donald Glover', 'Jacob Batalon', 'Laura Harrier']\", 'budget': '$175,000,000 (estimated)', 'opening_weekend_gross': '$117,027,503', 'gross_worldwide': '$880,960,014', 'gross_us_canada': '$334,952,829', 'release_date': 0.0, 'countries_origin': \"['United States']\", 'filming_locations': \"['Berlin, Germany']\", 'production_companies': \"['Columbia Pictures', 'Marvel Studios', 'Pascal Pictures']\", 'awards_content': \"['Awards', '8 wins & 10 nominations total']\", 'genres': \"['Superhero', 'Urban Adventure', 'Action', 'Adventure', 'Sci-Fi']\", 'languages': \"['English', 'Spanish']\"}\n",
      "3. ID: tt0316654, Result: {'id': 'tt0316654', 'title': 'Spider-Man 2', 'year': 2004, 'duration': 127, 'MPA': 'PG-13', 'rating': 7.5, 'votes': '741K', 'meta_score': 83.0, 'description': 'Peter Parker is beset with troubles in his failing personal life as he battles a former brilliant scientist named Otto Octavius.', 'Movie_Link': 'https://www.imdb.com/title/tt0316654', 'writers': \"['Stan Lee', 'Steve Ditko', 'Alfred Gough']\", 'directors': \"['Sam Raimi']\", 'stars': \"['Tobey Maguire', 'Kirsten Dunst', 'Alfred Molina', 'James Franco', 'Rosemary Harris', 'J.K. Simmons', 'Donna Murphy', 'Daniel Gillies', 'Dylan Baker', 'Bill Nunn']\", 'budget': '$200,000,000 (estimated)', 'opening_weekend_gross': '$88,156,227', 'gross_worldwide': '$784,543,400', 'gross_us_canada': '$374,337,514', 'release_date': 2004.0, 'countries_origin': \"['United States']\", 'filming_locations': \"['Spring Street Towers - 650 S. Spring Street, Downtown, Los Angeles, California, USA (bank)']\", 'production_companies': \"['Columbia Pictures', 'Marvel Enterprises', 'Laura Ziskin Productions']\", 'awards_content': \"['Won 1 Oscar', '25 wins & 60 nominations total']\", 'genres': \"['Superhero', 'Urban Adventure', 'Action', 'Adventure', 'Sci-Fi']\", 'languages': \"['English', 'Russian', 'Chinese']\"}\n",
      "4. ID: tt0413300, Result: {'id': 'tt0413300', 'title': 'Spider-Man 3', 'year': 2007, 'duration': 139, 'MPA': 'PG-13', 'rating': 6.3, 'votes': '665K', 'meta_score': 59.0, 'description': 'A strange black entity from another world bonds with Peter Parker and causes inner turmoil as he contends with new villains, temptations, and revenge.', 'Movie_Link': 'https://www.imdb.com/title/tt0413300', 'writers': \"['Sam Raimi', 'Ivan Raimi', 'Alvin Sargent']\", 'directors': \"['Sam Raimi']\", 'stars': \"['Tobey Maguire', 'Kirsten Dunst', 'Topher Grace', 'Thomas Haden Church', 'James Franco', 'Bryce Dallas Howard', 'Rosemary Harris', 'J.K. Simmons', 'James Cromwell', 'Theresa Russell']\", 'budget': '$258,000,000 (estimated)', 'opening_weekend_gross': '$151,116,516', 'gross_worldwide': '$891,679,447', 'gross_us_canada': '$337,281,992', 'release_date': 2007.0, 'countries_origin': \"['United States']\", 'filming_locations': \"['Chicago, Illinois, USA']\", 'production_companies': \"['Columbia Pictures', 'Marvel Entertainment', 'Laura Ziskin Productions']\", 'awards_content': \"['Nominated for 1 BAFTA Award', '4 wins & 44 nominations total']\", 'genres': \"['Superhero', 'Urban Adventure', 'Action', 'Adventure', 'Sci-Fi']\", 'languages': \"['English', 'French']\"}\n",
      "5. ID: tt10872600, Result: {'id': 'tt10872600', 'title': 'Spider-Man: No Way Home', 'year': 2021, 'duration': 148, 'MPA': 'PG-13', 'rating': 8.2, 'votes': '941K', 'meta_score': 71.0, 'description': \"With Spider-Man's identity now revealed, Peter asks Doctor Strange for help. When a spell goes wrong, dangerous foes from other worlds start to appear.\", 'Movie_Link': 'https://www.imdb.com/title/tt10872600', 'writers': \"['Chris McKenna', 'Erik Sommers', 'Stan Lee']\", 'directors': \"['Jon Watts']\", 'stars': \"['Tom Holland', 'Zendaya', 'Benedict Cumberbatch', 'Jacob Batalon', 'Jon Favreau', 'Jamie Foxx', 'Willem Dafoe', 'Alfred Molina', 'Benedict Wong', 'Tony Revolori']\", 'budget': '$200,000,000 (estimated)', 'opening_weekend_gross': '$260,138,569', 'gross_worldwide': '$1,952,732,181', 'gross_us_canada': '$814,866,759', 'release_date': 2021.0, 'countries_origin': \"['United States']\", 'filming_locations': \"['Iceland']\", 'production_companies': \"['Columbia Pictures', 'Pascal Pictures', 'Marvel Studios']\", 'awards_content': \"['Nominated for 1 Oscar', '35 wins & 71 nominations total']\", 'genres': \"['Superhero', 'Supernatural Fantasy', 'Urban Adventure', 'Action', 'Adventure', 'Fantasy', 'Sci-Fi']\", 'languages': \"['English', 'Tagalog']\"}\n",
      "6. ID: tt0948470, Result: {'id': 'tt0948470', 'title': 'The Amazing Spider-Man', 'year': 2012, 'duration': 136, 'MPA': 'PG-13', 'rating': 6.9, 'votes': '729K', 'meta_score': 66.0, 'description': 'After Peter Parker is bitten by a genetically altered spider, he gains newfound, spider-like powers and ventures out to save the city from the machinations of a mysterious reptilian foe.', 'Movie_Link': 'https://www.imdb.com/title/tt0948470', 'writers': \"['James Vanderbilt', 'Alvin Sargent', 'Steve Kloves']\", 'directors': \"['Marc Webb']\", 'stars': \"['Andrew Garfield', 'Emma Stone', 'Rhys Ifans', 'Irrfan Khan', 'Denis Leary', 'Martin Sheen', 'Sally Field', 'Campbell Scott', 'Embeth Davidtz', 'Chris Zylka']\", 'budget': '$230,000,000 (estimated)', 'opening_weekend_gross': '$62,004,688', 'gross_worldwide': '$758,707,722', 'gross_us_canada': '$262,782,352', 'release_date': 2012.0, 'countries_origin': \"['United States']\", 'filming_locations': \"['Universal Studios Hollywood - 1000 Universal Studios Blvd, Universal City, California, USA (New York Street)']\", 'production_companies': \"['Columbia Pictures', 'Marvel Entertainment', 'Laura Ziskin Productions']\", 'awards_content': \"['Awards', '2 wins & 33 nominations total']\", 'genres': \"['Superhero', 'Action', 'Sci-Fi']\", 'languages': \"['English']\"}\n",
      "7. ID: tt1872181, Result: {'id': 'tt1872181', 'title': 'The Amazing Spider-Man 2', 'year': 2014, 'duration': 142, 'MPA': 'PG-13', 'rating': 6.6, 'votes': '560K', 'meta_score': 53.0, 'description': 'When New York is put under siege by Oscorp, it is up to Spider-Man to save the city he swore to protect as well as his loved ones.', 'Movie_Link': 'https://www.imdb.com/title/tt1872181', 'writers': \"['Alex Kurtzman', 'Roberto Orci', 'Jeff Pinkner']\", 'directors': \"['Marc Webb']\", 'stars': \"['Andrew Garfield', 'Emma Stone', 'Jamie Foxx', 'Paul Giamatti', 'Dane DeHaan', 'Colm Feore', 'Felicity Jones', 'Sally Field', 'Embeth Davidtz', 'Campbell Scott']\", 'budget': '$200,000,000 (estimated)', 'opening_weekend_gross': '$91,608,337', 'gross_worldwide': '$716,916,608', 'gross_us_canada': '$203,605,622', 'release_date': 2014.0, 'countries_origin': \"['United States']\", 'filming_locations': \"['Rochester, New York, USA (Sytsevich car chase)']\", 'production_companies': \"['Columbia Pictures', 'Marvel Entertainment', 'Avi Arad Productions']\", 'awards_content': \"['Awards', '4 wins & 30 nominations total']\", 'genres': \"['Superhero', 'Urban Adventure', 'Action', 'Adventure', 'Sci-Fi']\", 'languages': \"['English']\"}\n",
      "8. ID: tt9362722, Result: {'id': 'tt9362722', 'title': 'Spider-Man: Across the Spider-Verse', 'year': 2023, 'duration': 140, 'MPA': 'PG', 'rating': 8.5, 'votes': '444K', 'meta_score': 86.0, 'description': 'Traveling across the multiverse, Miles Morales meets a new team of Spider-People, made up of heroes from different dimensions. But when the heroes clash over how to deal with a new threat, Miles finds himself at a crossroads.', 'Movie_Link': 'https://www.imdb.com/title/tt9362722', 'writers': \"['Phil Lord', 'Christopher Miller', 'Dave Callaham']\", 'directors': \"['Joaquim Dos Santos', 'Kemp Powers', 'Justin K. Thompson']\", 'stars': \"['Shameik Moore', 'Hailee Steinfeld', 'Brian Tyree Henry', 'Luna Lauren Velez', 'Jake Johnson', 'Oscar Isaac', 'Jason Schwartzman', 'Issa Rae', 'Daniel Kaluuya', 'Karan Soni']\", 'budget': '$150,000,000 (estimated)', 'opening_weekend_gross': '$120,663,589', 'gross_worldwide': '$690,824,738', 'gross_us_canada': '$381,593,754', 'release_date': 2023.0, 'countries_origin': \"['United States']\", 'filming_locations': '[]', 'production_companies': \"['Columbia Pictures', 'Marvel Entertainment', 'Avi Arad Productions']\", 'awards_content': \"['Nominated for 1 Oscar', '106 wins & 168 nominations total']\", 'genres': \"['Computer Animation', 'Superhero', 'Supernatural Fantasy', 'Teen Adventure', 'Urban Adventure', 'Action', 'Adventure', 'Animation', 'Family', 'Fantasy']\", 'languages': \"['English']\"}\n",
      "9. ID: tt5095030, Result: {'id': 'tt5095030', 'title': 'Ant-Man and the Wasp', 'year': 2018, 'duration': 118, 'MPA': 'PG-13', 'rating': 7.0, 'votes': '469K', 'meta_score': 70.0, 'description': 'As Scott Lang balances being both a superhero and a father, Hope van Dyne and Dr. Hank Pym present an urgent new mission that finds the Ant-Man fighting alongside The Wasp to uncover secrets from their past.', 'Movie_Link': 'https://www.imdb.com/title/tt5095030', 'writers': \"['Chris McKenna', 'Erik Sommers', 'Paul Rudd']\", 'directors': \"['Peyton Reed']\", 'stars': '[\\'Paul Rudd\\', \\'Evangeline Lilly\\', \\'Michael Peña\\', \\'Walton Goggins\\', \\'Bobby Cannavale\\', \\'Judy Greer\\', \"Tip \\'T.I.\\' Harris\", \\'David Dastmalchian\\', \\'Hannah John-Kamen\\', \\'Abby Ryder Fortson\\']', 'budget': '$162,000,000 (estimated)', 'opening_weekend_gross': '$75,812,205', 'gross_worldwide': '$622,674,139', 'gross_us_canada': '$216,648,740', 'release_date': 0.0, 'countries_origin': \"['United States', 'Canada']\", 'filming_locations': \"['San Francisco, California, USA']\", 'production_companies': \"['Marvel Studios', 'Canadian Film or Video Production Tax Credit (CPTC)', 'The Province of Ontario']\", 'awards_content': \"['Awards', '2 wins & 21 nominations total']\", 'genres': \"['Superhero', 'Action', 'Adventure', 'Comedy', 'Sci-Fi']\", 'languages': \"['English', 'Spanish', 'French']\"}\n",
      "10. ID: tt0034223, Result: {'id': 'tt0034223', 'title': 'The Spider Returns', 'year': 1941, 'duration': 300, 'MPA': 'Approved', 'rating': 6.2, 'votes': '281', 'meta_score': 0.0, 'description': 'The evil and masked \"Gargoyle\" is sabotaging all of America\\'s industrial plants. It is up to the Spider to save the country.', 'Movie_Link': 'https://www.imdb.com/title/tt0034223', 'writers': \"['Morgan Cox', 'Lawrence Taylor', 'John Cutting']\", 'directors': \"['James W. Horne']\", 'stars': '[\\'Warren Hull\\', \\'Mary Ainslee\\', \"Dave O\\'Brien\", \\'Joseph W. Girard\\', \\'Kenne Duncan\\', \\'Corbet Morris\\', \\'Bryant Washburn\\', \\'Charles Miller\\', \\'Anthony Warde\\', \\'Harry Harvey\\']', 'budget': nan, 'opening_weekend_gross': nan, 'gross_worldwide': nan, 'gross_us_canada': nan, 'release_date': 1941.0, 'countries_origin': \"['United States']\", 'filming_locations': '[]', 'production_companies': \"['Larry Darmour Productions']\", 'awards_content': '[]', 'genres': \"['Superhero', 'Action', 'Adventure', 'Crime', 'Mystery']\", 'languages': \"['English']\"}\n"
     ]
    }
   ],
   "source": [
    "for i, res in enumerate(results, 1):\n",
    "    print(f\"{i}. ID: {res['id']}, Result: {res['metadata']}\")"
   ]
  }
 ],
 "metadata": {
  "kernelspec": {
   "display_name": "base",
   "language": "python",
   "name": "python3"
  },
  "language_info": {
   "codemirror_mode": {
    "name": "ipython",
    "version": 3
   },
   "file_extension": ".py",
   "mimetype": "text/x-python",
   "name": "python",
   "nbconvert_exporter": "python",
   "pygments_lexer": "ipython3",
   "version": "3.12.7"
  }
 },
 "nbformat": 4,
 "nbformat_minor": 5
}
